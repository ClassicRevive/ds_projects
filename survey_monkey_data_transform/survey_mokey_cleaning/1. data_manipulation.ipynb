{
 "metadata": {
  "language_info": {
   "codemirror_mode": {
    "name": "ipython",
    "version": 3
   },
   "file_extension": ".py",
   "mimetype": "text/x-python",
   "name": "python",
   "nbconvert_exporter": "python",
   "pygments_lexer": "ipython3",
   "version": "3.8.5"
  },
  "orig_nbformat": 2,
  "kernelspec": {
   "name": "python385jvsc74a57bd0d91f79d8e3774d8f0aa1af967830420dad2920de4020569ce20d30335f89a331",
   "display_name": "Python 3.8.5 64-bit (conda)"
  }
 },
 "nbformat": 4,
 "nbformat_minor": 2,
 "cells": [
  {
   "cell_type": "code",
   "execution_count": null,
   "metadata": {},
   "outputs": [],
   "source": [
    "import pandas as pd\n",
    "import os"
   ]
  },
  {
   "cell_type": "code",
   "execution_count": null,
   "metadata": {},
   "outputs": [],
   "source": [
    "pw = os.getcwd()\n",
    "print(pw)"
   ]
  },
  {
   "source": [
    "### Cleaning the data ###"
   ],
   "cell_type": "markdown",
   "metadata": {}
  },
  {
   "cell_type": "code",
   "execution_count": null,
   "metadata": {},
   "outputs": [],
   "source": [
    "df = pd.read_excel(\"Data - Survey Monkey Output edited.xlsx\", sheet_name=\"Edited_data\")\n",
    "df"
   ]
  },
  {
   "cell_type": "code",
   "execution_count": null,
   "metadata": {},
   "outputs": [],
   "source": [
    "df_modified = df.copy()"
   ]
  },
  {
   "cell_type": "code",
   "execution_count": 60,
   "metadata": {},
   "outputs": [
    {
     "output_type": "stream",
     "name": "stdout",
     "text": [
      "Index(['Respondent ID', 'Identify which division you work in. - Response',\n       'Identify which division you work in. - Other (please specify)',\n       'Which of the following best describes your position level? - Response',\n       'Which generation are you apart of? - Response',\n       'Please select the gender in which you identify. - Response',\n       'Which duration range best aligns with your tenure at your company? - Response',\n       'Which of the following best describes your employment type? - Response',\n       'Question 1 - Response', 'Question 2 - Response',\n       'Question 3 - Open-Ended Response', 'Question 4 - Response',\n       'Question 4 - Other (please specify)', 'Question 5 - Response 1',\n       'Question 5 - Response 2', 'Question 5 - Response 3',\n       'Question 5 - Response 4', 'Question 5 - Response 5',\n       'Question 5 - Response 6', 'Question 6 - Response 1',\n       'Question 6 - Response 2', 'Question 6 - Response 3',\n       'Question 6 - Response 4', 'Question 6 - Response 5',\n       'Question 6 - Response 6', 'Question 7 - Response 1',\n       'Question 7 - Unscheduled', 'Question 8 - Response 1',\n       'Question 8 - Response 2', 'Question 8 - Response 3',\n       'Question 8 - Response 4', 'Question 9 - Response 1',\n       'Question 9 - Response 2', 'Question 9 - Response 3',\n       'Question 9 - Response 4', 'Question 10 - Response 1',\n       'Question 10 - Response 2', 'Question 10 - Response 3',\n       'Question 10 - Response 4', 'Question 10 - Response 5',\n       'Question 11 - Reponse 1', 'Question 11 - Response 2',\n       'Question 12 - Response', 'Question 13 - Response',\n       'Question 14 - Response', 'Question 15 - Response',\n       'Question 16 - Response', 'Question 17 - Response',\n       'Question 18 - Response', 'Question 19 - Response',\n       'Question 19 - Other (please specify)', 'Question 20 - Response',\n       'Question 21 - Response', 'Question 22 - Reponse 1',\n       'Question 22 - Reponse 2', 'Question 23 - Response',\n       'Question 24 - Response 1', 'Question 24 - Response 2',\n       'Question 24 - Response 3', 'Question 24 - Response 4',\n       'Question 24 - Response 5', 'Question 25 - Response 1',\n       'Question 25 - Response 2', 'Question 25 - Response 3',\n       'Question 25 - Response 4', 'Question 25 - Response 5',\n       'Question 25 - Response 6', 'Question 25 - Response 7',\n       'Question 25 - Response 8', 'Question 25 - Response 9',\n       'Question 26 - Response 1', 'Question 26 - Response 2',\n       'Question 26 - Response 3', 'Question 26 - Response 4',\n       'Question 27 - Response 1', 'Question 27 - Response 2',\n       'Question 28 - Response', 'Question 29 - Response 1',\n       'Question 29 - Response 2', 'Question 29 - Response 3',\n       'Question 29 - Response 4', 'Question 29 - Response 5',\n       'Question 29 - Response 6', 'Question 29 - Response 7',\n       'Question 29 - Response 8', 'Question 29 - Response 9',\n       'Question 29 - Response 10', 'Question 29 - Response 11',\n       'Question 29 - Response 12', 'Question 29 - Response 13',\n       'Question 29 - Response 14', 'Question 30 - Response 1',\n       'Question 30 - Response 2', 'Question 30 - Response 3'],\n      dtype='object')\n"
     ]
    }
   ],
   "source": [
    "print(df_modified.columns)"
   ]
  },
  {
   "cell_type": "code",
   "execution_count": null,
   "metadata": {},
   "outputs": [],
   "source": [
    "df_modified = df_modified.drop(columns=[\n",
    "       'Start Date', 'End Date', 'Email Address',\n",
    "       'First Name', 'Last Name', 'Custom Data 1'])"
   ]
  },
  {
   "source": [
    "df_modified"
   ],
   "cell_type": "code",
   "metadata": {},
   "execution_count": null,
   "outputs": []
  },
  {
   "cell_type": "code",
   "execution_count": 61,
   "metadata": {},
   "outputs": [
    {
     "output_type": "execute_result",
     "data": {
      "text/plain": [
       "Index(['Respondent ID', 'Identify which division you work in. - Response',\n",
       "       'Identify which division you work in. - Other (please specify)',\n",
       "       'Which of the following best describes your position level? - Response',\n",
       "       'Which generation are you apart of? - Response',\n",
       "       'Please select the gender in which you identify. - Response',\n",
       "       'Which duration range best aligns with your tenure at your company? - Response',\n",
       "       'Which of the following best describes your employment type? - Response',\n",
       "       'Question 1 - Response', 'Question 2 - Response',\n",
       "       'Question 3 - Open-Ended Response', 'Question 4 - Response',\n",
       "       'Question 4 - Other (please specify)', 'Question 5 - Response 1',\n",
       "       'Question 5 - Response 2', 'Question 5 - Response 3',\n",
       "       'Question 5 - Response 4', 'Question 5 - Response 5',\n",
       "       'Question 5 - Response 6', 'Question 6 - Response 1',\n",
       "       'Question 6 - Response 2', 'Question 6 - Response 3',\n",
       "       'Question 6 - Response 4', 'Question 6 - Response 5',\n",
       "       'Question 6 - Response 6', 'Question 7 - Response 1',\n",
       "       'Question 7 - Unscheduled', 'Question 8 - Response 1',\n",
       "       'Question 8 - Response 2', 'Question 8 - Response 3',\n",
       "       'Question 8 - Response 4', 'Question 9 - Response 1',\n",
       "       'Question 9 - Response 2', 'Question 9 - Response 3',\n",
       "       'Question 9 - Response 4', 'Question 10 - Response 1',\n",
       "       'Question 10 - Response 2', 'Question 10 - Response 3',\n",
       "       'Question 10 - Response 4', 'Question 10 - Response 5',\n",
       "       'Question 11 - Reponse 1', 'Question 11 - Response 2',\n",
       "       'Question 12 - Response', 'Question 13 - Response',\n",
       "       'Question 14 - Response', 'Question 15 - Response',\n",
       "       'Question 16 - Response', 'Question 17 - Response',\n",
       "       'Question 18 - Response', 'Question 19 - Response',\n",
       "       'Question 19 - Other (please specify)', 'Question 20 - Response',\n",
       "       'Question 21 - Response', 'Question 22 - Reponse 1',\n",
       "       'Question 22 - Reponse 2', 'Question 23 - Response',\n",
       "       'Question 24 - Response 1', 'Question 24 - Response 2',\n",
       "       'Question 24 - Response 3', 'Question 24 - Response 4',\n",
       "       'Question 24 - Response 5', 'Question 25 - Response 1',\n",
       "       'Question 25 - Response 2', 'Question 25 - Response 3',\n",
       "       'Question 25 - Response 4', 'Question 25 - Response 5',\n",
       "       'Question 25 - Response 6', 'Question 25 - Response 7',\n",
       "       'Question 25 - Response 8', 'Question 25 - Response 9',\n",
       "       'Question 26 - Response 1', 'Question 26 - Response 2',\n",
       "       'Question 26 - Response 3', 'Question 26 - Response 4',\n",
       "       'Question 27 - Response 1', 'Question 27 - Response 2',\n",
       "       'Question 28 - Response', 'Question 29 - Response 1',\n",
       "       'Question 29 - Response 2', 'Question 29 - Response 3',\n",
       "       'Question 29 - Response 4', 'Question 29 - Response 5',\n",
       "       'Question 29 - Response 6', 'Question 29 - Response 7',\n",
       "       'Question 29 - Response 8', 'Question 29 - Response 9',\n",
       "       'Question 29 - Response 10', 'Question 29 - Response 11',\n",
       "       'Question 29 - Response 12', 'Question 29 - Response 13',\n",
       "       'Question 29 - Response 14', 'Question 30 - Response 1',\n",
       "       'Question 30 - Response 2', 'Question 30 - Response 3'],\n",
       "      dtype='object')"
      ]
     },
     "metadata": {},
     "execution_count": 61
    }
   ],
   "source": [
    "df_modified.columns"
   ]
  },
  {
   "source": [
    "### Pivoting ###\n",
    "\n",
    "first 8 columns act as id variables while the rest of the columns are pivoted"
   ],
   "cell_type": "markdown",
   "metadata": {}
  },
  {
   "cell_type": "code",
   "execution_count": null,
   "metadata": {},
   "outputs": [],
   "source": [
    "id_vars = list(df_modified.columns)[:8]\n",
    "value_vars = list(df_modified.columns)[8:]"
   ]
  },
  {
   "cell_type": "code",
   "execution_count": 62,
   "metadata": {},
   "outputs": [
    {
     "output_type": "execute_result",
     "data": {
      "text/plain": [
       "       Respondent ID Identify which division you work in. - Response  \\\n",
       "0         5379192392                                  Infrastructure   \n",
       "1         2658722536                                         Finance   \n",
       "2         4044163394                                  Infrastructure   \n",
       "3         5535865599                                  Infrastructure   \n",
       "4         3356802928                                 Port Operations   \n",
       "...              ...                                             ...   \n",
       "17023     7940065082                                  Infrastructure   \n",
       "17024     5157705612                                         Finance   \n",
       "17025     9920755555                                 Port Operations   \n",
       "17026     6638341389                                  Infrastructure   \n",
       "17027     8114622230                          Information Technology   \n",
       "\n",
       "      Identify which division you work in. - Other (please specify)  \\\n",
       "0                                                    NaN              \n",
       "1                                                    NaN              \n",
       "2                                                    NaN              \n",
       "3                                                    NaN              \n",
       "4                                                    NaN              \n",
       "...                                                  ...              \n",
       "17023                                                NaN              \n",
       "17024                                                NaN              \n",
       "17025                                                NaN              \n",
       "17026                                                NaN              \n",
       "17027                                                NaN              \n",
       "\n",
       "      Which of the following best describes your position level? - Response  \\\n",
       "0                                                  Staff                      \n",
       "1                                                  Staff                      \n",
       "2                                        Department Lead                      \n",
       "3                                                Manager                      \n",
       "4                                                Manager                      \n",
       "...                                                  ...                      \n",
       "17023                                    Department Lead                      \n",
       "17024                                              Staff                      \n",
       "17025                                              Staff                      \n",
       "17026                                            Manager                      \n",
       "17027                                              Staff                      \n",
       "\n",
       "      Which generation are you apart of? - Response  \\\n",
       "0             Generation X (born between 1965-1980)   \n",
       "1                                               NaN   \n",
       "2             Generation X (born between 1965-1980)   \n",
       "3               Millennial (born between 1981-2000)   \n",
       "4             Generation X (born between 1965-1980)   \n",
       "...                                             ...   \n",
       "17023          Baby Boomer (born between 1946-1964)   \n",
       "17024           Millennial (born between 1981-2000)   \n",
       "17025           Millennial (born between 1981-2000)   \n",
       "17026           Millennial (born between 1981-2000)   \n",
       "17027                          Prefer not to answer   \n",
       "\n",
       "      Please select the gender in which you identify. - Response  \\\n",
       "0                                                   Male           \n",
       "1                                                    NaN           \n",
       "2                                                   Male           \n",
       "3                                             Non-Binary           \n",
       "4                                                 Female           \n",
       "...                                                  ...           \n",
       "17023                                               Male           \n",
       "17024                                             Female           \n",
       "17025                                             Female           \n",
       "17026                                             Female           \n",
       "17027                                               Male           \n",
       "\n",
       "      Which duration range best aligns with your tenure at your company? - Response  \\\n",
       "0                                              0-2 years                              \n",
       "1                                              10+ years                              \n",
       "2                                              3-5 years                              \n",
       "3                                             5-10 years                              \n",
       "4                                              10+ years                              \n",
       "...                                                  ...                              \n",
       "17023                                          10+ years                              \n",
       "17024                                         5-10 years                              \n",
       "17025                                          3-5 years                              \n",
       "17026                                          3-5 years                              \n",
       "17027                                         5-10 years                              \n",
       "\n",
       "      Which of the following best describes your employment type? - Response  \\\n",
       "0                                     Full time Employee                       \n",
       "1                                     Full time Employee                       \n",
       "2                                     Full time Employee                       \n",
       "3                                     Full time Employee                       \n",
       "4                                     Full time Employee                       \n",
       "...                                                  ...                       \n",
       "17023                                 Full time Employee                       \n",
       "17024                                 Full time Employee                       \n",
       "17025                                 Full time Employee                       \n",
       "17026                                 Full time Employee                       \n",
       "17027                                 Full time Employee                       \n",
       "\n",
       "         Question + Subquestion    Answer  \n",
       "0         Question 1 - Response       NaN  \n",
       "1         Question 1 - Response  Answer 4  \n",
       "2         Question 1 - Response  Answer 5  \n",
       "3         Question 1 - Response  Answer 1  \n",
       "4         Question 1 - Response       NaN  \n",
       "...                         ...       ...  \n",
       "17023  Question 30 - Response 3  Answer 8  \n",
       "17024  Question 30 - Response 3  Answer 6  \n",
       "17025  Question 30 - Response 3       NaN  \n",
       "17026  Question 30 - Response 3       NaN  \n",
       "17027  Question 30 - Response 3       NaN  \n",
       "\n",
       "[17028 rows x 10 columns]"
      ],
      "text/html": "<div>\n<style scoped>\n    .dataframe tbody tr th:only-of-type {\n        vertical-align: middle;\n    }\n\n    .dataframe tbody tr th {\n        vertical-align: top;\n    }\n\n    .dataframe thead th {\n        text-align: right;\n    }\n</style>\n<table border=\"1\" class=\"dataframe\">\n  <thead>\n    <tr style=\"text-align: right;\">\n      <th></th>\n      <th>Respondent ID</th>\n      <th>Identify which division you work in. - Response</th>\n      <th>Identify which division you work in. - Other (please specify)</th>\n      <th>Which of the following best describes your position level? - Response</th>\n      <th>Which generation are you apart of? - Response</th>\n      <th>Please select the gender in which you identify. - Response</th>\n      <th>Which duration range best aligns with your tenure at your company? - Response</th>\n      <th>Which of the following best describes your employment type? - Response</th>\n      <th>Question + Subquestion</th>\n      <th>Answer</th>\n    </tr>\n  </thead>\n  <tbody>\n    <tr>\n      <th>0</th>\n      <td>5379192392</td>\n      <td>Infrastructure</td>\n      <td>NaN</td>\n      <td>Staff</td>\n      <td>Generation X (born between 1965-1980)</td>\n      <td>Male</td>\n      <td>0-2 years</td>\n      <td>Full time Employee</td>\n      <td>Question 1 - Response</td>\n      <td>NaN</td>\n    </tr>\n    <tr>\n      <th>1</th>\n      <td>2658722536</td>\n      <td>Finance</td>\n      <td>NaN</td>\n      <td>Staff</td>\n      <td>NaN</td>\n      <td>NaN</td>\n      <td>10+ years</td>\n      <td>Full time Employee</td>\n      <td>Question 1 - Response</td>\n      <td>Answer 4</td>\n    </tr>\n    <tr>\n      <th>2</th>\n      <td>4044163394</td>\n      <td>Infrastructure</td>\n      <td>NaN</td>\n      <td>Department Lead</td>\n      <td>Generation X (born between 1965-1980)</td>\n      <td>Male</td>\n      <td>3-5 years</td>\n      <td>Full time Employee</td>\n      <td>Question 1 - Response</td>\n      <td>Answer 5</td>\n    </tr>\n    <tr>\n      <th>3</th>\n      <td>5535865599</td>\n      <td>Infrastructure</td>\n      <td>NaN</td>\n      <td>Manager</td>\n      <td>Millennial (born between 1981-2000)</td>\n      <td>Non-Binary</td>\n      <td>5-10 years</td>\n      <td>Full time Employee</td>\n      <td>Question 1 - Response</td>\n      <td>Answer 1</td>\n    </tr>\n    <tr>\n      <th>4</th>\n      <td>3356802928</td>\n      <td>Port Operations</td>\n      <td>NaN</td>\n      <td>Manager</td>\n      <td>Generation X (born between 1965-1980)</td>\n      <td>Female</td>\n      <td>10+ years</td>\n      <td>Full time Employee</td>\n      <td>Question 1 - Response</td>\n      <td>NaN</td>\n    </tr>\n    <tr>\n      <th>...</th>\n      <td>...</td>\n      <td>...</td>\n      <td>...</td>\n      <td>...</td>\n      <td>...</td>\n      <td>...</td>\n      <td>...</td>\n      <td>...</td>\n      <td>...</td>\n      <td>...</td>\n    </tr>\n    <tr>\n      <th>17023</th>\n      <td>7940065082</td>\n      <td>Infrastructure</td>\n      <td>NaN</td>\n      <td>Department Lead</td>\n      <td>Baby Boomer (born between 1946-1964)</td>\n      <td>Male</td>\n      <td>10+ years</td>\n      <td>Full time Employee</td>\n      <td>Question 30 - Response 3</td>\n      <td>Answer 8</td>\n    </tr>\n    <tr>\n      <th>17024</th>\n      <td>5157705612</td>\n      <td>Finance</td>\n      <td>NaN</td>\n      <td>Staff</td>\n      <td>Millennial (born between 1981-2000)</td>\n      <td>Female</td>\n      <td>5-10 years</td>\n      <td>Full time Employee</td>\n      <td>Question 30 - Response 3</td>\n      <td>Answer 6</td>\n    </tr>\n    <tr>\n      <th>17025</th>\n      <td>9920755555</td>\n      <td>Port Operations</td>\n      <td>NaN</td>\n      <td>Staff</td>\n      <td>Millennial (born between 1981-2000)</td>\n      <td>Female</td>\n      <td>3-5 years</td>\n      <td>Full time Employee</td>\n      <td>Question 30 - Response 3</td>\n      <td>NaN</td>\n    </tr>\n    <tr>\n      <th>17026</th>\n      <td>6638341389</td>\n      <td>Infrastructure</td>\n      <td>NaN</td>\n      <td>Manager</td>\n      <td>Millennial (born between 1981-2000)</td>\n      <td>Female</td>\n      <td>3-5 years</td>\n      <td>Full time Employee</td>\n      <td>Question 30 - Response 3</td>\n      <td>NaN</td>\n    </tr>\n    <tr>\n      <th>17027</th>\n      <td>8114622230</td>\n      <td>Information Technology</td>\n      <td>NaN</td>\n      <td>Staff</td>\n      <td>Prefer not to answer</td>\n      <td>Male</td>\n      <td>5-10 years</td>\n      <td>Full time Employee</td>\n      <td>Question 30 - Response 3</td>\n      <td>NaN</td>\n    </tr>\n  </tbody>\n</table>\n<p>17028 rows × 10 columns</p>\n</div>"
     },
     "metadata": {},
     "execution_count": 62
    }
   ],
   "source": [
    "df_melted = df_modified.melt(id_vars=id_vars, value_vars=value_vars, var_name=\"Question + Subquestion\", value_name=\"Answer\")\n",
    "df_melted"
   ]
  },
  {
   "cell_type": "code",
   "execution_count": 45,
   "metadata": {},
   "outputs": [
    {
     "output_type": "execute_result",
     "data": {
      "text/plain": [
       "(17028, 10)"
      ]
     },
     "metadata": {},
     "execution_count": 45
    }
   ],
   "source": [
    "df_melted.shape"
   ]
  },
  {
   "source": [
    "## Inner Join to create Question column"
   ],
   "cell_type": "markdown",
   "metadata": {}
  },
  {
   "cell_type": "code",
   "execution_count": 89,
   "metadata": {},
   "outputs": [
    {
     "output_type": "execute_result",
     "data": {
      "text/plain": [
       "     Raw Question Raw Subquestion       Question  Subquestion  \\\n",
       "0   Respondent ID             NaN  Respondent ID          NaN   \n",
       "1      Start Date             NaN     Start Date          NaN   \n",
       "2        End Date             NaN       End Date          NaN   \n",
       "3   Email Address             NaN  Email Address          NaN   \n",
       "4      First Name             NaN     First Name          NaN   \n",
       "..            ...             ...            ...          ...   \n",
       "95            NaN     Response 13    Question 29  Response 13   \n",
       "96            NaN     Response 14    Question 29  Response 14   \n",
       "97    Question 30      Response 1    Question 30   Response 1   \n",
       "98            NaN      Response 2    Question 30   Response 2   \n",
       "99            NaN      Response 3    Question 30   Response 3   \n",
       "\n",
       "         Question+Subquestion  \n",
       "0               Respondent ID  \n",
       "1                  Start Date  \n",
       "2                    End Date  \n",
       "3               Email Address  \n",
       "4                  First Name  \n",
       "..                        ...  \n",
       "95  Question 29 - Response 13  \n",
       "96  Question 29 - Response 14  \n",
       "97   Question 30 - Response 1  \n",
       "98   Question 30 - Response 2  \n",
       "99   Question 30 - Response 3  \n",
       "\n",
       "[100 rows x 5 columns]"
      ],
      "text/html": "<div>\n<style scoped>\n    .dataframe tbody tr th:only-of-type {\n        vertical-align: middle;\n    }\n\n    .dataframe tbody tr th {\n        vertical-align: top;\n    }\n\n    .dataframe thead th {\n        text-align: right;\n    }\n</style>\n<table border=\"1\" class=\"dataframe\">\n  <thead>\n    <tr style=\"text-align: right;\">\n      <th></th>\n      <th>Raw Question</th>\n      <th>Raw Subquestion</th>\n      <th>Question</th>\n      <th>Subquestion</th>\n      <th>Question+Subquestion</th>\n    </tr>\n  </thead>\n  <tbody>\n    <tr>\n      <th>0</th>\n      <td>Respondent ID</td>\n      <td>NaN</td>\n      <td>Respondent ID</td>\n      <td>NaN</td>\n      <td>Respondent ID</td>\n    </tr>\n    <tr>\n      <th>1</th>\n      <td>Start Date</td>\n      <td>NaN</td>\n      <td>Start Date</td>\n      <td>NaN</td>\n      <td>Start Date</td>\n    </tr>\n    <tr>\n      <th>2</th>\n      <td>End Date</td>\n      <td>NaN</td>\n      <td>End Date</td>\n      <td>NaN</td>\n      <td>End Date</td>\n    </tr>\n    <tr>\n      <th>3</th>\n      <td>Email Address</td>\n      <td>NaN</td>\n      <td>Email Address</td>\n      <td>NaN</td>\n      <td>Email Address</td>\n    </tr>\n    <tr>\n      <th>4</th>\n      <td>First Name</td>\n      <td>NaN</td>\n      <td>First Name</td>\n      <td>NaN</td>\n      <td>First Name</td>\n    </tr>\n    <tr>\n      <th>...</th>\n      <td>...</td>\n      <td>...</td>\n      <td>...</td>\n      <td>...</td>\n      <td>...</td>\n    </tr>\n    <tr>\n      <th>95</th>\n      <td>NaN</td>\n      <td>Response 13</td>\n      <td>Question 29</td>\n      <td>Response 13</td>\n      <td>Question 29 - Response 13</td>\n    </tr>\n    <tr>\n      <th>96</th>\n      <td>NaN</td>\n      <td>Response 14</td>\n      <td>Question 29</td>\n      <td>Response 14</td>\n      <td>Question 29 - Response 14</td>\n    </tr>\n    <tr>\n      <th>97</th>\n      <td>Question 30</td>\n      <td>Response 1</td>\n      <td>Question 30</td>\n      <td>Response 1</td>\n      <td>Question 30 - Response 1</td>\n    </tr>\n    <tr>\n      <th>98</th>\n      <td>NaN</td>\n      <td>Response 2</td>\n      <td>Question 30</td>\n      <td>Response 2</td>\n      <td>Question 30 - Response 2</td>\n    </tr>\n    <tr>\n      <th>99</th>\n      <td>NaN</td>\n      <td>Response 3</td>\n      <td>Question 30</td>\n      <td>Response 3</td>\n      <td>Question 30 - Response 3</td>\n    </tr>\n  </tbody>\n</table>\n<p>100 rows × 5 columns</p>\n</div>"
     },
     "metadata": {},
     "execution_count": 89
    }
   ],
   "source": [
    "questions_import = pd.read_excel(pw+\"/Data - Survey Monkey Output edited.xlsx\", sheet_name=\"Question\")\n",
    "questions_import"
   ]
  },
  {
   "cell_type": "code",
   "execution_count": 90,
   "metadata": {},
   "outputs": [
    {
     "output_type": "execute_result",
     "data": {
      "text/plain": [
       "Index(['Question', 'Question + Subquestion'], dtype='object')"
      ]
     },
     "metadata": {},
     "execution_count": 90
    }
   ],
   "source": [
    "questions.columns"
   ]
  },
  {
   "cell_type": "code",
   "execution_count": 91,
   "metadata": {},
   "outputs": [],
   "source": [
    "questions = questions_import.copy()"
   ]
  },
  {
   "cell_type": "code",
   "execution_count": 92,
   "metadata": {},
   "outputs": [
    {
     "output_type": "execute_result",
     "data": {
      "text/plain": [
       "         Question       Question+Subquestion\n",
       "0   Respondent ID              Respondent ID\n",
       "1      Start Date                 Start Date\n",
       "2        End Date                   End Date\n",
       "3   Email Address              Email Address\n",
       "4      First Name                 First Name\n",
       "..            ...                        ...\n",
       "95    Question 29  Question 29 - Response 13\n",
       "96    Question 29  Question 29 - Response 14\n",
       "97    Question 30   Question 30 - Response 1\n",
       "98    Question 30   Question 30 - Response 2\n",
       "99    Question 30   Question 30 - Response 3\n",
       "\n",
       "[100 rows x 2 columns]"
      ],
      "text/html": "<div>\n<style scoped>\n    .dataframe tbody tr th:only-of-type {\n        vertical-align: middle;\n    }\n\n    .dataframe tbody tr th {\n        vertical-align: top;\n    }\n\n    .dataframe thead th {\n        text-align: right;\n    }\n</style>\n<table border=\"1\" class=\"dataframe\">\n  <thead>\n    <tr style=\"text-align: right;\">\n      <th></th>\n      <th>Question</th>\n      <th>Question+Subquestion</th>\n    </tr>\n  </thead>\n  <tbody>\n    <tr>\n      <th>0</th>\n      <td>Respondent ID</td>\n      <td>Respondent ID</td>\n    </tr>\n    <tr>\n      <th>1</th>\n      <td>Start Date</td>\n      <td>Start Date</td>\n    </tr>\n    <tr>\n      <th>2</th>\n      <td>End Date</td>\n      <td>End Date</td>\n    </tr>\n    <tr>\n      <th>3</th>\n      <td>Email Address</td>\n      <td>Email Address</td>\n    </tr>\n    <tr>\n      <th>4</th>\n      <td>First Name</td>\n      <td>First Name</td>\n    </tr>\n    <tr>\n      <th>...</th>\n      <td>...</td>\n      <td>...</td>\n    </tr>\n    <tr>\n      <th>95</th>\n      <td>Question 29</td>\n      <td>Question 29 - Response 13</td>\n    </tr>\n    <tr>\n      <th>96</th>\n      <td>Question 29</td>\n      <td>Question 29 - Response 14</td>\n    </tr>\n    <tr>\n      <th>97</th>\n      <td>Question 30</td>\n      <td>Question 30 - Response 1</td>\n    </tr>\n    <tr>\n      <th>98</th>\n      <td>Question 30</td>\n      <td>Question 30 - Response 2</td>\n    </tr>\n    <tr>\n      <th>99</th>\n      <td>Question 30</td>\n      <td>Question 30 - Response 3</td>\n    </tr>\n  </tbody>\n</table>\n<p>100 rows × 2 columns</p>\n</div>"
     },
     "metadata": {},
     "execution_count": 92
    }
   ],
   "source": [
    "questions.drop(columns=['Raw Question', 'Raw Subquestion', 'Subquestion'], inplace=True)\n",
    "questions"
   ]
  },
  {
   "cell_type": "code",
   "execution_count": 93,
   "metadata": {},
   "outputs": [],
   "source": [
    "questions.dropna(inplace=True)"
   ]
  },
  {
   "cell_type": "code",
   "execution_count": 94,
   "metadata": {},
   "outputs": [],
   "source": [
    "questions.rename(columns={\"Question+Subquestion\": \"Question + Subquestion\"}, inplace=True)"
   ]
  },
  {
   "cell_type": "code",
   "execution_count": 95,
   "metadata": {},
   "outputs": [
    {
     "output_type": "stream",
     "name": "stdout",
     "text": [
      "Question                  object\nQuestion + Subquestion    object\ndtype: object\n\nRespondent ID                                                                     int64\nIdentify which division you work in. - Response                                  object\nIdentify which division you work in. - Other (please specify)                    object\nWhich of the following best describes your position level? - Response            object\nWhich generation are you apart of? - Response                                    object\nPlease select the gender in which you identify. - Response                       object\nWhich duration range best aligns with your tenure at your company? - Response    object\nWhich of the following best describes your employment type? - Response           object\nQuestion + Subquestion                                                           object\nAnswer                                                                           object\ndtype: object\n"
     ]
    }
   ],
   "source": [
    "print(questions.dtypes)\n",
    "print()\n",
    "print(df_melted.dtypes)"
   ]
  },
  {
   "cell_type": "code",
   "execution_count": 119,
   "metadata": {},
   "outputs": [
    {
     "output_type": "stream",
     "name": "stdout",
     "text": [
      "Original data: (17028, 10)\nMerged data: (17028, 11)\n"
     ]
    }
   ],
   "source": [
    "df_merged = pd.merge(left=df_melted, right=questions, how='left', left_on='Question + Subquestion', right_on='Question + Subquestion')\n",
    "print(\"Original data:\", df_melted.shape)\n",
    "print(\"Merged data:\", df_merged.shape)"
   ]
  },
  {
   "cell_type": "code",
   "execution_count": 120,
   "metadata": {},
   "outputs": [
    {
     "output_type": "execute_result",
     "data": {
      "text/plain": [
       "       Respondent ID Identify which division you work in. - Response  \\\n",
       "0         5379192392                                  Infrastructure   \n",
       "1         2658722536                                         Finance   \n",
       "2         4044163394                                  Infrastructure   \n",
       "3         5535865599                                  Infrastructure   \n",
       "4         3356802928                                 Port Operations   \n",
       "...              ...                                             ...   \n",
       "17023     7940065082                                  Infrastructure   \n",
       "17024     5157705612                                         Finance   \n",
       "17025     9920755555                                 Port Operations   \n",
       "17026     6638341389                                  Infrastructure   \n",
       "17027     8114622230                          Information Technology   \n",
       "\n",
       "      Identify which division you work in. - Other (please specify)  \\\n",
       "0                                                    NaN              \n",
       "1                                                    NaN              \n",
       "2                                                    NaN              \n",
       "3                                                    NaN              \n",
       "4                                                    NaN              \n",
       "...                                                  ...              \n",
       "17023                                                NaN              \n",
       "17024                                                NaN              \n",
       "17025                                                NaN              \n",
       "17026                                                NaN              \n",
       "17027                                                NaN              \n",
       "\n",
       "      Which of the following best describes your position level? - Response  \\\n",
       "0                                                  Staff                      \n",
       "1                                                  Staff                      \n",
       "2                                        Department Lead                      \n",
       "3                                                Manager                      \n",
       "4                                                Manager                      \n",
       "...                                                  ...                      \n",
       "17023                                    Department Lead                      \n",
       "17024                                              Staff                      \n",
       "17025                                              Staff                      \n",
       "17026                                            Manager                      \n",
       "17027                                              Staff                      \n",
       "\n",
       "      Which generation are you apart of? - Response  \\\n",
       "0             Generation X (born between 1965-1980)   \n",
       "1                                               NaN   \n",
       "2             Generation X (born between 1965-1980)   \n",
       "3               Millennial (born between 1981-2000)   \n",
       "4             Generation X (born between 1965-1980)   \n",
       "...                                             ...   \n",
       "17023          Baby Boomer (born between 1946-1964)   \n",
       "17024           Millennial (born between 1981-2000)   \n",
       "17025           Millennial (born between 1981-2000)   \n",
       "17026           Millennial (born between 1981-2000)   \n",
       "17027                          Prefer not to answer   \n",
       "\n",
       "      Please select the gender in which you identify. - Response  \\\n",
       "0                                                   Male           \n",
       "1                                                    NaN           \n",
       "2                                                   Male           \n",
       "3                                             Non-Binary           \n",
       "4                                                 Female           \n",
       "...                                                  ...           \n",
       "17023                                               Male           \n",
       "17024                                             Female           \n",
       "17025                                             Female           \n",
       "17026                                             Female           \n",
       "17027                                               Male           \n",
       "\n",
       "      Which duration range best aligns with your tenure at your company? - Response  \\\n",
       "0                                              0-2 years                              \n",
       "1                                              10+ years                              \n",
       "2                                              3-5 years                              \n",
       "3                                             5-10 years                              \n",
       "4                                              10+ years                              \n",
       "...                                                  ...                              \n",
       "17023                                          10+ years                              \n",
       "17024                                         5-10 years                              \n",
       "17025                                          3-5 years                              \n",
       "17026                                          3-5 years                              \n",
       "17027                                         5-10 years                              \n",
       "\n",
       "      Which of the following best describes your employment type? - Response  \\\n",
       "0                                     Full time Employee                       \n",
       "1                                     Full time Employee                       \n",
       "2                                     Full time Employee                       \n",
       "3                                     Full time Employee                       \n",
       "4                                     Full time Employee                       \n",
       "...                                                  ...                       \n",
       "17023                                 Full time Employee                       \n",
       "17024                                 Full time Employee                       \n",
       "17025                                 Full time Employee                       \n",
       "17026                                 Full time Employee                       \n",
       "17027                                 Full time Employee                       \n",
       "\n",
       "         Question + Subquestion    Answer     Question  \n",
       "0         Question 1 - Response       NaN   Question 1  \n",
       "1         Question 1 - Response  Answer 4   Question 1  \n",
       "2         Question 1 - Response  Answer 5   Question 1  \n",
       "3         Question 1 - Response  Answer 1   Question 1  \n",
       "4         Question 1 - Response       NaN   Question 1  \n",
       "...                         ...       ...          ...  \n",
       "17023  Question 30 - Response 3  Answer 8  Question 30  \n",
       "17024  Question 30 - Response 3  Answer 6  Question 30  \n",
       "17025  Question 30 - Response 3       NaN  Question 30  \n",
       "17026  Question 30 - Response 3       NaN  Question 30  \n",
       "17027  Question 30 - Response 3       NaN  Question 30  \n",
       "\n",
       "[17028 rows x 11 columns]"
      ],
      "text/html": "<div>\n<style scoped>\n    .dataframe tbody tr th:only-of-type {\n        vertical-align: middle;\n    }\n\n    .dataframe tbody tr th {\n        vertical-align: top;\n    }\n\n    .dataframe thead th {\n        text-align: right;\n    }\n</style>\n<table border=\"1\" class=\"dataframe\">\n  <thead>\n    <tr style=\"text-align: right;\">\n      <th></th>\n      <th>Respondent ID</th>\n      <th>Identify which division you work in. - Response</th>\n      <th>Identify which division you work in. - Other (please specify)</th>\n      <th>Which of the following best describes your position level? - Response</th>\n      <th>Which generation are you apart of? - Response</th>\n      <th>Please select the gender in which you identify. - Response</th>\n      <th>Which duration range best aligns with your tenure at your company? - Response</th>\n      <th>Which of the following best describes your employment type? - Response</th>\n      <th>Question + Subquestion</th>\n      <th>Answer</th>\n      <th>Question</th>\n    </tr>\n  </thead>\n  <tbody>\n    <tr>\n      <th>0</th>\n      <td>5379192392</td>\n      <td>Infrastructure</td>\n      <td>NaN</td>\n      <td>Staff</td>\n      <td>Generation X (born between 1965-1980)</td>\n      <td>Male</td>\n      <td>0-2 years</td>\n      <td>Full time Employee</td>\n      <td>Question 1 - Response</td>\n      <td>NaN</td>\n      <td>Question 1</td>\n    </tr>\n    <tr>\n      <th>1</th>\n      <td>2658722536</td>\n      <td>Finance</td>\n      <td>NaN</td>\n      <td>Staff</td>\n      <td>NaN</td>\n      <td>NaN</td>\n      <td>10+ years</td>\n      <td>Full time Employee</td>\n      <td>Question 1 - Response</td>\n      <td>Answer 4</td>\n      <td>Question 1</td>\n    </tr>\n    <tr>\n      <th>2</th>\n      <td>4044163394</td>\n      <td>Infrastructure</td>\n      <td>NaN</td>\n      <td>Department Lead</td>\n      <td>Generation X (born between 1965-1980)</td>\n      <td>Male</td>\n      <td>3-5 years</td>\n      <td>Full time Employee</td>\n      <td>Question 1 - Response</td>\n      <td>Answer 5</td>\n      <td>Question 1</td>\n    </tr>\n    <tr>\n      <th>3</th>\n      <td>5535865599</td>\n      <td>Infrastructure</td>\n      <td>NaN</td>\n      <td>Manager</td>\n      <td>Millennial (born between 1981-2000)</td>\n      <td>Non-Binary</td>\n      <td>5-10 years</td>\n      <td>Full time Employee</td>\n      <td>Question 1 - Response</td>\n      <td>Answer 1</td>\n      <td>Question 1</td>\n    </tr>\n    <tr>\n      <th>4</th>\n      <td>3356802928</td>\n      <td>Port Operations</td>\n      <td>NaN</td>\n      <td>Manager</td>\n      <td>Generation X (born between 1965-1980)</td>\n      <td>Female</td>\n      <td>10+ years</td>\n      <td>Full time Employee</td>\n      <td>Question 1 - Response</td>\n      <td>NaN</td>\n      <td>Question 1</td>\n    </tr>\n    <tr>\n      <th>...</th>\n      <td>...</td>\n      <td>...</td>\n      <td>...</td>\n      <td>...</td>\n      <td>...</td>\n      <td>...</td>\n      <td>...</td>\n      <td>...</td>\n      <td>...</td>\n      <td>...</td>\n      <td>...</td>\n    </tr>\n    <tr>\n      <th>17023</th>\n      <td>7940065082</td>\n      <td>Infrastructure</td>\n      <td>NaN</td>\n      <td>Department Lead</td>\n      <td>Baby Boomer (born between 1946-1964)</td>\n      <td>Male</td>\n      <td>10+ years</td>\n      <td>Full time Employee</td>\n      <td>Question 30 - Response 3</td>\n      <td>Answer 8</td>\n      <td>Question 30</td>\n    </tr>\n    <tr>\n      <th>17024</th>\n      <td>5157705612</td>\n      <td>Finance</td>\n      <td>NaN</td>\n      <td>Staff</td>\n      <td>Millennial (born between 1981-2000)</td>\n      <td>Female</td>\n      <td>5-10 years</td>\n      <td>Full time Employee</td>\n      <td>Question 30 - Response 3</td>\n      <td>Answer 6</td>\n      <td>Question 30</td>\n    </tr>\n    <tr>\n      <th>17025</th>\n      <td>9920755555</td>\n      <td>Port Operations</td>\n      <td>NaN</td>\n      <td>Staff</td>\n      <td>Millennial (born between 1981-2000)</td>\n      <td>Female</td>\n      <td>3-5 years</td>\n      <td>Full time Employee</td>\n      <td>Question 30 - Response 3</td>\n      <td>NaN</td>\n      <td>Question 30</td>\n    </tr>\n    <tr>\n      <th>17026</th>\n      <td>6638341389</td>\n      <td>Infrastructure</td>\n      <td>NaN</td>\n      <td>Manager</td>\n      <td>Millennial (born between 1981-2000)</td>\n      <td>Female</td>\n      <td>3-5 years</td>\n      <td>Full time Employee</td>\n      <td>Question 30 - Response 3</td>\n      <td>NaN</td>\n      <td>Question 30</td>\n    </tr>\n    <tr>\n      <th>17027</th>\n      <td>8114622230</td>\n      <td>Information Technology</td>\n      <td>NaN</td>\n      <td>Staff</td>\n      <td>Prefer not to answer</td>\n      <td>Male</td>\n      <td>5-10 years</td>\n      <td>Full time Employee</td>\n      <td>Question 30 - Response 3</td>\n      <td>NaN</td>\n      <td>Question 30</td>\n    </tr>\n  </tbody>\n</table>\n<p>17028 rows × 11 columns</p>\n</div>"
     },
     "metadata": {},
     "execution_count": 120
    }
   ],
   "source": [
    "df_merged"
   ]
  },
  {
   "source": [
    "## How many people answered a question for a given question? (new column) ###"
   ],
   "cell_type": "markdown",
   "metadata": {}
  },
  {
   "cell_type": "code",
   "execution_count": 130,
   "metadata": {},
   "outputs": [
    {
     "output_type": "execute_result",
     "data": {
      "text/plain": [
       "       Question  Respondents\n",
       "0    Question 1          119\n",
       "1   Question 10          198\n",
       "2   Question 11          164\n",
       "3   Question 12          114\n",
       "4   Question 13          108\n",
       "5   Question 14          105\n",
       "6   Question 15          114\n",
       "7   Question 16          117\n",
       "8   Question 17          135\n",
       "9   Question 18          109\n",
       "10  Question 19          157\n",
       "11   Question 2          118\n",
       "12  Question 20          105\n",
       "13  Question 21          127\n",
       "14  Question 22          160\n",
       "15  Question 23          120\n",
       "16  Question 24          195\n",
       "17  Question 25          198\n",
       "18  Question 26          193\n",
       "19  Question 27          153\n",
       "20  Question 28          119\n",
       "21  Question 29          198\n",
       "22   Question 3          117\n",
       "23  Question 30          182\n",
       "24   Question 4          161\n",
       "25   Question 5          194\n",
       "26   Question 6          196\n",
       "27   Question 7          162\n",
       "28   Question 8          190\n",
       "29   Question 9          188"
      ],
      "text/html": "<div>\n<style scoped>\n    .dataframe tbody tr th:only-of-type {\n        vertical-align: middle;\n    }\n\n    .dataframe tbody tr th {\n        vertical-align: top;\n    }\n\n    .dataframe thead th {\n        text-align: right;\n    }\n</style>\n<table border=\"1\" class=\"dataframe\">\n  <thead>\n    <tr style=\"text-align: right;\">\n      <th></th>\n      <th>Question</th>\n      <th>Respondents</th>\n    </tr>\n  </thead>\n  <tbody>\n    <tr>\n      <th>0</th>\n      <td>Question 1</td>\n      <td>119</td>\n    </tr>\n    <tr>\n      <th>1</th>\n      <td>Question 10</td>\n      <td>198</td>\n    </tr>\n    <tr>\n      <th>2</th>\n      <td>Question 11</td>\n      <td>164</td>\n    </tr>\n    <tr>\n      <th>3</th>\n      <td>Question 12</td>\n      <td>114</td>\n    </tr>\n    <tr>\n      <th>4</th>\n      <td>Question 13</td>\n      <td>108</td>\n    </tr>\n    <tr>\n      <th>5</th>\n      <td>Question 14</td>\n      <td>105</td>\n    </tr>\n    <tr>\n      <th>6</th>\n      <td>Question 15</td>\n      <td>114</td>\n    </tr>\n    <tr>\n      <th>7</th>\n      <td>Question 16</td>\n      <td>117</td>\n    </tr>\n    <tr>\n      <th>8</th>\n      <td>Question 17</td>\n      <td>135</td>\n    </tr>\n    <tr>\n      <th>9</th>\n      <td>Question 18</td>\n      <td>109</td>\n    </tr>\n    <tr>\n      <th>10</th>\n      <td>Question 19</td>\n      <td>157</td>\n    </tr>\n    <tr>\n      <th>11</th>\n      <td>Question 2</td>\n      <td>118</td>\n    </tr>\n    <tr>\n      <th>12</th>\n      <td>Question 20</td>\n      <td>105</td>\n    </tr>\n    <tr>\n      <th>13</th>\n      <td>Question 21</td>\n      <td>127</td>\n    </tr>\n    <tr>\n      <th>14</th>\n      <td>Question 22</td>\n      <td>160</td>\n    </tr>\n    <tr>\n      <th>15</th>\n      <td>Question 23</td>\n      <td>120</td>\n    </tr>\n    <tr>\n      <th>16</th>\n      <td>Question 24</td>\n      <td>195</td>\n    </tr>\n    <tr>\n      <th>17</th>\n      <td>Question 25</td>\n      <td>198</td>\n    </tr>\n    <tr>\n      <th>18</th>\n      <td>Question 26</td>\n      <td>193</td>\n    </tr>\n    <tr>\n      <th>19</th>\n      <td>Question 27</td>\n      <td>153</td>\n    </tr>\n    <tr>\n      <th>20</th>\n      <td>Question 28</td>\n      <td>119</td>\n    </tr>\n    <tr>\n      <th>21</th>\n      <td>Question 29</td>\n      <td>198</td>\n    </tr>\n    <tr>\n      <th>22</th>\n      <td>Question 3</td>\n      <td>117</td>\n    </tr>\n    <tr>\n      <th>23</th>\n      <td>Question 30</td>\n      <td>182</td>\n    </tr>\n    <tr>\n      <th>24</th>\n      <td>Question 4</td>\n      <td>161</td>\n    </tr>\n    <tr>\n      <th>25</th>\n      <td>Question 5</td>\n      <td>194</td>\n    </tr>\n    <tr>\n      <th>26</th>\n      <td>Question 6</td>\n      <td>196</td>\n    </tr>\n    <tr>\n      <th>27</th>\n      <td>Question 7</td>\n      <td>162</td>\n    </tr>\n    <tr>\n      <th>28</th>\n      <td>Question 8</td>\n      <td>190</td>\n    </tr>\n    <tr>\n      <th>29</th>\n      <td>Question 9</td>\n      <td>188</td>\n    </tr>\n  </tbody>\n</table>\n</div>"
     },
     "metadata": {},
     "execution_count": 130
    }
   ],
   "source": [
    "# counting unique respondent id's per question\n",
    "# for which the answer is not empty (NA).\n",
    "\n",
    "respondents = df_merged[df_merged['Answer'].notna()]\n",
    "respondents = respondents.groupby('Question')['Respondent ID'].nunique().reset_index()\n",
    "respondents.rename(columns={'Respondent ID': 'Respondents'}, inplace=True)\n",
    "respondents\n"
   ]
  },
  {
   "cell_type": "code",
   "execution_count": 137,
   "metadata": {},
   "outputs": [
    {
     "output_type": "stream",
     "name": "stdout",
     "text": [
      "Original data: (17028, 11)\nMerged data: (17028, 12)\n"
     ]
    }
   ],
   "source": [
    "df_merged2 = pd.merge(left=df_merged, right=respondents, on=\"Question\")\n",
    "print(\"Original data:\", df_merged.shape)\n",
    "print(\"Merged data:\", df_merged2.shape)"
   ]
  },
  {
   "cell_type": "code",
   "execution_count": 136,
   "metadata": {},
   "outputs": [
    {
     "output_type": "execute_result",
     "data": {
      "text/plain": [
       "       Respondent ID Identify which division you work in. - Response  \\\n",
       "0         5379192392                                  Infrastructure   \n",
       "1         2658722536                                         Finance   \n",
       "2         4044163394                                  Infrastructure   \n",
       "3         5535865599                                  Infrastructure   \n",
       "4         3356802928                                 Port Operations   \n",
       "...              ...                                             ...   \n",
       "17023     7940065082                                  Infrastructure   \n",
       "17024     5157705612                                         Finance   \n",
       "17025     9920755555                                 Port Operations   \n",
       "17026     6638341389                                  Infrastructure   \n",
       "17027     8114622230                          Information Technology   \n",
       "\n",
       "      Identify which division you work in. - Other (please specify)  \\\n",
       "0                                                    NaN              \n",
       "1                                                    NaN              \n",
       "2                                                    NaN              \n",
       "3                                                    NaN              \n",
       "4                                                    NaN              \n",
       "...                                                  ...              \n",
       "17023                                                NaN              \n",
       "17024                                                NaN              \n",
       "17025                                                NaN              \n",
       "17026                                                NaN              \n",
       "17027                                                NaN              \n",
       "\n",
       "      Which of the following best describes your position level? - Response  \\\n",
       "0                                                  Staff                      \n",
       "1                                                  Staff                      \n",
       "2                                        Department Lead                      \n",
       "3                                                Manager                      \n",
       "4                                                Manager                      \n",
       "...                                                  ...                      \n",
       "17023                                    Department Lead                      \n",
       "17024                                              Staff                      \n",
       "17025                                              Staff                      \n",
       "17026                                            Manager                      \n",
       "17027                                              Staff                      \n",
       "\n",
       "      Which generation are you apart of? - Response  \\\n",
       "0             Generation X (born between 1965-1980)   \n",
       "1                                               NaN   \n",
       "2             Generation X (born between 1965-1980)   \n",
       "3               Millennial (born between 1981-2000)   \n",
       "4             Generation X (born between 1965-1980)   \n",
       "...                                             ...   \n",
       "17023          Baby Boomer (born between 1946-1964)   \n",
       "17024           Millennial (born between 1981-2000)   \n",
       "17025           Millennial (born between 1981-2000)   \n",
       "17026           Millennial (born between 1981-2000)   \n",
       "17027                          Prefer not to answer   \n",
       "\n",
       "      Please select the gender in which you identify. - Response  \\\n",
       "0                                                   Male           \n",
       "1                                                    NaN           \n",
       "2                                                   Male           \n",
       "3                                             Non-Binary           \n",
       "4                                                 Female           \n",
       "...                                                  ...           \n",
       "17023                                               Male           \n",
       "17024                                             Female           \n",
       "17025                                             Female           \n",
       "17026                                             Female           \n",
       "17027                                               Male           \n",
       "\n",
       "      Which duration range best aligns with your tenure at your company? - Response  \\\n",
       "0                                              0-2 years                              \n",
       "1                                              10+ years                              \n",
       "2                                              3-5 years                              \n",
       "3                                             5-10 years                              \n",
       "4                                              10+ years                              \n",
       "...                                                  ...                              \n",
       "17023                                          10+ years                              \n",
       "17024                                         5-10 years                              \n",
       "17025                                          3-5 years                              \n",
       "17026                                          3-5 years                              \n",
       "17027                                         5-10 years                              \n",
       "\n",
       "      Which of the following best describes your employment type? - Response  \\\n",
       "0                                     Full time Employee                       \n",
       "1                                     Full time Employee                       \n",
       "2                                     Full time Employee                       \n",
       "3                                     Full time Employee                       \n",
       "4                                     Full time Employee                       \n",
       "...                                                  ...                       \n",
       "17023                                 Full time Employee                       \n",
       "17024                                 Full time Employee                       \n",
       "17025                                 Full time Employee                       \n",
       "17026                                 Full time Employee                       \n",
       "17027                                 Full time Employee                       \n",
       "\n",
       "         Question + Subquestion    Answer     Question  Respondents  \n",
       "0         Question 1 - Response       NaN   Question 1          119  \n",
       "1         Question 1 - Response  Answer 4   Question 1          119  \n",
       "2         Question 1 - Response  Answer 5   Question 1          119  \n",
       "3         Question 1 - Response  Answer 1   Question 1          119  \n",
       "4         Question 1 - Response       NaN   Question 1          119  \n",
       "...                         ...       ...          ...          ...  \n",
       "17023  Question 30 - Response 3  Answer 8  Question 30          182  \n",
       "17024  Question 30 - Response 3  Answer 6  Question 30          182  \n",
       "17025  Question 30 - Response 3       NaN  Question 30          182  \n",
       "17026  Question 30 - Response 3       NaN  Question 30          182  \n",
       "17027  Question 30 - Response 3       NaN  Question 30          182  \n",
       "\n",
       "[17028 rows x 12 columns]"
      ],
      "text/html": "<div>\n<style scoped>\n    .dataframe tbody tr th:only-of-type {\n        vertical-align: middle;\n    }\n\n    .dataframe tbody tr th {\n        vertical-align: top;\n    }\n\n    .dataframe thead th {\n        text-align: right;\n    }\n</style>\n<table border=\"1\" class=\"dataframe\">\n  <thead>\n    <tr style=\"text-align: right;\">\n      <th></th>\n      <th>Respondent ID</th>\n      <th>Identify which division you work in. - Response</th>\n      <th>Identify which division you work in. - Other (please specify)</th>\n      <th>Which of the following best describes your position level? - Response</th>\n      <th>Which generation are you apart of? - Response</th>\n      <th>Please select the gender in which you identify. - Response</th>\n      <th>Which duration range best aligns with your tenure at your company? - Response</th>\n      <th>Which of the following best describes your employment type? - Response</th>\n      <th>Question + Subquestion</th>\n      <th>Answer</th>\n      <th>Question</th>\n      <th>Respondents</th>\n    </tr>\n  </thead>\n  <tbody>\n    <tr>\n      <th>0</th>\n      <td>5379192392</td>\n      <td>Infrastructure</td>\n      <td>NaN</td>\n      <td>Staff</td>\n      <td>Generation X (born between 1965-1980)</td>\n      <td>Male</td>\n      <td>0-2 years</td>\n      <td>Full time Employee</td>\n      <td>Question 1 - Response</td>\n      <td>NaN</td>\n      <td>Question 1</td>\n      <td>119</td>\n    </tr>\n    <tr>\n      <th>1</th>\n      <td>2658722536</td>\n      <td>Finance</td>\n      <td>NaN</td>\n      <td>Staff</td>\n      <td>NaN</td>\n      <td>NaN</td>\n      <td>10+ years</td>\n      <td>Full time Employee</td>\n      <td>Question 1 - Response</td>\n      <td>Answer 4</td>\n      <td>Question 1</td>\n      <td>119</td>\n    </tr>\n    <tr>\n      <th>2</th>\n      <td>4044163394</td>\n      <td>Infrastructure</td>\n      <td>NaN</td>\n      <td>Department Lead</td>\n      <td>Generation X (born between 1965-1980)</td>\n      <td>Male</td>\n      <td>3-5 years</td>\n      <td>Full time Employee</td>\n      <td>Question 1 - Response</td>\n      <td>Answer 5</td>\n      <td>Question 1</td>\n      <td>119</td>\n    </tr>\n    <tr>\n      <th>3</th>\n      <td>5535865599</td>\n      <td>Infrastructure</td>\n      <td>NaN</td>\n      <td>Manager</td>\n      <td>Millennial (born between 1981-2000)</td>\n      <td>Non-Binary</td>\n      <td>5-10 years</td>\n      <td>Full time Employee</td>\n      <td>Question 1 - Response</td>\n      <td>Answer 1</td>\n      <td>Question 1</td>\n      <td>119</td>\n    </tr>\n    <tr>\n      <th>4</th>\n      <td>3356802928</td>\n      <td>Port Operations</td>\n      <td>NaN</td>\n      <td>Manager</td>\n      <td>Generation X (born between 1965-1980)</td>\n      <td>Female</td>\n      <td>10+ years</td>\n      <td>Full time Employee</td>\n      <td>Question 1 - Response</td>\n      <td>NaN</td>\n      <td>Question 1</td>\n      <td>119</td>\n    </tr>\n    <tr>\n      <th>...</th>\n      <td>...</td>\n      <td>...</td>\n      <td>...</td>\n      <td>...</td>\n      <td>...</td>\n      <td>...</td>\n      <td>...</td>\n      <td>...</td>\n      <td>...</td>\n      <td>...</td>\n      <td>...</td>\n      <td>...</td>\n    </tr>\n    <tr>\n      <th>17023</th>\n      <td>7940065082</td>\n      <td>Infrastructure</td>\n      <td>NaN</td>\n      <td>Department Lead</td>\n      <td>Baby Boomer (born between 1946-1964)</td>\n      <td>Male</td>\n      <td>10+ years</td>\n      <td>Full time Employee</td>\n      <td>Question 30 - Response 3</td>\n      <td>Answer 8</td>\n      <td>Question 30</td>\n      <td>182</td>\n    </tr>\n    <tr>\n      <th>17024</th>\n      <td>5157705612</td>\n      <td>Finance</td>\n      <td>NaN</td>\n      <td>Staff</td>\n      <td>Millennial (born between 1981-2000)</td>\n      <td>Female</td>\n      <td>5-10 years</td>\n      <td>Full time Employee</td>\n      <td>Question 30 - Response 3</td>\n      <td>Answer 6</td>\n      <td>Question 30</td>\n      <td>182</td>\n    </tr>\n    <tr>\n      <th>17025</th>\n      <td>9920755555</td>\n      <td>Port Operations</td>\n      <td>NaN</td>\n      <td>Staff</td>\n      <td>Millennial (born between 1981-2000)</td>\n      <td>Female</td>\n      <td>3-5 years</td>\n      <td>Full time Employee</td>\n      <td>Question 30 - Response 3</td>\n      <td>NaN</td>\n      <td>Question 30</td>\n      <td>182</td>\n    </tr>\n    <tr>\n      <th>17026</th>\n      <td>6638341389</td>\n      <td>Infrastructure</td>\n      <td>NaN</td>\n      <td>Manager</td>\n      <td>Millennial (born between 1981-2000)</td>\n      <td>Female</td>\n      <td>3-5 years</td>\n      <td>Full time Employee</td>\n      <td>Question 30 - Response 3</td>\n      <td>NaN</td>\n      <td>Question 30</td>\n      <td>182</td>\n    </tr>\n    <tr>\n      <th>17027</th>\n      <td>8114622230</td>\n      <td>Information Technology</td>\n      <td>NaN</td>\n      <td>Staff</td>\n      <td>Prefer not to answer</td>\n      <td>Male</td>\n      <td>5-10 years</td>\n      <td>Full time Employee</td>\n      <td>Question 30 - Response 3</td>\n      <td>NaN</td>\n      <td>Question 30</td>\n      <td>182</td>\n    </tr>\n  </tbody>\n</table>\n<p>17028 rows × 12 columns</p>\n</div>"
     },
     "metadata": {},
     "execution_count": 136
    }
   ],
   "source": [
    "df_merged2"
   ]
  },
  {
   "source": [
    "## How many people gave the same answer for a given question?"
   ],
   "cell_type": "markdown",
   "metadata": {}
  },
  {
   "cell_type": "code",
   "execution_count": 138,
   "metadata": {},
   "outputs": [
    {
     "output_type": "execute_result",
     "data": {
      "text/plain": [
       "      Question + Subquestion    Answer  Same answer\n",
       "0      Question 1 - Response  Answer 1           14\n",
       "1      Question 1 - Response  Answer 2           10\n",
       "2      Question 1 - Response  Answer 3           13\n",
       "3      Question 1 - Response  Answer 4           17\n",
       "4      Question 1 - Response  Answer 5           22\n",
       "..                       ...       ...          ...\n",
       "683  Question 9 - Response 4  Answer 4           16\n",
       "684  Question 9 - Response 4  Answer 5           13\n",
       "685  Question 9 - Response 4  Answer 6           14\n",
       "686  Question 9 - Response 4  Answer 7           12\n",
       "687  Question 9 - Response 4  Answer 8           19\n",
       "\n",
       "[688 rows x 3 columns]"
      ],
      "text/html": "<div>\n<style scoped>\n    .dataframe tbody tr th:only-of-type {\n        vertical-align: middle;\n    }\n\n    .dataframe tbody tr th {\n        vertical-align: top;\n    }\n\n    .dataframe thead th {\n        text-align: right;\n    }\n</style>\n<table border=\"1\" class=\"dataframe\">\n  <thead>\n    <tr style=\"text-align: right;\">\n      <th></th>\n      <th>Question + Subquestion</th>\n      <th>Answer</th>\n      <th>Same answer</th>\n    </tr>\n  </thead>\n  <tbody>\n    <tr>\n      <th>0</th>\n      <td>Question 1 - Response</td>\n      <td>Answer 1</td>\n      <td>14</td>\n    </tr>\n    <tr>\n      <th>1</th>\n      <td>Question 1 - Response</td>\n      <td>Answer 2</td>\n      <td>10</td>\n    </tr>\n    <tr>\n      <th>2</th>\n      <td>Question 1 - Response</td>\n      <td>Answer 3</td>\n      <td>13</td>\n    </tr>\n    <tr>\n      <th>3</th>\n      <td>Question 1 - Response</td>\n      <td>Answer 4</td>\n      <td>17</td>\n    </tr>\n    <tr>\n      <th>4</th>\n      <td>Question 1 - Response</td>\n      <td>Answer 5</td>\n      <td>22</td>\n    </tr>\n    <tr>\n      <th>...</th>\n      <td>...</td>\n      <td>...</td>\n      <td>...</td>\n    </tr>\n    <tr>\n      <th>683</th>\n      <td>Question 9 - Response 4</td>\n      <td>Answer 4</td>\n      <td>16</td>\n    </tr>\n    <tr>\n      <th>684</th>\n      <td>Question 9 - Response 4</td>\n      <td>Answer 5</td>\n      <td>13</td>\n    </tr>\n    <tr>\n      <th>685</th>\n      <td>Question 9 - Response 4</td>\n      <td>Answer 6</td>\n      <td>14</td>\n    </tr>\n    <tr>\n      <th>686</th>\n      <td>Question 9 - Response 4</td>\n      <td>Answer 7</td>\n      <td>12</td>\n    </tr>\n    <tr>\n      <th>687</th>\n      <td>Question 9 - Response 4</td>\n      <td>Answer 8</td>\n      <td>19</td>\n    </tr>\n  </tbody>\n</table>\n<p>688 rows × 3 columns</p>\n</div>"
     },
     "metadata": {},
     "execution_count": 138
    }
   ],
   "source": [
    "# counting unique respondent id's per question\n",
    "# for which the answer is not empty (NA).\n",
    "\n",
    "same_answer = df_merged # [df_merged['Answer'].notna()]\n",
    "same_answer = same_answer.groupby(['Question + Subquestion', 'Answer'])['Respondent ID'].nunique().reset_index()\n",
    "same_answer.rename(columns={'Respondent ID': 'Same answer'}, inplace=True)\n",
    "same_answer\n"
   ]
  },
  {
   "cell_type": "code",
   "execution_count": 142,
   "metadata": {},
   "outputs": [
    {
     "output_type": "stream",
     "name": "stdout",
     "text": [
      "Original data: (17028, 12)\nMerged data: (17028, 13)\n"
     ]
    }
   ],
   "source": [
    "df_merged3 = pd.merge(left=df_merged2, right=same_answer, how=\"left\", on=[\"Question + Subquestion\", \"Answer\"])\n",
    "print(\"Original data:\", df_merged2.shape)\n",
    "print(\"Merged data:\", df_merged3.shape)"
   ]
  },
  {
   "cell_type": "code",
   "execution_count": 144,
   "metadata": {},
   "outputs": [],
   "source": [
    "df_merged3['Same answer'].fillna(0, inplace=True)"
   ]
  },
  {
   "cell_type": "code",
   "execution_count": 145,
   "metadata": {},
   "outputs": [
    {
     "output_type": "execute_result",
     "data": {
      "text/plain": [
       "       Respondent ID Identify which division you work in. - Response  \\\n",
       "0         5379192392                                  Infrastructure   \n",
       "1         2658722536                                         Finance   \n",
       "2         4044163394                                  Infrastructure   \n",
       "3         5535865599                                  Infrastructure   \n",
       "4         3356802928                                 Port Operations   \n",
       "...              ...                                             ...   \n",
       "17023     7940065082                                  Infrastructure   \n",
       "17024     5157705612                                         Finance   \n",
       "17025     9920755555                                 Port Operations   \n",
       "17026     6638341389                                  Infrastructure   \n",
       "17027     8114622230                          Information Technology   \n",
       "\n",
       "      Identify which division you work in. - Other (please specify)  \\\n",
       "0                                                    NaN              \n",
       "1                                                    NaN              \n",
       "2                                                    NaN              \n",
       "3                                                    NaN              \n",
       "4                                                    NaN              \n",
       "...                                                  ...              \n",
       "17023                                                NaN              \n",
       "17024                                                NaN              \n",
       "17025                                                NaN              \n",
       "17026                                                NaN              \n",
       "17027                                                NaN              \n",
       "\n",
       "      Which of the following best describes your position level? - Response  \\\n",
       "0                                                  Staff                      \n",
       "1                                                  Staff                      \n",
       "2                                        Department Lead                      \n",
       "3                                                Manager                      \n",
       "4                                                Manager                      \n",
       "...                                                  ...                      \n",
       "17023                                    Department Lead                      \n",
       "17024                                              Staff                      \n",
       "17025                                              Staff                      \n",
       "17026                                            Manager                      \n",
       "17027                                              Staff                      \n",
       "\n",
       "      Which generation are you apart of? - Response  \\\n",
       "0             Generation X (born between 1965-1980)   \n",
       "1                                               NaN   \n",
       "2             Generation X (born between 1965-1980)   \n",
       "3               Millennial (born between 1981-2000)   \n",
       "4             Generation X (born between 1965-1980)   \n",
       "...                                             ...   \n",
       "17023          Baby Boomer (born between 1946-1964)   \n",
       "17024           Millennial (born between 1981-2000)   \n",
       "17025           Millennial (born between 1981-2000)   \n",
       "17026           Millennial (born between 1981-2000)   \n",
       "17027                          Prefer not to answer   \n",
       "\n",
       "      Please select the gender in which you identify. - Response  \\\n",
       "0                                                   Male           \n",
       "1                                                    NaN           \n",
       "2                                                   Male           \n",
       "3                                             Non-Binary           \n",
       "4                                                 Female           \n",
       "...                                                  ...           \n",
       "17023                                               Male           \n",
       "17024                                             Female           \n",
       "17025                                             Female           \n",
       "17026                                             Female           \n",
       "17027                                               Male           \n",
       "\n",
       "      Which duration range best aligns with your tenure at your company? - Response  \\\n",
       "0                                              0-2 years                              \n",
       "1                                              10+ years                              \n",
       "2                                              3-5 years                              \n",
       "3                                             5-10 years                              \n",
       "4                                              10+ years                              \n",
       "...                                                  ...                              \n",
       "17023                                          10+ years                              \n",
       "17024                                         5-10 years                              \n",
       "17025                                          3-5 years                              \n",
       "17026                                          3-5 years                              \n",
       "17027                                         5-10 years                              \n",
       "\n",
       "      Which of the following best describes your employment type? - Response  \\\n",
       "0                                     Full time Employee                       \n",
       "1                                     Full time Employee                       \n",
       "2                                     Full time Employee                       \n",
       "3                                     Full time Employee                       \n",
       "4                                     Full time Employee                       \n",
       "...                                                  ...                       \n",
       "17023                                 Full time Employee                       \n",
       "17024                                 Full time Employee                       \n",
       "17025                                 Full time Employee                       \n",
       "17026                                 Full time Employee                       \n",
       "17027                                 Full time Employee                       \n",
       "\n",
       "         Question + Subquestion    Answer     Question  Respondents  \\\n",
       "0         Question 1 - Response       NaN   Question 1          119   \n",
       "1         Question 1 - Response  Answer 4   Question 1          119   \n",
       "2         Question 1 - Response  Answer 5   Question 1          119   \n",
       "3         Question 1 - Response  Answer 1   Question 1          119   \n",
       "4         Question 1 - Response       NaN   Question 1          119   \n",
       "...                         ...       ...          ...          ...   \n",
       "17023  Question 30 - Response 3  Answer 8  Question 30          182   \n",
       "17024  Question 30 - Response 3  Answer 6  Question 30          182   \n",
       "17025  Question 30 - Response 3       NaN  Question 30          182   \n",
       "17026  Question 30 - Response 3       NaN  Question 30          182   \n",
       "17027  Question 30 - Response 3       NaN  Question 30          182   \n",
       "\n",
       "       Same answer  \n",
       "0              0.0  \n",
       "1             17.0  \n",
       "2             22.0  \n",
       "3             14.0  \n",
       "4              0.0  \n",
       "...            ...  \n",
       "17023         14.0  \n",
       "17024         20.0  \n",
       "17025          0.0  \n",
       "17026          0.0  \n",
       "17027          0.0  \n",
       "\n",
       "[17028 rows x 13 columns]"
      ],
      "text/html": "<div>\n<style scoped>\n    .dataframe tbody tr th:only-of-type {\n        vertical-align: middle;\n    }\n\n    .dataframe tbody tr th {\n        vertical-align: top;\n    }\n\n    .dataframe thead th {\n        text-align: right;\n    }\n</style>\n<table border=\"1\" class=\"dataframe\">\n  <thead>\n    <tr style=\"text-align: right;\">\n      <th></th>\n      <th>Respondent ID</th>\n      <th>Identify which division you work in. - Response</th>\n      <th>Identify which division you work in. - Other (please specify)</th>\n      <th>Which of the following best describes your position level? - Response</th>\n      <th>Which generation are you apart of? - Response</th>\n      <th>Please select the gender in which you identify. - Response</th>\n      <th>Which duration range best aligns with your tenure at your company? - Response</th>\n      <th>Which of the following best describes your employment type? - Response</th>\n      <th>Question + Subquestion</th>\n      <th>Answer</th>\n      <th>Question</th>\n      <th>Respondents</th>\n      <th>Same answer</th>\n    </tr>\n  </thead>\n  <tbody>\n    <tr>\n      <th>0</th>\n      <td>5379192392</td>\n      <td>Infrastructure</td>\n      <td>NaN</td>\n      <td>Staff</td>\n      <td>Generation X (born between 1965-1980)</td>\n      <td>Male</td>\n      <td>0-2 years</td>\n      <td>Full time Employee</td>\n      <td>Question 1 - Response</td>\n      <td>NaN</td>\n      <td>Question 1</td>\n      <td>119</td>\n      <td>0.0</td>\n    </tr>\n    <tr>\n      <th>1</th>\n      <td>2658722536</td>\n      <td>Finance</td>\n      <td>NaN</td>\n      <td>Staff</td>\n      <td>NaN</td>\n      <td>NaN</td>\n      <td>10+ years</td>\n      <td>Full time Employee</td>\n      <td>Question 1 - Response</td>\n      <td>Answer 4</td>\n      <td>Question 1</td>\n      <td>119</td>\n      <td>17.0</td>\n    </tr>\n    <tr>\n      <th>2</th>\n      <td>4044163394</td>\n      <td>Infrastructure</td>\n      <td>NaN</td>\n      <td>Department Lead</td>\n      <td>Generation X (born between 1965-1980)</td>\n      <td>Male</td>\n      <td>3-5 years</td>\n      <td>Full time Employee</td>\n      <td>Question 1 - Response</td>\n      <td>Answer 5</td>\n      <td>Question 1</td>\n      <td>119</td>\n      <td>22.0</td>\n    </tr>\n    <tr>\n      <th>3</th>\n      <td>5535865599</td>\n      <td>Infrastructure</td>\n      <td>NaN</td>\n      <td>Manager</td>\n      <td>Millennial (born between 1981-2000)</td>\n      <td>Non-Binary</td>\n      <td>5-10 years</td>\n      <td>Full time Employee</td>\n      <td>Question 1 - Response</td>\n      <td>Answer 1</td>\n      <td>Question 1</td>\n      <td>119</td>\n      <td>14.0</td>\n    </tr>\n    <tr>\n      <th>4</th>\n      <td>3356802928</td>\n      <td>Port Operations</td>\n      <td>NaN</td>\n      <td>Manager</td>\n      <td>Generation X (born between 1965-1980)</td>\n      <td>Female</td>\n      <td>10+ years</td>\n      <td>Full time Employee</td>\n      <td>Question 1 - Response</td>\n      <td>NaN</td>\n      <td>Question 1</td>\n      <td>119</td>\n      <td>0.0</td>\n    </tr>\n    <tr>\n      <th>...</th>\n      <td>...</td>\n      <td>...</td>\n      <td>...</td>\n      <td>...</td>\n      <td>...</td>\n      <td>...</td>\n      <td>...</td>\n      <td>...</td>\n      <td>...</td>\n      <td>...</td>\n      <td>...</td>\n      <td>...</td>\n      <td>...</td>\n    </tr>\n    <tr>\n      <th>17023</th>\n      <td>7940065082</td>\n      <td>Infrastructure</td>\n      <td>NaN</td>\n      <td>Department Lead</td>\n      <td>Baby Boomer (born between 1946-1964)</td>\n      <td>Male</td>\n      <td>10+ years</td>\n      <td>Full time Employee</td>\n      <td>Question 30 - Response 3</td>\n      <td>Answer 8</td>\n      <td>Question 30</td>\n      <td>182</td>\n      <td>14.0</td>\n    </tr>\n    <tr>\n      <th>17024</th>\n      <td>5157705612</td>\n      <td>Finance</td>\n      <td>NaN</td>\n      <td>Staff</td>\n      <td>Millennial (born between 1981-2000)</td>\n      <td>Female</td>\n      <td>5-10 years</td>\n      <td>Full time Employee</td>\n      <td>Question 30 - Response 3</td>\n      <td>Answer 6</td>\n      <td>Question 30</td>\n      <td>182</td>\n      <td>20.0</td>\n    </tr>\n    <tr>\n      <th>17025</th>\n      <td>9920755555</td>\n      <td>Port Operations</td>\n      <td>NaN</td>\n      <td>Staff</td>\n      <td>Millennial (born between 1981-2000)</td>\n      <td>Female</td>\n      <td>3-5 years</td>\n      <td>Full time Employee</td>\n      <td>Question 30 - Response 3</td>\n      <td>NaN</td>\n      <td>Question 30</td>\n      <td>182</td>\n      <td>0.0</td>\n    </tr>\n    <tr>\n      <th>17026</th>\n      <td>6638341389</td>\n      <td>Infrastructure</td>\n      <td>NaN</td>\n      <td>Manager</td>\n      <td>Millennial (born between 1981-2000)</td>\n      <td>Female</td>\n      <td>3-5 years</td>\n      <td>Full time Employee</td>\n      <td>Question 30 - Response 3</td>\n      <td>NaN</td>\n      <td>Question 30</td>\n      <td>182</td>\n      <td>0.0</td>\n    </tr>\n    <tr>\n      <th>17027</th>\n      <td>8114622230</td>\n      <td>Information Technology</td>\n      <td>NaN</td>\n      <td>Staff</td>\n      <td>Prefer not to answer</td>\n      <td>Male</td>\n      <td>5-10 years</td>\n      <td>Full time Employee</td>\n      <td>Question 30 - Response 3</td>\n      <td>NaN</td>\n      <td>Question 30</td>\n      <td>182</td>\n      <td>0.0</td>\n    </tr>\n  </tbody>\n</table>\n<p>17028 rows × 13 columns</p>\n</div>"
     },
     "metadata": {},
     "execution_count": 145
    }
   ],
   "source": [
    "df_merged3"
   ]
  },
  {
   "cell_type": "code",
   "execution_count": 147,
   "metadata": {},
   "outputs": [],
   "source": [
    "output=df_merged3.copy()\n",
    "output.rename(columns={\"Identify which division you work in. - Response\":\"Division Primary\", \"Identify which division you work in. - Other (please specify)\":\"Division Secondary\", \"Which of the following best describes your position level? - Response\":\"Position\",\t\"Which generation are you apart of? - Response\":\"Generation\", \"Please select the gender in which you identify. - Response\":\"Gender\", \"Which duration range best aligns with your tenure at your company? - Response\":\"Tenure\", \"Which of the following best describes your employment type? - Response\": \"Employment\"}, inplace=True)"
   ]
  },
  {
   "cell_type": "code",
   "execution_count": 148,
   "metadata": {},
   "outputs": [],
   "source": [
    "output.to_excel(\"Final Output.xlsx\", index=False)"
   ]
  },
  {
   "cell_type": "code",
   "execution_count": null,
   "metadata": {},
   "outputs": [],
   "source": []
  }
 ]
}