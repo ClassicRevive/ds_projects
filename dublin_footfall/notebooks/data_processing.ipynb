{
 "cells": [
  {
   "cell_type": "markdown",
   "metadata": {},
   "source": [
    "# Data Processing\n",
    "\n",
    "I will first try and read in the datasets for all years (bar 2008 for now).\n",
    "I found that the locations are in columns and this requires pivots to fix so I won't write a loop but rather pivot individually first.\n",
    "\n",
    "I did not include dcc-footfall-counter-locations-14082020.csv in this process as it contains data which will be redundantly repeated in each row if it were joined to our merged footfall counter dataframe."
   ]
  },
  {
   "cell_type": "code",
   "execution_count": 2,
   "metadata": {},
   "outputs": [
    {
     "name": "stdout",
     "output_type": "stream",
     "text": [
      "Defaulting to user installation because normal site-packages is not writeable\n",
      "Requirement already satisfied: odfpy in c:\\users\\owner#\\appdata\\roaming\\python\\python38\\site-packages (1.4.1)\n",
      "Requirement already satisfied: defusedxml in c:\\program files\\python38\\lib\\site-packages (from odfpy) (0.6.0)\n",
      "Defaulting to user installation because normal site-packages is not writeable\n",
      "Requirement already satisfied: xlrd in c:\\users\\owner#\\appdata\\roaming\\python\\python38\\site-packages (1.2.0)\n",
      "Defaulting to user installation because normal site-packages is not writeable\n",
      "Collecting openpyxl\n",
      "  Downloading openpyxl-3.0.5-py2.py3-none-any.whl (242 kB)\n",
      "Collecting et-xmlfile\n",
      "  Downloading et_xmlfile-1.0.1.tar.gz (8.4 kB)\n",
      "Collecting jdcal\n",
      "  Downloading jdcal-1.4.1-py2.py3-none-any.whl (9.5 kB)\n",
      "Using legacy 'setup.py install' for et-xmlfile, since package 'wheel' is not installed.\n",
      "Installing collected packages: et-xmlfile, jdcal, openpyxl\n",
      "    Running setup.py install for et-xmlfile: started\n",
      "    Running setup.py install for et-xmlfile: finished with status 'done'\n",
      "Successfully installed et-xmlfile-1.0.1 jdcal-1.4.1 openpyxl-3.0.5\n"
     ]
    }
   ],
   "source": [
    "!pip install odfpy\n",
    "!pip install xlrd\n",
    "!pip install openpyxl"
   ]
  },
  {
   "cell_type": "code",
   "execution_count": 2,
   "metadata": {},
   "outputs": [],
   "source": [
    "import pandas as pd\n",
    "import numpy as np"
   ]
  },
  {
   "cell_type": "code",
   "execution_count": 3,
   "metadata": {},
   "outputs": [],
   "source": [
    "# 2020\n",
    "jan_jun2020 = pd.read_csv('../data/raw/a3-2020-jan-jun.csv')\n",
    "jul_sep2020 = pd.read_csv('../data/raw/a3-2020-jul-sep.csv')\n",
    "\n",
    "# 2019\n",
    "jan_jun2019 = pd.read_excel('../data/raw/a3-2019-jan-jun.xlsx')\n",
    "jul_dec2019 = pd.read_excel('../data/raw/a3-2019-Jul-Dec.xlsx')\n",
    "\n",
    "# 2010\n",
    "whole_2010 = pd.read_json('../data/raw/a3-2010.json')\n",
    "\n",
    "# 2008\n",
    "fixed_2008 = pd.read_csv('../data/processed/a3-2008-fixed.csv')"
   ]
  },
  {
   "cell_type": "code",
   "execution_count": 4,
   "metadata": {},
   "outputs": [],
   "source": [
    "whole_2010 = whole_2010.rename(columns={\"Unnamed: 0\": \"Date and Time\"})"
   ]
  },
  {
   "cell_type": "code",
   "execution_count": 5,
   "metadata": {},
   "outputs": [
    {
     "data": {
      "text/html": [
       "<div>\n",
       "<style scoped>\n",
       "    .dataframe tbody tr th:only-of-type {\n",
       "        vertical-align: middle;\n",
       "    }\n",
       "\n",
       "    .dataframe tbody tr th {\n",
       "        vertical-align: top;\n",
       "    }\n",
       "\n",
       "    .dataframe thead th {\n",
       "        text-align: right;\n",
       "    }\n",
       "</style>\n",
       "<table border=\"1\" class=\"dataframe\">\n",
       "  <thead>\n",
       "    <tr style=\"text-align: right;\">\n",
       "      <th></th>\n",
       "      <th>Time</th>\n",
       "      <th>O'Connell St Outside Pennys</th>\n",
       "      <th>O'Connell St Outside Clerys</th>\n",
       "      <th>Mary Street</th>\n",
       "      <th>Capel Street</th>\n",
       "      <th>Aston Quay</th>\n",
       "      <th>Grafton Street @ CompuB</th>\n",
       "      <th>Talbot Street North</th>\n",
       "      <th>Doilier Street, Burgh Quay</th>\n",
       "      <th>Dawson Street Replacement</th>\n",
       "      <th>...</th>\n",
       "      <th>College Green, Bank Of Ireland</th>\n",
       "      <th>Henry Street</th>\n",
       "      <th>Westmoreland Street East</th>\n",
       "      <th>Dawson Street</th>\n",
       "      <th>Liffey Street</th>\n",
       "      <th>Westmoreland Street West</th>\n",
       "      <th>Grafton Street</th>\n",
       "      <th>Bachelors Walk</th>\n",
       "      <th>College Green @ Church Lane</th>\n",
       "      <th>College Green - Dame St Side</th>\n",
       "    </tr>\n",
       "  </thead>\n",
       "  <tbody>\n",
       "    <tr>\n",
       "      <th>0</th>\n",
       "      <td>2019-01-01 00:00:00</td>\n",
       "      <td>244</td>\n",
       "      <td>1914.0</td>\n",
       "      <td>20</td>\n",
       "      <td>16</td>\n",
       "      <td>NaN</td>\n",
       "      <td>NaN</td>\n",
       "      <td>NaN</td>\n",
       "      <td>NaN</td>\n",
       "      <td>NaN</td>\n",
       "      <td>...</td>\n",
       "      <td>NaN</td>\n",
       "      <td>95</td>\n",
       "      <td>1670.0</td>\n",
       "      <td>255.0</td>\n",
       "      <td>881.0</td>\n",
       "      <td>1988.0</td>\n",
       "      <td>140.0</td>\n",
       "      <td>NaN</td>\n",
       "      <td>NaN</td>\n",
       "      <td>NaN</td>\n",
       "    </tr>\n",
       "    <tr>\n",
       "      <th>1</th>\n",
       "      <td>2019-01-01 00:15:00</td>\n",
       "      <td>454</td>\n",
       "      <td>NaN</td>\n",
       "      <td>24</td>\n",
       "      <td>62</td>\n",
       "      <td>NaN</td>\n",
       "      <td>NaN</td>\n",
       "      <td>NaN</td>\n",
       "      <td>NaN</td>\n",
       "      <td>NaN</td>\n",
       "      <td>...</td>\n",
       "      <td>NaN</td>\n",
       "      <td>265</td>\n",
       "      <td>NaN</td>\n",
       "      <td>NaN</td>\n",
       "      <td>NaN</td>\n",
       "      <td>NaN</td>\n",
       "      <td>NaN</td>\n",
       "      <td>NaN</td>\n",
       "      <td>NaN</td>\n",
       "      <td>NaN</td>\n",
       "    </tr>\n",
       "    <tr>\n",
       "      <th>2</th>\n",
       "      <td>2019-01-01 00:30:00</td>\n",
       "      <td>391</td>\n",
       "      <td>NaN</td>\n",
       "      <td>69</td>\n",
       "      <td>99</td>\n",
       "      <td>NaN</td>\n",
       "      <td>NaN</td>\n",
       "      <td>NaN</td>\n",
       "      <td>NaN</td>\n",
       "      <td>NaN</td>\n",
       "      <td>...</td>\n",
       "      <td>NaN</td>\n",
       "      <td>117</td>\n",
       "      <td>NaN</td>\n",
       "      <td>NaN</td>\n",
       "      <td>NaN</td>\n",
       "      <td>NaN</td>\n",
       "      <td>NaN</td>\n",
       "      <td>NaN</td>\n",
       "      <td>NaN</td>\n",
       "      <td>NaN</td>\n",
       "    </tr>\n",
       "    <tr>\n",
       "      <th>3</th>\n",
       "      <td>2019-01-01 00:45:00</td>\n",
       "      <td>415</td>\n",
       "      <td>NaN</td>\n",
       "      <td>50</td>\n",
       "      <td>61</td>\n",
       "      <td>NaN</td>\n",
       "      <td>NaN</td>\n",
       "      <td>NaN</td>\n",
       "      <td>NaN</td>\n",
       "      <td>NaN</td>\n",
       "      <td>...</td>\n",
       "      <td>NaN</td>\n",
       "      <td>120</td>\n",
       "      <td>NaN</td>\n",
       "      <td>NaN</td>\n",
       "      <td>NaN</td>\n",
       "      <td>NaN</td>\n",
       "      <td>NaN</td>\n",
       "      <td>NaN</td>\n",
       "      <td>NaN</td>\n",
       "      <td>NaN</td>\n",
       "    </tr>\n",
       "    <tr>\n",
       "      <th>4</th>\n",
       "      <td>2019-01-01 01:00:00</td>\n",
       "      <td>319</td>\n",
       "      <td>885.0</td>\n",
       "      <td>24</td>\n",
       "      <td>47</td>\n",
       "      <td>NaN</td>\n",
       "      <td>NaN</td>\n",
       "      <td>NaN</td>\n",
       "      <td>NaN</td>\n",
       "      <td>NaN</td>\n",
       "      <td>...</td>\n",
       "      <td>NaN</td>\n",
       "      <td>90</td>\n",
       "      <td>767.0</td>\n",
       "      <td>209.0</td>\n",
       "      <td>723.0</td>\n",
       "      <td>1270.0</td>\n",
       "      <td>215.0</td>\n",
       "      <td>NaN</td>\n",
       "      <td>NaN</td>\n",
       "      <td>NaN</td>\n",
       "    </tr>\n",
       "  </tbody>\n",
       "</table>\n",
       "<p>5 rows × 24 columns</p>\n",
       "</div>"
      ],
      "text/plain": [
       "                 Time  O'Connell St Outside Pennys  \\\n",
       "0 2019-01-01 00:00:00                          244   \n",
       "1 2019-01-01 00:15:00                          454   \n",
       "2 2019-01-01 00:30:00                          391   \n",
       "3 2019-01-01 00:45:00                          415   \n",
       "4 2019-01-01 01:00:00                          319   \n",
       "\n",
       "   O'Connell St Outside Clerys  Mary Street  Capel Street  Aston Quay  \\\n",
       "0                       1914.0           20            16         NaN   \n",
       "1                          NaN           24            62         NaN   \n",
       "2                          NaN           69            99         NaN   \n",
       "3                          NaN           50            61         NaN   \n",
       "4                        885.0           24            47         NaN   \n",
       "\n",
       "   Grafton Street @ CompuB  Talbot Street North  Doilier Street, Burgh Quay  \\\n",
       "0                      NaN                  NaN                         NaN   \n",
       "1                      NaN                  NaN                         NaN   \n",
       "2                      NaN                  NaN                         NaN   \n",
       "3                      NaN                  NaN                         NaN   \n",
       "4                      NaN                  NaN                         NaN   \n",
       "\n",
       "   Dawson Street Replacement  ...  College Green, Bank Of Ireland  \\\n",
       "0                        NaN  ...                             NaN   \n",
       "1                        NaN  ...                             NaN   \n",
       "2                        NaN  ...                             NaN   \n",
       "3                        NaN  ...                             NaN   \n",
       "4                        NaN  ...                             NaN   \n",
       "\n",
       "   Henry Street  Westmoreland Street East  Dawson Street  Liffey Street  \\\n",
       "0            95                    1670.0          255.0          881.0   \n",
       "1           265                       NaN            NaN            NaN   \n",
       "2           117                       NaN            NaN            NaN   \n",
       "3           120                       NaN            NaN            NaN   \n",
       "4            90                     767.0          209.0          723.0   \n",
       "\n",
       "   Westmoreland Street West  Grafton Street  Bachelors Walk  \\\n",
       "0                    1988.0           140.0             NaN   \n",
       "1                       NaN             NaN             NaN   \n",
       "2                       NaN             NaN             NaN   \n",
       "3                       NaN             NaN             NaN   \n",
       "4                    1270.0           215.0             NaN   \n",
       "\n",
       "   College Green @ Church Lane  College Green - Dame St Side  \n",
       "0                          NaN                           NaN  \n",
       "1                          NaN                           NaN  \n",
       "2                          NaN                           NaN  \n",
       "3                          NaN                           NaN  \n",
       "4                          NaN                           NaN  \n",
       "\n",
       "[5 rows x 24 columns]"
      ]
     },
     "execution_count": 5,
     "metadata": {},
     "output_type": "execute_result"
    }
   ],
   "source": [
    "# loads of NaN's\n",
    "jan_jun2019.head()"
   ]
  },
  {
   "cell_type": "markdown",
   "metadata": {},
   "source": [
    "Pivoting the location columns into single column"
   ]
  },
  {
   "cell_type": "code",
   "execution_count": 6,
   "metadata": {},
   "outputs": [],
   "source": [
    "fixed_2008.drop(columns=[\"Unnamed: 0\"], inplace=True)"
   ]
  },
  {
   "cell_type": "code",
   "execution_count": 7,
   "metadata": {},
   "outputs": [
    {
     "data": {
      "text/html": [
       "<div>\n",
       "<style scoped>\n",
       "    .dataframe tbody tr th:only-of-type {\n",
       "        vertical-align: middle;\n",
       "    }\n",
       "\n",
       "    .dataframe tbody tr th {\n",
       "        vertical-align: top;\n",
       "    }\n",
       "\n",
       "    .dataframe thead th {\n",
       "        text-align: right;\n",
       "    }\n",
       "</style>\n",
       "<table border=\"1\" class=\"dataframe\">\n",
       "  <thead>\n",
       "    <tr style=\"text-align: right;\">\n",
       "      <th></th>\n",
       "      <th>Date and Time</th>\n",
       "      <th>O'Connell St Outside Clerys</th>\n",
       "      <th>Grafton St at Card Gallery</th>\n",
       "      <th>O'Connell Street at Easons</th>\n",
       "      <th>Henry Street at Butlers</th>\n",
       "      <th>Grafton Street at Korkys</th>\n",
       "    </tr>\n",
       "  </thead>\n",
       "  <tbody>\n",
       "    <tr>\n",
       "      <th>0</th>\n",
       "      <td>2008-01-07 00:00:00</td>\n",
       "      <td>0</td>\n",
       "      <td>0</td>\n",
       "      <td>0</td>\n",
       "      <td>0</td>\n",
       "      <td>0</td>\n",
       "    </tr>\n",
       "    <tr>\n",
       "      <th>1</th>\n",
       "      <td>2008-01-07 01:00:00</td>\n",
       "      <td>0</td>\n",
       "      <td>0</td>\n",
       "      <td>0</td>\n",
       "      <td>0</td>\n",
       "      <td>0</td>\n",
       "    </tr>\n",
       "    <tr>\n",
       "      <th>2</th>\n",
       "      <td>2008-01-07 02:00:00</td>\n",
       "      <td>0</td>\n",
       "      <td>0</td>\n",
       "      <td>0</td>\n",
       "      <td>0</td>\n",
       "      <td>0</td>\n",
       "    </tr>\n",
       "    <tr>\n",
       "      <th>3</th>\n",
       "      <td>2008-01-07 03:00:00</td>\n",
       "      <td>0</td>\n",
       "      <td>0</td>\n",
       "      <td>0</td>\n",
       "      <td>0</td>\n",
       "      <td>0</td>\n",
       "    </tr>\n",
       "    <tr>\n",
       "      <th>4</th>\n",
       "      <td>2008-01-07 04:00:00</td>\n",
       "      <td>0</td>\n",
       "      <td>0</td>\n",
       "      <td>0</td>\n",
       "      <td>0</td>\n",
       "      <td>0</td>\n",
       "    </tr>\n",
       "  </tbody>\n",
       "</table>\n",
       "</div>"
      ],
      "text/plain": [
       "         Date and Time  O'Connell St Outside Clerys  \\\n",
       "0  2008-01-07 00:00:00                            0   \n",
       "1  2008-01-07 01:00:00                            0   \n",
       "2  2008-01-07 02:00:00                            0   \n",
       "3  2008-01-07 03:00:00                            0   \n",
       "4  2008-01-07 04:00:00                            0   \n",
       "\n",
       "   Grafton St at Card Gallery  O'Connell Street at Easons  \\\n",
       "0                           0                           0   \n",
       "1                           0                           0   \n",
       "2                           0                           0   \n",
       "3                           0                           0   \n",
       "4                           0                           0   \n",
       "\n",
       "   Henry Street at Butlers  Grafton Street at Korkys  \n",
       "0                        0                         0  \n",
       "1                        0                         0  \n",
       "2                        0                         0  \n",
       "3                        0                         0  \n",
       "4                        0                         0  "
      ]
     },
     "execution_count": 7,
     "metadata": {},
     "output_type": "execute_result"
    }
   ],
   "source": [
    "fixed_2008.head()"
   ]
  },
  {
   "cell_type": "code",
   "execution_count": 8,
   "metadata": {},
   "outputs": [],
   "source": [
    "jan_jun2020 = jan_jun2020.melt(id_vars=[\"Date and Time\"], \n",
    "        var_name=\"Location\", \n",
    "        value_name=\"Count\")\n",
    "\n",
    "jul_sep2020 = jul_sep2020.melt(id_vars=[\"Date and Time\"], \n",
    "        var_name=\"Location\", \n",
    "        value_name=\"Count\")\n",
    "\n",
    "jan_jun2019 = jan_jun2019.melt(id_vars=[\"Time\"], \n",
    "        var_name=\"Location\", \n",
    "        value_name=\"Count\")\n",
    "\n",
    "jul_dec2019 = jul_dec2019.melt(id_vars=[\"Time\"], \n",
    "        var_name=\"Location\", \n",
    "        value_name=\"Count\")\n",
    "\n",
    "whole_2010 = whole_2010.melt(id_vars=['Date and Time'],\n",
    "                            var_name=\"Location\",\n",
    "                            value_name=\"Count\")\n",
    "\n",
    "fixed_2008 = fixed_2008.melt(id_vars=['Date and Time'],\n",
    "                            var_name=\"Location\",\n",
    "                            value_name=\"Count\")"
   ]
  },
  {
   "cell_type": "code",
   "execution_count": 9,
   "metadata": {},
   "outputs": [
    {
     "data": {
      "text/html": [
       "<div>\n",
       "<style scoped>\n",
       "    .dataframe tbody tr th:only-of-type {\n",
       "        vertical-align: middle;\n",
       "    }\n",
       "\n",
       "    .dataframe tbody tr th {\n",
       "        vertical-align: top;\n",
       "    }\n",
       "\n",
       "    .dataframe thead th {\n",
       "        text-align: right;\n",
       "    }\n",
       "</style>\n",
       "<table border=\"1\" class=\"dataframe\">\n",
       "  <thead>\n",
       "    <tr style=\"text-align: right;\">\n",
       "      <th></th>\n",
       "      <th>Date and Time</th>\n",
       "      <th>Location</th>\n",
       "      <th>Count</th>\n",
       "    </tr>\n",
       "  </thead>\n",
       "  <tbody>\n",
       "    <tr>\n",
       "      <th>0</th>\n",
       "      <td>2008-01-07 00:00:00</td>\n",
       "      <td>O'Connell St Outside Clerys</td>\n",
       "      <td>0</td>\n",
       "    </tr>\n",
       "    <tr>\n",
       "      <th>1</th>\n",
       "      <td>2008-01-07 01:00:00</td>\n",
       "      <td>O'Connell St Outside Clerys</td>\n",
       "      <td>0</td>\n",
       "    </tr>\n",
       "    <tr>\n",
       "      <th>2</th>\n",
       "      <td>2008-01-07 02:00:00</td>\n",
       "      <td>O'Connell St Outside Clerys</td>\n",
       "      <td>0</td>\n",
       "    </tr>\n",
       "    <tr>\n",
       "      <th>3</th>\n",
       "      <td>2008-01-07 03:00:00</td>\n",
       "      <td>O'Connell St Outside Clerys</td>\n",
       "      <td>0</td>\n",
       "    </tr>\n",
       "    <tr>\n",
       "      <th>4</th>\n",
       "      <td>2008-01-07 04:00:00</td>\n",
       "      <td>O'Connell St Outside Clerys</td>\n",
       "      <td>0</td>\n",
       "    </tr>\n",
       "    <tr>\n",
       "      <th>5</th>\n",
       "      <td>2008-01-07 05:00:00</td>\n",
       "      <td>O'Connell St Outside Clerys</td>\n",
       "      <td>0</td>\n",
       "    </tr>\n",
       "    <tr>\n",
       "      <th>6</th>\n",
       "      <td>2008-01-07 06:00:00</td>\n",
       "      <td>O'Connell St Outside Clerys</td>\n",
       "      <td>0</td>\n",
       "    </tr>\n",
       "    <tr>\n",
       "      <th>7</th>\n",
       "      <td>2008-01-07 07:00:00</td>\n",
       "      <td>O'Connell St Outside Clerys</td>\n",
       "      <td>0</td>\n",
       "    </tr>\n",
       "    <tr>\n",
       "      <th>8</th>\n",
       "      <td>2008-01-07 08:00:00</td>\n",
       "      <td>O'Connell St Outside Clerys</td>\n",
       "      <td>0</td>\n",
       "    </tr>\n",
       "    <tr>\n",
       "      <th>9</th>\n",
       "      <td>2008-01-07 09:00:00</td>\n",
       "      <td>O'Connell St Outside Clerys</td>\n",
       "      <td>0</td>\n",
       "    </tr>\n",
       "  </tbody>\n",
       "</table>\n",
       "</div>"
      ],
      "text/plain": [
       "         Date and Time                     Location  Count\n",
       "0  2008-01-07 00:00:00  O'Connell St Outside Clerys      0\n",
       "1  2008-01-07 01:00:00  O'Connell St Outside Clerys      0\n",
       "2  2008-01-07 02:00:00  O'Connell St Outside Clerys      0\n",
       "3  2008-01-07 03:00:00  O'Connell St Outside Clerys      0\n",
       "4  2008-01-07 04:00:00  O'Connell St Outside Clerys      0\n",
       "5  2008-01-07 05:00:00  O'Connell St Outside Clerys      0\n",
       "6  2008-01-07 06:00:00  O'Connell St Outside Clerys      0\n",
       "7  2008-01-07 07:00:00  O'Connell St Outside Clerys      0\n",
       "8  2008-01-07 08:00:00  O'Connell St Outside Clerys      0\n",
       "9  2008-01-07 09:00:00  O'Connell St Outside Clerys      0"
      ]
     },
     "execution_count": 9,
     "metadata": {},
     "output_type": "execute_result"
    }
   ],
   "source": [
    "fixed_2008.head(10)"
   ]
  },
  {
   "cell_type": "markdown",
   "metadata": {},
   "source": [
    "Mary Street is full of NaN's, I would rather deal with all the NaNs with the concatenated dataframe."
   ]
  },
  {
   "cell_type": "code",
   "execution_count": 10,
   "metadata": {},
   "outputs": [
    {
     "data": {
      "text/plain": [
       "Date and Time       0\n",
       "Location            0\n",
       "Count            2927\n",
       "dtype: int64"
      ]
     },
     "execution_count": 10,
     "metadata": {},
     "output_type": "execute_result"
    }
   ],
   "source": [
    "tmp = jul_sep2020[jul_sep2020.Location == \"Mary Street\"]\n",
    "tmp.isna().sum()"
   ]
  },
  {
   "cell_type": "code",
   "execution_count": 11,
   "metadata": {},
   "outputs": [
    {
     "data": {
      "text/html": [
       "<div>\n",
       "<style scoped>\n",
       "    .dataframe tbody tr th:only-of-type {\n",
       "        vertical-align: middle;\n",
       "    }\n",
       "\n",
       "    .dataframe tbody tr th {\n",
       "        vertical-align: top;\n",
       "    }\n",
       "\n",
       "    .dataframe thead th {\n",
       "        text-align: right;\n",
       "    }\n",
       "</style>\n",
       "<table border=\"1\" class=\"dataframe\">\n",
       "  <thead>\n",
       "    <tr style=\"text-align: right;\">\n",
       "      <th></th>\n",
       "      <th>Time</th>\n",
       "      <th>Location</th>\n",
       "      <th>Count</th>\n",
       "    </tr>\n",
       "  </thead>\n",
       "  <tbody>\n",
       "    <tr>\n",
       "      <th>0</th>\n",
       "      <td>2019-07-01 00:00:00</td>\n",
       "      <td>O'Connell St Outside Pennys</td>\n",
       "      <td>81.0</td>\n",
       "    </tr>\n",
       "    <tr>\n",
       "      <th>1</th>\n",
       "      <td>2019-07-01 00:15:00</td>\n",
       "      <td>O'Connell St Outside Pennys</td>\n",
       "      <td>63.0</td>\n",
       "    </tr>\n",
       "    <tr>\n",
       "      <th>2</th>\n",
       "      <td>2019-07-01 00:30:00</td>\n",
       "      <td>O'Connell St Outside Pennys</td>\n",
       "      <td>60.0</td>\n",
       "    </tr>\n",
       "    <tr>\n",
       "      <th>3</th>\n",
       "      <td>2019-07-01 00:45:00</td>\n",
       "      <td>O'Connell St Outside Pennys</td>\n",
       "      <td>61.0</td>\n",
       "    </tr>\n",
       "    <tr>\n",
       "      <th>4</th>\n",
       "      <td>2019-07-01 01:00:00</td>\n",
       "      <td>O'Connell St Outside Pennys</td>\n",
       "      <td>36.0</td>\n",
       "    </tr>\n",
       "  </tbody>\n",
       "</table>\n",
       "</div>"
      ],
      "text/plain": [
       "                 Time                     Location  Count\n",
       "0 2019-07-01 00:00:00  O'Connell St Outside Pennys   81.0\n",
       "1 2019-07-01 00:15:00  O'Connell St Outside Pennys   63.0\n",
       "2 2019-07-01 00:30:00  O'Connell St Outside Pennys   60.0\n",
       "3 2019-07-01 00:45:00  O'Connell St Outside Pennys   61.0\n",
       "4 2019-07-01 01:00:00  O'Connell St Outside Pennys   36.0"
      ]
     },
     "execution_count": 11,
     "metadata": {},
     "output_type": "execute_result"
    }
   ],
   "source": [
    "jul_dec2019.head()"
   ]
  },
  {
   "cell_type": "markdown",
   "metadata": {},
   "source": [
    "#### Merging the dataframe"
   ]
  },
  {
   "cell_type": "code",
   "execution_count": 12,
   "metadata": {},
   "outputs": [],
   "source": [
    "# making sure datetime column has common name\n",
    "corrections = {\"Time\": \"Date and Time\"}\n",
    "jan_jun2019 = jan_jun2019.rename(columns=corrections)\n",
    "jul_dec2019 = jul_dec2019.rename(columns=corrections)"
   ]
  },
  {
   "cell_type": "code",
   "execution_count": 13,
   "metadata": {},
   "outputs": [],
   "source": [
    "df = pd.concat([fixed_2008, whole_2010, jan_jun2019, jul_dec2019, jan_jun2020, jul_sep2020])"
   ]
  },
  {
   "cell_type": "code",
   "execution_count": 14,
   "metadata": {},
   "outputs": [],
   "source": [
    "# Write new dataframe into csv file for efficient retrieval\n",
    "df.to_csv('../data/processed/footfall.csv', index=False)"
   ]
  },
  {
   "cell_type": "code",
   "execution_count": 15,
   "metadata": {},
   "outputs": [],
   "source": [
    "df = pd.read_csv('../data/processed/footfall.csv', low_memory=False)"
   ]
  },
  {
   "cell_type": "code",
   "execution_count": 16,
   "metadata": {},
   "outputs": [
    {
     "data": {
      "text/plain": [
       "Date and Time    object\n",
       "Location         object\n",
       "Count            object\n",
       "dtype: object"
      ]
     },
     "execution_count": 16,
     "metadata": {},
     "output_type": "execute_result"
    }
   ],
   "source": [
    "df.dtypes"
   ]
  },
  {
   "cell_type": "markdown",
   "metadata": {},
   "source": [
    "The merge appears to have worked. My next task is grouping the times so that each count is hourly."
   ]
  },
  {
   "cell_type": "markdown",
   "metadata": {},
   "source": [
    "# Data Cleaning"
   ]
  },
  {
   "cell_type": "markdown",
   "metadata": {},
   "source": [
    "1. Found \"O\" as a 0 in count column "
   ]
  },
  {
   "cell_type": "code",
   "execution_count": 17,
   "metadata": {},
   "outputs": [
    {
     "data": {
      "text/html": [
       "<div>\n",
       "<style scoped>\n",
       "    .dataframe tbody tr th:only-of-type {\n",
       "        vertical-align: middle;\n",
       "    }\n",
       "\n",
       "    .dataframe tbody tr th {\n",
       "        vertical-align: top;\n",
       "    }\n",
       "\n",
       "    .dataframe thead th {\n",
       "        text-align: right;\n",
       "    }\n",
       "</style>\n",
       "<table border=\"1\" class=\"dataframe\">\n",
       "  <thead>\n",
       "    <tr style=\"text-align: right;\">\n",
       "      <th></th>\n",
       "      <th>Date and Time</th>\n",
       "      <th>Location</th>\n",
       "      <th>Count</th>\n",
       "    </tr>\n",
       "  </thead>\n",
       "  <tbody>\n",
       "    <tr>\n",
       "      <th>48337</th>\n",
       "      <td>09/06/2010 01:00</td>\n",
       "      <td>O'Connell Street at Clerys</td>\n",
       "      <td>O</td>\n",
       "    </tr>\n",
       "  </tbody>\n",
       "</table>\n",
       "</div>"
      ],
      "text/plain": [
       "          Date and Time                    Location Count\n",
       "48337  09/06/2010 01:00  O'Connell Street at Clerys     O"
      ]
     },
     "execution_count": 17,
     "metadata": {},
     "output_type": "execute_result"
    }
   ],
   "source": [
    "df[df['Count'] == \"O\"]"
   ]
  },
  {
   "cell_type": "code",
   "execution_count": 18,
   "metadata": {},
   "outputs": [],
   "source": [
    "df.iloc[48337, 2] = 0"
   ]
  },
  {
   "cell_type": "markdown",
   "metadata": {},
   "source": [
    "2. Some NaN values in the count column. I will drop these rows. A NaN in any other column would also be troublesome so I will remove any row with a NaN."
   ]
  },
  {
   "cell_type": "code",
   "execution_count": 19,
   "metadata": {},
   "outputs": [
    {
     "data": {
      "text/plain": [
       "(1070164, 3)"
      ]
     },
     "execution_count": 19,
     "metadata": {},
     "output_type": "execute_result"
    }
   ],
   "source": [
    "df.shape"
   ]
  },
  {
   "cell_type": "code",
   "execution_count": 20,
   "metadata": {},
   "outputs": [],
   "source": [
    "df = df.dropna(how=\"any\")"
   ]
  },
  {
   "cell_type": "code",
   "execution_count": 21,
   "metadata": {},
   "outputs": [
    {
     "data": {
      "text/plain": [
       "(783339, 3)"
      ]
     },
     "execution_count": 21,
     "metadata": {},
     "output_type": "execute_result"
    }
   ],
   "source": [
    "df.shape"
   ]
  },
  {
   "cell_type": "markdown",
   "metadata": {},
   "source": [
    "3. Blank values in count column.\n",
    "\n",
    "Fixed in OpenRefine. Details in cleaning.md. Read out most recent version to OpenRefine."
   ]
  },
  {
   "cell_type": "code",
   "execution_count": 22,
   "metadata": {},
   "outputs": [],
   "source": [
    "df.to_csv('../data/processed/footfall.csv', index=False)"
   ]
  },
  {
   "cell_type": "markdown",
   "metadata": {},
   "source": [
    "4. Multiple naming conventions for same locations.\n",
    "\n",
    "Fixed in OpenRefine. Details in cleaning.md"
   ]
  },
  {
   "cell_type": "code",
   "execution_count": 23,
   "metadata": {},
   "outputs": [],
   "source": [
    "#reading in refined dataset\n",
    "df = pd.read_csv(\"../data/processed/footfall-refined.csv\")"
   ]
  },
  {
   "cell_type": "markdown",
   "metadata": {},
   "source": [
    "5. Check for duplicates"
   ]
  },
  {
   "cell_type": "code",
   "execution_count": 24,
   "metadata": {},
   "outputs": [
    {
     "data": {
      "text/html": [
       "<div>\n",
       "<style scoped>\n",
       "    .dataframe tbody tr th:only-of-type {\n",
       "        vertical-align: middle;\n",
       "    }\n",
       "\n",
       "    .dataframe tbody tr th {\n",
       "        vertical-align: top;\n",
       "    }\n",
       "\n",
       "    .dataframe thead th {\n",
       "        text-align: right;\n",
       "    }\n",
       "</style>\n",
       "<table border=\"1\" class=\"dataframe\">\n",
       "  <thead>\n",
       "    <tr style=\"text-align: right;\">\n",
       "      <th></th>\n",
       "      <th>Date and Time</th>\n",
       "      <th>Location</th>\n",
       "      <th>Count</th>\n",
       "    </tr>\n",
       "  </thead>\n",
       "  <tbody>\n",
       "    <tr>\n",
       "      <th>652878</th>\n",
       "      <td>01/06/2020 00:00</td>\n",
       "      <td>Aston Quay</td>\n",
       "      <td>333.0</td>\n",
       "    </tr>\n",
       "    <tr>\n",
       "      <th>734734</th>\n",
       "      <td>01/06/2020 00:00</td>\n",
       "      <td>Aston Quay</td>\n",
       "      <td>333.0</td>\n",
       "    </tr>\n",
       "    <tr>\n",
       "      <th>716496</th>\n",
       "      <td>01/06/2020 00:00</td>\n",
       "      <td>Bachelors Walk</td>\n",
       "      <td>3.0</td>\n",
       "    </tr>\n",
       "    <tr>\n",
       "      <th>774547</th>\n",
       "      <td>01/06/2020 00:00</td>\n",
       "      <td>Bachelors Walk</td>\n",
       "      <td>3.0</td>\n",
       "    </tr>\n",
       "    <tr>\n",
       "      <th>648511</th>\n",
       "      <td>01/06/2020 00:00</td>\n",
       "      <td>Capel Street</td>\n",
       "      <td>44.0</td>\n",
       "    </tr>\n",
       "    <tr>\n",
       "      <th>731806</th>\n",
       "      <td>01/06/2020 00:00</td>\n",
       "      <td>Capel Street</td>\n",
       "      <td>44.0</td>\n",
       "    </tr>\n",
       "  </tbody>\n",
       "</table>\n",
       "</div>"
      ],
      "text/plain": [
       "           Date and Time        Location  Count\n",
       "652878  01/06/2020 00:00      Aston Quay  333.0\n",
       "734734  01/06/2020 00:00      Aston Quay  333.0\n",
       "716496  01/06/2020 00:00  Bachelors Walk    3.0\n",
       "774547  01/06/2020 00:00  Bachelors Walk    3.0\n",
       "648511  01/06/2020 00:00    Capel Street   44.0\n",
       "731806  01/06/2020 00:00    Capel Street   44.0"
      ]
     },
     "execution_count": 24,
     "metadata": {},
     "output_type": "execute_result"
    }
   ],
   "source": [
    "df[df.duplicated(keep=False)].sort_values(by=[\"Date and Time\", \"Location\"]).head(6)"
   ]
  },
  {
   "cell_type": "code",
   "execution_count": 25,
   "metadata": {},
   "outputs": [
    {
     "data": {
      "text/plain": [
       "(783331, 3)"
      ]
     },
     "execution_count": 25,
     "metadata": {},
     "output_type": "execute_result"
    }
   ],
   "source": [
    "df.shape"
   ]
  },
  {
   "cell_type": "code",
   "execution_count": 26,
   "metadata": {},
   "outputs": [],
   "source": [
    "df.drop_duplicates(keep=\"first\", inplace=True)"
   ]
  },
  {
   "cell_type": "code",
   "execution_count": 27,
   "metadata": {},
   "outputs": [
    {
     "data": {
      "text/plain": [
       "(768931, 3)"
      ]
     },
     "execution_count": 27,
     "metadata": {},
     "output_type": "execute_result"
    }
   ],
   "source": [
    "df.shape"
   ]
  },
  {
   "cell_type": "markdown",
   "metadata": {},
   "source": [
    "6. Fix types"
   ]
  },
  {
   "cell_type": "code",
   "execution_count": 28,
   "metadata": {},
   "outputs": [],
   "source": [
    "# autoformatting datetimes here\n",
    "df['Date and Time'] = pd.to_datetime(df['Date and Time'])\n",
    "df['Count'] = df['Count'].astype(\"int64\")"
   ]
  },
  {
   "cell_type": "code",
   "execution_count": 29,
   "metadata": {},
   "outputs": [
    {
     "data": {
      "text/plain": [
       "Date and Time    datetime64[ns]\n",
       "Location                 object\n",
       "Count                     int64\n",
       "dtype: object"
      ]
     },
     "execution_count": 29,
     "metadata": {},
     "output_type": "execute_result"
    }
   ],
   "source": [
    "df.dtypes"
   ]
  },
  {
   "cell_type": "code",
   "execution_count": 30,
   "metadata": {},
   "outputs": [
    {
     "data": {
      "text/html": [
       "<div>\n",
       "<style scoped>\n",
       "    .dataframe tbody tr th:only-of-type {\n",
       "        vertical-align: middle;\n",
       "    }\n",
       "\n",
       "    .dataframe tbody tr th {\n",
       "        vertical-align: top;\n",
       "    }\n",
       "\n",
       "    .dataframe thead th {\n",
       "        text-align: right;\n",
       "    }\n",
       "</style>\n",
       "<table border=\"1\" class=\"dataframe\">\n",
       "  <thead>\n",
       "    <tr style=\"text-align: right;\">\n",
       "      <th></th>\n",
       "      <th>Date and Time</th>\n",
       "      <th>Location</th>\n",
       "      <th>Count</th>\n",
       "    </tr>\n",
       "  </thead>\n",
       "  <tbody>\n",
       "    <tr>\n",
       "      <th>0</th>\n",
       "      <td>2008-01-07 00:00:00</td>\n",
       "      <td>O'Connell St Outside Clerys</td>\n",
       "      <td>0</td>\n",
       "    </tr>\n",
       "    <tr>\n",
       "      <th>1</th>\n",
       "      <td>2008-01-07 01:00:00</td>\n",
       "      <td>O'Connell St Outside Clerys</td>\n",
       "      <td>0</td>\n",
       "    </tr>\n",
       "    <tr>\n",
       "      <th>2</th>\n",
       "      <td>2008-01-07 02:00:00</td>\n",
       "      <td>O'Connell St Outside Clerys</td>\n",
       "      <td>0</td>\n",
       "    </tr>\n",
       "    <tr>\n",
       "      <th>3</th>\n",
       "      <td>2008-01-07 03:00:00</td>\n",
       "      <td>O'Connell St Outside Clerys</td>\n",
       "      <td>0</td>\n",
       "    </tr>\n",
       "    <tr>\n",
       "      <th>4</th>\n",
       "      <td>2008-01-07 04:00:00</td>\n",
       "      <td>O'Connell St Outside Clerys</td>\n",
       "      <td>0</td>\n",
       "    </tr>\n",
       "  </tbody>\n",
       "</table>\n",
       "</div>"
      ],
      "text/plain": [
       "        Date and Time                     Location  Count\n",
       "0 2008-01-07 00:00:00  O'Connell St Outside Clerys      0\n",
       "1 2008-01-07 01:00:00  O'Connell St Outside Clerys      0\n",
       "2 2008-01-07 02:00:00  O'Connell St Outside Clerys      0\n",
       "3 2008-01-07 03:00:00  O'Connell St Outside Clerys      0\n",
       "4 2008-01-07 04:00:00  O'Connell St Outside Clerys      0"
      ]
     },
     "execution_count": 30,
     "metadata": {},
     "output_type": "execute_result"
    }
   ],
   "source": [
    "df.head()"
   ]
  },
  {
   "cell_type": "markdown",
   "metadata": {},
   "source": [
    "#### 7. setting hourly counts\n",
    "\n",
    "I came across difficulty here as I wasn't sure how to group the rows by hour and location, get the sums and revert back to dataframe without getting a groupby object which is not a dataframe."
   ]
  },
  {
   "cell_type": "code",
   "execution_count": 50,
   "metadata": {},
   "outputs": [
    {
     "name": "stdout",
     "output_type": "stream",
     "text": [
      "Hour total: 1504\n"
     ]
    }
   ],
   "source": [
    "# control, check that 2019-01-01 00:00:00, O'Connel St Outside Penneys = 1504\n",
    "\n",
    "# find index first\n",
    "df[(df.Location == \"O'Connell St Outside Pennys\") &\n",
    "          (df[\"Date and Time\"] == \"2019-01-01 00:00:00\")].index\n",
    "\n",
    "print(\"Hour total: {}\".format(df.iloc[96942:96946, 2].sum()))"
   ]
  },
  {
   "cell_type": "code",
   "execution_count": 51,
   "metadata": {},
   "outputs": [],
   "source": [
    "hourly_df = df.groupby([pd.Grouper(key='Date and Time', freq='H'), 'Location']).sum()"
   ]
  },
  {
   "cell_type": "code",
   "execution_count": 52,
   "metadata": {},
   "outputs": [
    {
     "name": "stdout",
     "output_type": "stream",
     "text": [
      "(404961, 1)\n",
      "MultiIndex([('2008-01-07 00:00:00',     'Grafton St at Card Gallery'),\n",
      "            ('2008-01-07 00:00:00',       'Grafton Street at Korkys'),\n",
      "            ('2008-01-07 00:00:00',        'Henry Street at Butlers'),\n",
      "            ('2008-01-07 00:00:00',    'O'Connell St Outside Clerys'),\n",
      "            ('2008-01-07 00:00:00',     'O'Connell Street at Easons'),\n",
      "            ('2008-01-07 01:00:00',     'Grafton St at Card Gallery'),\n",
      "            ('2008-01-07 01:00:00',       'Grafton Street at Korkys'),\n",
      "            ('2008-01-07 01:00:00',        'Henry Street at Butlers'),\n",
      "            ('2008-01-07 01:00:00',    'O'Connell St Outside Clerys'),\n",
      "            ('2008-01-07 01:00:00',     'O'Connell Street at Easons'),\n",
      "            ...\n",
      "            ('2020-12-09 23:00:00',       'Grafton Street at CompuB'),\n",
      "            ('2020-12-09 23:00:00',                   'Henry Street'),\n",
      "            ('2020-12-09 23:00:00',                  'Liffey Street'),\n",
      "            ('2020-12-09 23:00:00',    'O'Connell St Outside Clerys'),\n",
      "            ('2020-12-09 23:00:00',    'O'Connell St Outside Pennys'),\n",
      "            ('2020-12-09 23:00:00', 'O'Connell St Parnell St at AIB'),\n",
      "            ('2020-12-09 23:00:00',            'Talbot Street North'),\n",
      "            ('2020-12-09 23:00:00',            'Talbot Street South'),\n",
      "            ('2020-12-09 23:00:00',       'Westmoreland Street East'),\n",
      "            ('2020-12-09 23:00:00',       'Westmoreland Street West')],\n",
      "           names=['Date and Time', 'Location'], length=404961)\n"
     ]
    },
    {
     "data": {
      "text/html": [
       "<div>\n",
       "<style scoped>\n",
       "    .dataframe tbody tr th:only-of-type {\n",
       "        vertical-align: middle;\n",
       "    }\n",
       "\n",
       "    .dataframe tbody tr th {\n",
       "        vertical-align: top;\n",
       "    }\n",
       "\n",
       "    .dataframe thead th {\n",
       "        text-align: right;\n",
       "    }\n",
       "</style>\n",
       "<table border=\"1\" class=\"dataframe\">\n",
       "  <thead>\n",
       "    <tr style=\"text-align: right;\">\n",
       "      <th></th>\n",
       "      <th></th>\n",
       "      <th>Count</th>\n",
       "    </tr>\n",
       "    <tr>\n",
       "      <th>Date and Time</th>\n",
       "      <th>Location</th>\n",
       "      <th></th>\n",
       "    </tr>\n",
       "  </thead>\n",
       "  <tbody>\n",
       "    <tr>\n",
       "      <th rowspan=\"5\" valign=\"top\">2008-01-07</th>\n",
       "      <th>Grafton St at Card Gallery</th>\n",
       "      <td>0</td>\n",
       "    </tr>\n",
       "    <tr>\n",
       "      <th>Grafton Street at Korkys</th>\n",
       "      <td>0</td>\n",
       "    </tr>\n",
       "    <tr>\n",
       "      <th>Henry Street at Butlers</th>\n",
       "      <td>0</td>\n",
       "    </tr>\n",
       "    <tr>\n",
       "      <th>O'Connell St Outside Clerys</th>\n",
       "      <td>0</td>\n",
       "    </tr>\n",
       "    <tr>\n",
       "      <th>O'Connell Street at Easons</th>\n",
       "      <td>0</td>\n",
       "    </tr>\n",
       "  </tbody>\n",
       "</table>\n",
       "</div>"
      ],
      "text/plain": [
       "                                           Count\n",
       "Date and Time Location                          \n",
       "2008-01-07    Grafton St at Card Gallery       0\n",
       "              Grafton Street at Korkys         0\n",
       "              Henry Street at Butlers          0\n",
       "              O'Connell St Outside Clerys      0\n",
       "              O'Connell Street at Easons       0"
      ]
     },
     "execution_count": 52,
     "metadata": {},
     "output_type": "execute_result"
    }
   ],
   "source": [
    "print(hourly_df.shape)\n",
    "print(hourly_df.index)\n",
    "hourly_df.head()"
   ]
  },
  {
   "cell_type": "markdown",
   "metadata": {},
   "source": [
    "The object above is essentially what I want but I would like it without Multi Index."
   ]
  },
  {
   "cell_type": "code",
   "execution_count": 53,
   "metadata": {},
   "outputs": [],
   "source": [
    "hourly_df.reset_index(inplace=True)"
   ]
  },
  {
   "cell_type": "code",
   "execution_count": 54,
   "metadata": {},
   "outputs": [
    {
     "data": {
      "text/html": [
       "<div>\n",
       "<style scoped>\n",
       "    .dataframe tbody tr th:only-of-type {\n",
       "        vertical-align: middle;\n",
       "    }\n",
       "\n",
       "    .dataframe tbody tr th {\n",
       "        vertical-align: top;\n",
       "    }\n",
       "\n",
       "    .dataframe thead th {\n",
       "        text-align: right;\n",
       "    }\n",
       "</style>\n",
       "<table border=\"1\" class=\"dataframe\">\n",
       "  <thead>\n",
       "    <tr style=\"text-align: right;\">\n",
       "      <th></th>\n",
       "      <th>Date and Time</th>\n",
       "      <th>Location</th>\n",
       "      <th>Count</th>\n",
       "    </tr>\n",
       "  </thead>\n",
       "  <tbody>\n",
       "    <tr>\n",
       "      <th>0</th>\n",
       "      <td>2008-01-07 00:00:00</td>\n",
       "      <td>Grafton St at Card Gallery</td>\n",
       "      <td>0</td>\n",
       "    </tr>\n",
       "    <tr>\n",
       "      <th>1</th>\n",
       "      <td>2008-01-07 00:00:00</td>\n",
       "      <td>Grafton Street at Korkys</td>\n",
       "      <td>0</td>\n",
       "    </tr>\n",
       "    <tr>\n",
       "      <th>2</th>\n",
       "      <td>2008-01-07 00:00:00</td>\n",
       "      <td>Henry Street at Butlers</td>\n",
       "      <td>0</td>\n",
       "    </tr>\n",
       "    <tr>\n",
       "      <th>3</th>\n",
       "      <td>2008-01-07 00:00:00</td>\n",
       "      <td>O'Connell St Outside Clerys</td>\n",
       "      <td>0</td>\n",
       "    </tr>\n",
       "    <tr>\n",
       "      <th>4</th>\n",
       "      <td>2008-01-07 00:00:00</td>\n",
       "      <td>O'Connell Street at Easons</td>\n",
       "      <td>0</td>\n",
       "    </tr>\n",
       "    <tr>\n",
       "      <th>5</th>\n",
       "      <td>2008-01-07 01:00:00</td>\n",
       "      <td>Grafton St at Card Gallery</td>\n",
       "      <td>0</td>\n",
       "    </tr>\n",
       "    <tr>\n",
       "      <th>6</th>\n",
       "      <td>2008-01-07 01:00:00</td>\n",
       "      <td>Grafton Street at Korkys</td>\n",
       "      <td>0</td>\n",
       "    </tr>\n",
       "  </tbody>\n",
       "</table>\n",
       "</div>"
      ],
      "text/plain": [
       "        Date and Time                     Location  Count\n",
       "0 2008-01-07 00:00:00   Grafton St at Card Gallery      0\n",
       "1 2008-01-07 00:00:00     Grafton Street at Korkys      0\n",
       "2 2008-01-07 00:00:00      Henry Street at Butlers      0\n",
       "3 2008-01-07 00:00:00  O'Connell St Outside Clerys      0\n",
       "4 2008-01-07 00:00:00   O'Connell Street at Easons      0\n",
       "5 2008-01-07 01:00:00   Grafton St at Card Gallery      0\n",
       "6 2008-01-07 01:00:00     Grafton Street at Korkys      0"
      ]
     },
     "execution_count": 54,
     "metadata": {},
     "output_type": "execute_result"
    }
   ],
   "source": [
    "hourly_df.head(7)"
   ]
  },
  {
   "cell_type": "code",
   "execution_count": 55,
   "metadata": {},
   "outputs": [
    {
     "data": {
      "text/html": [
       "<div>\n",
       "<style scoped>\n",
       "    .dataframe tbody tr th:only-of-type {\n",
       "        vertical-align: middle;\n",
       "    }\n",
       "\n",
       "    .dataframe tbody tr th {\n",
       "        vertical-align: top;\n",
       "    }\n",
       "\n",
       "    .dataframe thead th {\n",
       "        text-align: right;\n",
       "    }\n",
       "</style>\n",
       "<table border=\"1\" class=\"dataframe\">\n",
       "  <thead>\n",
       "    <tr style=\"text-align: right;\">\n",
       "      <th></th>\n",
       "      <th>Date and Time</th>\n",
       "      <th>Location</th>\n",
       "      <th>Count</th>\n",
       "    </tr>\n",
       "  </thead>\n",
       "  <tbody>\n",
       "    <tr>\n",
       "      <th>96949</th>\n",
       "      <td>2019-01-01</td>\n",
       "      <td>O'Connell St Outside Pennys</td>\n",
       "      <td>1504</td>\n",
       "    </tr>\n",
       "  </tbody>\n",
       "</table>\n",
       "</div>"
      ],
      "text/plain": [
       "      Date and Time                     Location  Count\n",
       "96949    2019-01-01  O'Connell St Outside Pennys   1504"
      ]
     },
     "execution_count": 55,
     "metadata": {},
     "output_type": "execute_result"
    }
   ],
   "source": [
    "# Now check the control\n",
    "# (check that 2019-01-01 00:00:00, O'Connel St Outside Penneys = 1504)\n",
    "hourly_df[(hourly_df.Location == \"O'Connell St Outside Pennys\") &\n",
    "           (hourly_df[\"Date and Time\"] == \"2019-01-01 00:00:00\")]"
   ]
  },
  {
   "cell_type": "markdown",
   "metadata": {},
   "source": [
    "# Final section"
   ]
  },
  {
   "cell_type": "code",
   "execution_count": 56,
   "metadata": {},
   "outputs": [
    {
     "data": {
      "text/html": [
       "<div>\n",
       "<style scoped>\n",
       "    .dataframe tbody tr th:only-of-type {\n",
       "        vertical-align: middle;\n",
       "    }\n",
       "\n",
       "    .dataframe tbody tr th {\n",
       "        vertical-align: top;\n",
       "    }\n",
       "\n",
       "    .dataframe thead th {\n",
       "        text-align: right;\n",
       "    }\n",
       "</style>\n",
       "<table border=\"1\" class=\"dataframe\">\n",
       "  <thead>\n",
       "    <tr style=\"text-align: right;\">\n",
       "      <th></th>\n",
       "      <th>Count</th>\n",
       "    </tr>\n",
       "  </thead>\n",
       "  <tbody>\n",
       "    <tr>\n",
       "      <th>count</th>\n",
       "      <td>4.049610e+05</td>\n",
       "    </tr>\n",
       "    <tr>\n",
       "      <th>mean</th>\n",
       "      <td>1.153585e+03</td>\n",
       "    </tr>\n",
       "    <tr>\n",
       "      <th>std</th>\n",
       "      <td>2.812098e+03</td>\n",
       "    </tr>\n",
       "    <tr>\n",
       "      <th>min</th>\n",
       "      <td>0.000000e+00</td>\n",
       "    </tr>\n",
       "    <tr>\n",
       "      <th>25%</th>\n",
       "      <td>1.270000e+02</td>\n",
       "    </tr>\n",
       "    <tr>\n",
       "      <th>50%</th>\n",
       "      <td>5.110000e+02</td>\n",
       "    </tr>\n",
       "    <tr>\n",
       "      <th>75%</th>\n",
       "      <td>1.376000e+03</td>\n",
       "    </tr>\n",
       "    <tr>\n",
       "      <th>max</th>\n",
       "      <td>1.000187e+06</td>\n",
       "    </tr>\n",
       "  </tbody>\n",
       "</table>\n",
       "</div>"
      ],
      "text/plain": [
       "              Count\n",
       "count  4.049610e+05\n",
       "mean   1.153585e+03\n",
       "std    2.812098e+03\n",
       "min    0.000000e+00\n",
       "25%    1.270000e+02\n",
       "50%    5.110000e+02\n",
       "75%    1.376000e+03\n",
       "max    1.000187e+06"
      ]
     },
     "execution_count": 56,
     "metadata": {},
     "output_type": "execute_result"
    }
   ],
   "source": [
    "hourly_df.describe()"
   ]
  },
  {
   "cell_type": "code",
   "execution_count": 57,
   "metadata": {},
   "outputs": [
    {
     "name": "stdout",
     "output_type": "stream",
     "text": [
      "<class 'pandas.core.frame.DataFrame'>\n",
      "RangeIndex: 404961 entries, 0 to 404960\n",
      "Data columns (total 3 columns):\n",
      " #   Column         Non-Null Count   Dtype         \n",
      "---  ------         --------------   -----         \n",
      " 0   Date and Time  404961 non-null  datetime64[ns]\n",
      " 1   Location       404961 non-null  object        \n",
      " 2   Count          404961 non-null  int64         \n",
      "dtypes: datetime64[ns](1), int64(1), object(1)\n",
      "memory usage: 9.3+ MB\n"
     ]
    }
   ],
   "source": [
    "hourly_df.info()"
   ]
  },
  {
   "cell_type": "markdown",
   "metadata": {},
   "source": [
    "\"Calculate the total number of pedestrians counted at the location nearest to \"O'Connell Street at Clerys\" during March 2010, March 2019 and March 2020.\"\n",
    "\n",
    "Note: Used \"O'Connell St Outside Clerys\" instead of \"O'Connell Street at Clerys\""
   ]
  },
  {
   "cell_type": "code",
   "execution_count": 58,
   "metadata": {},
   "outputs": [
    {
     "data": {
      "text/html": [
       "<div>\n",
       "<style scoped>\n",
       "    .dataframe tbody tr th:only-of-type {\n",
       "        vertical-align: middle;\n",
       "    }\n",
       "\n",
       "    .dataframe tbody tr th {\n",
       "        vertical-align: top;\n",
       "    }\n",
       "\n",
       "    .dataframe thead th {\n",
       "        text-align: right;\n",
       "    }\n",
       "</style>\n",
       "<table border=\"1\" class=\"dataframe\">\n",
       "  <thead>\n",
       "    <tr style=\"text-align: right;\">\n",
       "      <th></th>\n",
       "      <th>Date and Time</th>\n",
       "      <th>Location</th>\n",
       "      <th>Count</th>\n",
       "    </tr>\n",
       "  </thead>\n",
       "  <tbody>\n",
       "    <tr>\n",
       "      <th>53020</th>\n",
       "      <td>2010-03-01 00:00:00</td>\n",
       "      <td>O'Connell St Outside Clerys</td>\n",
       "      <td>409</td>\n",
       "    </tr>\n",
       "    <tr>\n",
       "      <th>53026</th>\n",
       "      <td>2010-03-01 01:00:00</td>\n",
       "      <td>O'Connell St Outside Clerys</td>\n",
       "      <td>226</td>\n",
       "    </tr>\n",
       "    <tr>\n",
       "      <th>53032</th>\n",
       "      <td>2010-03-01 02:00:00</td>\n",
       "      <td>O'Connell St Outside Clerys</td>\n",
       "      <td>237</td>\n",
       "    </tr>\n",
       "    <tr>\n",
       "      <th>53038</th>\n",
       "      <td>2010-03-01 03:00:00</td>\n",
       "      <td>O'Connell St Outside Clerys</td>\n",
       "      <td>295</td>\n",
       "    </tr>\n",
       "    <tr>\n",
       "      <th>53044</th>\n",
       "      <td>2010-03-01 04:00:00</td>\n",
       "      <td>O'Connell St Outside Clerys</td>\n",
       "      <td>127</td>\n",
       "    </tr>\n",
       "  </tbody>\n",
       "</table>\n",
       "</div>"
      ],
      "text/plain": [
       "            Date and Time                     Location  Count\n",
       "53020 2010-03-01 00:00:00  O'Connell St Outside Clerys    409\n",
       "53026 2010-03-01 01:00:00  O'Connell St Outside Clerys    226\n",
       "53032 2010-03-01 02:00:00  O'Connell St Outside Clerys    237\n",
       "53038 2010-03-01 03:00:00  O'Connell St Outside Clerys    295\n",
       "53044 2010-03-01 04:00:00  O'Connell St Outside Clerys    127"
      ]
     },
     "execution_count": 58,
     "metadata": {},
     "output_type": "execute_result"
    }
   ],
   "source": [
    "march2010 = hourly_df[(hourly_df.Location == \"O'Connell St Outside Clerys\") &\n",
    "                      (hourly_df['Date and Time'].dt.year == 2010) & \n",
    "                      (hourly_df['Date and Time'].dt.month == 3)]\n",
    "march2010.head(5)"
   ]
  },
  {
   "cell_type": "code",
   "execution_count": 59,
   "metadata": {},
   "outputs": [
    {
     "data": {
      "text/plain": [
       "Location    O'Connell St Outside ClerysO'Connell St Outsid...\n",
       "Count                                                 1193089\n",
       "dtype: object"
      ]
     },
     "execution_count": 59,
     "metadata": {},
     "output_type": "execute_result"
    }
   ],
   "source": [
    "march2010.sum()  # 1193089"
   ]
  },
  {
   "cell_type": "code",
   "execution_count": 60,
   "metadata": {},
   "outputs": [
    {
     "data": {
      "text/plain": [
       "Location    O'Connell St Outside ClerysO'Connell St Outsid...\n",
       "Count                                                  727988\n",
       "dtype: object"
      ]
     },
     "execution_count": 60,
     "metadata": {},
     "output_type": "execute_result"
    }
   ],
   "source": [
    "march2019 = hourly_df[(hourly_df.Location == \"O'Connell St Outside Clerys\") &\n",
    "                      (hourly_df['Date and Time'].dt.year == 2019) & \n",
    "                      (hourly_df['Date and Time'].dt.month == 3)]\n",
    "march2019.sum()  # 727988"
   ]
  },
  {
   "cell_type": "code",
   "execution_count": 61,
   "metadata": {},
   "outputs": [
    {
     "data": {
      "text/plain": [
       "Location    O'Connell St Outside ClerysO'Connell St Outsid...\n",
       "Count                                                  274164\n",
       "dtype: object"
      ]
     },
     "execution_count": 61,
     "metadata": {},
     "output_type": "execute_result"
    }
   ],
   "source": [
    "march2020 = hourly_df[(hourly_df.Location == \"O'Connell St Outside Clerys\") &\n",
    "                      (hourly_df['Date and Time'].dt.year == 2020) & \n",
    "                      (hourly_df['Date and Time'].dt.month == 3)]\n",
    "march2020.sum()  # 273164"
   ]
  },
  {
   "cell_type": "markdown",
   "metadata": {},
   "source": [
    "Read dataframe into file"
   ]
  },
  {
   "cell_type": "code",
   "execution_count": 62,
   "metadata": {},
   "outputs": [],
   "source": [
    "hourly_df.to_csv('../data/processed/cleaned-data.csv', index=False)"
   ]
  },
  {
   "cell_type": "code",
   "execution_count": 92,
   "metadata": {},
   "outputs": [],
   "source": [
    "hourly_df = pd.read_csv('../data/processed/cleaned-data.csv', infer_datetime_format=True, low_memory=False)"
   ]
  },
  {
   "cell_type": "code",
   "execution_count": null,
   "metadata": {},
   "outputs": [],
   "source": []
  },
  {
   "cell_type": "markdown",
   "metadata": {},
   "source": [
    "### Tackling a3-2008.ods\n",
    "\n",
    "The openpyxl package lets me deal with the 2008 workbook. My plan is to read the data from the correct rows and columns using excel indexing. I first converted 2008 ods file to xlsx and put this in the \"processed\" folder for futher use"
   ]
  },
  {
   "cell_type": "code",
   "execution_count": 26,
   "metadata": {},
   "outputs": [],
   "source": [
    "import openpyxl as xl"
   ]
  },
  {
   "cell_type": "code",
   "execution_count": 38,
   "metadata": {},
   "outputs": [],
   "source": [
    "wb = xl.load_workbook(filename = '../data/processed/a3-2008.xlsx')"
   ]
  },
  {
   "cell_type": "code",
   "execution_count": 119,
   "metadata": {},
   "outputs": [],
   "source": [
    "locations = {\"O'Connell St Outside Clerys\":[],\n",
    "             \"Grafton St at Card Gallery\":[],\n",
    "             \"O'Connell Street at Easons\": [],\n",
    "             \"Henry Street at Butlers\":[],\n",
    "             \"Grafton Street at Korkys\":[]}\n",
    "\n",
    "# for sheet in wb:\n",
    "#     print(sheet)\n",
    "\n",
    "groups = [[7, 30], [35, 58], [63, 86], [91, 114], [119, 142], [147, 170]]\n",
    "def get_block(start, end, letter, ws, l):\n",
    "    for i in range(start, end+1):\n",
    "        l.append(ws[letter+str(i)].value)\n",
    "\n",
    "# columns from sheet to extract\n",
    "col_letters = [\"B\", \"D\", \"F\", \"H\", \"J\", \"L\", \"N\"]\n",
    "\n",
    "for sheet in wb:\n",
    "    # store the sheet for processing\n",
    "    ws = wb[sheet.title]\n",
    "    i = 0\n",
    "    for key in locations:\n",
    "        group = groups[i]\n",
    "        l = []\n",
    "        \n",
    "        for letter in col_letters:\n",
    "            get_block(group[0], group[1], letter, ws, l)\n",
    "        \n",
    "        i += 1\n",
    "        locations[key] += l\n",
    "\n",
    "whole_2008 = pd.DataFrame(locations)"
   ]
  },
  {
   "cell_type": "code",
   "execution_count": 120,
   "metadata": {},
   "outputs": [
    {
     "data": {
      "text/html": [
       "<div>\n",
       "<style scoped>\n",
       "    .dataframe tbody tr th:only-of-type {\n",
       "        vertical-align: middle;\n",
       "    }\n",
       "\n",
       "    .dataframe tbody tr th {\n",
       "        vertical-align: top;\n",
       "    }\n",
       "\n",
       "    .dataframe thead th {\n",
       "        text-align: right;\n",
       "    }\n",
       "</style>\n",
       "<table border=\"1\" class=\"dataframe\">\n",
       "  <thead>\n",
       "    <tr style=\"text-align: right;\">\n",
       "      <th></th>\n",
       "      <th>O'Connell St Outside Clerys</th>\n",
       "      <th>Grafton St at Card Gallery</th>\n",
       "      <th>O'Connell Street at Easons</th>\n",
       "      <th>Henry Street at Butlers</th>\n",
       "      <th>Grafton Street at Korkys</th>\n",
       "    </tr>\n",
       "  </thead>\n",
       "  <tbody>\n",
       "    <tr>\n",
       "      <th>150</th>\n",
       "      <td>112</td>\n",
       "      <td>210</td>\n",
       "      <td>150</td>\n",
       "      <td>85</td>\n",
       "      <td>185</td>\n",
       "    </tr>\n",
       "    <tr>\n",
       "      <th>151</th>\n",
       "      <td>177</td>\n",
       "      <td>254</td>\n",
       "      <td>247</td>\n",
       "      <td>123</td>\n",
       "      <td>97</td>\n",
       "    </tr>\n",
       "    <tr>\n",
       "      <th>152</th>\n",
       "      <td>191</td>\n",
       "      <td>281</td>\n",
       "      <td>393</td>\n",
       "      <td>133</td>\n",
       "      <td>180</td>\n",
       "    </tr>\n",
       "    <tr>\n",
       "      <th>153</th>\n",
       "      <td>273</td>\n",
       "      <td>375</td>\n",
       "      <td>491</td>\n",
       "      <td>211</td>\n",
       "      <td>347</td>\n",
       "    </tr>\n",
       "    <tr>\n",
       "      <th>154</th>\n",
       "      <td>589</td>\n",
       "      <td>795</td>\n",
       "      <td>892</td>\n",
       "      <td>630</td>\n",
       "      <td>1062</td>\n",
       "    </tr>\n",
       "  </tbody>\n",
       "</table>\n",
       "</div>"
      ],
      "text/plain": [
       "     O'Connell St Outside Clerys  Grafton St at Card Gallery  \\\n",
       "150                          112                         210   \n",
       "151                          177                         254   \n",
       "152                          191                         281   \n",
       "153                          273                         375   \n",
       "154                          589                         795   \n",
       "\n",
       "     O'Connell Street at Easons  Henry Street at Butlers  \\\n",
       "150                         150                       85   \n",
       "151                         247                      123   \n",
       "152                         393                      133   \n",
       "153                         491                      211   \n",
       "154                         892                      630   \n",
       "\n",
       "     Grafton Street at Korkys  \n",
       "150                       185  \n",
       "151                        97  \n",
       "152                       180  \n",
       "153                       347  \n",
       "154                      1062  "
      ]
     },
     "execution_count": 120,
     "metadata": {},
     "output_type": "execute_result"
    }
   ],
   "source": [
    "whole_2008.iloc[150:155, :]"
   ]
  },
  {
   "cell_type": "markdown",
   "metadata": {},
   "source": [
    "#### Adding date range to the data\n",
    "\n",
    "The data still needs a datetime range to match the other datasets. The first monday of 2008 was the 7th. There are 53 weeks in the data rather than 52 meaning the last date is Sunday 11th January 2009 but for sim"
   ]
  },
  {
   "cell_type": "code",
   "execution_count": 121,
   "metadata": {},
   "outputs": [
    {
     "data": {
      "text/plain": [
       "8905"
      ]
     },
     "execution_count": 121,
     "metadata": {},
     "output_type": "execute_result"
    }
   ],
   "source": [
    "dates = pd.date_range(start='2008-1-7', end='2009-01-12', freq=\"H\")\n",
    "len(dates)"
   ]
  },
  {
   "cell_type": "code",
   "execution_count": 122,
   "metadata": {},
   "outputs": [],
   "source": [
    "dates=dates[:-1]"
   ]
  },
  {
   "cell_type": "code",
   "execution_count": 123,
   "metadata": {},
   "outputs": [],
   "source": [
    "whole_2008['Date and Time'] = dates"
   ]
  },
  {
   "cell_type": "code",
   "execution_count": 124,
   "metadata": {},
   "outputs": [],
   "source": [
    "# rearrange columns\n",
    "cols = list(whole_2008.columns.values)\n",
    "dt = cols.pop()\n",
    "cols.insert(0, dt)"
   ]
  },
  {
   "cell_type": "code",
   "execution_count": 139,
   "metadata": {},
   "outputs": [],
   "source": [
    "whole_2008 = whole_2008[cols]\n",
    "whole_2008['Date and Time'] = whole_2008['Date and Time'].astype('object')"
   ]
  },
  {
   "cell_type": "code",
   "execution_count": 140,
   "metadata": {},
   "outputs": [
    {
     "data": {
      "text/html": [
       "<div>\n",
       "<style scoped>\n",
       "    .dataframe tbody tr th:only-of-type {\n",
       "        vertical-align: middle;\n",
       "    }\n",
       "\n",
       "    .dataframe tbody tr th {\n",
       "        vertical-align: top;\n",
       "    }\n",
       "\n",
       "    .dataframe thead th {\n",
       "        text-align: right;\n",
       "    }\n",
       "</style>\n",
       "<table border=\"1\" class=\"dataframe\">\n",
       "  <thead>\n",
       "    <tr style=\"text-align: right;\">\n",
       "      <th></th>\n",
       "      <th>Date and Time</th>\n",
       "      <th>O'Connell St Outside Clerys</th>\n",
       "      <th>Grafton St at Card Gallery</th>\n",
       "      <th>O'Connell Street at Easons</th>\n",
       "      <th>Henry Street at Butlers</th>\n",
       "      <th>Grafton Street at Korkys</th>\n",
       "    </tr>\n",
       "  </thead>\n",
       "  <tbody>\n",
       "    <tr>\n",
       "      <th>0</th>\n",
       "      <td>2008-01-07 00:00:00</td>\n",
       "      <td>0</td>\n",
       "      <td>0</td>\n",
       "      <td>0</td>\n",
       "      <td>0</td>\n",
       "      <td>0</td>\n",
       "    </tr>\n",
       "    <tr>\n",
       "      <th>1</th>\n",
       "      <td>2008-01-07 01:00:00</td>\n",
       "      <td>0</td>\n",
       "      <td>0</td>\n",
       "      <td>0</td>\n",
       "      <td>0</td>\n",
       "      <td>0</td>\n",
       "    </tr>\n",
       "    <tr>\n",
       "      <th>2</th>\n",
       "      <td>2008-01-07 02:00:00</td>\n",
       "      <td>0</td>\n",
       "      <td>0</td>\n",
       "      <td>0</td>\n",
       "      <td>0</td>\n",
       "      <td>0</td>\n",
       "    </tr>\n",
       "    <tr>\n",
       "      <th>3</th>\n",
       "      <td>2008-01-07 03:00:00</td>\n",
       "      <td>0</td>\n",
       "      <td>0</td>\n",
       "      <td>0</td>\n",
       "      <td>0</td>\n",
       "      <td>0</td>\n",
       "    </tr>\n",
       "    <tr>\n",
       "      <th>4</th>\n",
       "      <td>2008-01-07 04:00:00</td>\n",
       "      <td>0</td>\n",
       "      <td>0</td>\n",
       "      <td>0</td>\n",
       "      <td>0</td>\n",
       "      <td>0</td>\n",
       "    </tr>\n",
       "  </tbody>\n",
       "</table>\n",
       "</div>"
      ],
      "text/plain": [
       "         Date and Time  O'Connell St Outside Clerys  \\\n",
       "0  2008-01-07 00:00:00                            0   \n",
       "1  2008-01-07 01:00:00                            0   \n",
       "2  2008-01-07 02:00:00                            0   \n",
       "3  2008-01-07 03:00:00                            0   \n",
       "4  2008-01-07 04:00:00                            0   \n",
       "\n",
       "   Grafton St at Card Gallery  O'Connell Street at Easons  \\\n",
       "0                           0                           0   \n",
       "1                           0                           0   \n",
       "2                           0                           0   \n",
       "3                           0                           0   \n",
       "4                           0                           0   \n",
       "\n",
       "   Henry Street at Butlers  Grafton Street at Korkys  \n",
       "0                        0                         0  \n",
       "1                        0                         0  \n",
       "2                        0                         0  \n",
       "3                        0                         0  \n",
       "4                        0                         0  "
      ]
     },
     "execution_count": 140,
     "metadata": {},
     "output_type": "execute_result"
    }
   ],
   "source": [
    "whole_2008.head()"
   ]
  },
  {
   "cell_type": "code",
   "execution_count": 141,
   "metadata": {},
   "outputs": [],
   "source": [
    "whole_2008.to_csv('../data/processed/a3-2008-fixed.csv')"
   ]
  },
  {
   "cell_type": "code",
   "execution_count": null,
   "metadata": {},
   "outputs": [],
   "source": []
  }
 ],
 "metadata": {
  "kernelspec": {
   "display_name": "Python 3",
   "language": "python",
   "name": "python3"
  },
  "language_info": {
   "codemirror_mode": {
    "name": "ipython",
    "version": 3
   },
   "file_extension": ".py",
   "mimetype": "text/x-python",
   "name": "python",
   "nbconvert_exporter": "python",
   "pygments_lexer": "ipython3",
   "version": "3.8.3"
  }
 },
 "nbformat": 4,
 "nbformat_minor": 4
}
