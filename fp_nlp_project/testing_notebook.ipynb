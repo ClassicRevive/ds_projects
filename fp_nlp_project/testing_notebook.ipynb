{
 "cells": [
  {
   "attachments": {},
   "cell_type": "markdown",
   "metadata": {},
   "source": [
    "## Idea testing notebook for CA4023 Assignment 1\n",
    "\n",
    "Here, I test out ideas for in the assignment.\n",
    "\n",
    "The full movie reviews which I analysed for Part 3 of the assignment can be found in this notebook, in Section 3.2"
   ]
  },
  {
   "attachments": {},
   "cell_type": "markdown",
   "metadata": {},
   "source": [
    "### 1. Sentence Boundary Detection\n",
    "\n"
   ]
  },
  {
   "cell_type": "code",
   "execution_count": 78,
   "metadata": {},
   "outputs": [],
   "source": [
    "import re\n",
    "import io"
   ]
  },
  {
   "cell_type": "code",
   "execution_count": 79,
   "metadata": {},
   "outputs": [],
   "source": [
    "f = io.open(\"part-one/example1.txt\", mode=\"r\", encoding=\"utf-8\")\n",
    "example = f.read().replace('\\n', ' ')\n",
    "f.close()"
   ]
  },
  {
   "cell_type": "code",
   "execution_count": 80,
   "metadata": {},
   "outputs": [],
   "source": [
    "def add_newline(match_obj):\n",
    "    return match_obj.group(0)+'\\n'"
   ]
  },
  {
   "cell_type": "code",
   "execution_count": 81,
   "metadata": {},
   "outputs": [
    {
     "data": {
      "text/plain": [
       "\"The difference for them can be significant. A 10-year loan of €50,000 from you at zero interest would involve monthly payments of €417, or €5,000 a year. With An Post’s market-leading rate, the friend would be paying €525.45 a month, or over €6,300 a year and over €13,000 interest over the life of the loan.  To test the effectiveness of this sentence boundary detector, let's try some special cases!!! Ironic huh? That was a special case... So is this, and this too! Pi being 3.14159 is not really an edge case. Two more things: The capital of U.s.a. is Washington DC, but that isn't the end of a sentence! And George W. Bush was the 43rd president of America, but that wasn't a sentence ending either. How will we deal with those pesky edge cases??? Disclaimer: All characters are ficitonal. I went to Dr. Larry because I had a sore head, and he said Prof. Phillip's and Mrs. Mcgeoghs books had an antidote for that. I.e. liquid ibuprofen. J. K. Rowling wrote Harry Potter, but those initials didn't end the sentence. But if I tell you my grade in my Irish exams, that should end the sentence right? I got a B. That didn't end the sentence though; But we just had to make that tradeoff...\""
      ]
     },
     "execution_count": 81,
     "metadata": {},
     "output_type": "execute_result"
    }
   ],
   "source": [
    "example"
   ]
  },
  {
   "cell_type": "code",
   "execution_count": 86,
   "metadata": {},
   "outputs": [
    {
     "name": "stdout",
     "output_type": "stream",
     "text": [
      "The difference for them can be significant. \n",
      "A 10-year loan of €50,000 from you at zero interest would involve monthly payments of €417, or €5,000 a year. \n",
      "With An Post’s market-leading rate, the friend would be paying €525.45 a month, or over €6,300 a year and over €13,000 interest over the life of the loan.  \n",
      "To test the effectiveness of this sentence boundary detector, let's try some special cases!!! \n",
      "Ironic huh? \n",
      "That was a special case... \n",
      "So is this, and this too! \n",
      "Pi being 3.14159 is not really an edge case. \n",
      "Two more things: \n",
      "The capital of U.s.a. is Washington DC, but that isn't the end of a sentence! \n",
      "And George W. Bush was the 43rd president of America, but that wasn't a sentence ending either. \n",
      "How will we deal with those pesky edge cases??? \n",
      "Disclaimer: \n",
      "All characters are ficitonal. \n",
      "I went to Dr. Larry because I had a sore head, and he said Prof. Phillip's and Mrs. Mcgeoghs books had an antidote for that. \n",
      "I.e. liquid ibuprofen. \n",
      "J. K. Rowling wrote Harry Potter, but those initials didn't end the sentence. \n",
      "But if I tell you my grade in my Irish exams, that should end the sentence right? \n",
      "I got a B. That didn't end the sentence though; But we just had to make that tradeoff...\n"
     ]
    }
   ],
   "source": [
    "# naiive sentence boundary detection\n",
    "abbrv2 = 'Mr|Ms|Dr'\n",
    "abbrv3 = 'Mrs|[Ee]\\.[Gg]|[Ii]\\.[Ee]|[Ee]tc'\n",
    "abbrv4 = 'Prof|Miss'\n",
    "initial='\\s[A-Z]'\n",
    "\n",
    "# check that previous word is not an abbreviation\n",
    "lookbehind_abbrv='(?<!'+abbrv2+')(?<!'+abbrv3+')(?<!'+abbrv4+')' \n",
    "\n",
    "# check that previous word is not a single capital letter\n",
    "lookbehind_initial='(?<!'+initial+')'\n",
    "\n",
    "# check that sentence end is not followed by a lowercase letter\n",
    "lookahead='(?![a-z])'\n",
    "\n",
    "sentence_end_punct='[?!:]+\\s+'\n",
    "\n",
    "# this pattern is separate as initials are only followed by a period (J. K. Rowling, not J: K: Rowling)\n",
    "sentence_end_period='[\\.]+\\s+'\n",
    "\n",
    "end_re1 = lookbehind_abbrv + sentence_end_punct + lookahead  # main pattern match\n",
    "end_re2 = lookbehind_initial + lookbehind_abbrv + sentence_end_period + lookahead # for catching initials\n",
    "print(re.sub(end_re1+\"|\"+end_re2, add_newline, example))"
   ]
  },
  {
   "attachments": {},
   "cell_type": "markdown",
   "metadata": {},
   "source": [
    "- Sentences can end with different forms of punctuation \"[.?!:]\" .\n",
    "- Mr., Mrs., Ms., Miss., Dr., Prof., are not sentence endings, but rather honorifics.\n",
    "\n",
    "To capture as many normal cases as possible, I will assume the following:\n",
    "- Correct sentence endings are always used in the input text files. That is, a space must follow a sentence-end punctuation to be considered a sentence ending, and sentences do not start with lowercase letters.\n",
    "-  A sentence does not end with a single capital letter. As a result of this assumption, the rare case in which it does end with a capital letter will not be detected.\n"
   ]
  },
  {
   "cell_type": "code",
   "execution_count": 85,
   "metadata": {},
   "outputs": [
    {
     "name": "stdout",
     "output_type": "stream",
     "text": [
      "The difference for them can be significant. A 10-year loan of €50,000 from you at zero interest would involve monthly payments of €417, or €5,000 a year. With An Post’s market-leading rate, the friend would be paying €525.45 a month, or over €6,300 a year and over €13,000 interest over the life of the loan.  To test the effectiveness of this sentence boundary detector, let's try some special cases!!! \n",
      "Ironic huh? \n",
      "That was a special case... So is this, and this too! \n",
      "Pi being 3.14159 is not really an edge case. Two more things: \n",
      "The capital of U.s.a. is Washington DC, but that isn't the end of a sentence! \n",
      "And George W. Bush was the 43rd president of America, but that wasn't a sentence ending either. How will we deal with those pesky edge cases??? \n",
      "Disclaimer: \n",
      "All characters are ficitonal. I went to Dr. Larry because I had a sore head, and he said Prof. Phillip's and Mrs. Mcgeoghs books had an antidote for that. I.e. liquid ibuprofen. J. K. Rowling wrote Harry Potter, but those initials didn't end the sentence. But if I tell you my grade in my Irish exams, that should end the sentence right? \n",
      "I got a B. That didn't end the sentence though; But we just had to make that tradeoff...\n"
     ]
    }
   ],
   "source": [
    "def sentence_split(text):\n",
    "    '''\n",
    "        Given text as input, return each sentence on a separate line.\n",
    "\n",
    "    '''\n",
    "    # known abbreviations of different lengths\n",
    "    abbrv2 = 'Mr|Ms|Dr'\n",
    "    abbrv3 = 'Mrs|[Ee]\\.[Gg]|[Ii]\\.[Ee]|[Ee]tc'\n",
    "    abbrv4 = 'Prof|Miss'\n",
    "\n",
    "    initial='\\s[A-Z]'\n",
    "\n",
    "    # check that previous word is not an abbreviation\n",
    "    lookbehind_abbrv='(?<!'+abbrv2+')(?<!'+abbrv3+')(?<!'+abbrv4+')' \n",
    "\n",
    "    # check that previous word is not a single capital letter (assumed to be an initial)\n",
    "    lookbehind_initial='(?<!'+initial+')'\n",
    "\n",
    "    # check that sentence end is not followed by a lowercase letter\n",
    "    lookahead='(?![a-z])'\n",
    "\n",
    "    # matches sentences ending in non-period punctuation\n",
    "    sentence_end_punct='[?!:]+\\s+'\n",
    "\n",
    "    # separate sentence end pattern as initials are only followed by a period (J. K. Rowling, not J: K: Rowling)\n",
    "    sentence_end_period='[\\.]+\\s+'\n",
    "\n",
    "    end_re1 = lookbehind_abbrv + sentence_end_punct + lookahead  # punctuation pattern match\n",
    "    end_re2 = lookbehind_initial + end_re1 # for catching initials\n",
    "\n",
    "    return print(re.sub(end_re1+\"|\"+end_re2, add_newline, example))\n",
    "    \n",
    "sentence_split(example)"
   ]
  },
  {
   "attachments": {},
   "cell_type": "markdown",
   "metadata": {},
   "source": [
    "### 2. Bigram Language Model"
   ]
  },
  {
   "cell_type": "code",
   "execution_count": 1,
   "metadata": {},
   "outputs": [],
   "source": [
    "from collections import defaultdict\n",
    "corpus = ['<s> b c </s>', '<s> c c </s>', '<s> c b </s>', '<s> b b </s>']"
   ]
  },
  {
   "cell_type": "code",
   "execution_count": 6,
   "metadata": {},
   "outputs": [
    {
     "name": "stdout",
     "output_type": "stream",
     "text": [
      "Returning 2 dicitonaries. word_freq [0] and bigram_freq [1].\n"
     ]
    }
   ],
   "source": [
    "# initialise dictionaries for storing frequency. These are used for computing probabilities\n",
    "\n",
    "def train(corpus):\n",
    "    '''\n",
    "    Given a training corpus in the form of a list of sentences, return word and bigram frequency dictionaries\n",
    "    for computing probabilities\n",
    "    '''     \n",
    "    word_freq = defaultdict(int)\n",
    "    bigram_freq = defaultdict(int)\n",
    "\n",
    "    for sentence in corpus:\n",
    "        tokens = sentence.split()\n",
    "        \n",
    "        # update word frequency dicitonary\n",
    "        for token in tokens:\n",
    "            word_freq[token] += 1\n",
    "        \n",
    "        # update bigram frequency dictionary\n",
    "        if len(tokens) >= 2:\n",
    "            i = 0\n",
    "            while i < len(tokens)-1:\n",
    "                bigram_freq[tokens[i]+' '+tokens[i+1]] += 1\n",
    "                i += 1\n",
    "    \n",
    "    print(\"Returning 2 dicitonaries. word_freq [0] and bigram_freq [1].\")\n",
    "    return word_freq, bigram_freq\n",
    "\n",
    "word_freq, bigram_freq = train(corpus)"
   ]
  },
  {
   "cell_type": "code",
   "execution_count": 7,
   "metadata": {},
   "outputs": [
    {
     "name": "stdout",
     "output_type": "stream",
     "text": [
      "defaultdict(<class 'int'>, {'<s>': 4, 'b': 4, 'c': 4, '</s>': 4})\n",
      "defaultdict(<class 'int'>, {'<s> b': 2, 'b c': 1, 'c </s>': 2, '<s> c': 2, 'c c': 1, 'c b': 1, 'b </s>': 2, 'b b': 1})\n"
     ]
    }
   ],
   "source": [
    "print(word_freq)\n",
    "print(bigram_freq)"
   ]
  },
  {
   "cell_type": "code",
   "execution_count": 9,
   "metadata": {},
   "outputs": [
    {
     "data": {
      "text/plain": [
       "0.0625"
      ]
     },
     "execution_count": 9,
     "metadata": {},
     "output_type": "execute_result"
    }
   ],
   "source": [
    "# computing probabilities\n",
    "def compute_prob(sentence, word_freq=word_freq, bigram_freq=bigram_freq):\n",
    "    ''' \n",
    "    Given bigram and word frequencies from a coprus, return the probability of the input sentence.\n",
    "\n",
    "    In a bigram model, P(w1, w2, ..., wn) = P(w1)*P(w2|w1)*P(w3|w2)*...*P(wn|wn-1).\n",
    "    Since the model uses word frequencies in the corpus to approximate probabilities:\n",
    "    P(wn|wn-1) = (Count of [wn-1, wn] bigram in corpus) / Count of wn-1 in corpus.\n",
    "\n",
    "    '''\n",
    "    n_corpus_tokens = sum(word_freq.values())\n",
    "    tokens = sentence.split()\n",
    "    i = 0\n",
    "    prob = 1\n",
    "    while i < len(tokens):\n",
    "        curr = tokens[i]\n",
    "        if i == 0:  # edge case: start of sentence\n",
    "            prob *= (word_freq[curr]) / n_corpus_tokens\n",
    "        else:\n",
    "            prev = tokens[i-1]\n",
    "            prob *= (bigram_freq[prev+\" \"+curr])/(word_freq[prev])\n",
    "        i += 1\n",
    "    \n",
    "    return prob\n",
    "compute_prob(\"<s> c </s>\")"
   ]
  },
  {
   "attachments": {},
   "cell_type": "markdown",
   "metadata": {},
   "source": [
    "### 3. Naiive Bayes Sentiment Polarity Classifier"
   ]
  },
  {
   "attachments": {},
   "cell_type": "markdown",
   "metadata": {},
   "source": [
    "#### 3.1 Model build"
   ]
  },
  {
   "cell_type": "code",
   "execution_count": 1,
   "metadata": {},
   "outputs": [],
   "source": [
    "# create dataset from the text files\n",
    "import pandas as pd\n",
    "import numpy as np\n",
    "import os\n",
    "import sys\n",
    "from collections import defaultdict\n",
    "import string\n",
    "import math\n",
    "seed=637\n",
    "\n",
    "pos_path = '../data/txt_sentoken/pos'\n",
    "neg_path = '../data/txt_sentoken/neg'\n",
    "pos_df = pd.DataFrame()\n",
    "neg_df = pd.DataFrame()\n",
    "\n",
    "# parse the files in positive directory\n",
    "for filename in os.listdir(pos_path):\n",
    "    with open(os.path.join(pos_path, filename)) as f:\n",
    "        review = f.read()\n",
    "        label='positive'\n",
    "        \n",
    "        # assign to train and test set depending on the filename\n",
    "        which_set = 'train' if int(filename[2]) < 9 else 'test'\n",
    "        row = pd.DataFrame({'review':[review], 'label':[label], 'set':[which_set]})\n",
    "\n",
    "    pos_df = pd.concat([pos_df, row], axis=0)\n",
    "\n",
    "# parse the files in negative directory\n",
    "for filename in os.listdir(neg_path):\n",
    "    with open(os.path.join(neg_path, filename)) as f:\n",
    "        review = f.read()\n",
    "        label='negative'\n",
    "        \n",
    "        # assign to train and test set depending on the filename\n",
    "        which_set = 'train' if int(filename[2]) < 9 else 'test'\n",
    "        row = pd.DataFrame({'review':[review], 'label':[label], 'set':[which_set]})\n",
    "\n",
    "    neg_df = pd.concat([neg_df, row], axis=0)\n",
    "\n",
    "df = pd.concat([pos_df, neg_df], axis=0).reset_index(drop=True)\n",
    "train_df = df.loc[df.set=='train', :].drop(columns=['set'])\n",
    "test_df = df.loc[df.set=='test', :].drop(columns=['set'])"
   ]
  },
  {
   "cell_type": "code",
   "execution_count": 2,
   "metadata": {},
   "outputs": [
    {
     "data": {
      "text/html": [
       "<div>\n",
       "<style scoped>\n",
       "    .dataframe tbody tr th:only-of-type {\n",
       "        vertical-align: middle;\n",
       "    }\n",
       "\n",
       "    .dataframe tbody tr th {\n",
       "        vertical-align: top;\n",
       "    }\n",
       "\n",
       "    .dataframe thead th {\n",
       "        text-align: right;\n",
       "    }\n",
       "</style>\n",
       "<table border=\"1\" class=\"dataframe\">\n",
       "  <thead>\n",
       "    <tr style=\"text-align: right;\">\n",
       "      <th></th>\n",
       "      <th>review</th>\n",
       "      <th>label</th>\n",
       "    </tr>\n",
       "  </thead>\n",
       "  <tbody>\n",
       "    <tr>\n",
       "      <th>0</th>\n",
       "      <td>films adapted from comic books have had plenty...</td>\n",
       "      <td>positive</td>\n",
       "    </tr>\n",
       "    <tr>\n",
       "      <th>1</th>\n",
       "      <td>every now and then a movie comes along from a ...</td>\n",
       "      <td>positive</td>\n",
       "    </tr>\n",
       "    <tr>\n",
       "      <th>2</th>\n",
       "      <td>you've got mail works alot better than it dese...</td>\n",
       "      <td>positive</td>\n",
       "    </tr>\n",
       "    <tr>\n",
       "      <th>3</th>\n",
       "      <td>\" jaws \" is a rare film that grabs your atten...</td>\n",
       "      <td>positive</td>\n",
       "    </tr>\n",
       "    <tr>\n",
       "      <th>4</th>\n",
       "      <td>moviemaking is a lot like being the general ma...</td>\n",
       "      <td>positive</td>\n",
       "    </tr>\n",
       "  </tbody>\n",
       "</table>\n",
       "</div>"
      ],
      "text/plain": [
       "                                              review     label\n",
       "0  films adapted from comic books have had plenty...  positive\n",
       "1  every now and then a movie comes along from a ...  positive\n",
       "2  you've got mail works alot better than it dese...  positive\n",
       "3   \" jaws \" is a rare film that grabs your atten...  positive\n",
       "4  moviemaking is a lot like being the general ma...  positive"
      ]
     },
     "execution_count": 2,
     "metadata": {},
     "output_type": "execute_result"
    }
   ],
   "source": [
    "train_df.head()"
   ]
  },
  {
   "cell_type": "code",
   "execution_count": 3,
   "metadata": {},
   "outputs": [],
   "source": [
    "\n",
    "def run_nb_model(train_df=train_df, test_df=test_df, precision=8):\n",
    "    '''\n",
    "        Given a training and testing dataframe as input containing columns [review, label], return the label predictions of\n",
    "        the test data. If the testing dataframe has a label column, use it to compute the accuracy of the classifier. Otherwise, \n",
    "        just return the predictions.\n",
    "\n",
    "        Arguments:\n",
    "            train_df (pd.DataFrame): data frame with training reviews and their \"positive\" or \"negative\" labels\n",
    "            test_df (pd.DataFrame): data frame with testing reviews. The predicted labels are appended to test_df when this function is run.\n",
    "            precision (int): decimal point precision with which to return float values.\n",
    "        \n",
    "        Returns:\n",
    "            predicted labels for test_df, and optionally the accuracy as a float with the specified precision.\n",
    "    '''\n",
    "    def tokenize_review(review):\n",
    "        ''' Helper function to return tokens from a review as a list. '''\n",
    "        tokens = []\n",
    "        for token in review.split():\n",
    "            token = token.strip(string.punctuation+' ').lower()\n",
    "            \n",
    "            # ignore empty tokens\n",
    "            if token != ' ' and token != '':\n",
    "                tokens.append(token)\n",
    "        \n",
    "        return tokens\n",
    "    \n",
    "    def calc_accuracy(y_true, y_pred):\n",
    "        ''' Helper function to compute model accuracy given true labels and predictions '''\n",
    "        n_correct = 0\n",
    "        i = 0\n",
    "        while i < len(y_true):\n",
    "            if y_true[i] == y_pred[i]:\n",
    "                n_correct += 1\n",
    "            i += 1\n",
    "        return n_correct / len(y_true)\n",
    "\n",
    "    # build word count dictionaries for positive and negative reviews.\n",
    "    pos_freq = defaultdict(int)\n",
    "    neg_freq = defaultdict(int)\n",
    "\n",
    "    # parse through each review in training data, tokenize and add tokens to their respective dictionaries\n",
    "    for index, row in train_df.iterrows():\n",
    "        for token in tokenize_review(row.review):\n",
    "            # add tokens to the word counts\n",
    "            if row.label == 'positive':\n",
    "                pos_freq[token] += 1\n",
    "            else:\n",
    "                neg_freq[token] += 1\n",
    "    \n",
    "    n_pos = sum(pos_freq.values())\n",
    "    n_neg = sum(neg_freq.values())\n",
    "    \n",
    "    # find probability of review from both positive and negative frequency distributions.\n",
    "    predictions = []\n",
    "    lp_pos = []\n",
    "    lp_neg = []\n",
    "    for index, row in test_df.iterrows():\n",
    "        log_prob_pos = 0\n",
    "        log_prob_neg = 0\n",
    "        for token in tokenize_review(row.review):\n",
    "            # ignores tokens that didn't appear in the training reviews\n",
    "            if pos_freq[token] > 0:\n",
    "                log_prob_pos += math.log(pos_freq[token]/n_pos)\n",
    "            if neg_freq[token] > 0:\n",
    "                log_prob_neg += math.log(neg_freq[token]/n_neg)\n",
    "        \n",
    "        # whichever probability is highest determines the predicted label.\n",
    "        ans = 'positive' if log_prob_pos >= log_prob_neg else 'negative'\n",
    "        predictions.append(ans)\n",
    "        lp_pos.append(log_prob_pos)\n",
    "        lp_neg.append(log_prob_neg)\n",
    "\n",
    "    \n",
    "    # add the predictions, and log probabilities to the test dataframe for analysis\n",
    "    test_df['pred_label'] = predictions\n",
    "    test_df['logp_positive'] = lp_pos\n",
    "    test_df['logp_negative'] = lp_neg\n",
    "    if 'label' in test_df.columns:\n",
    "        accuracy = round(calc_accuracy(y_true=test_df.label.tolist(), y_pred=predictions), precision)\n",
    "\n",
    "    # returning pos_freq and neg_freq for checking sentiment of individual words in the next section\n",
    "    return predictions, accuracy, pos_freq, neg_freq\n",
    "\n",
    "    \n",
    "predictions, accuracy, pos_freq, neg_freq = run_nb_model(train_df, test_df, precision=8)"
   ]
  },
  {
   "cell_type": "code",
   "execution_count": 71,
   "metadata": {},
   "outputs": [
    {
     "data": {
      "text/plain": [
       "0.505"
      ]
     },
     "execution_count": 71,
     "metadata": {},
     "output_type": "execute_result"
    }
   ],
   "source": [
    "accuracy"
   ]
  },
  {
   "attachments": {},
   "cell_type": "markdown",
   "metadata": {},
   "source": [
    "#### 3.2 Analysing predictions from Naive Bayes model"
   ]
  },
  {
   "cell_type": "code",
   "execution_count": 16,
   "metadata": {},
   "outputs": [],
   "source": [
    "correct_sample = test_df.loc[test_df.label == test_df.pred_label].sample(5, random_state=seed)\n",
    "incorrect_sample = test_df.loc[test_df.label != test_df.pred_label].sample(5, random_state=seed)"
   ]
  },
  {
   "cell_type": "code",
   "execution_count": 20,
   "metadata": {},
   "outputs": [],
   "source": [
    "correct_sample['log_p_diff'] = np.abs(correct_sample.logp_positive - correct_sample.logp_negative)\n",
    "incorrect_sample['log_p_diff'] = np.abs(incorrect_sample.logp_positive - incorrect_sample.logp_negative)"
   ]
  },
  {
   "cell_type": "code",
   "execution_count": 35,
   "metadata": {},
   "outputs": [
    {
     "data": {
      "text/html": [
       "<div>\n",
       "<style scoped>\n",
       "    .dataframe tbody tr th:only-of-type {\n",
       "        vertical-align: middle;\n",
       "    }\n",
       "\n",
       "    .dataframe tbody tr th {\n",
       "        vertical-align: top;\n",
       "    }\n",
       "\n",
       "    .dataframe thead th {\n",
       "        text-align: right;\n",
       "    }\n",
       "</style>\n",
       "<table border=\"1\" class=\"dataframe\">\n",
       "  <thead>\n",
       "    <tr style=\"text-align: right;\">\n",
       "      <th></th>\n",
       "      <th>review</th>\n",
       "      <th>label</th>\n",
       "      <th>pred_label</th>\n",
       "      <th>logp_positive</th>\n",
       "      <th>logp_negative</th>\n",
       "      <th>log_p_diff</th>\n",
       "    </tr>\n",
       "  </thead>\n",
       "  <tbody>\n",
       "    <tr>\n",
       "      <th>1909</th>\n",
       "      <td>walken stars as a mobster who is kidnapped and...</td>\n",
       "      <td>negative</td>\n",
       "      <td>negative</td>\n",
       "      <td>-2500.0</td>\n",
       "      <td>-2480.0</td>\n",
       "      <td>20.0</td>\n",
       "    </tr>\n",
       "    <tr>\n",
       "      <th>1964</th>\n",
       "      <td>ever feel you're spending your whole life on t...</td>\n",
       "      <td>negative</td>\n",
       "      <td>negative</td>\n",
       "      <td>-3703.0</td>\n",
       "      <td>-3664.0</td>\n",
       "      <td>39.0</td>\n",
       "    </tr>\n",
       "    <tr>\n",
       "      <th>1929</th>\n",
       "      <td>arye cross and courteney cox star as a pair of...</td>\n",
       "      <td>negative</td>\n",
       "      <td>negative</td>\n",
       "      <td>-1888.0</td>\n",
       "      <td>-1827.0</td>\n",
       "      <td>61.0</td>\n",
       "    </tr>\n",
       "    <tr>\n",
       "      <th>1974</th>\n",
       "      <td>long ago , films were constructed of strong di...</td>\n",
       "      <td>negative</td>\n",
       "      <td>negative</td>\n",
       "      <td>-2847.0</td>\n",
       "      <td>-2822.0</td>\n",
       "      <td>25.0</td>\n",
       "    </tr>\n",
       "    <tr>\n",
       "      <th>1998</th>\n",
       "      <td>there was a time when john carpenter was a gre...</td>\n",
       "      <td>negative</td>\n",
       "      <td>negative</td>\n",
       "      <td>-3658.0</td>\n",
       "      <td>-3597.0</td>\n",
       "      <td>61.0</td>\n",
       "    </tr>\n",
       "  </tbody>\n",
       "</table>\n",
       "</div>"
      ],
      "text/plain": [
       "                                                 review     label pred_label  \\\n",
       "1909  walken stars as a mobster who is kidnapped and...  negative   negative   \n",
       "1964  ever feel you're spending your whole life on t...  negative   negative   \n",
       "1929  arye cross and courteney cox star as a pair of...  negative   negative   \n",
       "1974  long ago , films were constructed of strong di...  negative   negative   \n",
       "1998  there was a time when john carpenter was a gre...  negative   negative   \n",
       "\n",
       "      logp_positive  logp_negative  log_p_diff  \n",
       "1909        -2500.0        -2480.0        20.0  \n",
       "1964        -3703.0        -3664.0        39.0  \n",
       "1929        -1888.0        -1827.0        61.0  \n",
       "1974        -2847.0        -2822.0        25.0  \n",
       "1998        -3658.0        -3597.0        61.0  "
      ]
     },
     "execution_count": 35,
     "metadata": {},
     "output_type": "execute_result"
    }
   ],
   "source": [
    "correct_sample.round()"
   ]
  },
  {
   "cell_type": "code",
   "execution_count": 27,
   "metadata": {},
   "outputs": [
    {
     "data": {
      "text/html": [
       "<div>\n",
       "<style scoped>\n",
       "    .dataframe tbody tr th:only-of-type {\n",
       "        vertical-align: middle;\n",
       "    }\n",
       "\n",
       "    .dataframe tbody tr th {\n",
       "        vertical-align: top;\n",
       "    }\n",
       "\n",
       "    .dataframe thead th {\n",
       "        text-align: right;\n",
       "    }\n",
       "</style>\n",
       "<table border=\"1\" class=\"dataframe\">\n",
       "  <thead>\n",
       "    <tr style=\"text-align: right;\">\n",
       "      <th></th>\n",
       "      <th>review</th>\n",
       "      <th>label</th>\n",
       "      <th>pred_label</th>\n",
       "      <th>logp_positive</th>\n",
       "      <th>logp_negative</th>\n",
       "      <th>log_p_diff</th>\n",
       "    </tr>\n",
       "  </thead>\n",
       "  <tbody>\n",
       "    <tr>\n",
       "      <th>987</th>\n",
       "      <td>trees lounge is the directoral debut from one ...</td>\n",
       "      <td>positive</td>\n",
       "      <td>negative</td>\n",
       "      <td>-1344.0</td>\n",
       "      <td>-1330.0</td>\n",
       "      <td>14.0</td>\n",
       "    </tr>\n",
       "    <tr>\n",
       "      <th>1961</th>\n",
       "      <td>barb wire , pamela anderson lee's first foray ...</td>\n",
       "      <td>negative</td>\n",
       "      <td>positive</td>\n",
       "      <td>-2235.0</td>\n",
       "      <td>-2272.0</td>\n",
       "      <td>37.0</td>\n",
       "    </tr>\n",
       "    <tr>\n",
       "      <th>1914</th>\n",
       "      <td>woof ! too bad that leap of faith was the titl...</td>\n",
       "      <td>negative</td>\n",
       "      <td>positive</td>\n",
       "      <td>-2947.0</td>\n",
       "      <td>-2951.0</td>\n",
       "      <td>4.0</td>\n",
       "    </tr>\n",
       "    <tr>\n",
       "      <th>1969</th>\n",
       "      <td>capsule : john the baptist is sent from heaven...</td>\n",
       "      <td>negative</td>\n",
       "      <td>positive</td>\n",
       "      <td>-1604.0</td>\n",
       "      <td>-1612.0</td>\n",
       "      <td>8.0</td>\n",
       "    </tr>\n",
       "    <tr>\n",
       "      <th>1977</th>\n",
       "      <td>i saw this film on christmas day expecting an ...</td>\n",
       "      <td>negative</td>\n",
       "      <td>positive</td>\n",
       "      <td>-3124.0</td>\n",
       "      <td>-3141.0</td>\n",
       "      <td>17.0</td>\n",
       "    </tr>\n",
       "  </tbody>\n",
       "</table>\n",
       "</div>"
      ],
      "text/plain": [
       "                                                 review     label pred_label  \\\n",
       "987   trees lounge is the directoral debut from one ...  positive   negative   \n",
       "1961  barb wire , pamela anderson lee's first foray ...  negative   positive   \n",
       "1914  woof ! too bad that leap of faith was the titl...  negative   positive   \n",
       "1969  capsule : john the baptist is sent from heaven...  negative   positive   \n",
       "1977  i saw this film on christmas day expecting an ...  negative   positive   \n",
       "\n",
       "      logp_positive  logp_negative  log_p_diff  \n",
       "987         -1344.0        -1330.0        14.0  \n",
       "1961        -2235.0        -2272.0        37.0  \n",
       "1914        -2947.0        -2951.0         4.0  \n",
       "1969        -1604.0        -1612.0         8.0  \n",
       "1977        -3124.0        -3141.0        17.0  "
      ]
     },
     "execution_count": 27,
     "metadata": {},
     "output_type": "execute_result"
    }
   ],
   "source": [
    "incorrect_sample.round()"
   ]
  },
  {
   "cell_type": "code",
   "execution_count": 91,
   "metadata": {},
   "outputs": [
    {
     "name": "stdout",
     "output_type": "stream",
     "text": [
      "CORRECT PREDICTIONS\n",
      "----------------------------------------------------------------------------------------------------\n",
      "label: negative \n",
      "predicted: negative\n",
      "Review:\n",
      "walken stars as a mobster who is kidnapped and held for ransom by four bratty rich kids . \n",
      "it seems that a woman has also been kidnapped--she is the sister of one of them ( e . t . 's \n",
      "henry thomas ) and the girlfriend of another ( flannery ) --and the asking price is $2 million , which said snots are unable to cough up alone . \n",
      "they even cut off walken's finger to show they mean business , because they are desperate to save the woman's life . \n",
      "suicide kings is a terrible film . \n",
      "walken aside , there isn't a single appealing cast member . \n",
      "o'fallon creates characters that are functional types without any resonance . \n",
      "in an amusingly unironic scene , walken plays poker with the foursome and describes each of their personalities to a tee--it's as if he was reading the summary sheet for a casting director . \n",
      "the plot is another issue entirely . \n",
      "o'fallon is someone whom i'm betting has seen reservoir dogs and the usual suspects too many times , for not only does his story veer off on bizarre tangents from whence they never return ( do we really need the scene where dennis leary beats up an abusive father with a toaster , which is entirely unrelated to both the story and leary's character , or the numerous anecdotal sequences ? ) , but the central plot itself is a serpentine mess , filled with crosses and double crosses and triple crosses . . . \n",
      "by the fourth big revelation/twist , i had completely tuned out , wondering what on earth attracted these actors to the material . \n",
      "recently a peer , a fellow young filmmaker , informed me that he had an idea for a movie about four guys , the mob , and the fbi . \n",
      "it occurred to me then what's wrong with indies like suicide kings : i suspect o'fallon has never met a mobster , is not a rich man , doesn't deliver endless \" clever \" monologues to his friends about his favourite types of boots . . . \n",
      "in short , these guys are just riffing on other movies , and in doing that , making the same film over and over and over again . \n",
      "tarantino found his niche and now hundreds of genxers with movie cameras are trying to find tarantino's niche instead of carving their own . \n",
      "-reviewed at the toronto international film festival \n",
      "\n",
      "\n",
      "----------------------------------------------------------------------------------------------------\n",
      "\n",
      "label: negative \n",
      "predicted: negative\n",
      "Review:\n",
      "ever feel you're spending your whole life on the net ( ouch ! ) , eating , breathing and excreting web sites ? \n",
      "that your most meaningful relationships are being formed on the net ? \n",
      "that you get your best sex on the net ? \n",
      "if first-time director hal salwen could shoot an entire movie of characters typing at their computers , he would . \n",
      "as it is , he settles for characters talking on the phone . \n",
      "denise calls up is a movie for and about the electronic generation , where characters are too caught up with their work and insecurities prefer to live out their relationships and fantasies on the phone . \n",
      "it's a satire - and a sometimes funny one - about how we let handphones , call-waiting and answering machines run our lives . \n",
      "the problem : denise calls up is a movie about an idea . \n",
      "a darn good one , but still an 80 minute-long idea . \n",
      "and despite salwen's attempt at plots and sub-plots , despite some genuinely funny moments , you can predict the movie's outcome within the first fifteen minutes . \n",
      "you get the drift after a series of shots of characters explaining over the phone why they all couldn't make it for a party - nobody is going to be meeting anybody in this film , they would rather be talking on the phone . \n",
      "here's salwen's plot : while all the characters are in a dysfunctional , telefixated limbo , loud quirky stranger denise calls up martin to announce that she is pregnant with his child , courtesy of the sperm he donated to the local bank . \n",
      "as martin progresses from slamming the phone on her to long phone conversations over the baby's name , his friends - and his friends' friends - get involved , courtesy of call-waiting and double-lines . \n",
      "in the tigher and more tantalizing sub-plot , barbara and jerry are set up on a blind date that neither turns up for . \n",
      "both profess to have too complicated schedules to ever meet , but they get it going over the phone . \n",
      "with repeated phone sex comes a glitch ; what if the other person is simply faking it ? \n",
      "denise calls up scores with some inspired moments . \n",
      "mousy barbara metamorphoses into a vamp over her cordless , everyone shares the excitement of denise's delivery through a conference call to her handphone , and barbara's best friend gale is killed in a car accident while taling animatedly into another friend's answering machine . \n",
      " ( as gale's overly-chatty aunt recounts , her cordless was knicked into her ear and lodged in her brain . ) \n",
      "but these moments are not enough to sustain the movie . \n",
      "the pace sags , the dialogue drags and not much acting appears to be required of the telephone-touters . \n",
      "and the ending is literally a non-event as expected , everyone is too chicken to turn up for the party frank throws in gale's memory despite promising over the phone that they will . \n",
      "we get the point . \n",
      "the movie appears to be intent on flogging its terribly-'90s statement until they have it coming out of your ears . \n",
      "pun intended . \n",
      "there's even a on the movie's web site where you can win cellular phones ( as if we haven't had enough of these things already ) . \n",
      "watch the movie only if you find it philosophy compelling enough for a earful . \n",
      "the flying inkpot's rating system : * wait for the video . \n",
      " * * a little creaky , but still better than staying at home with gotcha ! \n",
      " * * * pretty good , bring a friend . \n",
      " * * * * amazing , potent stuff . \n",
      " * * * * * perfection . \n",
      "see it twice . \n",
      "\n",
      "\n",
      "----------------------------------------------------------------------------------------------------\n",
      "\n",
      "label: negative \n",
      "predicted: negative\n",
      "Review:\n",
      "arye cross and courteney cox star as a pair of bostonians who meet in a bar , go to the movies , fall in love , move in together , etc . \n",
      "review ====== \n",
      "well , if you haven't seen when harry met sally or he said , she said , or if you don't watch love & war on television , you might think this is the most inventive film to come along in ages . \n",
      "however , if you've seen any of these , than you have seen most of this film . \n",
      "this of course doesn't mean its bad . \n",
      "some of it is amusing , but overall , i just had to ask what's the point ? \n",
      "arye cross is the stereotypical single male who falls in love . \n",
      "kevin pollack is the stereotypical female-fearing best friend who make a lot of rather sexist and vulgar jokes , most if which weren't very funny . \n",
      "couteney cox is the stereotypical career-minded woman who falls in love . \n",
      "julie brown is the stereotypical bizarre best friend of said woman . \n",
      " ( notice the frequent use of the word stereotypical . \n",
      "this film uses a lot of formula , the plot is basically known from the opening credits . ) \n",
      "so what is good about the movie ? \n",
      "well as i said there are a few amusing moments . \n",
      "surprisingly , julie brown , who i usually find just plain goofy , was the best thing in the film . \n",
      "also there are several very funny sequences involving analysis of the human mating ritual . \n",
      "gee , this is really short . \n",
      "not much to say about the film really . \n",
      "it is just kind of there . \n",
      "watching it on video might not be a complete waste of time , but i wouldn't recommend hiring a baby sitter or spending a lot of money to see it at the theatre . \n",
      "\n",
      "\n",
      "----------------------------------------------------------------------------------------------------\n",
      "\n",
      "label: negative \n",
      "predicted: negative\n",
      "Review:\n",
      "long ago , films were constructed of strong dialogue , original characters , memorable plot points , and solid acting . \n",
      "one of the best examples that hollywood now completely ignore these qualities is found in the new film where the heart is . \n",
      "this opus about the power of love and the redemption of family follows the tragic , and i mean tragic , life of novalee nation ( natalie portman ) . \n",
      "hitting the road with her hick , guitar-playing boyfriend in a rusted-out gm , novalee dreams of the blue skies of bakersfield and sipping chocolate milk beneath a plastic umbrella with her unborn baby , due in a month . \n",
      "stopping off at a nearby wal-mart for a quick rest , novalee's boyfriend decides to take off and leaves her there . \n",
      "novalee then decides to secretly hole up in the wal-mart ( because she's not the brightest bulb in the stagelights ) . \n",
      "a wacky librarian ( keith david ) comes to her rescue when she goes into labor one night while she is camped in the outdoors section of the store . \n",
      "then the she moves in with a family , befriends everyone in town -- including ashley judd's character ( who has five kids and still can work part-time as a nurse ) -- fights off religious freaks , survives a tornado , breaks the heart of the wacky librarian that saved her , receives an inheritance , builds a martha stewart-esque house , becomes an award-winning photographer , and manages to always look like she stepped out of a cosmo shoot , all while not once doing anything with her kid . \n",
      "this film is terrible . \n",
      "the directing is awful : it seems director matt williams had an index card with six angles written on it and used every one of them , over and over and over again . \n",
      "we get pathetic and ugly acting by natalie portman , who can do good work . \n",
      "a disjointed pacing of key scenes and a time structure so confusing that it would throw steve prefontaine off . \n",
      "a subplot that actually validates the actions of the boyfriend who abandoned novalee in the wal-mart parking lot . \n",
      "an embarrassing display of emotions by the characters , making the audience ill . \n",
      "taking two great comedic screenwriters , babaloo mandel and lowell ganz , and forcing them to write drama on par with oprah's book club . \n",
      "altogether , it has the feeling of being trapped at home , watching a very bad television mini-series and wishing it to end , only the remote is broken . \n",
      "however , the main problem with the film is that it never answers the most poignant question brought up : where is the heart ? \n",
      "no one ever seems to find it in this piece of junk . \n",
      "\n",
      "\n",
      "----------------------------------------------------------------------------------------------------\n",
      "\n",
      "label: negative \n",
      "predicted: negative\n",
      "Review:\n",
      "there was a time when john carpenter was a great horror director . \n",
      "of course , his best film was 1978's masterpiece , \" halloween , \" but he also made 1980's \" the fog , \" and 1987's underrated , \" prince of darkness . \" \n",
      "heck , he even made a good film in 1995 , with \" in the mouth of madness . \" \n",
      "but something terribly wrong happened to him in 1992 , with the terrible comedy , \" memoirs of an invisible man . \" \n",
      "somehow , carpenter has lost his touch , with junk like his failed 1995 remake of , \" village of the damned , \" to his uninspired 1996 sequel , \" escape from l . a . \" those movies , however , look like cinematic works of art compared to his latest film , \" john carpenter's vampires . \" \n",
      "if i was him , i definately wouldn't want to put my own name in the title . \n",
      "it is a sad state of affairs when carpenter can make something as misguided and flatly written and filmed as , \" vampires . \" \n",
      "the story is simple . \n",
      "jack crow ( james woods ) is a vampire hunter who , along with one of his partners , montoya ( daniel baldwin ) , and a prostitute , katrina ( sheryl lee ) , survives an attack from the master vampire , valek ( thomas ian griffith ) . \n",
      "since katrina was previously bitten by him , crow takes her along because anyone who is bitten by valek becomes telepathically linked to him until they themselves turn into vampires a couple days later , and crow is hoping to find him with the help of her . \n",
      "it seems valek's mission is to steal a black , wooden cross from a roman catholic church that will enable him to become so powerful that sunlight will not destroy him . \n",
      "my question is : how many time have we seen this same story played out ? \n",
      "well , the answer is just about as many times as a better version of the story has been made . \n",
      " \" john carpenter's vampires , \" sadly enough , is one of the most unscary horror films i've ever seen . \n",
      "in fact , there isn't even one suspenseful moment in the whole 105-minute running time . \n",
      "the non-stop vampire attack sequences are stylelessly filmed , without any interesting camera work , which is usually a trademark of carpenter's . \n",
      "and then we come to the screenplay , which , as far as i can tell , is nearly non-existent . \n",
      "there is no story development , and there isn't even an attempt to flesh out the characters . \n",
      "james woods can be a good actor , but he has nothing to do here but to say a couple of \" pseudo \" -clever lines of dialogue . \n",
      "daniel baldwin has some potential , but his character comes off as being very dense . \n",
      "and sheryl lee ( faring much better as laura palmer in \" twin peaks \" ) , like all of the female characters , plays an offensive stereotypical whore . \n",
      "there is not an ounce of intelligence , or excitement in , \" john carpenter's vamires , \" which is very disheartening coming from an ex-fan of carpenter's . \n",
      "he has said that he turned down directing , \" halloween : h20 , \" because he couldn't work up any excitement for it . \n",
      "and yet , when asked about a \" vampires \" sequel , he said he would be happy to do it . \n",
      "i think that's a definite sign that carpenter has finally lost any trace of his lasting talent , not to mention a significant number of iq points . \n",
      "\n",
      "\n",
      "----------------------------------------------------------------------------------------------------\n",
      "\n",
      "\n",
      "INCORRECT PREDICTIONS\n",
      "----------------------------------------------------------------------------------------------------\n",
      "label: positive \n",
      "predicted: negative\n",
      "Review:\n",
      "trees lounge is the directoral debut from one of my favorite actors , steve buscemi . \n",
      "he gave memorable performences in in the soup , fargo , and reservoir dogs . \n",
      "now he tries his hand at writing , directing and acting all in the same flick . \n",
      "the movie starts out awfully slow with tommy ( buscemi ) hanging around a local bar the \" trees lounge \" and him pestering his brother . \n",
      "it's obvious he a loser . \n",
      "but as he says \" it's better i'm a loser and know i am , then being a loser and not thinking i am . \" \n",
      "well put . \n",
      "the story starts to take off when his uncle dies , and tommy , not having a job , decides to drive an ice cream truck . \n",
      "well , the movie starts to pick up with him finding a love interest in a 17 year old girl named debbie ( chloe sevigny ) and . . . \n",
      "i liked this movie alot even though it did not reach my expectation . \n",
      "after you've seen him in fargo and reservoir dogs , you know he is capable of a better performence . \n",
      "i think his brother , michael , did an excellent job for his debut performence . \n",
      "mr . buscemi is off to a good career as a director ! \n",
      "\n",
      "\n",
      "----------------------------------------------------------------------------------------------------\n",
      "\n",
      "label: negative \n",
      "predicted: positive\n",
      "Review:\n",
      "barb wire , pamela anderson lee's first foray into films , highlights the fact that her only talent lies in her silicone enhanced assets . \n",
      "being the only notable member of the cast , the camera lingers lustily o n her body at every opportunity , making her character's catch line , \" don't call me babe , \" sound very ironic indeed . \n",
      "from the very opening of the movie , we are treated to a striptease routine from anderson , ending in her hurling her stiletto smack between the eyes of a lusty male who happened to call her babe . \n",
      "throughout the movie , there is ample footage of enormous breasts and cleavage , if not of anderson's , then at least of the female extras . \n",
      "this alone is enough to retitle the movie babe wire . \n",
      "for a plot , barb wire rehashes the casablanca storyline . \n",
      "it is 2017 , the middle of the second american civil war , and barb wire , a former resistance fighter , runs a joint in steel harbour called hammerhead ( ! ! ) . \n",
      "known for attracting resistance fighters an d characters of all sorts , the bar attracts the attention of the government forces who appear dressed in nazi-style uniforms . \n",
      "in between bashing up helpless males and showing off her trademark breasts , barb wire has to help a former lover and his wife get to the airport on the other side of the town , past the government-controlled areas , and to freedom . \n",
      "even the airport looks like the one in casablanca , except that the plane in the background is a modern , private jet . \n",
      "there are hardly any significant moments in this film , and one gets the impression that it was designed for young teenagers familiar with the dark horse comics version of \" barb wire . \" \n",
      "if anything , one leaves the film with the confirmation that anderson di d not do her own stunts . \n",
      "who could fight and jump in a skimpy , strapless leather top , and yet keep her breasts from spilling out ? \n",
      "only a stuntwoman . \n",
      "not pamela anderson lee . \n",
      "\n",
      "\n",
      "----------------------------------------------------------------------------------------------------\n",
      "\n",
      "label: negative \n",
      "predicted: positive\n",
      "Review:\n",
      "woof ! too bad that leap of faith was the title of a 1992 comedy starring steve martin and debra winger , because that's what's required to watch this incredulous howler starring bruce willis as--of all things--a psychologist . \n",
      "not since the reagan administration has there been an acting stretch of such magnitude ! \n",
      "alas , mickey rourke , we hardly knew ye . \n",
      "story opens with a campy kick--willis is treating a patient who abruptly steps out of the window to take the best flying leap since charles durning dove in the hudsucker proxy . \n",
      "she goes splat , he goes ugh , and his character spends the rest of the film colorblind . \n",
      "really . \n",
      "the good doctor then moves to sunny l . a . , where he rooms with an old college chum ( scott bakula ) , a therapist who's getting death threats from someone in his monday evening group . \n",
      "buddy bites it in the second reel ( no surprise there ) and willis agrees to take over both the group and the death threats . \n",
      "for his troubles as therapy man , willis gets to share some cut-from-nc17 love scenes with the lover's jane march while dodging nails , cars , and rattlesnakes . \n",
      "why'd it have to be snakes ? \n",
      "color of night is the worst movie of the year . \n",
      "period . \n",
      "forget north , clifford , or , heaven help us , even on deadly ground . \n",
      "here is a movie misfire so audaciously awful that you can't help but wonder how the actors all kept straight faces while filming . \n",
      "for starters , the \" group \" is a collection of mixed nuts better suited to bob newhart than bruce willis . \n",
      "these are realistic portrayals of the mentally unhealthy ? \n",
      "playing a prissy obsessive/compulsive , cuckoos nest alumni brad dourif , alone , may set the psychology profession back ten years . \n",
      "the plot's a wreck with laughable dialogue , pointless pov shifts , and the one big secret solvable in the first fifteen minutes . \n",
      "director richard rush , who once helmed freebie and the bean , doesn't seem to mind . \n",
      "unfazed by the nincompoop plot and cuckoo characterizations , he overfills the film with enough canny camera shots and zany set-pieces to make the effort almost worth watching . \n",
      "his token freeway chase is ok , but the director has more fun with a vertiginous ending ala ( most recently ) fatal analysis . \n",
      "acting credits are across-the-board awful . \n",
      "willis can be forgiven because he's filming die hard 3 as we speak . \n",
      "but what about ruben blades insulting presence as the cop ? \n",
      "or lesley ann warren's stereotypical sex addict ? \n",
      "or worst offender jane march as a mystery-girl-who's-no-real-mystery ? \n",
      "shudder . \n",
      "bottom line : how they all kept straight faces , i'll never know . \n",
      "\n",
      "\n",
      "----------------------------------------------------------------------------------------------------\n",
      "\n",
      "label: negative \n",
      "predicted: positive\n",
      "Review:\n",
      "capsule : john the baptist is sent from heaven to see is the world is worth saving . \n",
      "he must find some sign of hope in the people of newfoundland . \n",
      "this is little more than a tv skit in movie form . \n",
      "it is watchable and apparently will be released to theaters in canada , but it is unlikely to be seen on the international market . \n",
      "it is diverting but hardly a serious piece of cinema . \n",
      " , 0 ( -4 to +4 ) minor spoilers in this review . \n",
      "- written and directed by john w . doyle . \n",
      "- john the baptist sent to st . john , newfoundland . \n",
      "gets an invitation to live with a family . \n",
      "that extraordinary hospitality for some reason does not count as a reason for hope . \n",
      "- script has a lot of holes . \n",
      "- friend who adopts john is surprisingly militant and is planning actions to destabilize wall street . \n",
      "- john does look middle eastern , but somehow one expects john the baptist to be more dramatic . \n",
      "- there is a conspiracy in the vatican riding on the result of the visit , though that result seems small compared to the end of the world . \n",
      "- big yucks like seeing a nun give the pope a pedicure and evil pope's aid praying to a mendes goat . \n",
      "- in large part a satire of life in newfoundland taking licks at things like the poor produce . \n",
      "the one good tomato in grocery ( by virtue of a miracle ) \" must have fallen off the truck to toronto . \" \n",
      "- based on a 20-minute short film . \n",
      "\n",
      "\n",
      "----------------------------------------------------------------------------------------------------\n",
      "\n",
      "label: negative \n",
      "predicted: positive\n",
      "Review:\n",
      "i saw this film on christmas day expecting an upbeat comedy . \n",
      "boy was i in for a christmas dissapointment ! \n",
      "after an hour of the movie , i was ready to change rooms-into another theater ! \n",
      "read on to see what i have to say . . . . \n",
      "four rooms : \n",
      "starring : tim roth , jennifer beals , antonio banderas , quentin tarantino , valeria golino , madonna , bruce willis , marisa tomei , alicia witt , lili taylor , and ione skye . \n",
      "possible stars ) \n",
      " \" four rooms \" was supposed to be one of the biggest hits of the year . \n",
      "key word here : \" supposed . \" \n",
      "four of the biggest directors in hollywood : quentin tarantino , robert rodriguez , alexander rockwell , and alison anders were all directing one big film with a big and popular cast . \n",
      "i guess it was all just too much because this turned out to be the biggest flop of the year and it could of been great . \n",
      "the plot : it's new years eve and it's a bellboy's first day on the job . \n",
      "he encounters many mysterious and kinky hotel guests as he tries to handle all his own problems . \n",
      "tarantino told his directors this plot , and each of them wrote a script . \n",
      "it turned out each of them had written a dark comedy . \n",
      "anders wrote and directed the tale about a coven of witches ( madonna , valeria golino , alicia witt , and ione skye ) , which was the worst one out of all of them . \n",
      "the second room ( jennifer beals ) was better , but lacking in plot . \n",
      "this room was about a man who accuses every man of sleeping with his wife . \n",
      "the third room ( antonio banderas ) was the best roomm , about two rambunctous kids that trash a hotel suite . \n",
      "the final one ( tarantino , willis ) was about a movie star wanting the bellboy to chop off someone's finger . \n",
      "the movie was just plain trash . \n",
      "there was nothing here that even makes up a quality film . \n",
      "it was not funny , and i didn't hear one laugh in the theater throughout the whole film . \n",
      "tim roth is horrible as the bumbling and mumbling bellboy , and he ruins every joke in the film . \n",
      "the supporting cast loses meaning to the word support and the only mentionable actors/actresses are antonio banderas and jennifer beals . \n",
      "marisa tomei appears in a stupid cameo role . \n",
      "this movie is the worst film of the year and the film could have been great , perhaps like a more upbeat \" plaza suite , \" but it wasn't . \n",
      "as trashy as it was , some people will call it classic . \n",
      "do you call a man chopping off a finger with madonna's chest showing a classic film ? \n",
      "look for more of ken's kritic korner coming soon ! \n",
      "please check the newsgroups under the movie reviews section for updated reviews . \n",
      "p . s . \" four rooms \" made number 1 on my top ten worst list of 1995 . \n",
      "\n",
      "\n",
      "----------------------------------------------------------------------------------------------------\n",
      "\n"
     ]
    }
   ],
   "source": [
    "# Full reviews which are analysed in ANALYSIS.md\n",
    "# output may be too long to view here, should be optional to view in a text editor\n",
    "print(\"CORRECT PREDICTIONS\\n\"+\"-\"*100)\n",
    "for index, row in correct_sample.iterrows():\n",
    "    print(\"label:\", row.label, \"\\npredicted:\", row.pred_label)\n",
    "    print(\"Review:\\n\"+row.review+\"\\n\")\n",
    "    print(\"-\"*100+\"\\n\")\n",
    "\n",
    "print(\"\\nINCORRECT PREDICTIONS\\n\"+\"-\"*100)\n",
    "# Full reviews which are analysed in ANALYSIS.md\n",
    "# output may be too long to view here, should be optional to view in a text editor\n",
    "for index, row in incorrect_sample.iterrows():\n",
    "    print(\"label:\", row.label, \"\\npredicted:\", row.pred_label)\n",
    "    print(\"Review:\\n\"+row.review+\"\\n\")\n",
    "    print(\"-\"*100+\"\\n\")\n"
   ]
  },
  {
   "cell_type": "code",
   "execution_count": 13,
   "metadata": {},
   "outputs": [
    {
     "name": "stdout",
     "output_type": "stream",
     "text": [
      "n_tokens in positive reviews: 613316\n",
      "n_tokens in negative reviews: 547676\n"
     ]
    }
   ],
   "source": [
    "n_pos_tokens = sum(pos_freq.values())\n",
    "n_neg_tokens = sum(neg_freq.values())\n",
    "print(\"n_tokens in positive reviews:\", n_pos_tokens)\n",
    "print(\"n_tokens in negative reviews:\", n_neg_tokens)\n"
   ]
  },
  {
   "cell_type": "code",
   "execution_count": 5,
   "metadata": {},
   "outputs": [],
   "source": [
    "def check_prob(word, pos_freq=pos_freq, neg_freq=neg_freq, precision=10):\n",
    "    ''' Function to check the probability that a word occurs in a positive or negative review.\n",
    "        Uses word frequency dictionaries to compute the probabilities.\n",
    "\n",
    "        Returns:\n",
    "        probability of word occuring given review is positive[0]/negative[1]\n",
    "    '''\n",
    "    n_pos_tokens = sum(pos_freq.values())\n",
    "    n_neg_tokens = sum(neg_freq.values())\n",
    "    prob_pos = round(pos_freq[word]/n_pos_tokens, precision)\n",
    "    prob_neg = round(neg_freq[word]/n_neg_tokens, precision)\n",
    "\n",
    "    return prob_pos, prob_neg"
   ]
  },
  {
   "cell_type": "code",
   "execution_count": 6,
   "metadata": {},
   "outputs": [
    {
     "name": "stdout",
     "output_type": "stream",
     "text": [
      "desparate\n",
      "Probability in positive review: 0.0\n",
      "Probability in negarive review: 1.8259e-06\n",
      "\n",
      "terrible\n",
      "Probability in positive review: 4.4023e-05\n",
      "Probability in negarive review: 0.0001789379\n",
      "\n",
      "issue\n",
      "Probability in positive review: 3.91315e-05\n",
      "Probability in negarive review: 4.01697e-05\n",
      "\n",
      "bizarre\n",
      "Probability in positive review: 9.13069e-05\n",
      "Probability in negarive review: 8.9469e-05\n",
      "\n"
     ]
    }
   ],
   "source": [
    "# Example 1 candidate words\n",
    "candidates = ['desparate', 'terrible', 'issue', 'bizarre']\n",
    "for word in candidates:\n",
    "    prob_pos, prob_neg = check_prob(word)\n",
    "    print(word+'\\nProbability in positive review: {}\\nProbability in negative review: {}\\n'.format(\n",
    "        prob_pos, prob_neg))    "
   ]
  },
  {
   "cell_type": "code",
   "execution_count": 7,
   "metadata": {},
   "outputs": [
    {
     "name": "stdout",
     "output_type": "stream",
     "text": [
      "settles\n",
      "Probability in positive review: 9.7829e-06\n",
      "Probability in negarive review: 1.09554e-05\n",
      "\n",
      "dysfunctional\n",
      "Probability in positive review: 1.46743e-05\n",
      "Probability in negarive review: 7.3036e-06\n",
      "\n",
      "too\n",
      "Probability in positive review: 0.0010793783\n",
      "Probability in negarive review: 0.0013402084\n",
      "\n",
      "satire\n",
      "Probability in positive review: 8.1524e-05\n",
      "Probability in negarive review: 5.84287e-05\n",
      "\n"
     ]
    }
   ],
   "source": [
    "# Example 2 candidate words\n",
    "candidates = ['settles', 'dysfunctional', 'too', 'satire']\n",
    "for word in candidates:\n",
    "    prob_pos, prob_neg = check_prob(word)\n",
    "    print(word+'\\nProbability in positive review: {}\\nProbability in negative review: {}\\n'.format(\n",
    "        prob_pos, prob_neg))    \n",
    "    "
   ]
  },
  {
   "cell_type": "code",
   "execution_count": 8,
   "metadata": {},
   "outputs": [
    {
     "name": "stdout",
     "output_type": "stream",
     "text": [
      "goofy\n",
      "Probability in positive review: 5.21754e-05\n",
      "Probability in negarive review: 6.39064e-05\n",
      "\n",
      "waste\n",
      "Probability in positive review: 3.58706e-05\n",
      "Probability in negarive review: 0.0001935451\n",
      "\n",
      "stereotypical\n",
      "Probability in positive review: 2.11963e-05\n",
      "Probability in negarive review: 4.19956e-05\n",
      "\n",
      "bad\n",
      "Probability in positive review: 0.0005299063\n",
      "Probability in negarive review: 0.001685303\n",
      "\n"
     ]
    }
   ],
   "source": [
    "# Example 3 candidate words\n",
    "candidates = ['goofy', 'waste', 'stereotypical', 'bad']\n",
    "for word in candidates:\n",
    "    prob_pos, prob_neg = check_prob(word)\n",
    "    print(word+'\\nProbability in positive review: {}\\nProbability in negative review: {}\\n'.format(\n",
    "        prob_pos, prob_neg))    \n",
    "    "
   ]
  },
  {
   "cell_type": "code",
   "execution_count": 9,
   "metadata": {},
   "outputs": [
    {
     "name": "stdout",
     "output_type": "stream",
     "text": [
      "terrible\n",
      "Probability in positive review: 4.4023e-05\n",
      "Probability in negarive review: 0.0001789379\n",
      "\n",
      "awful\n",
      "Probability in positive review: 3.26096e-05\n",
      "Probability in negarive review: 0.0001734602\n",
      "\n",
      "pathetic\n",
      "Probability in positive review: 4.56535e-05\n",
      "Probability in negarive review: 0.0001077279\n",
      "\n",
      "ugly\n",
      "Probability in positive review: 3.91315e-05\n",
      "Probability in negarive review: 7.121e-05\n",
      "\n"
     ]
    }
   ],
   "source": [
    "# Example 4 candidate words\n",
    "candidates = ['terrible', 'awful', 'pathetic', 'ugly']\n",
    "for word in candidates:\n",
    "    prob_pos, prob_neg = check_prob(word)\n",
    "    print(word+'\\nProbability in positive review: {}\\nProbability in negative review: {}\\n'.format(\n",
    "        prob_pos, prob_neg))   "
   ]
  },
  {
   "cell_type": "code",
   "execution_count": 10,
   "metadata": {},
   "outputs": [
    {
     "name": "stdout",
     "output_type": "stream",
     "text": [
      "lost\n",
      "Probability in positive review: 0.0002673989\n",
      "Probability in negarive review: 0.0003688312\n",
      "\n",
      "unscary\n",
      "Probability in positive review: 1.6305e-06\n",
      "Probability in negarive review: 3.6518e-06\n",
      "\n",
      "stylelessly\n",
      "Probability in positive review: 0.0\n",
      "Probability in negarive review: 0.0\n",
      "\n",
      "disheartening\n",
      "Probability in positive review: 3.261e-06\n",
      "Probability in negarive review: 3.6518e-06\n",
      "\n"
     ]
    }
   ],
   "source": [
    "# Example 5 candidate words\n",
    "candidates = ['lost', 'unscary', 'stylelessly', 'disheartening']\n",
    "for word in candidates:\n",
    "    prob_pos, prob_neg = check_prob(word)\n",
    "    print(word+'\\nProbability in positive review: {}\\nProbability in negative review: {}\\n'.format(\n",
    "        prob_pos, prob_neg))   "
   ]
  },
  {
   "cell_type": "code",
   "execution_count": 11,
   "metadata": {},
   "outputs": [
    {
     "name": "stdout",
     "output_type": "stream",
     "text": [
      "awfully\n",
      "Probability in positive review: 1.46743e-05\n",
      "Probability in negarive review: 3.10403e-05\n",
      "\n",
      "slow\n",
      "Probability in positive review: 0.0001271775\n",
      "Probability in negarive review: 0.0001259869\n",
      "\n",
      "pestering\n",
      "Probability in positive review: 1.6305e-06\n",
      "Probability in negarive review: 1.8259e-06\n",
      "\n",
      "loser\n",
      "Probability in positive review: 2.11963e-05\n",
      "Probability in negarive review: 4.19956e-05\n",
      "\n"
     ]
    }
   ],
   "source": [
    "# Example 6 candidate words\n",
    "candidates = ['lost', 'unscary', 'stylelessly', 'disheartening']\n",
    "for word in candidates:\n",
    "    prob_pos, prob_neg = check_prob(word)\n",
    "    print(word+'\\nProbability in positive review: {}\\nProbability in negative review: {}\\n'.format(\n",
    "        prob_pos, prob_neg))"
   ]
  },
  {
   "cell_type": "code",
   "execution_count": 14,
   "metadata": {},
   "outputs": [
    {
     "name": "stdout",
     "output_type": "stream",
     "text": [
      "talent\n",
      "Probability in positive review: 0.0001271775\n",
      "Probability in negarive review: 0.0002191076\n",
      "\n",
      "notable\n",
      "Probability in positive review: 3.75011e-05\n",
      "Probability in negarive review: 3.10403e-05\n",
      "\n",
      "freedom\n",
      "Probability in positive review: 7.66326e-05\n",
      "Probability in negarive review: 1.8259e-05\n",
      "\n",
      "attracts\n",
      "Probability in positive review: 8.1524e-06\n",
      "Probability in negarive review: 5.4777e-06\n",
      "\n"
     ]
    }
   ],
   "source": [
    "# Example 7 candidate words\n",
    "candidates = ['talent', 'notable', 'freedom', 'attracts']\n",
    "for word in candidates:\n",
    "    prob_pos, prob_neg = check_prob(word)\n",
    "    print(word+'\\nProbability in positive review: {}\\nProbability in negative review: {}\\n'.format(\n",
    "        prob_pos, prob_neg))"
   ]
  },
  {
   "cell_type": "code",
   "execution_count": 38,
   "metadata": {},
   "outputs": [
    {
     "name": "stdout",
     "output_type": "stream",
     "text": [
      "abruptly\n",
      "Probability in positive review: 6.5219e-06\n",
      "Probability in negative review: 1.46072e-05\n",
      "\n",
      "worst\n",
      "Probability in positive review: 7.17412e-05\n",
      "Probability in negative review: 0.0004181304\n",
      "\n",
      "pointless\n",
      "Probability in positive review: 2.60877e-05\n",
      "Probability in negative review: 0.0001259869\n",
      "\n",
      "wreck\n",
      "Probability in positive review: 2.28267e-05\n",
      "Probability in negative review: 2.73885e-05\n",
      "\n"
     ]
    }
   ],
   "source": [
    "# Example 8 candidate words\n",
    "candidates = ['abruptly', 'worst', 'pointless', 'wreck']\n",
    "for word in candidates:\n",
    "    prob_pos, prob_neg = check_prob(word)\n",
    "    print(word+'\\nProbability in positive review: {}\\nProbability in negative review: {}\\n'.format(\n",
    "        prob_pos, prob_neg))"
   ]
  },
  {
   "cell_type": "code",
   "execution_count": 43,
   "metadata": {},
   "outputs": [
    {
     "name": "stdout",
     "output_type": "stream",
     "text": [
      "watchable\n",
      "Probability in positive review: 9.7829e-06\n",
      "Probability in negative review: 3.65179e-05\n",
      "\n",
      "holes\n",
      "Probability in positive review: 3.26096e-05\n",
      "Probability in negative review: 5.84287e-05\n",
      "\n",
      "extraordinary\n",
      "Probability in positive review: 5.70668e-05\n",
      "Probability in negative review: 1.64331e-05\n",
      "\n",
      "miracle\n",
      "Probability in positive review: 1.14134e-05\n",
      "Probability in negative review: 5.4777e-06\n",
      "\n"
     ]
    }
   ],
   "source": [
    "# Example 9 candidates\n",
    "candidates = ['watchable', 'holes', 'extraordinary', 'miracle']\n",
    "for word in candidates:\n",
    "    prob_pos, prob_neg = check_prob(word)\n",
    "    print(word+'\\nProbability in positive review: {}\\nProbability in negative review: {}\\n'.format(\n",
    "        prob_pos, prob_neg))"
   ]
  },
  {
   "cell_type": "code",
   "execution_count": 50,
   "metadata": {},
   "outputs": [
    {
     "name": "stdout",
     "output_type": "stream",
     "text": [
      "tarantino\n",
      "Probability in positive review: 0.0001190251\n",
      "Probability in negative review: 2.00849e-05\n",
      "\n",
      "laugh\n",
      "Probability in positive review: 0.0001483738\n",
      "Probability in negative review: 0.0002118041\n",
      "\n",
      "funny\n",
      "Probability in positive review: 0.0005592549\n",
      "Probability in negative review: 0.0007212293\n",
      "\n",
      "great\n",
      "Probability in positive review: 0.0010956831\n",
      "Probability in negative review: 0.0006244568\n",
      "\n"
     ]
    }
   ],
   "source": [
    "# Example 10 candidates\n",
    "candidates = ['tarantino', 'laugh', 'funny', 'great']\n",
    "for word in candidates:\n",
    "    prob_pos, prob_neg = check_prob(word)\n",
    "    print(word+'\\nProbability in positive review: {}\\nProbability in negative review: {}\\n'.format(\n",
    "        prob_pos, prob_neg))"
   ]
  },
  {
   "cell_type": "code",
   "execution_count": null,
   "metadata": {},
   "outputs": [],
   "source": []
  }
 ],
 "metadata": {
  "kernelspec": {
   "display_name": "base",
   "language": "python",
   "name": "python3"
  },
  "language_info": {
   "codemirror_mode": {
    "name": "ipython",
    "version": 3
   },
   "file_extension": ".py",
   "mimetype": "text/x-python",
   "name": "python",
   "nbconvert_exporter": "python",
   "pygments_lexer": "ipython3",
   "version": "3.8.5"
  },
  "orig_nbformat": 4,
  "vscode": {
   "interpreter": {
    "hash": "f6b4c603a3ccd8f5217cff38cf048b1471ac0fb29b22026c0c5f297915b3fb37"
   }
  }
 },
 "nbformat": 4,
 "nbformat_minor": 2
}
