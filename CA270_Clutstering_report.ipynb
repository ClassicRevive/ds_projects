{
  "nbformat": 4,
  "nbformat_minor": 0,
  "metadata": {
    "colab": {
      "name": "CA270-Clutstering-report.ipynb",
      "provenance": [],
      "collapsed_sections": [],
      "toc_visible": true,
      "include_colab_link": true
    },
    "kernelspec": {
      "name": "python3",
      "display_name": "Python 3"
    }
  },
  "cells": [
    {
      "cell_type": "markdown",
      "metadata": {
        "id": "view-in-github",
        "colab_type": "text"
      },
      "source": [
        "<a href=\"https://colab.research.google.com/github/ClassicRevive/ds_projects/blob/main/CA270_Clutstering_report.ipynb\" target=\"_parent\"><img src=\"https://colab.research.google.com/assets/colab-badge.svg\" alt=\"Open In Colab\"/></a>"
      ]
    },
    {
      "cell_type": "markdown",
      "metadata": {
        "id": "hkfQRyecb4B6"
      },
      "source": [
        "# CA270 Clustering Project\n"
      ]
    },
    {
      "cell_type": "markdown",
      "metadata": {
        "id": "FcVsDfyxcPD-"
      },
      "source": [
        "### Section 1: Dataset Description\n"
      ]
    },
    {
      "cell_type": "markdown",
      "metadata": {
        "id": "8cAYYQbQcUIG"
      },
      "source": [
        "*We found this dataset in the [PyCaret library](https://www.kaggle.com/ahmettezcantekin/beginner-datasets)*\n",
        "\n",
        "&nbsp;\n",
        "\n",
        "**Name:** Employee.csv\n",
        "\n",
        "**Description:** This dataset records the features of ~15,000 employees at\n",
        "an unnamed company. It consists of a mix of both categorical and numerical variables.\n",
        "\n",
        "&nbsp;\n",
        "\n",
        "**Attributes:**\n",
        "\n",
        "- **satisfaction_level:** Satisfaction levels for employees in range [0, 1]\n",
        "\n",
        "- **last_evaluation:** Most recent work performance evaluation in range [0, 1] \n",
        "\n",
        "- **number_project:** Number of projects employee is involved in\n",
        "\n",
        "- **average_monthly_hours** Average amount of hours an employee does a month\n",
        "\n",
        "- **time_spend_company:** Number of years spent at the company\n",
        "\n",
        "- **Work_accident:** Suffered from a work accident. 1: True, 0: False\n",
        "\n",
        "- **promotion_last_5_year:** Promoted in the last 5 years. 1: True, 0: False\n",
        "\n",
        "- **department** The department to which an employee belongs\n",
        "\n",
        "- **salary:** catagorical [low, medium, high]\n",
        "\n",
        "- **left:** Left the workplace. 1: True, 0: False  \n",
        "\n",
        "&nbsp;\n",
        "\n",
        "As can be seen, the dataset does contain both categorical and numerical attributes. In this project, we will attempt to form multiple clusters of employees and class them according to the \"left\" class. A cluster of tuples will be labelled 1 if this group of employees are predicted to leave, and 0 if they are believed to stay.\n",
        "\n",
        "*Insert the brief description of the 2 methods here*\n",
        "\n",
        "\n",
        "\n"
      ]
    },
    {
      "cell_type": "markdown",
      "metadata": {
        "id": "cy0dsRlzO-5L"
      },
      "source": [
        "### Section 2A: Analysis of the Dataset - Joseph"
      ]
    },
    {
      "cell_type": "code",
      "metadata": {
        "id": "1LSyvobLLoit"
      },
      "source": [
        "# import libraries\n",
        "\n",
        "import pandas as pd\n",
        "import matplotlib.pyplot as plt\n",
        "import seaborn as sns"
      ],
      "execution_count": null,
      "outputs": []
    },
    {
      "cell_type": "code",
      "metadata": {
        "id": "Q36UruIXPLK7",
        "colab": {
          "resources": {
            "http://localhost:8080/nbextensions/google.colab/files.js": {
              "data": "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",
              "ok": true,
              "headers": [
                [
                  "content-type",
                  "application/javascript"
                ]
              ],
              "status": 200,
              "status_text": ""
            }
          },
          "base_uri": "https://localhost:8080/",
          "height": 72
        },
        "outputId": "41d5b756-a28e-4a38-8ab1-deb603c14a3b"
      },
      "source": [
        "from google.colab import files\n",
        "\n",
        "uploaded = files.upload()"
      ],
      "execution_count": null,
      "outputs": [
        {
          "output_type": "display_data",
          "data": {
            "text/html": [
              "\n",
              "     <input type=\"file\" id=\"files-68a0bea1-28f9-4a28-9036-5094d0de3d21\" name=\"files[]\" multiple disabled\n",
              "        style=\"border:none\" />\n",
              "     <output id=\"result-68a0bea1-28f9-4a28-9036-5094d0de3d21\">\n",
              "      Upload widget is only available when the cell has been executed in the\n",
              "      current browser session. Please rerun this cell to enable.\n",
              "      </output>\n",
              "      <script src=\"/nbextensions/google.colab/files.js\"></script> "
            ],
            "text/plain": [
              "<IPython.core.display.HTML object>"
            ]
          },
          "metadata": {
            "tags": []
          }
        },
        {
          "output_type": "stream",
          "text": [
            "Saving employee.csv to employee.csv\n"
          ],
          "name": "stdout"
        }
      ]
    },
    {
      "cell_type": "code",
      "metadata": {
        "id": "xWEmi-uCTj5M"
      },
      "source": [
        "import io\n",
        "df = pd.read_csv(io.BytesIO(uploaded['employee.csv']))"
      ],
      "execution_count": null,
      "outputs": []
    },
    {
      "cell_type": "code",
      "metadata": {
        "id": "r45ttPKEMA5G",
        "colab": {
          "base_uri": "https://localhost:8080/"
        },
        "outputId": "61c1f39a-47b5-4203-e1a6-672b8e762eb9"
      },
      "source": [
        "df.shape"
      ],
      "execution_count": null,
      "outputs": [
        {
          "output_type": "execute_result",
          "data": {
            "text/plain": [
              "(14999, 10)"
            ]
          },
          "metadata": {
            "tags": []
          },
          "execution_count": 7
        }
      ]
    },
    {
      "cell_type": "code",
      "metadata": {
        "id": "5KOxsXO1meND",
        "colab": {
          "base_uri": "https://localhost:8080/",
          "height": 204
        },
        "outputId": "86482077-b078-4c8a-f446-59bbc6ee6ef6"
      },
      "source": [
        "df.head()"
      ],
      "execution_count": null,
      "outputs": [
        {
          "output_type": "execute_result",
          "data": {
            "text/html": [
              "<div>\n",
              "<style scoped>\n",
              "    .dataframe tbody tr th:only-of-type {\n",
              "        vertical-align: middle;\n",
              "    }\n",
              "\n",
              "    .dataframe tbody tr th {\n",
              "        vertical-align: top;\n",
              "    }\n",
              "\n",
              "    .dataframe thead th {\n",
              "        text-align: right;\n",
              "    }\n",
              "</style>\n",
              "<table border=\"1\" class=\"dataframe\">\n",
              "  <thead>\n",
              "    <tr style=\"text-align: right;\">\n",
              "      <th></th>\n",
              "      <th>satisfaction_level</th>\n",
              "      <th>last_evaluation</th>\n",
              "      <th>number_project</th>\n",
              "      <th>average_montly_hours</th>\n",
              "      <th>time_spend_company</th>\n",
              "      <th>Work_accident</th>\n",
              "      <th>promotion_last_5years</th>\n",
              "      <th>department</th>\n",
              "      <th>salary</th>\n",
              "      <th>left</th>\n",
              "    </tr>\n",
              "  </thead>\n",
              "  <tbody>\n",
              "    <tr>\n",
              "      <th>0</th>\n",
              "      <td>0.38</td>\n",
              "      <td>0.53</td>\n",
              "      <td>2</td>\n",
              "      <td>157</td>\n",
              "      <td>3</td>\n",
              "      <td>0</td>\n",
              "      <td>0</td>\n",
              "      <td>sales</td>\n",
              "      <td>low</td>\n",
              "      <td>1</td>\n",
              "    </tr>\n",
              "    <tr>\n",
              "      <th>1</th>\n",
              "      <td>0.80</td>\n",
              "      <td>0.86</td>\n",
              "      <td>5</td>\n",
              "      <td>262</td>\n",
              "      <td>6</td>\n",
              "      <td>0</td>\n",
              "      <td>0</td>\n",
              "      <td>sales</td>\n",
              "      <td>medium</td>\n",
              "      <td>1</td>\n",
              "    </tr>\n",
              "    <tr>\n",
              "      <th>2</th>\n",
              "      <td>0.11</td>\n",
              "      <td>0.88</td>\n",
              "      <td>7</td>\n",
              "      <td>272</td>\n",
              "      <td>4</td>\n",
              "      <td>0</td>\n",
              "      <td>0</td>\n",
              "      <td>sales</td>\n",
              "      <td>medium</td>\n",
              "      <td>1</td>\n",
              "    </tr>\n",
              "    <tr>\n",
              "      <th>3</th>\n",
              "      <td>0.72</td>\n",
              "      <td>0.87</td>\n",
              "      <td>5</td>\n",
              "      <td>223</td>\n",
              "      <td>5</td>\n",
              "      <td>0</td>\n",
              "      <td>0</td>\n",
              "      <td>sales</td>\n",
              "      <td>low</td>\n",
              "      <td>1</td>\n",
              "    </tr>\n",
              "    <tr>\n",
              "      <th>4</th>\n",
              "      <td>0.37</td>\n",
              "      <td>0.52</td>\n",
              "      <td>2</td>\n",
              "      <td>159</td>\n",
              "      <td>3</td>\n",
              "      <td>0</td>\n",
              "      <td>0</td>\n",
              "      <td>sales</td>\n",
              "      <td>low</td>\n",
              "      <td>1</td>\n",
              "    </tr>\n",
              "  </tbody>\n",
              "</table>\n",
              "</div>"
            ],
            "text/plain": [
              "   satisfaction_level  last_evaluation  number_project  ...  department  salary  left\n",
              "0                0.38             0.53               2  ...       sales     low     1\n",
              "1                0.80             0.86               5  ...       sales  medium     1\n",
              "2                0.11             0.88               7  ...       sales  medium     1\n",
              "3                0.72             0.87               5  ...       sales     low     1\n",
              "4                0.37             0.52               2  ...       sales     low     1\n",
              "\n",
              "[5 rows x 10 columns]"
            ]
          },
          "metadata": {
            "tags": []
          },
          "execution_count": 8
        }
      ]
    },
    {
      "cell_type": "code",
      "metadata": {
        "id": "qAoySsZZWCdz"
      },
      "source": [
        ""
      ],
      "execution_count": null,
      "outputs": []
    },
    {
      "cell_type": "code",
      "metadata": {
        "id": "iPfK-jknhNnG"
      },
      "source": [
        "# typo in \"average_montly_hours\"\n",
        "df.dtypes\n",
        "corrections = {\"average_montly_hours\": \"average_monthly_hours\"}\n",
        "df = df.rename(columns=corrections)\n",
        "\n"
      ],
      "execution_count": null,
      "outputs": []
    },
    {
      "cell_type": "markdown",
      "metadata": {
        "id": "OLCkmeA2LiZ8"
      },
      "source": [
        "I want to visualize the distributions of performance, satisfaction levels, numbers of projects, and average monthly hours.\n"
      ]
    },
    {
      "cell_type": "markdown",
      "metadata": {
        "id": "-Lc8J_6ZP_Nk"
      },
      "source": [
        "The vast majority of employees showed satisfaction levels greater than 50%. There is a spike at the low end of satisfaction reports. \n",
        "\n",
        "A large proportion of employees who left had a satisfaction level lower than 0.5. Besides this, a considerable proportion of employees with low satisfaction levels (<0.3) stayed, and some employees with high satisfaction left.\n"
      ]
    },
    {
      "cell_type": "code",
      "metadata": {
        "id": "emH-ehIdRUve",
        "colab": {
          "base_uri": "https://localhost:8080/",
          "height": 385
        },
        "outputId": "08340352-b18f-4c59-a125-f7044849ff5d"
      },
      "source": [
        "x = [0.1, 0.2, 0.3, 0.4, 0.5, 0.6, 0.7, 0.8, 0.9, 1]\n",
        "\n",
        "sns.displot(x=\"satisfaction_level\", hue=\"left\", data=df, kind=\"kde\")\n",
        "plt.xticks(x)\n",
        "plt.title(\"Satisfaction levels\")\n",
        "plt.show()"
      ],
      "execution_count": null,
      "outputs": [
        {
          "output_type": "display_data",
          "data": {
            "image/png": "[encoded data removed]",
            "text/plain": [
              "<Figure size 402.375x360 with 1 Axes>"
            ]
          },
          "metadata": {
            "tags": [],
            "needs_background": "light"
          }
        }
      ]
    },
    {
      "cell_type": "code",
      "metadata": {
        "id": "dAGvj3WLHFT1",
        "colab": {
          "base_uri": "https://localhost:8080/",
          "height": 385
        },
        "outputId": "c1d925f2-3f6e-499d-99b4-ad1889abbea4"
      },
      "source": [
        "sns.displot(x=\"satisfaction_level\", hue=\"left\", data=df)\n",
        "plt.xticks(x)\n",
        "plt.title(\"Satisfaction levels\")\n",
        "plt.show()"
      ],
      "execution_count": null,
      "outputs": [
        {
          "output_type": "display_data",
          "data": {
            "image/png": "[encoded data removed]",
            "text/plain": [
              "<Figure size 402.375x360 with 1 Axes>"
            ]
          },
          "metadata": {
            "tags": [],
            "needs_background": "light"
          }
        }
      ]
    },
    {
      "cell_type": "markdown",
      "metadata": {
        "id": "AvWpgnyuVtAA"
      },
      "source": [
        "This performance histogram plot shows that employees with median performance report figures don't tend to leave the company. This attribute may contribute greatly to the generation of the clusters.\n"
      ]
    },
    {
      "cell_type": "code",
      "metadata": {
        "id": "kXZO4M3hVDDw",
        "colab": {
          "base_uri": "https://localhost:8080/",
          "height": 385
        },
        "outputId": "3c1d1166-e228-496c-d5af-2f78c308e8aa"
      },
      "source": [
        "sns.displot(x=\"last_evaluation\", data=df, hue=\"left\", )\n",
        "plt.title(\"Performance evaluations\")\n",
        "plt.ylabel(\"Employee count\")\n",
        "plt.show()"
      ],
      "execution_count": null,
      "outputs": [
        {
          "output_type": "display_data",
          "data": {
            "image/png": "[encoded data removed]",
            "text/plain": [
              "<Figure size 402.375x360 with 1 Axes>"
            ]
          },
          "metadata": {
            "tags": [],
            "needs_background": "light"
          }
        }
      ]
    },
    {
      "cell_type": "markdown",
      "metadata": {
        "id": "Hqj7UgllcWrN"
      },
      "source": [
        "For employees working on 2, 6, and 7 projects we observed that the number of employees who left the company are more than those who stayed at the company. In fact, employees put on 7 projects all left the company! This is a strong statistic that will certainly be a driver for clustering."
      ]
    },
    {
      "cell_type": "code",
      "metadata": {
        "id": "diXG8Hz6ZvA9",
        "colab": {
          "base_uri": "https://localhost:8080/",
          "height": 295
        },
        "outputId": "1a25c67f-fa25-4437-e39a-dc3fe79deed9"
      },
      "source": [
        "sns.countplot(x=\"number_project\", data=df, hue=\"left\")\n",
        "plt.title(\"Number of projects worked on by employees\")\n",
        "plt.xlabel(\"Projects\")\n",
        "plt.ylabel(\"Employee count\")\n",
        "plt.show()"
      ],
      "execution_count": null,
      "outputs": [
        {
          "output_type": "display_data",
          "data": {
            "image/png": "[encoded data removed]",
            "text/plain": [
              "<Figure size 432x288 with 1 Axes>"
            ]
          },
          "metadata": {
            "tags": [],
            "needs_background": "light"
          }
        }
      ]
    },
    {
      "cell_type": "code",
      "metadata": {
        "id": "3q-BA9DffVhE",
        "colab": {
          "base_uri": "https://localhost:8080/"
        },
        "outputId": "dcaac7c5-604c-44e0-8e4a-f6f3975a18eb"
      },
      "source": [
        "# count the number of employees on 7 projects who left the company\n",
        "seven = df[df['number_project'] == 7]\n",
        "seven.groupby('left').count().iloc[:, 0]"
      ],
      "execution_count": null,
      "outputs": [
        {
          "output_type": "execute_result",
          "data": {
            "text/plain": [
              "left\n",
              "1    256\n",
              "Name: satisfaction_level, dtype: int64"
            ]
          },
          "metadata": {
            "tags": []
          },
          "execution_count": 86
        }
      ]
    },
    {
      "cell_type": "markdown",
      "metadata": {
        "id": "Jiyua25EfUT9"
      },
      "source": [
        "Here we see a bimodal distribution with high number of employees with hours around 150 and hours around 250. When we split the plot into groups on \"left\", we see most employees that left are employees with work hours around these modes. i.e. not around the median. Also, employees with significantly high work hours (> 275) show higher tendency to quit."
      ]
    },
    {
      "cell_type": "code",
      "metadata": {
        "id": "JeHma7kBjbfD",
        "colab": {
          "base_uri": "https://localhost:8080/",
          "height": 369
        },
        "outputId": "98a66afc-6076-4af8-bf16-aa07cae84a95"
      },
      "source": [
        "sns.displot(x='average_monthly_hours', data=df)\n",
        "plt.show()"
      ],
      "execution_count": null,
      "outputs": [
        {
          "output_type": "display_data",
          "data": {
            "image/png": "[encoded data removed]",
            "text/plain": [
              "<Figure size 360x360 with 1 Axes>"
            ]
          },
          "metadata": {
            "tags": [],
            "needs_background": "light"
          }
        }
      ]
    },
    {
      "cell_type": "code",
      "metadata": {
        "id": "rLLMz3Wkg4Ta",
        "colab": {
          "base_uri": "https://localhost:8080/",
          "height": 385
        },
        "outputId": "624d9d43-8d9f-4587-bb7a-197c45d1755f"
      },
      "source": [
        "g=sns.displot(x='average_monthly_hours', data=df, hue=\"left\")\n",
        "g.ax.set_title(\"Average monthly hours worked\")\n",
        "g.ax.set_ylabel(\"Employee Count\")\n",
        "plt.show()"
      ],
      "execution_count": null,
      "outputs": [
        {
          "output_type": "display_data",
          "data": {
            "image/png": "[encoded data removed]",
            "text/plain": [
              "<Figure size 402.375x360 with 1 Axes>"
            ]
          },
          "metadata": {
            "tags": [],
            "needs_background": "light"
          }
        }
      ]
    },
    {
      "cell_type": "code",
      "metadata": {
        "id": "oAyqelXfkvLR",
        "colab": {
          "base_uri": "https://localhost:8080/"
        },
        "outputId": "57f8db56-e8df-432b-b841-501f07d8b56c"
      },
      "source": [
        "overtime = df[df['average_monthly_hours'] > 275]\n",
        "total = overtime.groupby(\"left\").count().iloc[:, 0].sum()\n",
        "quit = overtime.groupby(\"left\").count().iloc[1, 1]\n",
        "\n",
        "print(\"Proportion of overtimers (> 275 hrs) that quit: {:f}\".format(quit/total))\n"
      ],
      "execution_count": null,
      "outputs": [
        {
          "output_type": "stream",
          "text": [
            "Proportion of overtimers (> 275 hrs) that quit: 0.750353\n"
          ],
          "name": "stdout"
        }
      ]
    },
    {
      "cell_type": "markdown",
      "metadata": {
        "id": "GSSSekgkUYu-"
      },
      "source": [
        "###Section 2B: Analysis of the Dataset - Adam"
      ]
    },
    {
      "cell_type": "markdown",
      "metadata": {
        "id": "hkr9YaU_byvh"
      },
      "source": [
        "As can be seen in the graph beside, there is an even spread of people leaving the company across all departments with regards to the proportion of people in a department. This shows to me that no one department is much worse than the others to work for. It can be seen also that the people in management have a lower proportion of people leaving just from looking at the graph.\n",
        "\n",
        "The proportions however show that hr loses the most staff as a proportion of the total staff in that department with 30% leaving. Only 14.5% of management left. As there isn't a huge spread between departments and majority lie somewhere in the middle I don't believe departments will be a huge help in classifying clusters."
      ]
    },
    {
      "cell_type": "code",
      "metadata": {
        "id": "Rq5MI0LdUjX9",
        "colab": {
          "base_uri": "https://localhost:8080/",
          "height": 441
        },
        "outputId": "c3f5f6d6-82cc-48a8-bc99-de487bc4f083"
      },
      "source": [
        "sns.displot(x=\"department\", data=df, hue=\"left\")\n",
        "plt.title(\"Employees in each department\")\n",
        "plt.xticks(rotation=90)\n",
        "plt.show()"
      ],
      "execution_count": null,
      "outputs": [
        {
          "output_type": "display_data",
          "data": {
            "image/png": "[encoded data removed]",
            "text/plain": [
              "<Figure size 402.375x360 with 1 Axes>"
            ]
          },
          "metadata": {
            "tags": [],
            "needs_background": "light"
          }
        }
      ]
    },
    {
      "cell_type": "code",
      "metadata": {
        "id": "3efGDpxkcQod",
        "colab": {
          "base_uri": "https://localhost:8080/"
        },
        "outputId": "feb92265-7ac3-47b0-9d82-d4451d53a7ad"
      },
      "source": [
        "props = [0.29093369418132614, 0.2365967365967366, 0.14444444444444443, 0.26597131681877445, 0.2489905787348587, 0.15374841168996187, 0.21951219512195122, 0.25625, 0.24492753623188407, 0.22249388753056235]\n",
        "departs = ['Human Resources', 'Marketing', 'Management', 'Accounting', 'Support', 'Research & Development', 'Product Management', 'Technical', 'Sales', 'IT']\n",
        "props_of_left_by_depart = pd.DataFrame(props, index=departs, columns=['prop'])\n",
        "print(props_of_left_by_depart)"
      ],
      "execution_count": null,
      "outputs": [
        {
          "output_type": "stream",
          "text": [
            "                            prop\n",
            "Human Resources         0.290934\n",
            "Marketing               0.236597\n",
            "Management              0.144444\n",
            "Accounting              0.265971\n",
            "Support                 0.248991\n",
            "Research & Development  0.153748\n",
            "Product Management      0.219512\n",
            "Technical               0.256250\n",
            "Sales                   0.244928\n",
            "IT                      0.222494\n"
          ],
          "name": "stdout"
        }
      ]
    },
    {
      "cell_type": "markdown",
      "metadata": {
        "id": "TdFVkpTxnNk7"
      },
      "source": [
        "It can be seen below that in majority of the departments there are a lot more people with a low salary, which you would expect. In management however majority of staff have a high or medium salary. Research and Development have slightly more people with a medium salary, and in Accounting this is almost the case.\n",
        "\n",
        "In the second graph you can see that very few people with a high salary left, majority were people on low wages, but again a proportion is necessary to see just what percentage of people which each salary left."
      ]
    },
    {
      "cell_type": "code",
      "metadata": {
        "id": "AHhDKutSd-Hd",
        "colab": {
          "base_uri": "https://localhost:8080/",
          "height": 455
        },
        "outputId": "94986cd8-e6a4-474d-8619-434d9d16497f"
      },
      "source": [
        "sns.catplot(data=df, x=\"department\", kind=\"count\", hue=\"salary\")\n",
        "plt.title(\"Employee salary by Department\")\n",
        "plt.xticks(rotation=90)\n",
        "plt.ylabel(\"No. of Employees\")\n",
        "plt.show()"
      ],
      "execution_count": null,
      "outputs": [
        {
          "output_type": "display_data",
          "data": {
            "image/png": "[encoded data removed]",
            "text/plain": [
              "<Figure size 437x360 with 1 Axes>"
            ]
          },
          "metadata": {
            "tags": [],
            "needs_background": "light"
          }
        }
      ]
    },
    {
      "cell_type": "code",
      "metadata": {
        "id": "IlRBJOPVrKCi",
        "colab": {
          "base_uri": "https://localhost:8080/",
          "height": 399
        },
        "outputId": "30c29ddb-9719-4370-c796-0c8f7af47d50"
      },
      "source": [
        "sns.catplot(data=df, x=\"left\", kind=\"count\", hue=\"salary\")\n",
        "plt.title(\"Employee salaries\")\n",
        "plt.ylabel(\"No. of Employees\")\n",
        "plt.show()"
      ],
      "execution_count": null,
      "outputs": [
        {
          "output_type": "display_data",
          "data": {
            "image/png": "[encoded data removed]",
            "text/plain": [
              "<Figure size 437x360 with 1 Axes>"
            ]
          },
          "metadata": {
            "tags": [],
            "needs_background": "light"
          }
        }
      ]
    },
    {
      "cell_type": "markdown",
      "metadata": {
        "id": "DHdeCjRut93l"
      },
      "source": [
        "Promotions seem to be a rare thing in this company. Of the people who were lucky enough to receieve one, only a couple left. It can be seen by comparing the 2 sets of bars that the likelihood of an employee leaving having gotten a promotion was much lower than if they hadn't"
      ]
    },
    {
      "cell_type": "code",
      "metadata": {
        "id": "KZsW56Xtt-YC",
        "colab": {
          "base_uri": "https://localhost:8080/",
          "height": 296
        },
        "outputId": "7887bafd-61e7-4ff5-e3d9-e32de18ab6c0"
      },
      "source": [
        "sns.countplot(x=\"promotion_last_5years\", data=df, hue=\"left\")\n",
        "plt.title(\"Has an employee receieved a promotion in the last 5 years?\")\n",
        "plt.ylabel(\"No. of Employees\")\n",
        "plt.show()"
      ],
      "execution_count": null,
      "outputs": [
        {
          "output_type": "display_data",
          "data": {
            "image/png": "[encoded data removed]",
            "text/plain": [
              "<Figure size 432x288 with 1 Axes>"
            ]
          },
          "metadata": {
            "tags": [],
            "needs_background": "light"
          }
        }
      ]
    },
    {
      "cell_type": "markdown",
      "metadata": {
        "id": "LPxd756tNsXQ"
      },
      "source": [
        "Whether or not an employee had an accident or not didn't impact an employee staying or leaving. If anything the graph shows that the opposite is true. a smaller percentage of the people who had a work accident left the company than those that had no work accident. This may be as a result of the copious amounts of compensation they may have recieved as a result."
      ]
    },
    {
      "cell_type": "code",
      "metadata": {
        "id": "qDvjxQFzuP2u",
        "colab": {
          "base_uri": "https://localhost:8080/",
          "height": 296
        },
        "outputId": "9e609900-55a7-43a5-b0d4-eaa0154beb80"
      },
      "source": [
        "sns.countplot(x=\"Work_accident\", data=df, hue=\"left\")\n",
        "plt.title(\"Employee work accidents\")\n",
        "plt.ylabel(\"No. of Employees\")\n",
        "plt.show()"
      ],
      "execution_count": null,
      "outputs": [
        {
          "output_type": "display_data",
          "data": {
            "image/png": "[encoded data removed]",
            "text/plain": [
              "<Figure size 432x288 with 1 Axes>"
            ]
          },
          "metadata": {
            "tags": [],
            "needs_background": "light"
          }
        }
      ]
    },
    {
      "cell_type": "markdown",
      "metadata": {
        "id": "wwgYpHnGQLsn"
      },
      "source": [
        "This graph shows that any employee that has been working at this compnay for 7+ years will most likely not leave. It seems an employee will usually work for 3 years at least before quitting, this should be useful for our clustering algorithms."
      ]
    },
    {
      "cell_type": "code",
      "metadata": {
        "id": "3KlXYr5iNPUB",
        "colab": {
          "base_uri": "https://localhost:8080/",
          "height": 296
        },
        "outputId": "da53c700-4ac7-4a61-c611-a71862b4ee42"
      },
      "source": [
        "sns.countplot(x=\"time_spend_company\", data=df, hue=\"left\")\n",
        "plt.title(\"Years employees have been at the company\")\n",
        "plt.ylabel(\"No. of Employees\")\n",
        "plt.show()"
      ],
      "execution_count": null,
      "outputs": [
        {
          "output_type": "display_data",
          "data": {
            "image/png": "[encoded data removed]",
            "text/plain": [
              "<Figure size 432x288 with 1 Axes>"
            ]
          },
          "metadata": {
            "tags": [],
            "needs_background": "light"
          }
        }
      ]
    },
    {
      "cell_type": "code",
      "metadata": {
        "id": "j_a_UEsydmMM"
      },
      "source": [
        ""
      ],
      "execution_count": null,
      "outputs": []
    },
    {
      "cell_type": "markdown",
      "metadata": {
        "id": "ULLqx5YSeRHO"
      },
      "source": [
        "### Section 4A: results (implementing) - Joseph"
      ]
    },
    {
      "cell_type": "code",
      "metadata": {
        "id": "T19FIDSceXRI"
      },
      "source": [
        "import scipy.cluster.hierarchy as shc\n",
        "from sklearn.cluster import AgglomerativeClustering\n",
        "\n",
        "# drop the classes column for the clustering\n",
        "c_df = df.drop(columns=['left'])\n"
      ],
      "execution_count": null,
      "outputs": []
    },
    {
      "cell_type": "code",
      "metadata": {
        "id": "x8aaA9HsQIng",
        "colab": {
          "base_uri": "https://localhost:8080/",
          "height": 593
        },
        "outputId": "e124fed0-4a3b-49ea-9dbd-d6f65c58feb2"
      },
      "source": [
        "\n",
        "# produce a sample dendrogram\n",
        "dendrogram_test = df.iloc[:, :2]\n",
        "print(df.head())\n",
        "\n",
        "plt.figure(figsize=(10, 7))\n",
        "plt.title('Employee Dendrogram')\n",
        "dend = shc.dendrogram(shc.linkage(dendrogram_test, method='ward'))\n",
        "plt.show()\n",
        "\n"
      ],
      "execution_count": null,
      "outputs": [
        {
          "output_type": "stream",
          "text": [
            "   satisfaction_level  last_evaluation  number_project  ...  department  salary  left\n",
            "0                0.38             0.53               2  ...       sales     low     1\n",
            "1                0.80             0.86               5  ...       sales  medium     1\n",
            "2                0.11             0.88               7  ...       sales  medium     1\n",
            "3                0.72             0.87               5  ...       sales     low     1\n",
            "4                0.37             0.52               2  ...       sales     low     1\n",
            "\n",
            "[5 rows x 10 columns]\n"
          ],
          "name": "stdout"
        },
        {
          "output_type": "display_data",
          "data": {
            "image/png": "[encoded data removed]",
            "text/plain": [
              "<Figure size 720x504 with 1 Axes>"
            ]
          },
          "metadata": {
            "tags": [],
            "needs_background": "light"
          }
        }
      ]
    },
    {
      "cell_type": "code",
      "metadata": {
        "id": "9vEkWqrzQJxb",
        "colab": {
          "base_uri": "https://localhost:8080/"
        },
        "outputId": "58792cdb-e50d-4664-bb08-b097c0af6cad"
      },
      "source": [
        "\n",
        "# encode categorical variables\n",
        "c_df.drop(columns=['department'], inplace=True)\n",
        "c_df['salary'] = c_df['salary'].astype('category')\n",
        "c_df['salary'] = c_df['salary'].cat.codes\n",
        "\n",
        "c_df.head()\n",
        "c_df.dtypes\n"
      ],
      "execution_count": null,
      "outputs": [
        {
          "output_type": "execute_result",
          "data": {
            "text/plain": [
              "satisfaction_level       float64\n",
              "last_evaluation          float64\n",
              "number_project             int64\n",
              "average_monthly_hours      int64\n",
              "time_spend_company         int64\n",
              "Work_accident              int64\n",
              "promotion_last_5years      int64\n",
              "salary                      int8\n",
              "dtype: object"
            ]
          },
          "metadata": {
            "tags": []
          },
          "execution_count": 12
        }
      ]
    },
    {
      "cell_type": "code",
      "metadata": {
        "id": "SSyomw44QU9E",
        "colab": {
          "base_uri": "https://localhost:8080/"
        },
        "outputId": "e1190d9f-0f8b-44e5-a1c4-bc43636c5b29"
      },
      "source": [
        "cluster = AgglomerativeClustering(n_clusters=2,\n",
        "                                  affinity='euclidean',\n",
        "                                  linkage='single')\n",
        "result = cluster.fit_predict(c_df)\n",
        "c_df['cluster'] = result\n",
        "# print(c_df.head())\n",
        "\n",
        "# check 'left' column in comparison with 'cluster' column\n",
        "print('Correct clusters: {}/14999\\nAccuracy: {}'.format((c_df['cluster'] == df['left']).sum(),\n",
        "                                                        (c_df['cluster'] == df['left']).mean()))\n",
        "\n"
      ],
      "execution_count": null,
      "outputs": [
        {
          "output_type": "stream",
          "text": [
            "Correct clusters: 11424/14999\n",
            "Accuracy: 0.7616507767184479\n"
          ],
          "name": "stdout"
        }
      ]
    },
    {
      "cell_type": "code",
      "metadata": {
        "id": "zwLFuj7QQXwo",
        "colab": {
          "base_uri": "https://localhost:8080/",
          "height": 573
        },
        "outputId": "885b2867-29c2-453f-bb1b-acf926b7d499"
      },
      "source": [
        "\n",
        "# compare clusters and pre-assigned classes\n",
        "groups = df.groupby('left')\n",
        "fig, ax = plt.subplots()\n",
        "\n",
        "for name, group in groups:\n",
        "    ax.scatter(group.satisfaction_level, group.last_evaluation, label=name)\n",
        "\n",
        "ax.legend(['didnt leave','left'])\n",
        "ax.set(xlabel='Satisfaction Level', ylabel='Last Evaluation', title='Employee classes')\n",
        "\n",
        "###\n",
        "\n",
        "groups = c_df.groupby('cluster')\n",
        "fig2, ax2 = plt.subplots()\n",
        "\n",
        "for name, group in groups:\n",
        "    ax2.scatter(group.satisfaction_level, group.last_evaluation, label=name)\n",
        "\n",
        "ax2.legend()\n",
        "ax2.set(xlabel='Satisfaction Level', ylabel='Last Evaluation', title='Employee clusters')\n",
        "plt.show()\n"
      ],
      "execution_count": null,
      "outputs": [
        {
          "output_type": "display_data",
          "data": {
            "image/png": "[encoded data removed]",
            "text/plain": [
              "<Figure size 432x288 with 1 Axes>"
            ]
          },
          "metadata": {
            "tags": [],
            "needs_background": "light"
          }
        },
        {
          "output_type": "display_data",
          "data": {
            "image/png": "[encoded data removed]",
            "text/plain": [
              "<Figure size 432x288 with 1 Axes>"
            ]
          },
          "metadata": {
            "tags": [],
            "needs_background": "light"
          }
        }
      ]
    },
    {
      "cell_type": "markdown",
      "metadata": {
        "id": "AOlXgUNkRKNt"
      },
      "source": [
        "Although in this assignment we are aware of the number of classes prior to implementing clustering, I wanted to check that two clusters would be the optimal number using a dendrogram. I obtained the following: \n",
        "\n",
        "The Dendrogram suggests that 2 clusters would be the most suitable number to extract.  The dendrogram was produced on the satisfaction_level and last_evaluation attributes.\n",
        "\n",
        "My plan initially was to use Gower distance to measure the distance between points but upon attempting this I obtained an interesting error:  “Memory error: 15.6 GiB of memory cannot be allocated to (14999, 14999, 9) nd array” \n",
        "The distance measure which I intended to use produced a tensor which was too large for my computer’s RAM to process. As A result of this, I decided to attempt to use Manhattan distance instead and OneHotEncoding/Label Encoding for categorical variables where necessary. Based on our analysis of the dataset, I decided to drop the department variable at this point. \n",
        "\n",
        "Results:\n",
        "Correct clusters: 11424 / 14999\n",
        "Accuracy:  0.761650\n",
        "\n",
        "Analysis of the clusters revealed that only 4 employees formed the “left” cluster. I thought that this is probably due to the use of Manhattan distance in an already normalized dataset. Upon using Euclidean distance my results were identical. \n",
        "Trying a series of other linkage methods other than ‘single-link’ such as ‘ward’  I obtained much different results which had higher ‘left’ counts but lower accuracy due to false positives. Intuitively, most employees are likely to not quit so assuming all employees will not quit yields high naive accuracy. This is similar to the results above. The normalized nature of the data may have come to be a disadvantage when implementing agglomerative hierarchical clustering as the majority of the data is very clustered together. \n",
        "\n"
      ]
    },
    {
      "cell_type": "markdown",
      "metadata": {
        "id": "RQMaFEsQiEa6"
      },
      "source": [
        "### Section 4B: implemeniting (Adam)"
      ]
    },
    {
      "cell_type": "code",
      "metadata": {
        "id": "q0VLI_nXXqN3",
        "colab": {
          "base_uri": "https://localhost:8080/",
          "height": 669
        },
        "outputId": "c2b80580-a0e8-4a89-d1bc-c68e06878ff2"
      },
      "source": [
        "from sklearn.cluster import KMeans\n",
        "a_df = df.drop(columns=[\"left\", \"department\"])\n",
        "a_df.tail(20)"
      ],
      "execution_count": null,
      "outputs": [
        {
          "output_type": "execute_result",
          "data": {
            "text/html": [
              "<div>\n",
              "<style scoped>\n",
              "    .dataframe tbody tr th:only-of-type {\n",
              "        vertical-align: middle;\n",
              "    }\n",
              "\n",
              "    .dataframe tbody tr th {\n",
              "        vertical-align: top;\n",
              "    }\n",
              "\n",
              "    .dataframe thead th {\n",
              "        text-align: right;\n",
              "    }\n",
              "</style>\n",
              "<table border=\"1\" class=\"dataframe\">\n",
              "  <thead>\n",
              "    <tr style=\"text-align: right;\">\n",
              "      <th></th>\n",
              "      <th>satisfaction_level</th>\n",
              "      <th>last_evaluation</th>\n",
              "      <th>number_project</th>\n",
              "      <th>average_monthly_hours</th>\n",
              "      <th>time_spend_company</th>\n",
              "      <th>Work_accident</th>\n",
              "      <th>promotion_last_5years</th>\n",
              "      <th>salary</th>\n",
              "    </tr>\n",
              "  </thead>\n",
              "  <tbody>\n",
              "    <tr>\n",
              "      <th>14979</th>\n",
              "      <td>0.09</td>\n",
              "      <td>0.93</td>\n",
              "      <td>6</td>\n",
              "      <td>296</td>\n",
              "      <td>4</td>\n",
              "      <td>0</td>\n",
              "      <td>0</td>\n",
              "      <td>medium</td>\n",
              "    </tr>\n",
              "    <tr>\n",
              "      <th>14980</th>\n",
              "      <td>0.76</td>\n",
              "      <td>0.89</td>\n",
              "      <td>5</td>\n",
              "      <td>238</td>\n",
              "      <td>5</td>\n",
              "      <td>0</td>\n",
              "      <td>0</td>\n",
              "      <td>high</td>\n",
              "    </tr>\n",
              "    <tr>\n",
              "      <th>14981</th>\n",
              "      <td>0.73</td>\n",
              "      <td>0.93</td>\n",
              "      <td>5</td>\n",
              "      <td>162</td>\n",
              "      <td>4</td>\n",
              "      <td>0</td>\n",
              "      <td>0</td>\n",
              "      <td>low</td>\n",
              "    </tr>\n",
              "    <tr>\n",
              "      <th>14982</th>\n",
              "      <td>0.38</td>\n",
              "      <td>0.49</td>\n",
              "      <td>2</td>\n",
              "      <td>137</td>\n",
              "      <td>3</td>\n",
              "      <td>0</td>\n",
              "      <td>0</td>\n",
              "      <td>medium</td>\n",
              "    </tr>\n",
              "    <tr>\n",
              "      <th>14983</th>\n",
              "      <td>0.72</td>\n",
              "      <td>0.84</td>\n",
              "      <td>5</td>\n",
              "      <td>257</td>\n",
              "      <td>5</td>\n",
              "      <td>0</td>\n",
              "      <td>0</td>\n",
              "      <td>medium</td>\n",
              "    </tr>\n",
              "    <tr>\n",
              "      <th>14984</th>\n",
              "      <td>0.40</td>\n",
              "      <td>0.56</td>\n",
              "      <td>2</td>\n",
              "      <td>148</td>\n",
              "      <td>3</td>\n",
              "      <td>0</td>\n",
              "      <td>0</td>\n",
              "      <td>medium</td>\n",
              "    </tr>\n",
              "    <tr>\n",
              "      <th>14985</th>\n",
              "      <td>0.91</td>\n",
              "      <td>0.99</td>\n",
              "      <td>5</td>\n",
              "      <td>254</td>\n",
              "      <td>5</td>\n",
              "      <td>0</td>\n",
              "      <td>0</td>\n",
              "      <td>medium</td>\n",
              "    </tr>\n",
              "    <tr>\n",
              "      <th>14986</th>\n",
              "      <td>0.85</td>\n",
              "      <td>0.85</td>\n",
              "      <td>4</td>\n",
              "      <td>247</td>\n",
              "      <td>6</td>\n",
              "      <td>0</td>\n",
              "      <td>0</td>\n",
              "      <td>low</td>\n",
              "    </tr>\n",
              "    <tr>\n",
              "      <th>14987</th>\n",
              "      <td>0.90</td>\n",
              "      <td>0.70</td>\n",
              "      <td>5</td>\n",
              "      <td>206</td>\n",
              "      <td>4</td>\n",
              "      <td>0</td>\n",
              "      <td>0</td>\n",
              "      <td>low</td>\n",
              "    </tr>\n",
              "    <tr>\n",
              "      <th>14988</th>\n",
              "      <td>0.46</td>\n",
              "      <td>0.55</td>\n",
              "      <td>2</td>\n",
              "      <td>145</td>\n",
              "      <td>3</td>\n",
              "      <td>0</td>\n",
              "      <td>0</td>\n",
              "      <td>low</td>\n",
              "    </tr>\n",
              "    <tr>\n",
              "      <th>14989</th>\n",
              "      <td>0.43</td>\n",
              "      <td>0.57</td>\n",
              "      <td>2</td>\n",
              "      <td>159</td>\n",
              "      <td>3</td>\n",
              "      <td>1</td>\n",
              "      <td>0</td>\n",
              "      <td>low</td>\n",
              "    </tr>\n",
              "    <tr>\n",
              "      <th>14990</th>\n",
              "      <td>0.89</td>\n",
              "      <td>0.88</td>\n",
              "      <td>5</td>\n",
              "      <td>228</td>\n",
              "      <td>5</td>\n",
              "      <td>1</td>\n",
              "      <td>0</td>\n",
              "      <td>low</td>\n",
              "    </tr>\n",
              "    <tr>\n",
              "      <th>14991</th>\n",
              "      <td>0.09</td>\n",
              "      <td>0.81</td>\n",
              "      <td>6</td>\n",
              "      <td>257</td>\n",
              "      <td>4</td>\n",
              "      <td>0</td>\n",
              "      <td>0</td>\n",
              "      <td>low</td>\n",
              "    </tr>\n",
              "    <tr>\n",
              "      <th>14992</th>\n",
              "      <td>0.40</td>\n",
              "      <td>0.48</td>\n",
              "      <td>2</td>\n",
              "      <td>155</td>\n",
              "      <td>3</td>\n",
              "      <td>0</td>\n",
              "      <td>0</td>\n",
              "      <td>low</td>\n",
              "    </tr>\n",
              "    <tr>\n",
              "      <th>14993</th>\n",
              "      <td>0.76</td>\n",
              "      <td>0.83</td>\n",
              "      <td>6</td>\n",
              "      <td>293</td>\n",
              "      <td>6</td>\n",
              "      <td>0</td>\n",
              "      <td>0</td>\n",
              "      <td>low</td>\n",
              "    </tr>\n",
              "    <tr>\n",
              "      <th>14994</th>\n",
              "      <td>0.40</td>\n",
              "      <td>0.57</td>\n",
              "      <td>2</td>\n",
              "      <td>151</td>\n",
              "      <td>3</td>\n",
              "      <td>0</td>\n",
              "      <td>0</td>\n",
              "      <td>low</td>\n",
              "    </tr>\n",
              "    <tr>\n",
              "      <th>14995</th>\n",
              "      <td>0.37</td>\n",
              "      <td>0.48</td>\n",
              "      <td>2</td>\n",
              "      <td>160</td>\n",
              "      <td>3</td>\n",
              "      <td>0</td>\n",
              "      <td>0</td>\n",
              "      <td>low</td>\n",
              "    </tr>\n",
              "    <tr>\n",
              "      <th>14996</th>\n",
              "      <td>0.37</td>\n",
              "      <td>0.53</td>\n",
              "      <td>2</td>\n",
              "      <td>143</td>\n",
              "      <td>3</td>\n",
              "      <td>0</td>\n",
              "      <td>0</td>\n",
              "      <td>low</td>\n",
              "    </tr>\n",
              "    <tr>\n",
              "      <th>14997</th>\n",
              "      <td>0.11</td>\n",
              "      <td>0.96</td>\n",
              "      <td>6</td>\n",
              "      <td>280</td>\n",
              "      <td>4</td>\n",
              "      <td>0</td>\n",
              "      <td>0</td>\n",
              "      <td>low</td>\n",
              "    </tr>\n",
              "    <tr>\n",
              "      <th>14998</th>\n",
              "      <td>0.37</td>\n",
              "      <td>0.52</td>\n",
              "      <td>2</td>\n",
              "      <td>158</td>\n",
              "      <td>3</td>\n",
              "      <td>0</td>\n",
              "      <td>0</td>\n",
              "      <td>low</td>\n",
              "    </tr>\n",
              "  </tbody>\n",
              "</table>\n",
              "</div>"
            ],
            "text/plain": [
              "       satisfaction_level  last_evaluation  ...  promotion_last_5years  salary\n",
              "14979                0.09             0.93  ...                      0  medium\n",
              "14980                0.76             0.89  ...                      0    high\n",
              "14981                0.73             0.93  ...                      0     low\n",
              "14982                0.38             0.49  ...                      0  medium\n",
              "14983                0.72             0.84  ...                      0  medium\n",
              "14984                0.40             0.56  ...                      0  medium\n",
              "14985                0.91             0.99  ...                      0  medium\n",
              "14986                0.85             0.85  ...                      0     low\n",
              "14987                0.90             0.70  ...                      0     low\n",
              "14988                0.46             0.55  ...                      0     low\n",
              "14989                0.43             0.57  ...                      0     low\n",
              "14990                0.89             0.88  ...                      0     low\n",
              "14991                0.09             0.81  ...                      0     low\n",
              "14992                0.40             0.48  ...                      0     low\n",
              "14993                0.76             0.83  ...                      0     low\n",
              "14994                0.40             0.57  ...                      0     low\n",
              "14995                0.37             0.48  ...                      0     low\n",
              "14996                0.37             0.53  ...                      0     low\n",
              "14997                0.11             0.96  ...                      0     low\n",
              "14998                0.37             0.52  ...                      0     low\n",
              "\n",
              "[20 rows x 8 columns]"
            ]
          },
          "metadata": {
            "tags": []
          },
          "execution_count": 38
        }
      ]
    },
    {
      "cell_type": "code",
      "metadata": {
        "id": "wWPAvoBZ4qaV",
        "colab": {
          "base_uri": "https://localhost:8080/",
          "height": 669
        },
        "outputId": "2fc15902-fd8c-4571-9490-00f929adf471"
      },
      "source": [
        "a_df['salary'] = a_df['salary'].astype('category')\n",
        "a_df.head()\n",
        "a_df['salary'] = a_df['salary'].cat.codes\n",
        "a_df.tail(20)"
      ],
      "execution_count": null,
      "outputs": [
        {
          "output_type": "execute_result",
          "data": {
            "text/html": [
              "<div>\n",
              "<style scoped>\n",
              "    .dataframe tbody tr th:only-of-type {\n",
              "        vertical-align: middle;\n",
              "    }\n",
              "\n",
              "    .dataframe tbody tr th {\n",
              "        vertical-align: top;\n",
              "    }\n",
              "\n",
              "    .dataframe thead th {\n",
              "        text-align: right;\n",
              "    }\n",
              "</style>\n",
              "<table border=\"1\" class=\"dataframe\">\n",
              "  <thead>\n",
              "    <tr style=\"text-align: right;\">\n",
              "      <th></th>\n",
              "      <th>satisfaction_level</th>\n",
              "      <th>last_evaluation</th>\n",
              "      <th>number_project</th>\n",
              "      <th>average_monthly_hours</th>\n",
              "      <th>time_spend_company</th>\n",
              "      <th>Work_accident</th>\n",
              "      <th>promotion_last_5years</th>\n",
              "      <th>salary</th>\n",
              "    </tr>\n",
              "  </thead>\n",
              "  <tbody>\n",
              "    <tr>\n",
              "      <th>14979</th>\n",
              "      <td>0.09</td>\n",
              "      <td>0.93</td>\n",
              "      <td>6</td>\n",
              "      <td>296</td>\n",
              "      <td>4</td>\n",
              "      <td>0</td>\n",
              "      <td>0</td>\n",
              "      <td>2</td>\n",
              "    </tr>\n",
              "    <tr>\n",
              "      <th>14980</th>\n",
              "      <td>0.76</td>\n",
              "      <td>0.89</td>\n",
              "      <td>5</td>\n",
              "      <td>238</td>\n",
              "      <td>5</td>\n",
              "      <td>0</td>\n",
              "      <td>0</td>\n",
              "      <td>0</td>\n",
              "    </tr>\n",
              "    <tr>\n",
              "      <th>14981</th>\n",
              "      <td>0.73</td>\n",
              "      <td>0.93</td>\n",
              "      <td>5</td>\n",
              "      <td>162</td>\n",
              "      <td>4</td>\n",
              "      <td>0</td>\n",
              "      <td>0</td>\n",
              "      <td>1</td>\n",
              "    </tr>\n",
              "    <tr>\n",
              "      <th>14982</th>\n",
              "      <td>0.38</td>\n",
              "      <td>0.49</td>\n",
              "      <td>2</td>\n",
              "      <td>137</td>\n",
              "      <td>3</td>\n",
              "      <td>0</td>\n",
              "      <td>0</td>\n",
              "      <td>2</td>\n",
              "    </tr>\n",
              "    <tr>\n",
              "      <th>14983</th>\n",
              "      <td>0.72</td>\n",
              "      <td>0.84</td>\n",
              "      <td>5</td>\n",
              "      <td>257</td>\n",
              "      <td>5</td>\n",
              "      <td>0</td>\n",
              "      <td>0</td>\n",
              "      <td>2</td>\n",
              "    </tr>\n",
              "    <tr>\n",
              "      <th>14984</th>\n",
              "      <td>0.40</td>\n",
              "      <td>0.56</td>\n",
              "      <td>2</td>\n",
              "      <td>148</td>\n",
              "      <td>3</td>\n",
              "      <td>0</td>\n",
              "      <td>0</td>\n",
              "      <td>2</td>\n",
              "    </tr>\n",
              "    <tr>\n",
              "      <th>14985</th>\n",
              "      <td>0.91</td>\n",
              "      <td>0.99</td>\n",
              "      <td>5</td>\n",
              "      <td>254</td>\n",
              "      <td>5</td>\n",
              "      <td>0</td>\n",
              "      <td>0</td>\n",
              "      <td>2</td>\n",
              "    </tr>\n",
              "    <tr>\n",
              "      <th>14986</th>\n",
              "      <td>0.85</td>\n",
              "      <td>0.85</td>\n",
              "      <td>4</td>\n",
              "      <td>247</td>\n",
              "      <td>6</td>\n",
              "      <td>0</td>\n",
              "      <td>0</td>\n",
              "      <td>1</td>\n",
              "    </tr>\n",
              "    <tr>\n",
              "      <th>14987</th>\n",
              "      <td>0.90</td>\n",
              "      <td>0.70</td>\n",
              "      <td>5</td>\n",
              "      <td>206</td>\n",
              "      <td>4</td>\n",
              "      <td>0</td>\n",
              "      <td>0</td>\n",
              "      <td>1</td>\n",
              "    </tr>\n",
              "    <tr>\n",
              "      <th>14988</th>\n",
              "      <td>0.46</td>\n",
              "      <td>0.55</td>\n",
              "      <td>2</td>\n",
              "      <td>145</td>\n",
              "      <td>3</td>\n",
              "      <td>0</td>\n",
              "      <td>0</td>\n",
              "      <td>1</td>\n",
              "    </tr>\n",
              "    <tr>\n",
              "      <th>14989</th>\n",
              "      <td>0.43</td>\n",
              "      <td>0.57</td>\n",
              "      <td>2</td>\n",
              "      <td>159</td>\n",
              "      <td>3</td>\n",
              "      <td>1</td>\n",
              "      <td>0</td>\n",
              "      <td>1</td>\n",
              "    </tr>\n",
              "    <tr>\n",
              "      <th>14990</th>\n",
              "      <td>0.89</td>\n",
              "      <td>0.88</td>\n",
              "      <td>5</td>\n",
              "      <td>228</td>\n",
              "      <td>5</td>\n",
              "      <td>1</td>\n",
              "      <td>0</td>\n",
              "      <td>1</td>\n",
              "    </tr>\n",
              "    <tr>\n",
              "      <th>14991</th>\n",
              "      <td>0.09</td>\n",
              "      <td>0.81</td>\n",
              "      <td>6</td>\n",
              "      <td>257</td>\n",
              "      <td>4</td>\n",
              "      <td>0</td>\n",
              "      <td>0</td>\n",
              "      <td>1</td>\n",
              "    </tr>\n",
              "    <tr>\n",
              "      <th>14992</th>\n",
              "      <td>0.40</td>\n",
              "      <td>0.48</td>\n",
              "      <td>2</td>\n",
              "      <td>155</td>\n",
              "      <td>3</td>\n",
              "      <td>0</td>\n",
              "      <td>0</td>\n",
              "      <td>1</td>\n",
              "    </tr>\n",
              "    <tr>\n",
              "      <th>14993</th>\n",
              "      <td>0.76</td>\n",
              "      <td>0.83</td>\n",
              "      <td>6</td>\n",
              "      <td>293</td>\n",
              "      <td>6</td>\n",
              "      <td>0</td>\n",
              "      <td>0</td>\n",
              "      <td>1</td>\n",
              "    </tr>\n",
              "    <tr>\n",
              "      <th>14994</th>\n",
              "      <td>0.40</td>\n",
              "      <td>0.57</td>\n",
              "      <td>2</td>\n",
              "      <td>151</td>\n",
              "      <td>3</td>\n",
              "      <td>0</td>\n",
              "      <td>0</td>\n",
              "      <td>1</td>\n",
              "    </tr>\n",
              "    <tr>\n",
              "      <th>14995</th>\n",
              "      <td>0.37</td>\n",
              "      <td>0.48</td>\n",
              "      <td>2</td>\n",
              "      <td>160</td>\n",
              "      <td>3</td>\n",
              "      <td>0</td>\n",
              "      <td>0</td>\n",
              "      <td>1</td>\n",
              "    </tr>\n",
              "    <tr>\n",
              "      <th>14996</th>\n",
              "      <td>0.37</td>\n",
              "      <td>0.53</td>\n",
              "      <td>2</td>\n",
              "      <td>143</td>\n",
              "      <td>3</td>\n",
              "      <td>0</td>\n",
              "      <td>0</td>\n",
              "      <td>1</td>\n",
              "    </tr>\n",
              "    <tr>\n",
              "      <th>14997</th>\n",
              "      <td>0.11</td>\n",
              "      <td>0.96</td>\n",
              "      <td>6</td>\n",
              "      <td>280</td>\n",
              "      <td>4</td>\n",
              "      <td>0</td>\n",
              "      <td>0</td>\n",
              "      <td>1</td>\n",
              "    </tr>\n",
              "    <tr>\n",
              "      <th>14998</th>\n",
              "      <td>0.37</td>\n",
              "      <td>0.52</td>\n",
              "      <td>2</td>\n",
              "      <td>158</td>\n",
              "      <td>3</td>\n",
              "      <td>0</td>\n",
              "      <td>0</td>\n",
              "      <td>1</td>\n",
              "    </tr>\n",
              "  </tbody>\n",
              "</table>\n",
              "</div>"
            ],
            "text/plain": [
              "       satisfaction_level  last_evaluation  ...  promotion_last_5years  salary\n",
              "14979                0.09             0.93  ...                      0       2\n",
              "14980                0.76             0.89  ...                      0       0\n",
              "14981                0.73             0.93  ...                      0       1\n",
              "14982                0.38             0.49  ...                      0       2\n",
              "14983                0.72             0.84  ...                      0       2\n",
              "14984                0.40             0.56  ...                      0       2\n",
              "14985                0.91             0.99  ...                      0       2\n",
              "14986                0.85             0.85  ...                      0       1\n",
              "14987                0.90             0.70  ...                      0       1\n",
              "14988                0.46             0.55  ...                      0       1\n",
              "14989                0.43             0.57  ...                      0       1\n",
              "14990                0.89             0.88  ...                      0       1\n",
              "14991                0.09             0.81  ...                      0       1\n",
              "14992                0.40             0.48  ...                      0       1\n",
              "14993                0.76             0.83  ...                      0       1\n",
              "14994                0.40             0.57  ...                      0       1\n",
              "14995                0.37             0.48  ...                      0       1\n",
              "14996                0.37             0.53  ...                      0       1\n",
              "14997                0.11             0.96  ...                      0       1\n",
              "14998                0.37             0.52  ...                      0       1\n",
              "\n",
              "[20 rows x 8 columns]"
            ]
          },
          "metadata": {
            "tags": []
          },
          "execution_count": 39
        }
      ]
    },
    {
      "cell_type": "code",
      "metadata": {
        "id": "g4JMtGC1dUSS",
        "colab": {
          "base_uri": "https://localhost:8080/",
          "height": 204
        },
        "outputId": "0a60cc6c-0e69-420e-bf54-af58fdff5160"
      },
      "source": [
        "# standardizing the data\n",
        "a_df[\"salary\"].replace({0:3}, inplace=True)\n",
        "from sklearn.preprocessing import StandardScaler\n",
        "scaler = StandardScaler()\n",
        "data_scaled = scaler.fit_transform(a_df)\n",
        "\n",
        "# statistics of scaled data\n",
        "a_df = pd.DataFrame(data_scaled)\n",
        "a_df.head()"
      ],
      "execution_count": null,
      "outputs": [
        {
          "output_type": "execute_result",
          "data": {
            "text/html": [
              "<div>\n",
              "<style scoped>\n",
              "    .dataframe tbody tr th:only-of-type {\n",
              "        vertical-align: middle;\n",
              "    }\n",
              "\n",
              "    .dataframe tbody tr th {\n",
              "        vertical-align: top;\n",
              "    }\n",
              "\n",
              "    .dataframe thead th {\n",
              "        text-align: right;\n",
              "    }\n",
              "</style>\n",
              "<table border=\"1\" class=\"dataframe\">\n",
              "  <thead>\n",
              "    <tr style=\"text-align: right;\">\n",
              "      <th></th>\n",
              "      <th>0</th>\n",
              "      <th>1</th>\n",
              "      <th>2</th>\n",
              "      <th>3</th>\n",
              "      <th>4</th>\n",
              "      <th>5</th>\n",
              "      <th>6</th>\n",
              "      <th>7</th>\n",
              "    </tr>\n",
              "  </thead>\n",
              "  <tbody>\n",
              "    <tr>\n",
              "      <th>0</th>\n",
              "      <td>-0.936495</td>\n",
              "      <td>-1.087275</td>\n",
              "      <td>-1.462863</td>\n",
              "      <td>-0.882040</td>\n",
              "      <td>-0.341235</td>\n",
              "      <td>-0.411165</td>\n",
              "      <td>-0.147412</td>\n",
              "      <td>-0.933368</td>\n",
              "    </tr>\n",
              "    <tr>\n",
              "      <th>1</th>\n",
              "      <td>0.752814</td>\n",
              "      <td>0.840707</td>\n",
              "      <td>0.971113</td>\n",
              "      <td>1.220423</td>\n",
              "      <td>1.713436</td>\n",
              "      <td>-0.411165</td>\n",
              "      <td>-0.147412</td>\n",
              "      <td>0.636092</td>\n",
              "    </tr>\n",
              "    <tr>\n",
              "      <th>2</th>\n",
              "      <td>-2.022479</td>\n",
              "      <td>0.957554</td>\n",
              "      <td>2.593763</td>\n",
              "      <td>1.420657</td>\n",
              "      <td>0.343655</td>\n",
              "      <td>-0.411165</td>\n",
              "      <td>-0.147412</td>\n",
              "      <td>0.636092</td>\n",
              "    </tr>\n",
              "    <tr>\n",
              "      <th>3</th>\n",
              "      <td>0.431041</td>\n",
              "      <td>0.899131</td>\n",
              "      <td>0.971113</td>\n",
              "      <td>0.439508</td>\n",
              "      <td>1.028546</td>\n",
              "      <td>-0.411165</td>\n",
              "      <td>-0.147412</td>\n",
              "      <td>-0.933368</td>\n",
              "    </tr>\n",
              "    <tr>\n",
              "      <th>4</th>\n",
              "      <td>-0.976716</td>\n",
              "      <td>-1.145699</td>\n",
              "      <td>-1.462863</td>\n",
              "      <td>-0.841993</td>\n",
              "      <td>-0.341235</td>\n",
              "      <td>-0.411165</td>\n",
              "      <td>-0.147412</td>\n",
              "      <td>-0.933368</td>\n",
              "    </tr>\n",
              "  </tbody>\n",
              "</table>\n",
              "</div>"
            ],
            "text/plain": [
              "          0         1         2  ...         5         6         7\n",
              "0 -0.936495 -1.087275 -1.462863  ... -0.411165 -0.147412 -0.933368\n",
              "1  0.752814  0.840707  0.971113  ... -0.411165 -0.147412  0.636092\n",
              "2 -2.022479  0.957554  2.593763  ... -0.411165 -0.147412  0.636092\n",
              "3  0.431041  0.899131  0.971113  ... -0.411165 -0.147412 -0.933368\n",
              "4 -0.976716 -1.145699 -1.462863  ... -0.411165 -0.147412 -0.933368\n",
              "\n",
              "[5 rows x 8 columns]"
            ]
          },
          "metadata": {
            "tags": []
          },
          "execution_count": 40
        }
      ]
    },
    {
      "cell_type": "code",
      "metadata": {
        "id": "MV1rYamYeaWr",
        "colab": {
          "base_uri": "https://localhost:8080/",
          "height": 204
        },
        "outputId": "1d87db01-8994-4916-b777-77a489b98d64"
      },
      "source": [
        "a_df.head()"
      ],
      "execution_count": null,
      "outputs": [
        {
          "output_type": "execute_result",
          "data": {
            "text/html": [
              "<div>\n",
              "<style scoped>\n",
              "    .dataframe tbody tr th:only-of-type {\n",
              "        vertical-align: middle;\n",
              "    }\n",
              "\n",
              "    .dataframe tbody tr th {\n",
              "        vertical-align: top;\n",
              "    }\n",
              "\n",
              "    .dataframe thead th {\n",
              "        text-align: right;\n",
              "    }\n",
              "</style>\n",
              "<table border=\"1\" class=\"dataframe\">\n",
              "  <thead>\n",
              "    <tr style=\"text-align: right;\">\n",
              "      <th></th>\n",
              "      <th>0</th>\n",
              "      <th>1</th>\n",
              "      <th>2</th>\n",
              "      <th>3</th>\n",
              "      <th>4</th>\n",
              "      <th>5</th>\n",
              "      <th>6</th>\n",
              "      <th>7</th>\n",
              "    </tr>\n",
              "  </thead>\n",
              "  <tbody>\n",
              "    <tr>\n",
              "      <th>0</th>\n",
              "      <td>-0.936495</td>\n",
              "      <td>-1.087275</td>\n",
              "      <td>-1.462863</td>\n",
              "      <td>-0.882040</td>\n",
              "      <td>-0.341235</td>\n",
              "      <td>-0.411165</td>\n",
              "      <td>-0.147412</td>\n",
              "      <td>-0.933368</td>\n",
              "    </tr>\n",
              "    <tr>\n",
              "      <th>1</th>\n",
              "      <td>0.752814</td>\n",
              "      <td>0.840707</td>\n",
              "      <td>0.971113</td>\n",
              "      <td>1.220423</td>\n",
              "      <td>1.713436</td>\n",
              "      <td>-0.411165</td>\n",
              "      <td>-0.147412</td>\n",
              "      <td>0.636092</td>\n",
              "    </tr>\n",
              "    <tr>\n",
              "      <th>2</th>\n",
              "      <td>-2.022479</td>\n",
              "      <td>0.957554</td>\n",
              "      <td>2.593763</td>\n",
              "      <td>1.420657</td>\n",
              "      <td>0.343655</td>\n",
              "      <td>-0.411165</td>\n",
              "      <td>-0.147412</td>\n",
              "      <td>0.636092</td>\n",
              "    </tr>\n",
              "    <tr>\n",
              "      <th>3</th>\n",
              "      <td>0.431041</td>\n",
              "      <td>0.899131</td>\n",
              "      <td>0.971113</td>\n",
              "      <td>0.439508</td>\n",
              "      <td>1.028546</td>\n",
              "      <td>-0.411165</td>\n",
              "      <td>-0.147412</td>\n",
              "      <td>-0.933368</td>\n",
              "    </tr>\n",
              "    <tr>\n",
              "      <th>4</th>\n",
              "      <td>-0.976716</td>\n",
              "      <td>-1.145699</td>\n",
              "      <td>-1.462863</td>\n",
              "      <td>-0.841993</td>\n",
              "      <td>-0.341235</td>\n",
              "      <td>-0.411165</td>\n",
              "      <td>-0.147412</td>\n",
              "      <td>-0.933368</td>\n",
              "    </tr>\n",
              "  </tbody>\n",
              "</table>\n",
              "</div>"
            ],
            "text/plain": [
              "          0         1         2  ...         5         6         7\n",
              "0 -0.936495 -1.087275 -1.462863  ... -0.411165 -0.147412 -0.933368\n",
              "1  0.752814  0.840707  0.971113  ... -0.411165 -0.147412  0.636092\n",
              "2 -2.022479  0.957554  2.593763  ... -0.411165 -0.147412  0.636092\n",
              "3  0.431041  0.899131  0.971113  ... -0.411165 -0.147412 -0.933368\n",
              "4 -0.976716 -1.145699 -1.462863  ... -0.411165 -0.147412 -0.933368\n",
              "\n",
              "[5 rows x 8 columns]"
            ]
          },
          "metadata": {
            "tags": []
          },
          "execution_count": 12
        }
      ]
    },
    {
      "cell_type": "code",
      "metadata": {
        "id": "2IQFOx3r55V4",
        "colab": {
          "base_uri": "https://localhost:8080/",
          "height": 419
        },
        "outputId": "bdc754c8-81af-47ed-9b03-6155371d3d3b"
      },
      "source": [
        "cluster = KMeans(n_clusters=8, n_init=30)\n",
        "result = cluster.fit_predict(a_df)\n",
        "a_df[\"prediction\"] = result\n",
        "a_df[\"left\"] = df[\"left\"]\n",
        "a_df"
      ],
      "execution_count": null,
      "outputs": [
        {
          "output_type": "execute_result",
          "data": {
            "text/html": [
              "<div>\n",
              "<style scoped>\n",
              "    .dataframe tbody tr th:only-of-type {\n",
              "        vertical-align: middle;\n",
              "    }\n",
              "\n",
              "    .dataframe tbody tr th {\n",
              "        vertical-align: top;\n",
              "    }\n",
              "\n",
              "    .dataframe thead th {\n",
              "        text-align: right;\n",
              "    }\n",
              "</style>\n",
              "<table border=\"1\" class=\"dataframe\">\n",
              "  <thead>\n",
              "    <tr style=\"text-align: right;\">\n",
              "      <th></th>\n",
              "      <th>0</th>\n",
              "      <th>1</th>\n",
              "      <th>2</th>\n",
              "      <th>3</th>\n",
              "      <th>4</th>\n",
              "      <th>5</th>\n",
              "      <th>6</th>\n",
              "      <th>7</th>\n",
              "      <th>prediction</th>\n",
              "      <th>left</th>\n",
              "    </tr>\n",
              "  </thead>\n",
              "  <tbody>\n",
              "    <tr>\n",
              "      <th>0</th>\n",
              "      <td>-0.936495</td>\n",
              "      <td>-1.087275</td>\n",
              "      <td>-1.462863</td>\n",
              "      <td>-0.882040</td>\n",
              "      <td>-0.341235</td>\n",
              "      <td>-0.411165</td>\n",
              "      <td>-0.147412</td>\n",
              "      <td>-0.933368</td>\n",
              "      <td>1</td>\n",
              "      <td>1</td>\n",
              "    </tr>\n",
              "    <tr>\n",
              "      <th>1</th>\n",
              "      <td>0.752814</td>\n",
              "      <td>0.840707</td>\n",
              "      <td>0.971113</td>\n",
              "      <td>1.220423</td>\n",
              "      <td>1.713436</td>\n",
              "      <td>-0.411165</td>\n",
              "      <td>-0.147412</td>\n",
              "      <td>0.636092</td>\n",
              "      <td>3</td>\n",
              "      <td>1</td>\n",
              "    </tr>\n",
              "    <tr>\n",
              "      <th>2</th>\n",
              "      <td>-2.022479</td>\n",
              "      <td>0.957554</td>\n",
              "      <td>2.593763</td>\n",
              "      <td>1.420657</td>\n",
              "      <td>0.343655</td>\n",
              "      <td>-0.411165</td>\n",
              "      <td>-0.147412</td>\n",
              "      <td>0.636092</td>\n",
              "      <td>5</td>\n",
              "      <td>1</td>\n",
              "    </tr>\n",
              "    <tr>\n",
              "      <th>3</th>\n",
              "      <td>0.431041</td>\n",
              "      <td>0.899131</td>\n",
              "      <td>0.971113</td>\n",
              "      <td>0.439508</td>\n",
              "      <td>1.028546</td>\n",
              "      <td>-0.411165</td>\n",
              "      <td>-0.147412</td>\n",
              "      <td>-0.933368</td>\n",
              "      <td>3</td>\n",
              "      <td>1</td>\n",
              "    </tr>\n",
              "    <tr>\n",
              "      <th>4</th>\n",
              "      <td>-0.976716</td>\n",
              "      <td>-1.145699</td>\n",
              "      <td>-1.462863</td>\n",
              "      <td>-0.841993</td>\n",
              "      <td>-0.341235</td>\n",
              "      <td>-0.411165</td>\n",
              "      <td>-0.147412</td>\n",
              "      <td>-0.933368</td>\n",
              "      <td>1</td>\n",
              "      <td>1</td>\n",
              "    </tr>\n",
              "    <tr>\n",
              "      <th>...</th>\n",
              "      <td>...</td>\n",
              "      <td>...</td>\n",
              "      <td>...</td>\n",
              "      <td>...</td>\n",
              "      <td>...</td>\n",
              "      <td>...</td>\n",
              "      <td>...</td>\n",
              "      <td>...</td>\n",
              "      <td>...</td>\n",
              "      <td>...</td>\n",
              "    </tr>\n",
              "    <tr>\n",
              "      <th>14994</th>\n",
              "      <td>-0.856051</td>\n",
              "      <td>-0.853580</td>\n",
              "      <td>-1.462863</td>\n",
              "      <td>-1.002181</td>\n",
              "      <td>-0.341235</td>\n",
              "      <td>-0.411165</td>\n",
              "      <td>-0.147412</td>\n",
              "      <td>-0.933368</td>\n",
              "      <td>1</td>\n",
              "      <td>1</td>\n",
              "    </tr>\n",
              "    <tr>\n",
              "      <th>14995</th>\n",
              "      <td>-0.976716</td>\n",
              "      <td>-1.379394</td>\n",
              "      <td>-1.462863</td>\n",
              "      <td>-0.821970</td>\n",
              "      <td>-0.341235</td>\n",
              "      <td>-0.411165</td>\n",
              "      <td>-0.147412</td>\n",
              "      <td>-0.933368</td>\n",
              "      <td>1</td>\n",
              "      <td>1</td>\n",
              "    </tr>\n",
              "    <tr>\n",
              "      <th>14996</th>\n",
              "      <td>-0.976716</td>\n",
              "      <td>-1.087275</td>\n",
              "      <td>-1.462863</td>\n",
              "      <td>-1.162368</td>\n",
              "      <td>-0.341235</td>\n",
              "      <td>-0.411165</td>\n",
              "      <td>-0.147412</td>\n",
              "      <td>-0.933368</td>\n",
              "      <td>1</td>\n",
              "      <td>1</td>\n",
              "    </tr>\n",
              "    <tr>\n",
              "      <th>14997</th>\n",
              "      <td>-2.022479</td>\n",
              "      <td>1.424944</td>\n",
              "      <td>1.782438</td>\n",
              "      <td>1.580845</td>\n",
              "      <td>0.343655</td>\n",
              "      <td>-0.411165</td>\n",
              "      <td>-0.147412</td>\n",
              "      <td>-0.933368</td>\n",
              "      <td>5</td>\n",
              "      <td>1</td>\n",
              "    </tr>\n",
              "    <tr>\n",
              "      <th>14998</th>\n",
              "      <td>-0.976716</td>\n",
              "      <td>-1.145699</td>\n",
              "      <td>-1.462863</td>\n",
              "      <td>-0.862016</td>\n",
              "      <td>-0.341235</td>\n",
              "      <td>-0.411165</td>\n",
              "      <td>-0.147412</td>\n",
              "      <td>-0.933368</td>\n",
              "      <td>1</td>\n",
              "      <td>1</td>\n",
              "    </tr>\n",
              "  </tbody>\n",
              "</table>\n",
              "<p>14999 rows × 10 columns</p>\n",
              "</div>"
            ],
            "text/plain": [
              "              0         1         2  ...         7  prediction  left\n",
              "0     -0.936495 -1.087275 -1.462863  ... -0.933368           1     1\n",
              "1      0.752814  0.840707  0.971113  ...  0.636092           3     1\n",
              "2     -2.022479  0.957554  2.593763  ...  0.636092           5     1\n",
              "3      0.431041  0.899131  0.971113  ... -0.933368           3     1\n",
              "4     -0.976716 -1.145699 -1.462863  ... -0.933368           1     1\n",
              "...         ...       ...       ...  ...       ...         ...   ...\n",
              "14994 -0.856051 -0.853580 -1.462863  ... -0.933368           1     1\n",
              "14995 -0.976716 -1.379394 -1.462863  ... -0.933368           1     1\n",
              "14996 -0.976716 -1.087275 -1.462863  ... -0.933368           1     1\n",
              "14997 -2.022479  1.424944  1.782438  ... -0.933368           5     1\n",
              "14998 -0.976716 -1.145699 -1.462863  ... -0.933368           1     1\n",
              "\n",
              "[14999 rows x 10 columns]"
            ]
          },
          "metadata": {
            "tags": []
          },
          "execution_count": 74
        }
      ]
    },
    {
      "cell_type": "code",
      "metadata": {
        "id": "mZwxr3Y6JCim",
        "colab": {
          "base_uri": "https://localhost:8080/",
          "height": 374
        },
        "outputId": "fc935e6e-f465-473f-f705-fb67b2d1057f"
      },
      "source": [
        "stats = a_df.groupby(\"prediction\")[[\"left\"]].mean()\n",
        "print(stats)\n",
        "#a_df.loc[stats[[\"left\"]] >= 0.5, \"prediction\"] = 10\n",
        "#a_df.loc[a_df[\"prediction\"] != 10, \"prediction\"] = 0\n",
        "#a_df.loc[a_df[\"prediction\"] == 10, \"prediction\"] = 0\n",
        "a_df.head()\n",
        "#print(\"correctly predicted:\" + str((a_df[\"prediction\"] == df[\"left\"]).sum()) + \" of 14999\")\n"
      ],
      "execution_count": null,
      "outputs": [
        {
          "output_type": "stream",
          "text": [
            "                left\n",
            "prediction          \n",
            "0           0.063278\n",
            "1           0.653999\n",
            "2           0.005926\n",
            "3           0.740835\n",
            "4           0.013957\n",
            "5           0.605678\n",
            "6           0.059561\n",
            "7           0.019768\n"
          ],
          "name": "stdout"
        },
        {
          "output_type": "execute_result",
          "data": {
            "text/html": [
              "<div>\n",
              "<style scoped>\n",
              "    .dataframe tbody tr th:only-of-type {\n",
              "        vertical-align: middle;\n",
              "    }\n",
              "\n",
              "    .dataframe tbody tr th {\n",
              "        vertical-align: top;\n",
              "    }\n",
              "\n",
              "    .dataframe thead th {\n",
              "        text-align: right;\n",
              "    }\n",
              "</style>\n",
              "<table border=\"1\" class=\"dataframe\">\n",
              "  <thead>\n",
              "    <tr style=\"text-align: right;\">\n",
              "      <th></th>\n",
              "      <th>0</th>\n",
              "      <th>1</th>\n",
              "      <th>2</th>\n",
              "      <th>3</th>\n",
              "      <th>4</th>\n",
              "      <th>5</th>\n",
              "      <th>6</th>\n",
              "      <th>7</th>\n",
              "      <th>prediction</th>\n",
              "      <th>left</th>\n",
              "    </tr>\n",
              "  </thead>\n",
              "  <tbody>\n",
              "    <tr>\n",
              "      <th>0</th>\n",
              "      <td>-0.936495</td>\n",
              "      <td>-1.087275</td>\n",
              "      <td>-1.462863</td>\n",
              "      <td>-0.882040</td>\n",
              "      <td>-0.341235</td>\n",
              "      <td>-0.411165</td>\n",
              "      <td>-0.147412</td>\n",
              "      <td>-0.933368</td>\n",
              "      <td>1</td>\n",
              "      <td>1</td>\n",
              "    </tr>\n",
              "    <tr>\n",
              "      <th>1</th>\n",
              "      <td>0.752814</td>\n",
              "      <td>0.840707</td>\n",
              "      <td>0.971113</td>\n",
              "      <td>1.220423</td>\n",
              "      <td>1.713436</td>\n",
              "      <td>-0.411165</td>\n",
              "      <td>-0.147412</td>\n",
              "      <td>0.636092</td>\n",
              "      <td>3</td>\n",
              "      <td>1</td>\n",
              "    </tr>\n",
              "    <tr>\n",
              "      <th>2</th>\n",
              "      <td>-2.022479</td>\n",
              "      <td>0.957554</td>\n",
              "      <td>2.593763</td>\n",
              "      <td>1.420657</td>\n",
              "      <td>0.343655</td>\n",
              "      <td>-0.411165</td>\n",
              "      <td>-0.147412</td>\n",
              "      <td>0.636092</td>\n",
              "      <td>5</td>\n",
              "      <td>1</td>\n",
              "    </tr>\n",
              "    <tr>\n",
              "      <th>3</th>\n",
              "      <td>0.431041</td>\n",
              "      <td>0.899131</td>\n",
              "      <td>0.971113</td>\n",
              "      <td>0.439508</td>\n",
              "      <td>1.028546</td>\n",
              "      <td>-0.411165</td>\n",
              "      <td>-0.147412</td>\n",
              "      <td>-0.933368</td>\n",
              "      <td>3</td>\n",
              "      <td>1</td>\n",
              "    </tr>\n",
              "    <tr>\n",
              "      <th>4</th>\n",
              "      <td>-0.976716</td>\n",
              "      <td>-1.145699</td>\n",
              "      <td>-1.462863</td>\n",
              "      <td>-0.841993</td>\n",
              "      <td>-0.341235</td>\n",
              "      <td>-0.411165</td>\n",
              "      <td>-0.147412</td>\n",
              "      <td>-0.933368</td>\n",
              "      <td>1</td>\n",
              "      <td>1</td>\n",
              "    </tr>\n",
              "  </tbody>\n",
              "</table>\n",
              "</div>"
            ],
            "text/plain": [
              "          0         1         2         3  ...         6         7  prediction  left\n",
              "0 -0.936495 -1.087275 -1.462863 -0.882040  ... -0.147412 -0.933368           1     1\n",
              "1  0.752814  0.840707  0.971113  1.220423  ... -0.147412  0.636092           3     1\n",
              "2 -2.022479  0.957554  2.593763  1.420657  ... -0.147412  0.636092           5     1\n",
              "3  0.431041  0.899131  0.971113  0.439508  ... -0.147412 -0.933368           3     1\n",
              "4 -0.976716 -1.145699 -1.462863 -0.841993  ... -0.147412 -0.933368           1     1\n",
              "\n",
              "[5 rows x 10 columns]"
            ]
          },
          "metadata": {
            "tags": []
          },
          "execution_count": 75
        }
      ]
    },
    {
      "cell_type": "code",
      "metadata": {
        "id": "5MBDnW6cKXB1",
        "colab": {
          "base_uri": "https://localhost:8080/",
          "height": 204
        },
        "outputId": "5dea71fd-4bb1-4932-b4d5-cab11701e1b4"
      },
      "source": [
        "a_df[\"prediction\"].replace({0:0, 1:1, 2:0, 3:1, 4:0, 5:1, 6:0, 7:0, 8:0}, inplace=True)\n",
        "a_df.head()"
      ],
      "execution_count": null,
      "outputs": [
        {
          "output_type": "execute_result",
          "data": {
            "text/html": [
              "<div>\n",
              "<style scoped>\n",
              "    .dataframe tbody tr th:only-of-type {\n",
              "        vertical-align: middle;\n",
              "    }\n",
              "\n",
              "    .dataframe tbody tr th {\n",
              "        vertical-align: top;\n",
              "    }\n",
              "\n",
              "    .dataframe thead th {\n",
              "        text-align: right;\n",
              "    }\n",
              "</style>\n",
              "<table border=\"1\" class=\"dataframe\">\n",
              "  <thead>\n",
              "    <tr style=\"text-align: right;\">\n",
              "      <th></th>\n",
              "      <th>0</th>\n",
              "      <th>1</th>\n",
              "      <th>2</th>\n",
              "      <th>3</th>\n",
              "      <th>4</th>\n",
              "      <th>5</th>\n",
              "      <th>6</th>\n",
              "      <th>7</th>\n",
              "      <th>prediction</th>\n",
              "      <th>left</th>\n",
              "    </tr>\n",
              "  </thead>\n",
              "  <tbody>\n",
              "    <tr>\n",
              "      <th>0</th>\n",
              "      <td>-0.936495</td>\n",
              "      <td>-1.087275</td>\n",
              "      <td>-1.462863</td>\n",
              "      <td>-0.882040</td>\n",
              "      <td>-0.341235</td>\n",
              "      <td>-0.411165</td>\n",
              "      <td>-0.147412</td>\n",
              "      <td>-0.933368</td>\n",
              "      <td>1</td>\n",
              "      <td>1</td>\n",
              "    </tr>\n",
              "    <tr>\n",
              "      <th>1</th>\n",
              "      <td>0.752814</td>\n",
              "      <td>0.840707</td>\n",
              "      <td>0.971113</td>\n",
              "      <td>1.220423</td>\n",
              "      <td>1.713436</td>\n",
              "      <td>-0.411165</td>\n",
              "      <td>-0.147412</td>\n",
              "      <td>0.636092</td>\n",
              "      <td>1</td>\n",
              "      <td>1</td>\n",
              "    </tr>\n",
              "    <tr>\n",
              "      <th>2</th>\n",
              "      <td>-2.022479</td>\n",
              "      <td>0.957554</td>\n",
              "      <td>2.593763</td>\n",
              "      <td>1.420657</td>\n",
              "      <td>0.343655</td>\n",
              "      <td>-0.411165</td>\n",
              "      <td>-0.147412</td>\n",
              "      <td>0.636092</td>\n",
              "      <td>1</td>\n",
              "      <td>1</td>\n",
              "    </tr>\n",
              "    <tr>\n",
              "      <th>3</th>\n",
              "      <td>0.431041</td>\n",
              "      <td>0.899131</td>\n",
              "      <td>0.971113</td>\n",
              "      <td>0.439508</td>\n",
              "      <td>1.028546</td>\n",
              "      <td>-0.411165</td>\n",
              "      <td>-0.147412</td>\n",
              "      <td>-0.933368</td>\n",
              "      <td>1</td>\n",
              "      <td>1</td>\n",
              "    </tr>\n",
              "    <tr>\n",
              "      <th>4</th>\n",
              "      <td>-0.976716</td>\n",
              "      <td>-1.145699</td>\n",
              "      <td>-1.462863</td>\n",
              "      <td>-0.841993</td>\n",
              "      <td>-0.341235</td>\n",
              "      <td>-0.411165</td>\n",
              "      <td>-0.147412</td>\n",
              "      <td>-0.933368</td>\n",
              "      <td>1</td>\n",
              "      <td>1</td>\n",
              "    </tr>\n",
              "  </tbody>\n",
              "</table>\n",
              "</div>"
            ],
            "text/plain": [
              "          0         1         2         3  ...         6         7  prediction  left\n",
              "0 -0.936495 -1.087275 -1.462863 -0.882040  ... -0.147412 -0.933368           1     1\n",
              "1  0.752814  0.840707  0.971113  1.220423  ... -0.147412  0.636092           1     1\n",
              "2 -2.022479  0.957554  2.593763  1.420657  ... -0.147412  0.636092           1     1\n",
              "3  0.431041  0.899131  0.971113  0.439508  ... -0.147412 -0.933368           1     1\n",
              "4 -0.976716 -1.145699 -1.462863 -0.841993  ... -0.147412 -0.933368           1     1\n",
              "\n",
              "[5 rows x 10 columns]"
            ]
          },
          "metadata": {
            "tags": []
          },
          "execution_count": 76
        }
      ]
    },
    {
      "cell_type": "code",
      "metadata": {
        "id": "HiC6dmnZX1xz",
        "colab": {
          "base_uri": "https://localhost:8080/"
        },
        "outputId": "e723b8a8-08b6-48e2-8435-eb7f05abeb9d"
      },
      "source": [
        "print(\"Correctly predicted:\" + str((a_df[\"prediction\"] == df[\"left\"]).sum()) + \" of 14999\")\n",
        "print(\"Accuracy:\" + str((a_df[\"prediction\"] == df[\"left\"]).mean()))"
      ],
      "execution_count": null,
      "outputs": [
        {
          "output_type": "stream",
          "text": [
            "Correctly predicted:13025 of 14999\n",
            "Accuracy:0.8683912260817388\n"
          ],
          "name": "stdout"
        }
      ]
    },
    {
      "cell_type": "code",
      "metadata": {
        "id": "MCZiJZ-NpBTv"
      },
      "source": [
        "a_df = a_df.drop(columns=[\"prediction\", \"left\"])"
      ],
      "execution_count": null,
      "outputs": []
    },
    {
      "cell_type": "code",
      "metadata": {
        "id": "M50aacBno9qW",
        "colab": {
          "base_uri": "https://localhost:8080/",
          "height": 573
        },
        "outputId": "a0f4f43f-f7e4-4aa4-f895-ff3f41461f4c"
      },
      "source": [
        "groups = df.groupby('left')\n",
        "fig, ax = plt.subplots()\n",
        "\n",
        "for name, group in groups:\n",
        "    ax.scatter(group.satisfaction_level, group.average_monthly_hours, label=name)\n",
        "\n",
        "ax.legend([\"didn't leave\",'left'])\n",
        "ax.set(xlabel='Satisfaction Level', ylabel='Average Monthly Hours', title='Actual employee status')\n",
        "\n",
        "###\n",
        "new_df = df.drop(columns=[\"left\", \"department\"])\n",
        "new_df[\"prediction\"] = a_df[\"prediction\"]\n",
        "groups = new_df.groupby('prediction')\n",
        "fig2, ax2 = plt.subplots()\n",
        "\n",
        "for name, group in groups:\n",
        "    ax2.scatter(group.satisfaction_level, group.average_monthly_hours, label=name)\n",
        "\n",
        "ax2.legend()\n",
        "ax2.set(xlabel='Satisfaction Level', ylabel='Average Monthly Hours', title='Algorithm predictions')\n",
        "plt.show()\n"
      ],
      "execution_count": null,
      "outputs": [
        {
          "output_type": "display_data",
          "data": {
            "image/png": "[encoded data removed]",
            "text/plain": [
              "<Figure size 432x288 with 1 Axes>"
            ]
          },
          "metadata": {
            "tags": [],
            "needs_background": "light"
          }
        },
        {
          "output_type": "display_data",
          "data": {
            "image/png": "[encoded data removed]",
            "text/plain": [
              "<Figure size 432x288 with 1 Axes>"
            ]
          },
          "metadata": {
            "tags": [],
            "needs_background": "light"
          }
        }
      ]
    },
    {
      "cell_type": "code",
      "metadata": {
        "id": "0FJSB-r4sP79"
      },
      "source": [
        ""
      ],
      "execution_count": null,
      "outputs": []
    }
  ]
}