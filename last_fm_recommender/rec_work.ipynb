{
 "cells": [
  {
   "attachments": {},
   "cell_type": "markdown",
   "metadata": {},
   "source": [
    "# CA4015 Recommender System Assignment\n",
    "**Author:** Joseph Oluwasanya  \n",
    "**StudentID:** 19329261\n",
    "\n",
    "In this assignment, I build a system for recommending users to artists based on their listening history. The music library used is the Last.FM dataset, consisting of 92,800 artist listening records from 1892 users.\n",
    "<br>\n",
    "### Table of Contents:\n",
    "1. **Data Preperation**: Packages and datasets are imported. Data analysis and prepreocessing code is included here.  \n",
    "    1.1 Importing Packages  \n",
    "    1.2 Data Analysis  \n",
    "    1.3 Data Preprocessing\n",
    "\n",
    "2. **Recommender System**: Building, testing, and evaluating the recommender system  \n",
    "    2.1 Building CF Model  \n",
    "3. **Evaluating Recommendations:** Testing is split into two sections. User recommendations, and embedding nearest neighbors.  \n",
    "    3.1 Your recommendations  \n",
    "    3.2 Embeddings Nearest neighbors \n",
    "\n",
    "\n"
   ]
  },
  {
   "cell_type": "markdown",
   "metadata": {},
   "source": [
    "## 1. Data Preparation"
   ]
  },
  {
   "attachments": {},
   "cell_type": "markdown",
   "metadata": {},
   "source": [
    "### 1.1 Importing Packages"
   ]
  },
  {
   "cell_type": "code",
   "execution_count": 1,
   "metadata": {},
   "outputs": [
    {
     "name": "stdout",
     "output_type": "stream",
     "text": [
      "WARNING:tensorflow:From c:\\Users\\joluw\\anaconda3\\lib\\site-packages\\tensorflow\\python\\compat\\v2_compat.py:96: disable_resource_variables (from tensorflow.python.ops.variable_scope) is deprecated and will be removed in a future version.\n",
      "Instructions for updating:\n",
      "non-resource variables are not supported in the long term\n"
     ]
    }
   ],
   "source": [
    "import pandas as pd\n",
    "import numpy as np\n",
    "import collections\n",
    "from IPython import display\n",
    "\n",
    "import matplotlib.pyplot as plt\n",
    "import seaborn as sns\n",
    "from tqdm import tqdm\n",
    "\n",
    "import sklearn\n",
    "import sklearn.manifold\n",
    "import tensorflow.compat.v1 as tf\n",
    "tf.disable_v2_behavior() # Disable eager evaluations\n",
    "from sklearn.preprocessing import RobustScaler, MinMaxScaler\n",
    "\n",
    "# convenience functions for pandas dataframe\n",
    "pd.options.display.max_rows = 10\n",
    "pd.options.display.float_format = '{:.3f}'.format\n",
    "\n",
    "# filters dataframe using 'function' applied to' key' column\n",
    "def mask(df, key, function):\n",
    "    return df[function(df[key])]\n",
    "\n",
    "# flattens multi-indexed columns\n",
    "def flatten_cols(df):\n",
    "    df.columns = [' '.join(col).strip() for col in df.columns.values]\n",
    "\n",
    "\n",
    "pd.DataFrame.mask = mask\n",
    "pd.DataFrame.flatten_cols = flatten_cols\n",
    "\n",
    "seed=42\n",
    "%matplotlib inline\n"
   ]
  },
  {
   "cell_type": "code",
   "execution_count": 2,
   "metadata": {},
   "outputs": [],
   "source": [
    "artists = pd.read_csv('data/artists.dat', delimiter='\\t')\n",
    "artists = artists.rename(columns={'id': 'artistID'})\n",
    "user_artists = pd.read_csv('data/user_artists.dat', delimiter='\\t')\n",
    "user_friends = pd.read_csv('data/user_friends.dat', delimiter='\\t')\n",
    "user_tagged = pd.read_csv('data/user_taggedartists.dat', delimiter='\\t')\n",
    "user_tagged_timestamp = pd.read_csv('data/user_taggedartists-timestamps.dat', delimiter='\\t')\n"
   ]
  },
  {
   "cell_type": "code",
   "execution_count": 3,
   "metadata": {},
   "outputs": [],
   "source": [
    "# utf-8 (default) encoding failed to decode, so switched to latin1\n",
    "tags = pd.read_csv('data/tags.dat', delimiter='\\t', encoding='latin1')\n"
   ]
  },
  {
   "cell_type": "code",
   "execution_count": 4,
   "metadata": {},
   "outputs": [],
   "source": [
    "datasets = [artists, user_artists, user_friends, user_tagged]"
   ]
  },
  {
   "cell_type": "code",
   "execution_count": 5,
   "metadata": {},
   "outputs": [
    {
     "name": "stdout",
     "output_type": "stream",
     "text": [
      "(11946, 2)\n"
     ]
    },
    {
     "data": {
      "text/html": [
       "<div>\n",
       "<style scoped>\n",
       "    .dataframe tbody tr th:only-of-type {\n",
       "        vertical-align: middle;\n",
       "    }\n",
       "\n",
       "    .dataframe tbody tr th {\n",
       "        vertical-align: top;\n",
       "    }\n",
       "\n",
       "    .dataframe thead th {\n",
       "        text-align: right;\n",
       "    }\n",
       "</style>\n",
       "<table border=\"1\" class=\"dataframe\">\n",
       "  <thead>\n",
       "    <tr style=\"text-align: right;\">\n",
       "      <th></th>\n",
       "      <th>tagID</th>\n",
       "      <th>tagValue</th>\n",
       "    </tr>\n",
       "  </thead>\n",
       "  <tbody>\n",
       "    <tr>\n",
       "      <th>0</th>\n",
       "      <td>1</td>\n",
       "      <td>metal</td>\n",
       "    </tr>\n",
       "    <tr>\n",
       "      <th>1</th>\n",
       "      <td>2</td>\n",
       "      <td>alternative metal</td>\n",
       "    </tr>\n",
       "    <tr>\n",
       "      <th>2</th>\n",
       "      <td>3</td>\n",
       "      <td>goth rock</td>\n",
       "    </tr>\n",
       "    <tr>\n",
       "      <th>3</th>\n",
       "      <td>4</td>\n",
       "      <td>black metal</td>\n",
       "    </tr>\n",
       "    <tr>\n",
       "      <th>4</th>\n",
       "      <td>5</td>\n",
       "      <td>death metal</td>\n",
       "    </tr>\n",
       "  </tbody>\n",
       "</table>\n",
       "</div>"
      ],
      "text/plain": [
       "   tagID           tagValue\n",
       "0      1              metal\n",
       "1      2  alternative metal\n",
       "2      3          goth rock\n",
       "3      4        black metal\n",
       "4      5        death metal"
      ]
     },
     "execution_count": 5,
     "metadata": {},
     "output_type": "execute_result"
    }
   ],
   "source": [
    "print(tags.shape)\n",
    "tags.head()"
   ]
  },
  {
   "cell_type": "code",
   "execution_count": 6,
   "metadata": {},
   "outputs": [
    {
     "name": "stdout",
     "output_type": "stream",
     "text": [
      "(17632, 4)\n"
     ]
    },
    {
     "data": {
      "text/html": [
       "<div>\n",
       "<style scoped>\n",
       "    .dataframe tbody tr th:only-of-type {\n",
       "        vertical-align: middle;\n",
       "    }\n",
       "\n",
       "    .dataframe tbody tr th {\n",
       "        vertical-align: top;\n",
       "    }\n",
       "\n",
       "    .dataframe thead th {\n",
       "        text-align: right;\n",
       "    }\n",
       "</style>\n",
       "<table border=\"1\" class=\"dataframe\">\n",
       "  <thead>\n",
       "    <tr style=\"text-align: right;\">\n",
       "      <th></th>\n",
       "      <th>artistID</th>\n",
       "      <th>name</th>\n",
       "      <th>url</th>\n",
       "      <th>pictureURL</th>\n",
       "    </tr>\n",
       "  </thead>\n",
       "  <tbody>\n",
       "    <tr>\n",
       "      <th>0</th>\n",
       "      <td>1</td>\n",
       "      <td>MALICE MIZER</td>\n",
       "      <td>http://www.last.fm/music/MALICE+MIZER</td>\n",
       "      <td>http://userserve-ak.last.fm/serve/252/10808.jpg</td>\n",
       "    </tr>\n",
       "    <tr>\n",
       "      <th>1</th>\n",
       "      <td>2</td>\n",
       "      <td>Diary of Dreams</td>\n",
       "      <td>http://www.last.fm/music/Diary+of+Dreams</td>\n",
       "      <td>http://userserve-ak.last.fm/serve/252/3052066.jpg</td>\n",
       "    </tr>\n",
       "    <tr>\n",
       "      <th>2</th>\n",
       "      <td>3</td>\n",
       "      <td>Carpathian Forest</td>\n",
       "      <td>http://www.last.fm/music/Carpathian+Forest</td>\n",
       "      <td>http://userserve-ak.last.fm/serve/252/40222717...</td>\n",
       "    </tr>\n",
       "    <tr>\n",
       "      <th>3</th>\n",
       "      <td>4</td>\n",
       "      <td>Moi dix Mois</td>\n",
       "      <td>http://www.last.fm/music/Moi+dix+Mois</td>\n",
       "      <td>http://userserve-ak.last.fm/serve/252/54697835...</td>\n",
       "    </tr>\n",
       "    <tr>\n",
       "      <th>4</th>\n",
       "      <td>5</td>\n",
       "      <td>Bella Morte</td>\n",
       "      <td>http://www.last.fm/music/Bella+Morte</td>\n",
       "      <td>http://userserve-ak.last.fm/serve/252/14789013...</td>\n",
       "    </tr>\n",
       "  </tbody>\n",
       "</table>\n",
       "</div>"
      ],
      "text/plain": [
       "   artistID               name                                         url  \\\n",
       "0         1       MALICE MIZER       http://www.last.fm/music/MALICE+MIZER   \n",
       "1         2    Diary of Dreams    http://www.last.fm/music/Diary+of+Dreams   \n",
       "2         3  Carpathian Forest  http://www.last.fm/music/Carpathian+Forest   \n",
       "3         4       Moi dix Mois       http://www.last.fm/music/Moi+dix+Mois   \n",
       "4         5        Bella Morte        http://www.last.fm/music/Bella+Morte   \n",
       "\n",
       "                                          pictureURL  \n",
       "0    http://userserve-ak.last.fm/serve/252/10808.jpg  \n",
       "1  http://userserve-ak.last.fm/serve/252/3052066.jpg  \n",
       "2  http://userserve-ak.last.fm/serve/252/40222717...  \n",
       "3  http://userserve-ak.last.fm/serve/252/54697835...  \n",
       "4  http://userserve-ak.last.fm/serve/252/14789013...  "
      ]
     },
     "execution_count": 6,
     "metadata": {},
     "output_type": "execute_result"
    }
   ],
   "source": [
    "print(artists.shape)\n",
    "artists.head()"
   ]
  },
  {
   "cell_type": "code",
   "execution_count": 7,
   "metadata": {},
   "outputs": [
    {
     "name": "stdout",
     "output_type": "stream",
     "text": [
      "(92834, 3)\n"
     ]
    },
    {
     "data": {
      "text/html": [
       "<div>\n",
       "<style scoped>\n",
       "    .dataframe tbody tr th:only-of-type {\n",
       "        vertical-align: middle;\n",
       "    }\n",
       "\n",
       "    .dataframe tbody tr th {\n",
       "        vertical-align: top;\n",
       "    }\n",
       "\n",
       "    .dataframe thead th {\n",
       "        text-align: right;\n",
       "    }\n",
       "</style>\n",
       "<table border=\"1\" class=\"dataframe\">\n",
       "  <thead>\n",
       "    <tr style=\"text-align: right;\">\n",
       "      <th></th>\n",
       "      <th>userID</th>\n",
       "      <th>artistID</th>\n",
       "      <th>weight</th>\n",
       "    </tr>\n",
       "  </thead>\n",
       "  <tbody>\n",
       "    <tr>\n",
       "      <th>0</th>\n",
       "      <td>2</td>\n",
       "      <td>51</td>\n",
       "      <td>13883</td>\n",
       "    </tr>\n",
       "    <tr>\n",
       "      <th>1</th>\n",
       "      <td>2</td>\n",
       "      <td>52</td>\n",
       "      <td>11690</td>\n",
       "    </tr>\n",
       "    <tr>\n",
       "      <th>2</th>\n",
       "      <td>2</td>\n",
       "      <td>53</td>\n",
       "      <td>11351</td>\n",
       "    </tr>\n",
       "    <tr>\n",
       "      <th>3</th>\n",
       "      <td>2</td>\n",
       "      <td>54</td>\n",
       "      <td>10300</td>\n",
       "    </tr>\n",
       "    <tr>\n",
       "      <th>4</th>\n",
       "      <td>2</td>\n",
       "      <td>55</td>\n",
       "      <td>8983</td>\n",
       "    </tr>\n",
       "  </tbody>\n",
       "</table>\n",
       "</div>"
      ],
      "text/plain": [
       "   userID  artistID  weight\n",
       "0       2        51   13883\n",
       "1       2        52   11690\n",
       "2       2        53   11351\n",
       "3       2        54   10300\n",
       "4       2        55    8983"
      ]
     },
     "execution_count": 7,
     "metadata": {},
     "output_type": "execute_result"
    }
   ],
   "source": [
    "print(user_artists.shape)\n",
    "user_artists.head()"
   ]
  },
  {
   "cell_type": "code",
   "execution_count": 8,
   "metadata": {},
   "outputs": [
    {
     "name": "stdout",
     "output_type": "stream",
     "text": [
      "(25434, 2)\n"
     ]
    },
    {
     "data": {
      "text/html": [
       "<div>\n",
       "<style scoped>\n",
       "    .dataframe tbody tr th:only-of-type {\n",
       "        vertical-align: middle;\n",
       "    }\n",
       "\n",
       "    .dataframe tbody tr th {\n",
       "        vertical-align: top;\n",
       "    }\n",
       "\n",
       "    .dataframe thead th {\n",
       "        text-align: right;\n",
       "    }\n",
       "</style>\n",
       "<table border=\"1\" class=\"dataframe\">\n",
       "  <thead>\n",
       "    <tr style=\"text-align: right;\">\n",
       "      <th></th>\n",
       "      <th>userID</th>\n",
       "      <th>friendID</th>\n",
       "    </tr>\n",
       "  </thead>\n",
       "  <tbody>\n",
       "    <tr>\n",
       "      <th>0</th>\n",
       "      <td>2</td>\n",
       "      <td>275</td>\n",
       "    </tr>\n",
       "    <tr>\n",
       "      <th>1</th>\n",
       "      <td>2</td>\n",
       "      <td>428</td>\n",
       "    </tr>\n",
       "    <tr>\n",
       "      <th>2</th>\n",
       "      <td>2</td>\n",
       "      <td>515</td>\n",
       "    </tr>\n",
       "    <tr>\n",
       "      <th>3</th>\n",
       "      <td>2</td>\n",
       "      <td>761</td>\n",
       "    </tr>\n",
       "    <tr>\n",
       "      <th>4</th>\n",
       "      <td>2</td>\n",
       "      <td>831</td>\n",
       "    </tr>\n",
       "  </tbody>\n",
       "</table>\n",
       "</div>"
      ],
      "text/plain": [
       "   userID  friendID\n",
       "0       2       275\n",
       "1       2       428\n",
       "2       2       515\n",
       "3       2       761\n",
       "4       2       831"
      ]
     },
     "execution_count": 8,
     "metadata": {},
     "output_type": "execute_result"
    }
   ],
   "source": [
    "print(user_friends.shape)\n",
    "user_friends.head()"
   ]
  },
  {
   "cell_type": "code",
   "execution_count": 9,
   "metadata": {},
   "outputs": [
    {
     "name": "stdout",
     "output_type": "stream",
     "text": [
      "(186479, 6)\n"
     ]
    },
    {
     "data": {
      "text/html": [
       "<div>\n",
       "<style scoped>\n",
       "    .dataframe tbody tr th:only-of-type {\n",
       "        vertical-align: middle;\n",
       "    }\n",
       "\n",
       "    .dataframe tbody tr th {\n",
       "        vertical-align: top;\n",
       "    }\n",
       "\n",
       "    .dataframe thead th {\n",
       "        text-align: right;\n",
       "    }\n",
       "</style>\n",
       "<table border=\"1\" class=\"dataframe\">\n",
       "  <thead>\n",
       "    <tr style=\"text-align: right;\">\n",
       "      <th></th>\n",
       "      <th>userID</th>\n",
       "      <th>artistID</th>\n",
       "      <th>tagID</th>\n",
       "      <th>day</th>\n",
       "      <th>month</th>\n",
       "      <th>year</th>\n",
       "    </tr>\n",
       "  </thead>\n",
       "  <tbody>\n",
       "    <tr>\n",
       "      <th>0</th>\n",
       "      <td>2</td>\n",
       "      <td>52</td>\n",
       "      <td>13</td>\n",
       "      <td>1</td>\n",
       "      <td>4</td>\n",
       "      <td>2009</td>\n",
       "    </tr>\n",
       "    <tr>\n",
       "      <th>1</th>\n",
       "      <td>2</td>\n",
       "      <td>52</td>\n",
       "      <td>15</td>\n",
       "      <td>1</td>\n",
       "      <td>4</td>\n",
       "      <td>2009</td>\n",
       "    </tr>\n",
       "    <tr>\n",
       "      <th>2</th>\n",
       "      <td>2</td>\n",
       "      <td>52</td>\n",
       "      <td>18</td>\n",
       "      <td>1</td>\n",
       "      <td>4</td>\n",
       "      <td>2009</td>\n",
       "    </tr>\n",
       "    <tr>\n",
       "      <th>3</th>\n",
       "      <td>2</td>\n",
       "      <td>52</td>\n",
       "      <td>21</td>\n",
       "      <td>1</td>\n",
       "      <td>4</td>\n",
       "      <td>2009</td>\n",
       "    </tr>\n",
       "    <tr>\n",
       "      <th>4</th>\n",
       "      <td>2</td>\n",
       "      <td>52</td>\n",
       "      <td>41</td>\n",
       "      <td>1</td>\n",
       "      <td>4</td>\n",
       "      <td>2009</td>\n",
       "    </tr>\n",
       "  </tbody>\n",
       "</table>\n",
       "</div>"
      ],
      "text/plain": [
       "   userID  artistID  tagID  day  month  year\n",
       "0       2        52     13    1      4  2009\n",
       "1       2        52     15    1      4  2009\n",
       "2       2        52     18    1      4  2009\n",
       "3       2        52     21    1      4  2009\n",
       "4       2        52     41    1      4  2009"
      ]
     },
     "execution_count": 9,
     "metadata": {},
     "output_type": "execute_result"
    }
   ],
   "source": [
    "print(user_tagged.shape)\n",
    "user_tagged.head()"
   ]
  },
  {
   "cell_type": "code",
   "execution_count": 10,
   "metadata": {},
   "outputs": [
    {
     "name": "stdout",
     "output_type": "stream",
     "text": [
      "(186479, 4)\n"
     ]
    },
    {
     "data": {
      "text/html": [
       "<div>\n",
       "<style scoped>\n",
       "    .dataframe tbody tr th:only-of-type {\n",
       "        vertical-align: middle;\n",
       "    }\n",
       "\n",
       "    .dataframe tbody tr th {\n",
       "        vertical-align: top;\n",
       "    }\n",
       "\n",
       "    .dataframe thead th {\n",
       "        text-align: right;\n",
       "    }\n",
       "</style>\n",
       "<table border=\"1\" class=\"dataframe\">\n",
       "  <thead>\n",
       "    <tr style=\"text-align: right;\">\n",
       "      <th></th>\n",
       "      <th>userID</th>\n",
       "      <th>artistID</th>\n",
       "      <th>tagID</th>\n",
       "      <th>timestamp</th>\n",
       "    </tr>\n",
       "  </thead>\n",
       "  <tbody>\n",
       "    <tr>\n",
       "      <th>0</th>\n",
       "      <td>2</td>\n",
       "      <td>52</td>\n",
       "      <td>13</td>\n",
       "      <td>1238536800000</td>\n",
       "    </tr>\n",
       "    <tr>\n",
       "      <th>1</th>\n",
       "      <td>2</td>\n",
       "      <td>52</td>\n",
       "      <td>15</td>\n",
       "      <td>1238536800000</td>\n",
       "    </tr>\n",
       "    <tr>\n",
       "      <th>2</th>\n",
       "      <td>2</td>\n",
       "      <td>52</td>\n",
       "      <td>18</td>\n",
       "      <td>1238536800000</td>\n",
       "    </tr>\n",
       "    <tr>\n",
       "      <th>3</th>\n",
       "      <td>2</td>\n",
       "      <td>52</td>\n",
       "      <td>21</td>\n",
       "      <td>1238536800000</td>\n",
       "    </tr>\n",
       "    <tr>\n",
       "      <th>4</th>\n",
       "      <td>2</td>\n",
       "      <td>52</td>\n",
       "      <td>41</td>\n",
       "      <td>1238536800000</td>\n",
       "    </tr>\n",
       "  </tbody>\n",
       "</table>\n",
       "</div>"
      ],
      "text/plain": [
       "   userID  artistID  tagID      timestamp\n",
       "0       2        52     13  1238536800000\n",
       "1       2        52     15  1238536800000\n",
       "2       2        52     18  1238536800000\n",
       "3       2        52     21  1238536800000\n",
       "4       2        52     41  1238536800000"
      ]
     },
     "execution_count": 10,
     "metadata": {},
     "output_type": "execute_result"
    }
   ],
   "source": [
    "print(user_tagged_timestamp.shape)\n",
    "user_tagged_timestamp.head()"
   ]
  },
  {
   "attachments": {},
   "cell_type": "markdown",
   "metadata": {},
   "source": [
    "### 1.2 Data Analysis\n",
    "\n",
    "The following tables are featured in the dataset:  \n",
    "**artist:** Contains map of artistID to artist name and URLs to their music on last.fm, and a picture of them.\n",
    "\n",
    "**user_artist:** Contains the entries for producing sparse feedback matrix of listeners and artists. That is, user-artist pairs with a \"listening count\" under the name \"weight\". From exploring this weights variable, I saw that it doesn't lend itself well to a 5-star rating manual feedback representation but rather an implicit feedback representation.\n",
    "\n",
    "**user_tagged**: Users were able to assign tags to artists. These are stored here in (userID, tagID) pairs. The timestamp at which the tags were assigned are also included (may not use those). I will add a \"top3 tags\" and \"top1 tag\" as additional information to the data. This will help with evaluating the recommendations later. \n",
    "\n",
    "**user_friends**: Contains (user, friend) relationships by userID\n",
    "\n"
   ]
  },
  {
   "cell_type": "code",
   "execution_count": 11,
   "metadata": {},
   "outputs": [
    {
     "name": "stdout",
     "output_type": "stream",
     "text": [
      "artistID        0\n",
      "name            0\n",
      "url             0\n",
      "pictureURL    444\n",
      "dtype: int64\n",
      "------------------------------\n",
      "userID      0\n",
      "artistID    0\n",
      "weight      0\n",
      "dtype: int64\n",
      "------------------------------\n",
      "userID      0\n",
      "friendID    0\n",
      "dtype: int64\n",
      "------------------------------\n",
      "userID      0\n",
      "artistID    0\n",
      "tagID       0\n",
      "day         0\n",
      "month       0\n",
      "year        0\n",
      "dtype: int64\n",
      "------------------------------\n"
     ]
    }
   ],
   "source": [
    "def missing_vals(df):\n",
    "    return df.isna().sum()\n",
    "\n",
    "for df in datasets:\n",
    "    print(missing_vals(df))\n",
    "    print(\"-\"*30)\n"
   ]
  },
  {
   "cell_type": "markdown",
   "metadata": {},
   "source": [
    "Values for the weight variable have a wide range. There are extreme outliers that will impact the recommender negatively by dominating the embedding matrix optimisation. First I remove the rows with weights exceeding the 95th percentile, and then scale the weights into the range [0, 1]. A non-zero weight implies the user listened to the artist and the higher the value, the more the user listened to the artist."
   ]
  },
  {
   "cell_type": "code",
   "execution_count": 12,
   "metadata": {},
   "outputs": [
    {
     "data": {
      "image/png": "[encoded data removed]",
      "text/plain": [
       "<Figure size 600x400 with 1 Axes>"
      ]
     },
     "metadata": {},
     "output_type": "display_data"
    },
    {
     "name": "stdout",
     "output_type": "stream",
     "text": [
      "count    92834.000\n",
      "mean       745.244\n",
      "std       3751.322\n",
      "min          1.000\n",
      "25%        107.000\n",
      "50%        260.000\n",
      "75%        614.000\n",
      "max     352698.000\n",
      "Name: weight, dtype: float64\n"
     ]
    }
   ],
   "source": [
    "# check distribution of weights variable\n",
    "plt.figure(figsize=(6, 4))\n",
    "sns.histplot(user_artists['weight'], bins=30)\n",
    "plt.title(\"Raw weights distribution\")\n",
    "plt.show()\n",
    "print(user_artists.weight.describe())\n"
   ]
  },
  {
   "cell_type": "code",
   "execution_count": 13,
   "metadata": {},
   "outputs": [
    {
     "data": {
      "text/plain": [
       "7228.009999999995"
      ]
     },
     "execution_count": 13,
     "metadata": {},
     "output_type": "execute_result"
    }
   ],
   "source": [
    "np.quantile(user_artists.weight, .99)"
   ]
  },
  {
   "cell_type": "code",
   "execution_count": 14,
   "metadata": {},
   "outputs": [
    {
     "name": "stdout",
     "output_type": "stream",
     "text": [
      "Rows removed: 929\n"
     ]
    }
   ],
   "source": [
    "# remove outliers from dataset\n",
    "q_outliers = user_artists.loc[user_artists.weight > np.quantile(user_artists.weight, .99)].weight\n",
    "user_artists_aux = user_artists.copy()\n",
    "user_artists_aux = user_artists_aux.loc[~(user_artists_aux.weight.isin(q_outliers)), :]\n",
    "\n",
    "print(\"Rows removed:\", user_artists.shape[0] - user_artists_aux.shape[0])"
   ]
  },
  {
   "cell_type": "code",
   "execution_count": 15,
   "metadata": {},
   "outputs": [
    {
     "data": {
      "image/png": "[encoded data removed]",
      "text/plain": [
       "<Figure size 600x400 with 1 Axes>"
      ]
     },
     "metadata": {},
     "output_type": "display_data"
    },
    {
     "name": "stdout",
     "output_type": "stream",
     "text": [
      "count   91905.000\n",
      "mean      536.547\n",
      "std       823.351\n",
      "min         1.000\n",
      "25%       106.000\n",
      "50%       256.000\n",
      "75%       595.000\n",
      "max      7226.000\n",
      "Name: weight, dtype: float64\n"
     ]
    }
   ],
   "source": [
    "# check distribution of weights with outliers removed\n",
    "plt.figure(figsize=(6, 4))\n",
    "\n",
    "sns.histplot(user_artists_aux['weight'], bins=30)\n",
    "plt.title(\"Raw weights distribution (outliers removed)\")\n",
    "plt.show()\n",
    "print(user_artists_aux.weight.describe())\n"
   ]
  },
  {
   "cell_type": "code",
   "execution_count": 16,
   "metadata": {},
   "outputs": [
    {
     "data": {
      "text/plain": [
       "count   91905.000\n",
       "mean        0.074\n",
       "std         0.114\n",
       "min         0.000\n",
       "25%         0.015\n",
       "50%         0.035\n",
       "75%         0.082\n",
       "max         1.000\n",
       "Name: w_mm, dtype: float64"
      ]
     },
     "execution_count": 16,
     "metadata": {},
     "output_type": "execute_result"
    }
   ],
   "source": [
    "# scale the weights into the [0, 1] range\n",
    "mm = MinMaxScaler()\n",
    "user_artists_aux['w_mm'] = mm.fit_transform(user_artists_aux['weight'].to_frame())\n",
    "user_artists_aux.w_mm.describe()"
   ]
  },
  {
   "cell_type": "markdown",
   "metadata": {},
   "source": [
    "As can be seen below, the average weighting of artists for different users was right skewed with extreme outliers before the outlier removal."
   ]
  },
  {
   "cell_type": "code",
   "execution_count": 17,
   "metadata": {},
   "outputs": [
    {
     "data": {
      "image/png": "[encoded data removed]",
      "text/plain": [
       "<Figure size 800x400 with 2 Axes>"
      ]
     },
     "metadata": {},
     "output_type": "display_data"
    }
   ],
   "source": [
    "# check distribution of mean weights in user_artist data\n",
    "fig, axs = plt.subplots(1, 2, figsize=(8, 4))\n",
    "user_mean_weights = user_artists_aux.groupby('userID')['weight'].mean()\n",
    "user_mean_weights_prev = user_artists.groupby('userID')['weight'].mean()\n",
    "\n",
    "sns.histplot(user_mean_weights, bins=50, ax=axs[0])\n",
    "sns.histplot(user_mean_weights_prev, bins=50, ax=axs[1])\n",
    "\n",
    "axs[0].set(title=\"Average weighting, grouped by user (transformed data)\")\n",
    "axs[1].set(title=\"'' (raw data)\")\n",
    "\n",
    "plt.tight_layout()\n",
    "\n",
    "plt.show()\n"
   ]
  },
  {
   "cell_type": "code",
   "execution_count": 18,
   "metadata": {},
   "outputs": [
    {
     "data": {
      "text/html": [
       "<div>\n",
       "<style scoped>\n",
       "    .dataframe tbody tr th:only-of-type {\n",
       "        vertical-align: middle;\n",
       "    }\n",
       "\n",
       "    .dataframe tbody tr th {\n",
       "        vertical-align: top;\n",
       "    }\n",
       "\n",
       "    .dataframe thead th {\n",
       "        text-align: right;\n",
       "    }\n",
       "</style>\n",
       "<table border=\"1\" class=\"dataframe\">\n",
       "  <thead>\n",
       "    <tr style=\"text-align: right;\">\n",
       "      <th></th>\n",
       "      <th>weight</th>\n",
       "      <th>w_mm</th>\n",
       "    </tr>\n",
       "  </thead>\n",
       "  <tbody>\n",
       "    <tr>\n",
       "      <th>count</th>\n",
       "      <td>91905.000</td>\n",
       "      <td>91905.000</td>\n",
       "    </tr>\n",
       "    <tr>\n",
       "      <th>mean</th>\n",
       "      <td>536.547</td>\n",
       "      <td>0.074</td>\n",
       "    </tr>\n",
       "    <tr>\n",
       "      <th>std</th>\n",
       "      <td>823.351</td>\n",
       "      <td>0.114</td>\n",
       "    </tr>\n",
       "    <tr>\n",
       "      <th>min</th>\n",
       "      <td>1.000</td>\n",
       "      <td>0.000</td>\n",
       "    </tr>\n",
       "    <tr>\n",
       "      <th>25%</th>\n",
       "      <td>106.000</td>\n",
       "      <td>0.015</td>\n",
       "    </tr>\n",
       "    <tr>\n",
       "      <th>50%</th>\n",
       "      <td>256.000</td>\n",
       "      <td>0.035</td>\n",
       "    </tr>\n",
       "    <tr>\n",
       "      <th>75%</th>\n",
       "      <td>595.000</td>\n",
       "      <td>0.082</td>\n",
       "    </tr>\n",
       "    <tr>\n",
       "      <th>max</th>\n",
       "      <td>7226.000</td>\n",
       "      <td>1.000</td>\n",
       "    </tr>\n",
       "  </tbody>\n",
       "</table>\n",
       "</div>"
      ],
      "text/plain": [
       "         weight      w_mm\n",
       "count 91905.000 91905.000\n",
       "mean    536.547     0.074\n",
       "std     823.351     0.114\n",
       "min       1.000     0.000\n",
       "25%     106.000     0.015\n",
       "50%     256.000     0.035\n",
       "75%     595.000     0.082\n",
       "max    7226.000     1.000"
      ]
     },
     "execution_count": 18,
     "metadata": {},
     "output_type": "execute_result"
    }
   ],
   "source": [
    "user_artists_aux[['weight', 'w_mm']].describe()"
   ]
  },
  {
   "cell_type": "code",
   "execution_count": 19,
   "metadata": {},
   "outputs": [],
   "source": [
    "# create new userID and artistID identifiers for the transformed user_artists matrix\n",
    "old_user_id = user_artists['userID'].sort_values().unique()\n",
    "old_artist_id = user_artists['artistID'].sort_values().unique()\n",
    "new_user_id = np.array([i for i in range(len(old_user_id))])\n",
    "new_artist_id = np.array([i for i in range(len(old_artist_id))])\n",
    "\n",
    "u_id_map = {old: new for old, new in zip(old_user_id, new_user_id)}\n",
    "a_id_map = {old: new for old, new in zip(old_artist_id, new_artist_id)}\n",
    "\n",
    "user_artists['u_id'] = user_artists.userID.map(u_id_map).astype(int)\n",
    "user_artists['a_id'] = user_artists.artistID.map(a_id_map).astype(int)\n",
    "artists['a_id'] = artists.artistID.map(a_id_map).astype(int)\n",
    "artists = artists.sort_values('a_id')\n"
   ]
  },
  {
   "attachments": {},
   "cell_type": "markdown",
   "metadata": {},
   "source": [
    "Popularity score testing"
   ]
  },
  {
   "cell_type": "code",
   "execution_count": 20,
   "metadata": {},
   "outputs": [],
   "source": [
    "# popularity_score = sum of artist weights divided by the number of users in the dataset\n",
    "# listeners = simple listener count for the artists\n",
    "\n",
    "n_users = user_artists.u_id.unique().shape[0]\n",
    "\n",
    "artist_listeners = user_artists.groupby('a_id').agg(\n",
    "popularity_score=('weight', lambda x: (x.sum() / n_users)), \n",
    "listeners=('weight', lambda x: (x > 0).sum())).reset_index()\n",
    "\n",
    "artist_listeners = artist_listeners.merge(artists[['a_id', 'name']],how='left', on='a_id')\n"
   ]
  },
  {
   "cell_type": "code",
   "execution_count": 21,
   "metadata": {},
   "outputs": [
    {
     "data": {
      "text/html": [
       "<div>\n",
       "<style scoped>\n",
       "    .dataframe tbody tr th:only-of-type {\n",
       "        vertical-align: middle;\n",
       "    }\n",
       "\n",
       "    .dataframe tbody tr th {\n",
       "        vertical-align: top;\n",
       "    }\n",
       "\n",
       "    .dataframe thead th {\n",
       "        text-align: right;\n",
       "    }\n",
       "</style>\n",
       "<table border=\"1\" class=\"dataframe\">\n",
       "  <thead>\n",
       "    <tr style=\"text-align: right;\">\n",
       "      <th></th>\n",
       "      <th>a_id</th>\n",
       "      <th>popularity_score</th>\n",
       "      <th>listeners</th>\n",
       "      <th>name</th>\n",
       "    </tr>\n",
       "  </thead>\n",
       "  <tbody>\n",
       "    <tr>\n",
       "      <th>283</th>\n",
       "      <td>283</td>\n",
       "      <td>1264.873</td>\n",
       "      <td>522</td>\n",
       "      <td>Britney Spears</td>\n",
       "    </tr>\n",
       "    <tr>\n",
       "      <th>66</th>\n",
       "      <td>66</td>\n",
       "      <td>687.795</td>\n",
       "      <td>282</td>\n",
       "      <td>Depeche Mode</td>\n",
       "    </tr>\n",
       "    <tr>\n",
       "      <th>83</th>\n",
       "      <td>83</td>\n",
       "      <td>682.551</td>\n",
       "      <td>611</td>\n",
       "      <td>Lady Gaga</td>\n",
       "    </tr>\n",
       "    <tr>\n",
       "      <th>286</th>\n",
       "      <td>286</td>\n",
       "      <td>559.411</td>\n",
       "      <td>407</td>\n",
       "      <td>Christina Aguilera</td>\n",
       "    </tr>\n",
       "    <tr>\n",
       "      <th>492</th>\n",
       "      <td>492</td>\n",
       "      <td>509.223</td>\n",
       "      <td>399</td>\n",
       "      <td>Paramore</td>\n",
       "    </tr>\n",
       "    <tr>\n",
       "      <th>61</th>\n",
       "      <td>61</td>\n",
       "      <td>486.891</td>\n",
       "      <td>429</td>\n",
       "      <td>Madonna</td>\n",
       "    </tr>\n",
       "    <tr>\n",
       "      <th>282</th>\n",
       "      <td>282</td>\n",
       "      <td>478.553</td>\n",
       "      <td>484</td>\n",
       "      <td>Rihanna</td>\n",
       "    </tr>\n",
       "    <tr>\n",
       "      <th>695</th>\n",
       "      <td>695</td>\n",
       "      <td>363.916</td>\n",
       "      <td>319</td>\n",
       "      <td>Shakira</td>\n",
       "    </tr>\n",
       "    <tr>\n",
       "      <th>221</th>\n",
       "      <td>221</td>\n",
       "      <td>349.956</td>\n",
       "      <td>480</td>\n",
       "      <td>The Beatles</td>\n",
       "    </tr>\n",
       "    <tr>\n",
       "      <th>294</th>\n",
       "      <td>294</td>\n",
       "      <td>281.472</td>\n",
       "      <td>473</td>\n",
       "      <td>Katy Perry</td>\n",
       "    </tr>\n",
       "  </tbody>\n",
       "</table>\n",
       "</div>"
      ],
      "text/plain": [
       "     a_id  popularity_score  listeners                name\n",
       "283   283          1264.873        522      Britney Spears\n",
       "66     66           687.795        282        Depeche Mode\n",
       "83     83           682.551        611           Lady Gaga\n",
       "286   286           559.411        407  Christina Aguilera\n",
       "492   492           509.223        399            Paramore\n",
       "61     61           486.891        429             Madonna\n",
       "282   282           478.553        484             Rihanna\n",
       "695   695           363.916        319             Shakira\n",
       "221   221           349.956        480         The Beatles\n",
       "294   294           281.472        473          Katy Perry"
      ]
     },
     "execution_count": 21,
     "metadata": {},
     "output_type": "execute_result"
    }
   ],
   "source": [
    "# top ten artists with the most listeners\n",
    "# there is a strong overlap between artists with the most listening time (popularity) and most listeners, as expected\n",
    "k=10\n",
    "artist_listeners.sort_values('popularity_score', ascending=False).head(k)"
   ]
  },
  {
   "cell_type": "markdown",
   "metadata": {},
   "source": [
    "The plot and descriptive statistics below show that most artists have very few listeners in the dataset (over half have 1 listener in fact)."
   ]
  },
  {
   "cell_type": "code",
   "execution_count": 22,
   "metadata": {},
   "outputs": [
    {
     "data": {
      "image/png": "[encoded data removed]",
      "text/plain": [
       "<Figure size 1000x400 with 2 Axes>"
      ]
     },
     "metadata": {},
     "output_type": "display_data"
    },
    {
     "name": "stdout",
     "output_type": "stream",
     "text": [
      "       popularity_score  listeners\n",
      "count         17632.000  17632.000\n",
      "mean              2.074      5.265\n",
      "std              18.023     20.620\n",
      "min               0.001      1.000\n",
      "25%               0.060      1.000\n",
      "50%               0.185      1.000\n",
      "75%               0.652      3.000\n",
      "max            1264.873    611.000\n"
     ]
    }
   ],
   "source": [
    "# distribution of listener counts and popularity scores\n",
    "fig, axs = plt.subplots(1, 2, figsize=(10, 4))\n",
    "\n",
    "sns.histplot(x='listeners', data=artist_listeners, ax=axs[0], bins=20)\n",
    "sns.histplot(x='popularity_score', data=artist_listeners, ax=axs[1], bins=20)\n",
    "plt.show()\n",
    "print(artist_listeners[['popularity_score', 'listeners']].describe())\n"
   ]
  },
  {
   "cell_type": "code",
   "execution_count": 23,
   "metadata": {},
   "outputs": [
    {
     "data": {
      "image/png": "[encoded data removed]",
      "text/plain": [
       "<Figure size 640x480 with 1 Axes>"
      ]
     },
     "metadata": {},
     "output_type": "display_data"
    }
   ],
   "source": [
    "# positive correlation between listeners and popularity score, with extreme outliers\n",
    "sns.scatterplot(x='listeners', y='popularity_score', data=artist_listeners)\n",
    "plt.show()"
   ]
  },
  {
   "attachments": {},
   "cell_type": "markdown",
   "metadata": {},
   "source": [
    "### 1.3 Data Preprocessing\n",
    "\n",
    "Preprocessing steps:\n",
    "- Removed ratings higher than the 99th percentile.\n",
    "\n",
    "- Scaled weights (implicit ratings) to the range [0, 1].  \n",
    "\n",
    "- Add top3_tags and top1_tags columns to the artists dataset. Found that the tags often give additional information about artists' genres.\n",
    "\n",
    "- Created new index columns a_id, and u_id for use after outlier removal. Ensures that u_id starts at 0 and ends at n_users - 1. The equivalent was done for artists.\n",
    "\n",
    "- Added popularity score and listener cound columns to artists. This helps to check the models predictions for popularity bias, and also to provide a reasonable list of artists for you to choose from in Section 2.3.1 Your Recommendations. The basis for the popularity score is that we should consider both the number of listeners and listening quantity when quantifying popularity.  \n",
    "<br>*popularity_score = sum of artist weights / n_users*  \n",
    "*listeners = # listeners for the artist*\n",
    "\n",
    "- DataFrame split method to calculate test (generalization) error."
   ]
  },
  {
   "attachments": {},
   "cell_type": "markdown",
   "metadata": {},
   "source": [
    "Removing outliers and scaling the weights. Note that after outlier removal the popularity scores will differ from the earlier testing"
   ]
  },
  {
   "cell_type": "code",
   "execution_count": 24,
   "metadata": {},
   "outputs": [
    {
     "name": "stdout",
     "output_type": "stream",
     "text": [
      "Rows removed: 929\n"
     ]
    }
   ],
   "source": [
    "def transform_weights(user_artists=user_artists, remove_outliers=True, quantile=0.99):\n",
    "    '''\n",
    "    Strip outliers and apply minmax scaler to the weights column of the user_artists table\n",
    "\n",
    "    Args:\n",
    "        user_artists: name of the user_artists pandas dataframe. Defaults to user_artists. \n",
    "    '''\n",
    "    \n",
    "    user_artists = user_artists.copy()\n",
    "\n",
    "    if remove_outliers:\n",
    "        # Remove outliers (95th Percentile)\n",
    "        q_outllier = user_artists.loc[user_artists.weight > np.quantile(user_artists.weight, quantile)].weight\n",
    "        user_artists_aux = user_artists.copy()\n",
    "        user_artists = user_artists.loc[~(user_artists.weight.isin(q_outllier)), :]\n",
    "\n",
    "        print(\"Rows removed:\", user_artists_aux.shape[0] - user_artists.shape[0])\n",
    "    \n",
    "    # scale the weight to [0, 1]\n",
    "    mm = MinMaxScaler()\n",
    "    mm.fit_transform(user_artists.weight.to_frame())\n",
    "    user_artists['w_mm'] = mm.fit_transform(user_artists['weight'].to_frame())\n",
    "\n",
    "    return user_artists\n",
    "\n",
    "user_artists = transform_weights(user_artists)"
   ]
  },
  {
   "cell_type": "code",
   "execution_count": 25,
   "metadata": {},
   "outputs": [
    {
     "data": {
      "text/html": [
       "<div>\n",
       "<style scoped>\n",
       "    .dataframe tbody tr th:only-of-type {\n",
       "        vertical-align: middle;\n",
       "    }\n",
       "\n",
       "    .dataframe tbody tr th {\n",
       "        vertical-align: top;\n",
       "    }\n",
       "\n",
       "    .dataframe thead th {\n",
       "        text-align: right;\n",
       "    }\n",
       "</style>\n",
       "<table border=\"1\" class=\"dataframe\">\n",
       "  <thead>\n",
       "    <tr style=\"text-align: right;\">\n",
       "      <th></th>\n",
       "      <th>userID</th>\n",
       "      <th>artistID</th>\n",
       "      <th>weight</th>\n",
       "      <th>u_id</th>\n",
       "      <th>a_id</th>\n",
       "      <th>w_mm</th>\n",
       "    </tr>\n",
       "  </thead>\n",
       "  <tbody>\n",
       "    <tr>\n",
       "      <th>5</th>\n",
       "      <td>2</td>\n",
       "      <td>56</td>\n",
       "      <td>6152</td>\n",
       "      <td>0</td>\n",
       "      <td>50</td>\n",
       "      <td>0.851</td>\n",
       "    </tr>\n",
       "    <tr>\n",
       "      <th>6</th>\n",
       "      <td>2</td>\n",
       "      <td>57</td>\n",
       "      <td>5955</td>\n",
       "      <td>0</td>\n",
       "      <td>51</td>\n",
       "      <td>0.824</td>\n",
       "    </tr>\n",
       "    <tr>\n",
       "      <th>7</th>\n",
       "      <td>2</td>\n",
       "      <td>58</td>\n",
       "      <td>4616</td>\n",
       "      <td>0</td>\n",
       "      <td>52</td>\n",
       "      <td>0.639</td>\n",
       "    </tr>\n",
       "    <tr>\n",
       "      <th>8</th>\n",
       "      <td>2</td>\n",
       "      <td>59</td>\n",
       "      <td>4337</td>\n",
       "      <td>0</td>\n",
       "      <td>53</td>\n",
       "      <td>0.600</td>\n",
       "    </tr>\n",
       "    <tr>\n",
       "      <th>9</th>\n",
       "      <td>2</td>\n",
       "      <td>60</td>\n",
       "      <td>4147</td>\n",
       "      <td>0</td>\n",
       "      <td>54</td>\n",
       "      <td>0.574</td>\n",
       "    </tr>\n",
       "  </tbody>\n",
       "</table>\n",
       "</div>"
      ],
      "text/plain": [
       "   userID  artistID  weight  u_id  a_id  w_mm\n",
       "5       2        56    6152     0    50 0.851\n",
       "6       2        57    5955     0    51 0.824\n",
       "7       2        58    4616     0    52 0.639\n",
       "8       2        59    4337     0    53 0.600\n",
       "9       2        60    4147     0    54 0.574"
      ]
     },
     "execution_count": 25,
     "metadata": {},
     "output_type": "execute_result"
    }
   ],
   "source": [
    "user_artists.head()"
   ]
  },
  {
   "cell_type": "code",
   "execution_count": 26,
   "metadata": {},
   "outputs": [
    {
     "name": "stdout",
     "output_type": "stream",
     "text": [
      "Dropped 1538 rows in tags dataset\n",
      "(184941, 8)\n"
     ]
    }
   ],
   "source": [
    "# tag column joins tagValues into the user_tagged table\n",
    "user_tagged['tag'] = user_tagged.merge(tags, on='tagID')['tagValue']\n",
    "\n",
    "# add artist names to tag table\n",
    "user_tagged['artist_name'] = user_tagged.merge(artists, on='artistID', how='left')['name']\n",
    "\n",
    "# drop tags which are referring to an artist that doesn't exist in the artist table\n",
    "pre_drop = user_tagged.shape[0]\n",
    "user_tagged = user_tagged.dropna()\n",
    "print(\"Dropped\", pre_drop - user_tagged.shape[0], \"rows in tags dataset\")\n",
    "print(user_tagged.shape)"
   ]
  },
  {
   "cell_type": "code",
   "execution_count": 27,
   "metadata": {},
   "outputs": [
    {
     "name": "stdout",
     "output_type": "stream",
     "text": [
      "Top 5 tags\n",
      "rock           7431\n",
      "pop            5393\n",
      "alternative    5224\n",
      "electronic     4638\n",
      "indie          4396\n",
      "Name: tag, dtype: int64\n",
      "------------------------------\n",
      "Bottom 5 tags\n",
      "mairead nesbitt       1\n",
      "sad and beautifull    1\n",
      "michelle williams     1\n",
      "sugababes             1\n",
      "love gaga             1\n",
      "Name: tag, dtype: int64\n"
     ]
    }
   ],
   "source": [
    "# users assign tags to artists, these seem to often provide tag information\n",
    "# more rarely, they contain individual user comments that are less useful to us.\n",
    "print(\"Top 5 tags\")\n",
    "print(user_tagged.tag.value_counts()[:5])\n",
    "print(\"-\"*30)\n",
    "print(\"Bottom 5 tags\")\n",
    "print(user_tagged.tag.value_counts()[-5:])\n"
   ]
  },
  {
   "cell_type": "code",
   "execution_count": 28,
   "metadata": {},
   "outputs": [],
   "source": [
    "# create \"tags\" column in user_artist with the top 3 most popular tags given to an artist\n",
    "tag_occurences = user_tagged.groupby(['artistID', 'artist_name', 'tag'])['tagID'].count().reset_index()\n",
    "tag_occurences = tag_occurences.rename(columns={'tagID':'tag_count'})\n",
    "\n",
    "# within each artistID partition, sort by tag_count\n",
    "tag_occurences = tag_occurences.sort_values(['artistID', 'tag_count'], ascending=[True, False])\n"
   ]
  },
  {
   "cell_type": "code",
   "execution_count": 29,
   "metadata": {},
   "outputs": [
    {
     "data": {
      "text/html": [
       "<div>\n",
       "<style scoped>\n",
       "    .dataframe tbody tr th:only-of-type {\n",
       "        vertical-align: middle;\n",
       "    }\n",
       "\n",
       "    .dataframe tbody tr th {\n",
       "        vertical-align: top;\n",
       "    }\n",
       "\n",
       "    .dataframe thead th {\n",
       "        text-align: right;\n",
       "    }\n",
       "</style>\n",
       "<table border=\"1\" class=\"dataframe\">\n",
       "  <thead>\n",
       "    <tr style=\"text-align: right;\">\n",
       "      <th></th>\n",
       "      <th>artistID</th>\n",
       "      <th>artist_name</th>\n",
       "      <th>tag</th>\n",
       "      <th>tag_count</th>\n",
       "    </tr>\n",
       "  </thead>\n",
       "  <tbody>\n",
       "    <tr>\n",
       "      <th>20388</th>\n",
       "      <td>1000</td>\n",
       "      <td>Information Society</td>\n",
       "      <td>tyler adam</td>\n",
       "      <td>12</td>\n",
       "    </tr>\n",
       "    <tr>\n",
       "      <th>20384</th>\n",
       "      <td>1000</td>\n",
       "      <td>Information Society</td>\n",
       "      <td>love</td>\n",
       "      <td>11</td>\n",
       "    </tr>\n",
       "    <tr>\n",
       "      <th>20381</th>\n",
       "      <td>1000</td>\n",
       "      <td>Information Society</td>\n",
       "      <td>french</td>\n",
       "      <td>7</td>\n",
       "    </tr>\n",
       "    <tr>\n",
       "      <th>20379</th>\n",
       "      <td>1000</td>\n",
       "      <td>Information Society</td>\n",
       "      <td>chillout</td>\n",
       "      <td>4</td>\n",
       "    </tr>\n",
       "    <tr>\n",
       "      <th>20385</th>\n",
       "      <td>1000</td>\n",
       "      <td>Information Society</td>\n",
       "      <td>melancholic</td>\n",
       "      <td>4</td>\n",
       "    </tr>\n",
       "    <tr>\n",
       "      <th>20375</th>\n",
       "      <td>1000</td>\n",
       "      <td>Information Society</td>\n",
       "      <td>ambient</td>\n",
       "      <td>3</td>\n",
       "    </tr>\n",
       "    <tr>\n",
       "      <th>20378</th>\n",
       "      <td>1000</td>\n",
       "      <td>Information Society</td>\n",
       "      <td>beautiful</td>\n",
       "      <td>2</td>\n",
       "    </tr>\n",
       "    <tr>\n",
       "      <th>20380</th>\n",
       "      <td>1000</td>\n",
       "      <td>Information Society</td>\n",
       "      <td>dance</td>\n",
       "      <td>2</td>\n",
       "    </tr>\n",
       "    <tr>\n",
       "      <th>20382</th>\n",
       "      <td>1000</td>\n",
       "      <td>Information Society</td>\n",
       "      <td>hard rock</td>\n",
       "      <td>2</td>\n",
       "    </tr>\n",
       "    <tr>\n",
       "      <th>20374</th>\n",
       "      <td>1000</td>\n",
       "      <td>Information Society</td>\n",
       "      <td>80s</td>\n",
       "      <td>1</td>\n",
       "    </tr>\n",
       "  </tbody>\n",
       "</table>\n",
       "</div>"
      ],
      "text/plain": [
       "       artistID          artist_name          tag  tag_count\n",
       "20388      1000  Information Society   tyler adam         12\n",
       "20384      1000  Information Society         love         11\n",
       "20381      1000  Information Society       french          7\n",
       "20379      1000  Information Society     chillout          4\n",
       "20385      1000  Information Society  melancholic          4\n",
       "20375      1000  Information Society      ambient          3\n",
       "20378      1000  Information Society    beautiful          2\n",
       "20380      1000  Information Society        dance          2\n",
       "20382      1000  Information Society    hard rock          2\n",
       "20374      1000  Information Society          80s          1"
      ]
     },
     "execution_count": 29,
     "metadata": {},
     "output_type": "execute_result"
    }
   ],
   "source": [
    "tag_occurences.loc[tag_occurences['artistID'] == 1000][:10]"
   ]
  },
  {
   "cell_type": "code",
   "execution_count": 30,
   "metadata": {},
   "outputs": [
    {
     "name": "stdout",
     "output_type": "stream",
     "text": [
      "Top tag for MALICE MIZER = cybergrind\n",
      "cybergrind / fucking awesome / german\n",
      "------------------------------\n",
      "Top tag for Diary of Dreams = top 40\n",
      "top 40 / art rock / electronic\n",
      "------------------------------\n",
      "Top tag for Carpathian Forest = jazz\n",
      "jazz / christian metal / ambient\n",
      "------------------------------\n",
      "Top tag for Moi dix Mois = fucking awesome\n",
      "fucking awesome / cybergrind / art rock\n",
      "------------------------------\n",
      "Top tag for Bella Morte = summer\n",
      "summer / acoustic / aphex twin\n",
      "------------------------------\n"
     ]
    }
   ],
   "source": [
    "# testing the behaviour we want for the top3 and top1 tag columns\n",
    "for id in tag_occurences.artistID.unique()[:5]:\n",
    "    top3_tags = \" / \".join(tag_occurences.loc[tag_occurences.artistID == id]['tag'].values[:3])\n",
    "    top1_tags = tag_occurences.loc[tag_occurences.artistID == id]['tag'].values[0]\n",
    "    \n",
    "    print(\"Top tag for\", tag_occurences.loc[tag_occurences.artistID == id]['artist_name'].values[0], \"=\", top1_tags)\n",
    "    print(top3_tags)\n",
    "    print(\"-\"*30)\n",
    "\n"
   ]
  },
  {
   "cell_type": "code",
   "execution_count": 31,
   "metadata": {},
   "outputs": [],
   "source": [
    "# for each artist, get the top 3 tags and top 1 tags. add this to artists information\n",
    "\n",
    "def add_top_tags(df, artistID='artistID'):\n",
    "    '''\n",
    "    Add top3_tags and top_1 tags to table. Works only if the input table has an artistID column.\n",
    "   \n",
    "    Args:\n",
    "        df: pandas dataframe to append the tags information onto.\n",
    "        artistID: The artistID column name in the dataset. Defaults to 'artistID'\n",
    "    '''\n",
    "    df = df.copy()\n",
    "\n",
    "    if artistID not in df.columns.tolist():\n",
    "        raise KeyError(artistID, \"column not present in the input table\")\n",
    "\n",
    "    # new table with (artist, tagValue, tag_count) information\n",
    "    tag_occurences = user_tagged.groupby(['artistID', 'artist_name', 'tag'])['tagID'].count().reset_index()\n",
    "    tag_occurences = tag_occurences.rename(columns={'tagID':'tag_count'})\n",
    "\n",
    "    # within each artistID partition, sort by tag_count\n",
    "    tag_occurences = tag_occurences.sort_values(['artistID', 'tag_count'], ascending=[True, False])\n",
    "\n",
    "    tag_occurences['top3_tags'] = np.zeros(tag_occurences.shape[0])\n",
    "    tag_occurences['top1_tags'] = np.zeros(tag_occurences.shape[0])\n",
    "\n",
    "    for id in tag_occurences.artistID.unique():\n",
    "        top3_tags = \" / \".join(tag_occurences.loc[tag_occurences.artistID == id]['tag'].values[:3])\n",
    "        top1_tags = tag_occurences.loc[tag_occurences.artistID == id]['tag'].values[0]\n",
    "\n",
    "        # add top3 and top1 tags information to artists table\n",
    "        df.loc[df.artistID == id, ['top3_tags', 'top1_tags']] = [top3_tags, top1_tags]\n",
    "    \n",
    "    df['top3_tags'] = df.top3_tags.fillna(\"none\")\n",
    "    df['top1_tags'] = df.top1_tags.fillna(\"none\")\n",
    "\n",
    "    return df\n",
    "\n",
    "artists = add_top_tags(artists)"
   ]
  },
  {
   "cell_type": "code",
   "execution_count": 32,
   "metadata": {},
   "outputs": [
    {
     "data": {
      "text/html": [
       "<div>\n",
       "<style scoped>\n",
       "    .dataframe tbody tr th:only-of-type {\n",
       "        vertical-align: middle;\n",
       "    }\n",
       "\n",
       "    .dataframe tbody tr th {\n",
       "        vertical-align: top;\n",
       "    }\n",
       "\n",
       "    .dataframe thead th {\n",
       "        text-align: right;\n",
       "    }\n",
       "</style>\n",
       "<table border=\"1\" class=\"dataframe\">\n",
       "  <thead>\n",
       "    <tr style=\"text-align: right;\">\n",
       "      <th></th>\n",
       "      <th>artistID</th>\n",
       "      <th>name</th>\n",
       "      <th>url</th>\n",
       "      <th>pictureURL</th>\n",
       "      <th>a_id</th>\n",
       "      <th>top3_tags</th>\n",
       "      <th>top1_tags</th>\n",
       "    </tr>\n",
       "  </thead>\n",
       "  <tbody>\n",
       "    <tr>\n",
       "      <th>0</th>\n",
       "      <td>1</td>\n",
       "      <td>MALICE MIZER</td>\n",
       "      <td>http://www.last.fm/music/MALICE+MIZER</td>\n",
       "      <td>http://userserve-ak.last.fm/serve/252/10808.jpg</td>\n",
       "      <td>0</td>\n",
       "      <td>cybergrind / fucking awesome / german</td>\n",
       "      <td>cybergrind</td>\n",
       "    </tr>\n",
       "    <tr>\n",
       "      <th>1</th>\n",
       "      <td>2</td>\n",
       "      <td>Diary of Dreams</td>\n",
       "      <td>http://www.last.fm/music/Diary+of+Dreams</td>\n",
       "      <td>http://userserve-ak.last.fm/serve/252/3052066.jpg</td>\n",
       "      <td>1</td>\n",
       "      <td>top 40 / art rock / electronic</td>\n",
       "      <td>top 40</td>\n",
       "    </tr>\n",
       "    <tr>\n",
       "      <th>2</th>\n",
       "      <td>3</td>\n",
       "      <td>Carpathian Forest</td>\n",
       "      <td>http://www.last.fm/music/Carpathian+Forest</td>\n",
       "      <td>http://userserve-ak.last.fm/serve/252/40222717...</td>\n",
       "      <td>2</td>\n",
       "      <td>jazz / christian metal / ambient</td>\n",
       "      <td>jazz</td>\n",
       "    </tr>\n",
       "    <tr>\n",
       "      <th>3</th>\n",
       "      <td>4</td>\n",
       "      <td>Moi dix Mois</td>\n",
       "      <td>http://www.last.fm/music/Moi+dix+Mois</td>\n",
       "      <td>http://userserve-ak.last.fm/serve/252/54697835...</td>\n",
       "      <td>3</td>\n",
       "      <td>fucking awesome / cybergrind / art rock</td>\n",
       "      <td>fucking awesome</td>\n",
       "    </tr>\n",
       "    <tr>\n",
       "      <th>4</th>\n",
       "      <td>5</td>\n",
       "      <td>Bella Morte</td>\n",
       "      <td>http://www.last.fm/music/Bella+Morte</td>\n",
       "      <td>http://userserve-ak.last.fm/serve/252/14789013...</td>\n",
       "      <td>4</td>\n",
       "      <td>summer / acoustic / aphex twin</td>\n",
       "      <td>summer</td>\n",
       "    </tr>\n",
       "  </tbody>\n",
       "</table>\n",
       "</div>"
      ],
      "text/plain": [
       "   artistID               name                                         url  \\\n",
       "0         1       MALICE MIZER       http://www.last.fm/music/MALICE+MIZER   \n",
       "1         2    Diary of Dreams    http://www.last.fm/music/Diary+of+Dreams   \n",
       "2         3  Carpathian Forest  http://www.last.fm/music/Carpathian+Forest   \n",
       "3         4       Moi dix Mois       http://www.last.fm/music/Moi+dix+Mois   \n",
       "4         5        Bella Morte        http://www.last.fm/music/Bella+Morte   \n",
       "\n",
       "                                          pictureURL  a_id  \\\n",
       "0    http://userserve-ak.last.fm/serve/252/10808.jpg     0   \n",
       "1  http://userserve-ak.last.fm/serve/252/3052066.jpg     1   \n",
       "2  http://userserve-ak.last.fm/serve/252/40222717...     2   \n",
       "3  http://userserve-ak.last.fm/serve/252/54697835...     3   \n",
       "4  http://userserve-ak.last.fm/serve/252/14789013...     4   \n",
       "\n",
       "                                 top3_tags        top1_tags  \n",
       "0    cybergrind / fucking awesome / german       cybergrind  \n",
       "1           top 40 / art rock / electronic           top 40  \n",
       "2         jazz / christian metal / ambient             jazz  \n",
       "3  fucking awesome / cybergrind / art rock  fucking awesome  \n",
       "4           summer / acoustic / aphex twin           summer  "
      ]
     },
     "execution_count": 32,
     "metadata": {},
     "output_type": "execute_result"
    }
   ],
   "source": [
    "artists.head()"
   ]
  },
  {
   "cell_type": "code",
   "execution_count": 33,
   "metadata": {},
   "outputs": [
    {
     "data": {
      "text/html": [
       "<div>\n",
       "<style scoped>\n",
       "    .dataframe tbody tr th:only-of-type {\n",
       "        vertical-align: middle;\n",
       "    }\n",
       "\n",
       "    .dataframe tbody tr th {\n",
       "        vertical-align: top;\n",
       "    }\n",
       "\n",
       "    .dataframe thead th {\n",
       "        text-align: right;\n",
       "    }\n",
       "</style>\n",
       "<table border=\"1\" class=\"dataframe\">\n",
       "  <thead>\n",
       "    <tr style=\"text-align: right;\">\n",
       "      <th></th>\n",
       "      <th>artistID</th>\n",
       "      <th>name</th>\n",
       "      <th>url</th>\n",
       "      <th>pictureURL</th>\n",
       "      <th>a_id</th>\n",
       "      <th>top3_tags</th>\n",
       "      <th>top1_tags</th>\n",
       "    </tr>\n",
       "  </thead>\n",
       "  <tbody>\n",
       "    <tr>\n",
       "      <th>17628</th>\n",
       "      <td>18742</td>\n",
       "      <td>Aya RL</td>\n",
       "      <td>http://www.last.fm/music/Aya+RL</td>\n",
       "      <td>http://userserve-ak.last.fm/serve/252/207445.jpg</td>\n",
       "      <td>17628</td>\n",
       "      <td>none</td>\n",
       "      <td>none</td>\n",
       "    </tr>\n",
       "  </tbody>\n",
       "</table>\n",
       "</div>"
      ],
      "text/plain": [
       "       artistID    name                              url  \\\n",
       "17628     18742  Aya RL  http://www.last.fm/music/Aya+RL   \n",
       "\n",
       "                                             pictureURL   a_id top3_tags  \\\n",
       "17628  http://userserve-ak.last.fm/serve/252/207445.jpg  17628      none   \n",
       "\n",
       "      top1_tags  \n",
       "17628      none  "
      ]
     },
     "execution_count": 33,
     "metadata": {},
     "output_type": "execute_result"
    }
   ],
   "source": [
    "# Not all artists have tags; these have missing values for the tag variables\n",
    "# not all artists have up to 3 unique tags\n",
    "artists.loc[artists.artistID == 18742]"
   ]
  },
  {
   "cell_type": "code",
   "execution_count": 34,
   "metadata": {},
   "outputs": [
    {
     "data": {
      "text/html": [
       "<div>\n",
       "<style scoped>\n",
       "    .dataframe tbody tr th:only-of-type {\n",
       "        vertical-align: middle;\n",
       "    }\n",
       "\n",
       "    .dataframe tbody tr th {\n",
       "        vertical-align: top;\n",
       "    }\n",
       "\n",
       "    .dataframe thead th {\n",
       "        text-align: right;\n",
       "    }\n",
       "</style>\n",
       "<table border=\"1\" class=\"dataframe\">\n",
       "  <thead>\n",
       "    <tr style=\"text-align: right;\">\n",
       "      <th></th>\n",
       "      <th>artistID</th>\n",
       "      <th>name</th>\n",
       "      <th>url</th>\n",
       "      <th>pictureURL</th>\n",
       "      <th>a_id</th>\n",
       "      <th>top3_tags</th>\n",
       "      <th>top1_tags</th>\n",
       "    </tr>\n",
       "  </thead>\n",
       "  <tbody>\n",
       "    <tr>\n",
       "      <th>17627</th>\n",
       "      <td>18741</td>\n",
       "      <td>Diamanda Galás</td>\n",
       "      <td>http://www.last.fm/music/Diamanda+Gal%C3%A1s</td>\n",
       "      <td>http://userserve-ak.last.fm/serve/252/16352971...</td>\n",
       "      <td>17627</td>\n",
       "      <td>eldad / rock hard</td>\n",
       "      <td>eldad</td>\n",
       "    </tr>\n",
       "  </tbody>\n",
       "</table>\n",
       "</div>"
      ],
      "text/plain": [
       "       artistID            name                                           url  \\\n",
       "17627     18741  Diamanda Galás  http://www.last.fm/music/Diamanda+Gal%C3%A1s   \n",
       "\n",
       "                                              pictureURL   a_id  \\\n",
       "17627  http://userserve-ak.last.fm/serve/252/16352971...  17627   \n",
       "\n",
       "               top3_tags top1_tags  \n",
       "17627  eldad / rock hard     eldad  "
      ]
     },
     "execution_count": 34,
     "metadata": {},
     "output_type": "execute_result"
    }
   ],
   "source": [
    "# some artists have less than 3 unique tags. In this case the top 2 or 1 tags is stored as \"top3_tags\"\n",
    "artists.loc[artists.artistID == 18741]"
   ]
  },
  {
   "cell_type": "code",
   "execution_count": 35,
   "metadata": {},
   "outputs": [
    {
     "name": "stdout",
     "output_type": "stream",
     "text": [
      "artists: 17632, listened artists: 17608\n",
      "removed artist with no listens from dataset\n"
     ]
    }
   ],
   "source": [
    "print(\"artists: {}, listened artists: {}\".format(artists.shape[0], user_artists.artistID.unique().shape[0]))\n",
    "\n",
    "# remove artists with no listens from the dataset (these are redundant for collaborative filtering)\n",
    "artists = artists.loc[artists['artistID'].isin(user_artists.artistID.unique())]\n",
    "print(\"removed artist with no listens from dataset\")"
   ]
  },
  {
   "cell_type": "code",
   "execution_count": 36,
   "metadata": {},
   "outputs": [],
   "source": [
    "# create new userID and artistID identifiers for the transformed user_artists matrix\n",
    "old_user_id = user_artists['userID'].sort_values().unique()\n",
    "old_artist_id = user_artists['artistID'].sort_values().unique()\n",
    "new_user_id = np.array([i for i in range(len(old_user_id))])\n",
    "new_artist_id = np.array([i for i in range(len(old_artist_id))])\n",
    "\n",
    "u_id_map = {old: new for old, new in zip(old_user_id, new_user_id)}\n",
    "a_id_map = {old: new for old, new in zip(old_artist_id, new_artist_id)}\n",
    "\n",
    "user_artists['u_id'] = user_artists.userID.map(u_id_map).astype(int)\n",
    "user_artists['a_id'] = user_artists.artistID.map(a_id_map).astype(int)\n",
    "artists['a_id'] = artists.artistID.map(a_id_map).astype(int)\n",
    "artists = artists.sort_values('a_id')\n"
   ]
  },
  {
   "cell_type": "code",
   "execution_count": 37,
   "metadata": {},
   "outputs": [
    {
     "data": {
      "text/html": [
       "<div>\n",
       "<style scoped>\n",
       "    .dataframe tbody tr th:only-of-type {\n",
       "        vertical-align: middle;\n",
       "    }\n",
       "\n",
       "    .dataframe tbody tr th {\n",
       "        vertical-align: top;\n",
       "    }\n",
       "\n",
       "    .dataframe thead th {\n",
       "        text-align: right;\n",
       "    }\n",
       "</style>\n",
       "<table border=\"1\" class=\"dataframe\">\n",
       "  <thead>\n",
       "    <tr style=\"text-align: right;\">\n",
       "      <th></th>\n",
       "      <th>userID</th>\n",
       "      <th>artistID</th>\n",
       "      <th>weight</th>\n",
       "      <th>u_id</th>\n",
       "      <th>a_id</th>\n",
       "      <th>w_mm</th>\n",
       "    </tr>\n",
       "  </thead>\n",
       "  <tbody>\n",
       "    <tr>\n",
       "      <th>35861</th>\n",
       "      <td>785</td>\n",
       "      <td>1</td>\n",
       "      <td>76</td>\n",
       "      <td>729</td>\n",
       "      <td>0</td>\n",
       "      <td>0.010</td>\n",
       "    </tr>\n",
       "    <tr>\n",
       "      <th>1550</th>\n",
       "      <td>34</td>\n",
       "      <td>1</td>\n",
       "      <td>212</td>\n",
       "      <td>31</td>\n",
       "      <td>0</td>\n",
       "      <td>0.029</td>\n",
       "    </tr>\n",
       "    <tr>\n",
       "      <th>12611</th>\n",
       "      <td>274</td>\n",
       "      <td>1</td>\n",
       "      <td>483</td>\n",
       "      <td>256</td>\n",
       "      <td>0</td>\n",
       "      <td>0.067</td>\n",
       "    </tr>\n",
       "    <tr>\n",
       "      <th>42401</th>\n",
       "      <td>935</td>\n",
       "      <td>2</td>\n",
       "      <td>428</td>\n",
       "      <td>862</td>\n",
       "      <td>1</td>\n",
       "      <td>0.059</td>\n",
       "    </tr>\n",
       "    <tr>\n",
       "      <th>26690</th>\n",
       "      <td>580</td>\n",
       "      <td>2</td>\n",
       "      <td>803</td>\n",
       "      <td>542</td>\n",
       "      <td>1</td>\n",
       "      <td>0.111</td>\n",
       "    </tr>\n",
       "    <tr>\n",
       "      <th>...</th>\n",
       "      <td>...</td>\n",
       "      <td>...</td>\n",
       "      <td>...</td>\n",
       "      <td>...</td>\n",
       "      <td>...</td>\n",
       "      <td>...</td>\n",
       "    </tr>\n",
       "    <tr>\n",
       "      <th>20914</th>\n",
       "      <td>454</td>\n",
       "      <td>18741</td>\n",
       "      <td>301</td>\n",
       "      <td>423</td>\n",
       "      <td>17603</td>\n",
       "      <td>0.042</td>\n",
       "    </tr>\n",
       "    <tr>\n",
       "      <th>20915</th>\n",
       "      <td>454</td>\n",
       "      <td>18742</td>\n",
       "      <td>294</td>\n",
       "      <td>423</td>\n",
       "      <td>17604</td>\n",
       "      <td>0.041</td>\n",
       "    </tr>\n",
       "    <tr>\n",
       "      <th>20916</th>\n",
       "      <td>454</td>\n",
       "      <td>18743</td>\n",
       "      <td>287</td>\n",
       "      <td>423</td>\n",
       "      <td>17605</td>\n",
       "      <td>0.040</td>\n",
       "    </tr>\n",
       "    <tr>\n",
       "      <th>20917</th>\n",
       "      <td>454</td>\n",
       "      <td>18744</td>\n",
       "      <td>286</td>\n",
       "      <td>423</td>\n",
       "      <td>17606</td>\n",
       "      <td>0.039</td>\n",
       "    </tr>\n",
       "    <tr>\n",
       "      <th>26989</th>\n",
       "      <td>585</td>\n",
       "      <td>18745</td>\n",
       "      <td>426</td>\n",
       "      <td>547</td>\n",
       "      <td>17607</td>\n",
       "      <td>0.059</td>\n",
       "    </tr>\n",
       "  </tbody>\n",
       "</table>\n",
       "<p>91905 rows × 6 columns</p>\n",
       "</div>"
      ],
      "text/plain": [
       "       userID  artistID  weight  u_id   a_id  w_mm\n",
       "35861     785         1      76   729      0 0.010\n",
       "1550       34         1     212    31      0 0.029\n",
       "12611     274         1     483   256      0 0.067\n",
       "42401     935         2     428   862      1 0.059\n",
       "26690     580         2     803   542      1 0.111\n",
       "...       ...       ...     ...   ...    ...   ...\n",
       "20914     454     18741     301   423  17603 0.042\n",
       "20915     454     18742     294   423  17604 0.041\n",
       "20916     454     18743     287   423  17605 0.040\n",
       "20917     454     18744     286   423  17606 0.039\n",
       "26989     585     18745     426   547  17607 0.059\n",
       "\n",
       "[91905 rows x 6 columns]"
      ]
     },
     "execution_count": 37,
     "metadata": {},
     "output_type": "execute_result"
    }
   ],
   "source": [
    "# checking the behaviour of new id columns\n",
    "user_artists.sort_values(\"a_id\")"
   ]
  },
  {
   "cell_type": "code",
   "execution_count": 38,
   "metadata": {},
   "outputs": [],
   "source": [
    "def add_popularity_score(df):\n",
    "    '''\n",
    "        Add popularity score and listener count to the dataset\n",
    "        popularity_score = sum of artist weights / n_users\n",
    "    '''\n",
    "    df = df.copy()\n",
    "    n_users = user_artists.u_id.unique().shape[0]\n",
    "\n",
    "    artist_listeners = user_artists.groupby('a_id').agg(\n",
    "    popularity_score=('weight', lambda x: (x.sum() / n_users)), \n",
    "    listeners=('weight', lambda x: (x > 0).sum())).reset_index().sort_values('a_id')\n",
    "    \n",
    "    df = df.merge(artist_listeners[['a_id', 'popularity_score', 'listeners']], on='a_id', how='left')\n",
    "\n",
    "    return df\n",
    "\n",
    "artists = add_popularity_score(artists)"
   ]
  },
  {
   "cell_type": "code",
   "execution_count": 39,
   "metadata": {},
   "outputs": [],
   "source": [
    "a_to_check = artists.sort_values('popularity_score', ascending=False).loc[:, ['a_id', 'name', 'listeners', 'popularity_score']]"
   ]
  },
  {
   "cell_type": "code",
   "execution_count": 40,
   "metadata": {},
   "outputs": [],
   "source": [
    "# popularity_score = sum of artist weights divided by the number of users in the dataset\n",
    "# listeners = simple listener count for the artists\n",
    "\n",
    "n_users = user_artists.userID.unique().shape[0]\n",
    "\n",
    "artist_listeners = user_artists.groupby('a_id').agg(\n",
    "    popularity_score=('weight', lambda x: (x.sum() / n_users)), \n",
    "    listeners=('weight', lambda x: (x > 0).sum())).reset_index().sort_values('a_id')\n",
    "\n",
    "artist_listeners['name'] = artist_listeners.merge(artists,how='left', on='a_id')['name']\n"
   ]
  },
  {
   "cell_type": "code",
   "execution_count": 41,
   "metadata": {},
   "outputs": [
    {
     "data": {
      "text/plain": [
       "True"
      ]
     },
     "execution_count": 41,
     "metadata": {},
     "output_type": "execute_result"
    }
   ],
   "source": [
    "# validating the popularity score function.\n",
    "al_to_check = artist_listeners.loc[:, ['a_id', 'name', 'listeners', 'popularity_score']].sort_values('popularity_score', ascending=False)\n",
    "all(al_to_check == a_to_check)"
   ]
  },
  {
   "cell_type": "code",
   "execution_count": 42,
   "metadata": {},
   "outputs": [
    {
     "data": {
      "image/png": "[encoded data removed]",
      "text/plain": [
       "<Figure size 640x480 with 1 Axes>"
      ]
     },
     "metadata": {},
     "output_type": "display_data"
    }
   ],
   "source": [
    "sns.scatterplot(x='listeners', y='popularity_score', data=artists)\n",
    "plt.title('listeners vs popularity score')\n",
    "plt.show()"
   ]
  },
  {
   "cell_type": "code",
   "execution_count": 43,
   "metadata": {},
   "outputs": [],
   "source": [
    "# We will use this to check the generalisation error of CFmodel when we hide a small proportion of ratings.\n",
    "\n",
    "def split_dataframe(df, holdout_fraction=0.1):\n",
    "  \"\"\"Splits a DataFrame into training and test sets.\n",
    "  Args:\n",
    "    df: a dataframe.\n",
    "    holdout_fraction: fraction of dataframe rows to use in the test set.\n",
    "  Returns:\n",
    "    train: dataframe for training\n",
    "    test: dataframe for testing\n",
    "  \"\"\"\n",
    "  test = df.sample(frac=holdout_fraction, replace=False)\n",
    "  train = df[~df.index.isin(test.index)]\n",
    "  return train, test"
   ]
  },
  {
   "attachments": {},
   "cell_type": "markdown",
   "metadata": {},
   "source": [
    "## 2. Recommender System\n",
    "\n",
    "**Collaborative filter approach:** Based on the listening histories of users in user_artists, A sparse rating matrix $A$ of dimension ($N \\times M$) is constructed. Using this, a latent factor collaborative filtering model is built. Matrix factorisation is used to create embedding matrices $U$ and $V$ which approximate the rating matrix. Matrix $U$, of shape $(N, k)$ holds k-dimensional user_embeddings for each of the $N$ users. Matrix $V$ Holds k-dimensional artist embeddings for each of the $M$ artists in user_artists.\n",
    "\n",
    "Using these embedding matrices rather than the rating matrix itself, the CF model computes similarities between user and item embeddings in the embedding space, which is cheaper than computing similarities between users by using the raw rating matrix. We rank these similarities and return the top k results as recommendations to the user.\n",
    "\n",
    "To test the recommender system on unseen examples (such as your own listening preferences), I developed a heuristic for approximating the user embedding vector for new users. More on this in **section 2.3.1 (Testing Recommendations, Your Recommendations)**, where you have the option to add your own artist preferences and recieve recommendations.\n",
    "\n"
   ]
  },
  {
   "attachments": {},
   "cell_type": "markdown",
   "metadata": {},
   "source": [
    "### 2.1 Building CF model\n",
    "\n",
    "This section contains all the functions required for building and running the recommendation system. It can be run all at once"
   ]
  },
  {
   "cell_type": "code",
   "execution_count": 44,
   "metadata": {},
   "outputs": [],
   "source": [
    "# build sparse rating tensor out of the user_artists weight information\n",
    "n_users = len(user_artists.u_id.unique())\n",
    "n_artists = artists.shape[0]\n",
    "def build_rating_sparse_tensor(ratings:pd.DataFrame = user_artists):\n",
    "    '''\n",
    "        Create N X M sparse rating matrix, where N is number of users and M is number of artists.\n",
    "        Args:\n",
    "            ratings: a pd.DataFrame with 'u_id', 'a_id', and implicit rating column ('w_mm').\n",
    "        Returns:\n",
    "            A tf.SparseTensor representing ratings matrix.\n",
    "    '''\n",
    "    indices = ratings[['u_id', 'a_id']].values\n",
    "    values = ratings['w_mm'].values\n",
    "    return tf.SparseTensor(indices=indices, values=values, dense_shape=[n_users, n_artists])"
   ]
  },
  {
   "cell_type": "code",
   "execution_count": 45,
   "metadata": {},
   "outputs": [
    {
     "data": {
      "text/plain": [
       "[1891, 17608]"
      ]
     },
     "execution_count": 45,
     "metadata": {},
     "output_type": "execute_result"
    }
   ],
   "source": [
    "[n_users, n_artists]"
   ]
  },
  {
   "cell_type": "code",
   "execution_count": 46,
   "metadata": {},
   "outputs": [],
   "source": [
    "# Sparse tensor to represent the user_artist listening matrix\n",
    "sparse_ratings = build_rating_sparse_tensor(user_artists)"
   ]
  },
  {
   "attachments": {},
   "cell_type": "markdown",
   "metadata": {},
   "source": [
    "In the function below we compute the mean square error between the observed values in rating matrix $A$ and the embedding matrices $U$ and $V$. This is calculated as follows:\n",
    "\n",
    "$$\n",
    "\\begin{align*}\n",
    "\\text{MSE}(A, UV^\\top)\n",
    "&= \\frac{1}{|\\Omega|}\\sum_{(i, j) \\in\\Omega}{( A_{ij} - (UV^\\top)_{ij})^2} \\\\\n",
    "&= \\frac{1}{|\\Omega|}\\sum_{(i, j) \\in\\Omega}{( A_{ij} - \\langle U_i, V_j\\rangle)^2}\n",
    "\\end{align*}\n",
    "$$\n",
    "where $\\Omega$ is the set of observed ratings (listeners), and $|\\Omega|$ is the cardinality of $\\Omega$.\n"
   ]
  },
  {
   "cell_type": "code",
   "execution_count": 47,
   "metadata": {},
   "outputs": [],
   "source": [
    "def sparse_mean_square_error(sparse_ratings, user_embeddings, artist_embeddings):\n",
    "    '''\n",
    "    Compute the mean square error between UV.T and sparse rating matrix\n",
    "    \n",
    "    Args:\n",
    "        sparse_ratings: SparseTensor of rating matrix, dense shape [N, M]\n",
    "        user_embeddings: Dense Tensor U of shape [N, k] where k is embedding dimension, such that U_i is the embedding of user i\n",
    "        artist_embeddings: A dense Tensor V of shape [M, k] where k is the embedding dimension, such that V_j is the embedding of artist j.\n",
    "    \n",
    "    Returns:\n",
    "        A scalar Tensor representing the MSE between the true ratings and the\n",
    "        model's predictions.\n",
    "\n",
    "    '''\n",
    "\n",
    "    predictions = tf.reduce_sum(\n",
    "        tf.gather(user_embeddings, sparse_ratings.indices[:, 0]) *\n",
    "        tf.gather(artist_embeddings, sparse_ratings.indices[:, 1]),\n",
    "        axis=1)\n",
    "    \n",
    "    loss = tf.losses.mean_squared_error(sparse_ratings.values, predictions)\n",
    "    return loss"
   ]
  },
  {
   "cell_type": "code",
   "execution_count": 48,
   "metadata": {},
   "outputs": [],
   "source": [
    "# Sparse tensor to represent the user_artist listening matrix\n",
    "sparse_ratings = build_rating_sparse_tensor(user_artists)"
   ]
  },
  {
   "cell_type": "markdown",
   "metadata": {},
   "source": [
    "Class to train a matrix factorisation model using stochastic gradient descent to optimise parameters:"
   ]
  },
  {
   "cell_type": "code",
   "execution_count": 49,
   "metadata": {},
   "outputs": [],
   "source": [
    "class CFModel(object):\n",
    "    '''Represents a collaborative filtering model'''\n",
    "\n",
    "    def __init__(self, embedding_vars, loss, metrics=None):\n",
    "        '''Initialise a CFModel instance\n",
    "        Args:\n",
    "            embedding_vars: dictionary of tf.Variables\n",
    "            loss: The loss to optimise. Tensor containing a single float value\n",
    "            metrics: optional list of dictionaries of Tensors. The metrics in each dicitonary will be plotted in a separate figure during training.\n",
    "        '''\n",
    "        self._embedding_vars = embedding_vars\n",
    "        self._loss = loss\n",
    "        self._metrics = metrics\n",
    "        self._embeddings = {k: None for k in embedding_vars}\n",
    "        self._session=None\n",
    "\n",
    "    @property\n",
    "    def embeddings(self):\n",
    "        '''Return embeddings dictionary'''\n",
    "        return self._embeddings\n",
    "    \n",
    "    def train(self, num_iterations=100, learning_rate=1.0, plot_results=True, optimizer=tf.train.GradientDescentOptimizer):\n",
    "        '''Trains the model, tuning the embeddings to approximate feedback matrix\n",
    "        Args:\n",
    "            iterations: the number of iterations to run. More iterations will take longer but can further minimise the loss.\n",
    "            learning_rate: optimizer learning rate.\n",
    "            plot_results (boolean): whether to plot results after training.\n",
    "            optimzer: the optimizer to use. Default to Gradient Descent\n",
    "\n",
    "            Returns:\n",
    "                the metrics dictionary evaluated at the last iteration.\n",
    "        '''\n",
    "        # session set up\n",
    "        with self._loss.graph.as_default():\n",
    "            opt = optimizer(learning_rate)\n",
    "            train_op = opt.minimize(self._loss)\n",
    "            local_init_op = tf.group(\n",
    "                tf.variables_initializer(opt.variables()),\n",
    "                tf.local_variables_initializer())\n",
    "            if self._session is None:\n",
    "                self._session = tf.Session()\n",
    "                with self._session.as_default():\n",
    "                    self._session.run(tf.global_variables_initializer())\n",
    "                    self._session.run(tf.tables_initializer())\n",
    "                    tf.train.start_queue_runners()\n",
    "        \n",
    "        with self._session.as_default():\n",
    "            local_init_op.run()\n",
    "            iterations = []\n",
    "            metrics = self._metrics or ({},)\n",
    "            metrics_vals = [collections.defaultdict(list) for _ in self._metrics]\n",
    "\n",
    "            # Train and append the results\n",
    "            for i in tqdm(range(num_iterations + 1)):\n",
    "                _, results = self._session.run((train_op, metrics))\n",
    "                if (i % 100 == 0) or i == num_iterations:\n",
    "                    #print(\"\\r iteration %d: \" % i + \", \".join([\"%s=%f\" % (k, v) for r in results for k, v in r.items()]))\n",
    "                    \n",
    "                    iterations.append(i)\n",
    "                    for metric_val, result in zip(metrics_vals, results):\n",
    "                        for k, v in result.items():\n",
    "                            metric_val[k].append(v)\n",
    "            \n",
    "            for k, v in self._embedding_vars.items():\n",
    "                self._embeddings[k] = v.eval()\n",
    "            \n",
    "            if plot_results:\n",
    "                # Plot the metrics\n",
    "                num_subplots = len(metrics)+1\n",
    "                fig = plt.figure()\n",
    "                fig.set_size_inches(num_subplots*10, 8)\n",
    "                for i, metrics_vals in enumerate(metrics_vals):\n",
    "                    ax = fig.add_subplot(1, num_subplots, i+1)\n",
    "                    for k, v in metrics_vals.items():\n",
    "                        ax.plot(iterations, v, label=k)\n",
    "                    ax.set_xlim([1, num_iterations])\n",
    "                    ax.legend()\n",
    "            \n",
    "            return results"
   ]
  },
  {
   "attachments": {},
   "cell_type": "markdown",
   "metadata": {},
   "source": [
    "The function below builds a CFModel by initialising the embedding variables and the losses, and feeding these to CFModel class. The CFModel adjusts the user and artist embedding values so as to minimize the objective function this optimisation is carried out using the Stochastic Gradient Descent algorithm.\n",
    "\n",
    "Mean Square Error of the observed values, regularization using a gravity term and L2 regularization terms are incorporated into the objective function. Regularisation terms ensure that the model doesn't just fit the observed part of the rating matrix (the relevant artists), but also learns to score the unrated artists by the user as well.\n",
    "\n",
    "- L2 regularisaiton of the embeddings is given by:\n",
    "$r(U, V) =  \\frac{1}{N} \\sum_i \\|U_i\\|^2 + \\frac{1}{M}\\sum_j \\|V_j\\|^2$.\n",
    "\n",
    "- gravity, a global prior that pushes all the predictions towards zero, is given by:\n",
    "$g(U, V) = \\frac{1}{MN} \\sum_{i = 1}^N \\sum_{j = 1}^M \\langle U_i, V_j \\rangle^2$.\n",
    "\n",
    "Hence, the objective function is given by \n",
    "$$\n",
    "\\frac{1}{|\\Omega|}\\sum_{(i, j) \\in \\Omega} (A_{ij} - \\langle U_i, V_j\\rangle)^2 + \\lambda _r r(U, V) + \\lambda_g g(U, V)\n",
    "$$\n",
    "where $\\lambda_r$ and $\\lambda_g$ are two regularization coefficients, and should be tuned as hyper-parameters. $\\Omega$ is the set of observed ratings. Note that average rating is so close to zero already; for this reason the default value for gravity coefficient is 0."
   ]
  },
  {
   "cell_type": "code",
   "execution_count": 50,
   "metadata": {},
   "outputs": [
    {
     "data": {
      "text/plain": [
       "0.00020459619354275211"
      ]
     },
     "execution_count": 50,
     "metadata": {},
     "output_type": "execute_result"
    }
   ],
   "source": [
    "mean_rating = tf.Session().run(tf.reduce_mean(tf.sparse.to_dense(sparse_ratings)))\n",
    "mean_rating"
   ]
  },
  {
   "cell_type": "code",
   "execution_count": 51,
   "metadata": {},
   "outputs": [],
   "source": [
    "def gravity(U, V):\n",
    "    '''Creates gravity loss from two embedding matrices.'''\n",
    "    return 1/(U.shape[0].value * V.shape[0].value) * tf.reduce_sum(\n",
    "        tf.matmul(U, U, transpose_a = True) * tf.matmul(V, V, transpose_a=True))\n",
    "\n",
    "def build_model(ratings, embedding_dim=3, regularization_coeff=1., gravity_coeff=0, init_stddev=1.):\n",
    "    '''\n",
    "    Args:\n",
    "        ratings: a Dataframe of ratings; entries for rating matrix.\n",
    "        embedding_dim: dimension of embedding vectors.\n",
    "        regularization_coeff: L2 regularisation coefficient lambda_r.\n",
    "        gravity_coeff: Gravity regularization coefficient lambda_g.\n",
    "        init_stddev: float, standard deviation of the random initial embeddings.\n",
    "    Returns:\n",
    "        model: a CFModel object.\n",
    "    '''\n",
    "    # split the ratings DataFrame into train and test\n",
    "    # the sparse matrices will have the same dimensionality for train and test, \n",
    "    # but test values are set to 0 in train_ratings and vice versa\n",
    "    train_ratings, test_ratings = split_dataframe(ratings)\n",
    "    A_train = build_rating_sparse_tensor(train_ratings)\n",
    "    A_test = build_rating_sparse_tensor(test_ratings)\n",
    "\n",
    "    # initialise embeddings using normal distribution\n",
    "    U = tf.Variable(tf.random_normal([A_train.dense_shape[0], embedding_dim], stddev=init_stddev))\n",
    "    V = tf.Variable(tf.random_normal([A_train.dense_shape[1], embedding_dim], stddev=init_stddev))\n",
    "\n",
    "    error_train = sparse_mean_square_error(A_train, U, V)\n",
    "    error_test = sparse_mean_square_error(A_test, U, V)\n",
    "    gravity_loss = gravity_coeff * gravity(U, V)\n",
    "    regularization_loss = regularization_coeff * (\n",
    "        tf.reduce_sum(U*U)/U.shape[0].value + tf.reduce_sum(V*V)/V.shape[0].value)\n",
    "\n",
    "    total_loss = error_train + regularization_loss + gravity_loss\n",
    "\n",
    "    losses = {\n",
    "        'train_error_observed': error_train,\n",
    "        'test_error_observed': error_test\n",
    "    }\n",
    "    loss_components = {\n",
    "        'observed_loss': error_train,\n",
    "        'regularization_loss': regularization_loss,\n",
    "        'gravity_loss': gravity_loss\n",
    "    }\n",
    "    embeddings={\n",
    "        \"u_id\": U,\n",
    "        \"a_id\": V\n",
    "    }\n",
    "    return CFModel(embeddings, total_loss, [losses, loss_components])"
   ]
  },
  {
   "cell_type": "code",
   "execution_count": 52,
   "metadata": {},
   "outputs": [],
   "source": [
    "def compute_scores(user_embedding, item_embeddings, measure='dot'):\n",
    "  \"\"\"Computes the scores for the artists given a user's listening history\n",
    "  Args:\n",
    "    user_embedding: k-dimensional vector representing the user embedding.\n",
    "    item_embeddings: matrix of shape [N, k], such that row i is the embedding\n",
    "    of artist/item i.\n",
    "    measure: a string specifying the similarity measure to be used. Can be\n",
    "      either 'dot' or 'cosine'\n",
    "  Returns:\n",
    "    scores: a vector of shape [N], such that scores[i] is the score of item i.\n",
    "  \"\"\"\n",
    "  # ========================= Complete this section ============================\n",
    "  \n",
    "  u = user_embedding\n",
    "  V = item_embeddings\n",
    "\n",
    "  # if meaure is cosine, then we normalize the query vector and item matrix before computing the dot product\n",
    "  if measure == 'cosine':\n",
    "    u = user_embedding / np.linalg.norm(u)\n",
    "    V = item_embeddings / np.linalg.norm(V, axis=1, keepdims=True)    \n",
    "  \n",
    "  scores = np.dot(u, V.T)\n",
    "  # ============================================================================\n",
    "  return scores"
   ]
  },
  {
   "cell_type": "code",
   "execution_count": 53,
   "metadata": {},
   "outputs": [],
   "source": [
    "# User recommendations using user embedding approximation\n",
    "def user_recommendations(model, user_rec_embedding, measure='dot', exclude_rated=False, k=6):\n",
    "    ''' Get artist recommendations for a given user embedding vector \n",
    "        Args:\n",
    "            model: CFModel for producing recommendations\n",
    "            user_rec_embedding: k-dimensional numpy array representing user recommendaiton embedding. k is embedding dimensionality.\n",
    "            measure: similarity measure to use for recommendaitons ('dot' or 'cosine')\n",
    "            exclude_rated: whether to exclude artists that are already listened by user\n",
    "            k: number of artists to recommend. \n",
    "        \n",
    "        Returns:    \n",
    "        top k most similar artist embeddings to our user embedding in terms of 'measure'\n",
    "            \n",
    "            '''\n",
    "    scores = compute_scores(\n",
    "        user_rec_embedding, model.embeddings['a_id'], measure)\n",
    "    score_key = measure + ' score'\n",
    "    df = pd.DataFrame({\n",
    "        score_key: list(scores),\n",
    "        'artist name': artists['name'],\n",
    "        'top3 tags': artists['top3_tags'],\n",
    "        'popularity_score': artists['popularity_score'],\n",
    "        'listeners': artists['listeners']\n",
    "    })\n",
    "    if exclude_rated:\n",
    "      # remove artists that are already listened to\n",
    "      rated_artists = user_like.a_id.values\n",
    "      df = df[df.a_id.apply(lambda a_id: a_id not in rated_artists)]\n",
    "    display.display(df.sort_values([score_key], ascending=False).head(k)) \n",
    "\n",
    "    return df;"
   ]
  },
  {
   "cell_type": "code",
   "execution_count": 54,
   "metadata": {},
   "outputs": [],
   "source": [
    "def artist_neighbors(model, name_substring, measure='dot', k=5):\n",
    "    '''\n",
    "        find the k nearest neighbors to artist embedding in the embedding space\n",
    "        Args:\n",
    "            model: Collaborative filter model\n",
    "            name_substring: artist name to search for\n",
    "            measure: similarity measure ('dot' or 'cosine')\n",
    "            k: number of neighbors to return\n",
    "\n",
    "    '''\n",
    "    # Search for artist id's that match the substring\n",
    "    ids = artists[artists['name'].str.contains(name_substring)]['a_id'].values\n",
    "    names = artists.loc[artists['a_id'].isin(ids), 'name'].values\n",
    "\n",
    "    if len(names) == 0:\n",
    "        raise ValueError(\"Didn't find artists with title {}\".format(name_substring))\n",
    "\n",
    "    print('Nearest neighbors of: {}'.format(names[0]))\n",
    "    if len(names) > 1:\n",
    "        print(\"Found several artists matching the search. Other candidates: {}\".format(\", \".join(names[1:])))\n",
    "    \n",
    "    artist_id = ids[0]\n",
    "    scores = compute_scores(model.embeddings['a_id'][artist_id], model.embeddings['a_id'], \n",
    "measure)\n",
    "    score_key = measure + ' score'\n",
    "    \n",
    "\n",
    "    df = pd.DataFrame({\n",
    "        score_key: list(scores),\n",
    "        'artist': artists['name'],\n",
    "        'top3_tags': artists['top3_tags'],\n",
    "        'popularity_score': artists['popularity_score'],\n",
    "        'listeners': artists['listeners']\n",
    "    })\n",
    "    display.display(df.sort_values([score_key], ascending=False).iloc[:, :].head(k))\n",
    "\n",
    "    return df;\n"
   ]
  },
  {
   "cell_type": "code",
   "execution_count": 55,
   "metadata": {},
   "outputs": [
    {
     "name": "stdout",
     "output_type": "stream",
     "text": [
      "WARNING:tensorflow:From C:\\Users\\joluw\\AppData\\Local\\Temp\\ipykernel_1632\\3596911862.py:45: start_queue_runners (from tensorflow.python.training.queue_runner_impl) is deprecated and will be removed in a future version.\n",
      "Instructions for updating:\n",
      "To construct input pipelines, use the `tf.data` module.\n",
      "WARNING:tensorflow:`tf.train.start_queue_runners()` was called when no queue runners were defined. You can safely remove the call to this deprecated function.\n"
     ]
    },
    {
     "name": "stderr",
     "output_type": "stream",
     "text": [
      "100%|██████████| 2001/2001 [00:13<00:00, 144.37it/s]\n"
     ]
    },
    {
     "name": "stdout",
     "output_type": "stream",
     "text": [
      "[{'train_error_observed': 0.36004344, 'test_error_observed': 1.1416062}, {'observed_loss': 0.36004344, 'regularization_loss': 0.0, 'gravity_loss': 0.0}]\n"
     ]
    },
    {
     "data": {
      "image/png": "[encoded data removed]",
      "text/plain": [
       "<Figure size 3000x800 with 2 Axes>"
      ]
     },
     "metadata": {},
     "output_type": "display_data"
    }
   ],
   "source": [
    "model0 = build_model(user_artists, embedding_dim=10, regularization_coeff=0, gravity_coeff=0, init_stddev=1)\n",
    "results0 = model0.train(num_iterations=2000)\n",
    "print(results0)"
   ]
  },
  {
   "cell_type": "code",
   "execution_count": 56,
   "metadata": {},
   "outputs": [
    {
     "name": "stdout",
     "output_type": "stream",
     "text": [
      "total_loss: 0.36\n"
     ]
    }
   ],
   "source": [
    "total_loss = 0\n",
    "for k, v in results0[1].items():\n",
    "    total_loss += v\n",
    "\n",
    "print('total_loss: {}'.format(np.round(total_loss, 4)))"
   ]
  },
  {
   "attachments": {},
   "cell_type": "markdown",
   "metadata": {},
   "source": [
    "Suitable hyperparameters (Embedding dimensionality, regularization coefficients, and embedding initialisation variance)\n",
    "were found by hand-tuning the parameters, and checking the nearest neighbors and personal recommendations at each step. I did this because I found that minimising the total error does not pertain to better predictions, so subjective judgement is required.\n",
    "\n",
    "For example, increasing the gravity coefficient pushes all predictions further towards 0 which reduces the total_error. And increasing the L2 regularization coefficient increases the total error, so a cross validation search favors models with lower L2 regularization coefficients. "
   ]
  },
  {
   "cell_type": "code",
   "execution_count": 57,
   "metadata": {},
   "outputs": [
    {
     "name": "stdout",
     "output_type": "stream",
     "text": [
      "WARNING:tensorflow:`tf.train.start_queue_runners()` was called when no queue runners were defined. You can safely remove the call to this deprecated function.\n"
     ]
    },
    {
     "name": "stderr",
     "output_type": "stream",
     "text": [
      "100%|██████████| 2001/2001 [00:14<00:00, 136.21it/s]\n"
     ]
    },
    {
     "name": "stdout",
     "output_type": "stream",
     "text": [
      "[{'train_error_observed': 0.04508776, 'test_error_observed': 0.09184611}, {'observed_loss': 0.04508776, 'regularization_loss': 1.695413, 'gravity_loss': 0.06439318}]\n"
     ]
    },
    {
     "data": {
      "image/png": "[encoded data removed]",
      "text/plain": [
       "<Figure size 3000x800 with 2 Axes>"
      ]
     },
     "metadata": {},
     "output_type": "display_data"
    }
   ],
   "source": [
    "model = build_model(user_artists, embedding_dim=10, regularization_coeff=0.2, gravity_coeff=0.5, init_stddev=1)\n",
    "results = model.train(num_iterations=2000)\n",
    "print(results)"
   ]
  },
  {
   "cell_type": "code",
   "execution_count": 58,
   "metadata": {},
   "outputs": [
    {
     "name": "stdout",
     "output_type": "stream",
     "text": [
      "total_loss: 1.8049\n"
     ]
    }
   ],
   "source": [
    "total_loss = 0\n",
    "for k, v in results[1].items():\n",
    "    total_loss += v\n",
    "\n",
    "print('total_loss: {}'.format(np.round(total_loss, 4)))"
   ]
  },
  {
   "attachments": {},
   "cell_type": "markdown",
   "metadata": {},
   "source": [
    "### 3. Evaluating Recommendations\n",
    "\n",
    "In the following sections the CF model constructed in Section 2 is evaluated using recommendations based on your artist preferences (demonstrating the model's ability to produce recommendations for unseen queries), as well as checking nearest neighbors of artists in the embedding space."
   ]
  },
  {
   "attachments": {},
   "cell_type": "markdown",
   "metadata": {},
   "source": [
    "#### 3.1 Your Recommendations\n",
    "\n",
    "**Action:** To produce recommendations based on your own artist preferences, please follow the steps below.\n",
    "\n",
    "1. Open \"your_artists.csv\".\n",
    "\n",
    "2. Inspect the list of the top 250 artists in terms of listener count in the last.FM dataset.\n",
    "\n",
    "3. **For artists that you enjoy listening to, Put a number 1 in the \"Like column (Column B) beside their name\". Leave the rest blank.**\n",
    "\n",
    "4. Save and close the file.\n",
    "\n",
    "<br>\n",
    "\n",
    "This is how your recommendations are calculated:\n",
    "1. First a sparse vector with your preferences encoded is created from the \"your_artists.csv\" file.\n",
    "2. Dot product similarity between the sparse vector and the other user vectors in the ratings matrix are then computed.\n",
    "3. The top 5 similar users' embeddings are averaged.\n",
    "4. The output is multiplied by the artist embeddings matrix to get recommendations.\n",
    "\n",
    "There are different ways to calculate recommendations for new users, but I came up with this heuristic under the assumption that users with similar preferences to you exist in the dataset already, so applying some combination of their user vectors should yield relevant recommendations."
   ]
  },
  {
   "cell_type": "code",
   "execution_count": 59,
   "metadata": {},
   "outputs": [],
   "source": [
    "# Reset the 'your_artists.csv' file\n",
    "#artists.sort_values('listeners', ascending=False)['name'].head(250).to_csv('your_artists.csv', index=False)"
   ]
  },
  {
   "attachments": {},
   "cell_type": "markdown",
   "metadata": {},
   "source": [
    "**set user_rating_bool to false if you don't want to provide recommendations.** In that case the recommender will be tested on my own preferences\n"
   ]
  },
  {
   "cell_type": "code",
   "execution_count": null,
   "metadata": {},
   "outputs": [],
   "source": [
    "user_rating_bool=True"
   ]
  },
  {
   "cell_type": "code",
   "execution_count": 60,
   "metadata": {},
   "outputs": [
    {
     "name": "stdout",
     "output_type": "stream",
     "text": [
      "Artists you like:\n"
     ]
    },
    {
     "data": {
      "text/html": [
       "<div>\n",
       "<style scoped>\n",
       "    .dataframe tbody tr th:only-of-type {\n",
       "        vertical-align: middle;\n",
       "    }\n",
       "\n",
       "    .dataframe tbody tr th {\n",
       "        vertical-align: top;\n",
       "    }\n",
       "\n",
       "    .dataframe thead th {\n",
       "        text-align: right;\n",
       "    }\n",
       "</style>\n",
       "<table border=\"1\" class=\"dataframe\">\n",
       "  <thead>\n",
       "    <tr style=\"text-align: right;\">\n",
       "      <th></th>\n",
       "      <th>name</th>\n",
       "    </tr>\n",
       "  </thead>\n",
       "  <tbody>\n",
       "    <tr>\n",
       "      <th>0</th>\n",
       "      <td>Lady Gaga</td>\n",
       "    </tr>\n",
       "    <tr>\n",
       "      <th>3</th>\n",
       "      <td>Rihanna</td>\n",
       "    </tr>\n",
       "    <tr>\n",
       "      <th>6</th>\n",
       "      <td>Beyoncé</td>\n",
       "    </tr>\n",
       "    <tr>\n",
       "      <th>77</th>\n",
       "      <td>Kanye West</td>\n",
       "    </tr>\n",
       "    <tr>\n",
       "      <th>128</th>\n",
       "      <td>Justin Bieber</td>\n",
       "    </tr>\n",
       "    <tr>\n",
       "      <th>143</th>\n",
       "      <td>Usher</td>\n",
       "    </tr>\n",
       "    <tr>\n",
       "      <th>162</th>\n",
       "      <td>Nicki Minaj</td>\n",
       "    </tr>\n",
       "    <tr>\n",
       "      <th>170</th>\n",
       "      <td>Chris Brown</td>\n",
       "    </tr>\n",
       "  </tbody>\n",
       "</table>\n",
       "</div>"
      ],
      "text/plain": [
       "              name\n",
       "0        Lady Gaga\n",
       "3          Rihanna\n",
       "6          Beyoncé\n",
       "77      Kanye West\n",
       "128  Justin Bieber\n",
       "143          Usher\n",
       "162    Nicki Minaj\n",
       "170    Chris Brown"
      ]
     },
     "execution_count": 60,
     "metadata": {},
     "output_type": "execute_result"
    }
   ],
   "source": [
    "if user_rating_bool:\n",
    "    user_pref = pd.read_csv('your_artists.csv')\n",
    "else:\n",
    "    user_pref = pd.read_csv('joseph_artists.csv')\n",
    "\n",
    "\n",
    "print(\"Artists you like:\")\n",
    "user_pref.loc[user_pref['Like'] == 1, ['name']]\n"
   ]
  },
  {
   "cell_type": "code",
   "execution_count": 61,
   "metadata": {},
   "outputs": [],
   "source": [
    "def get_similar_users(user_vec):\n",
    "    '''get dot product similarity scores between user vector and each user in the ratings matrix '''\n",
    "    \n",
    "    u = user_vec\n",
    "    V = sparse_ratings\n",
    "    \n",
    "    scores = tf.sparse.sparse_dense_matmul(V, u,)\n",
    "    return scores"
   ]
  },
  {
   "cell_type": "code",
   "execution_count": 62,
   "metadata": {},
   "outputs": [],
   "source": [
    "# create sparse user vector from user preferences\n",
    "user_like = user_pref.loc[user_pref['Like'] == 1, ['name']]\n",
    "user_like = user_like.merge(artists[['name', 'a_id']], on='name', how='left').sort_values('a_id')\n",
    "\n",
    "user_vec = tf.sparse.SparseTensor(\n",
    "    indices=[[ind] for ind in user_like.a_id], \n",
    "    values = np.ones(shape=user_like.shape[0]), \n",
    "    dense_shape = [artists.shape[0]])\n",
    "\n",
    "# convert to dense tensor for matrix multiplication\n",
    "user_vec = tf.sparse.to_dense(user_vec)\n",
    "user_vec = tf.expand_dims(user_vec, 1)\n",
    "\n",
    "# compile the user vectors of the most similar users into a list\n",
    "n_u_mean = 5\n",
    "scores = tf.Session().run(get_similar_users(user_vec))\n",
    "sim_df = pd.DataFrame({'u_id':user_artists.u_id.unique(), 'score': scores.flatten()})\n",
    "similar_users = sim_df.sort_values('score', ascending=False).head(n_u_mean)"
   ]
  },
  {
   "cell_type": "code",
   "execution_count": 63,
   "metadata": {},
   "outputs": [
    {
     "name": "stdout",
     "output_type": "stream",
     "text": [
      "Users with similar preferences to you listened to the following artists in common with you:\n"
     ]
    },
    {
     "data": {
      "text/html": [
       "<div>\n",
       "<style scoped>\n",
       "    .dataframe tbody tr th:only-of-type {\n",
       "        vertical-align: middle;\n",
       "    }\n",
       "\n",
       "    .dataframe tbody tr th {\n",
       "        vertical-align: top;\n",
       "    }\n",
       "\n",
       "    .dataframe thead th {\n",
       "        text-align: right;\n",
       "    }\n",
       "</style>\n",
       "<table border=\"1\" class=\"dataframe\">\n",
       "  <thead>\n",
       "    <tr style=\"text-align: right;\">\n",
       "      <th></th>\n",
       "      <th>name</th>\n",
       "      <th>top1_tags</th>\n",
       "    </tr>\n",
       "  </thead>\n",
       "  <tbody>\n",
       "    <tr>\n",
       "      <th>0</th>\n",
       "      <td>Lady Gaga</td>\n",
       "      <td>alternative</td>\n",
       "    </tr>\n",
       "    <tr>\n",
       "      <th>1</th>\n",
       "      <td>Rihanna</td>\n",
       "      <td>electronic</td>\n",
       "    </tr>\n",
       "    <tr>\n",
       "      <th>2</th>\n",
       "      <td>Beyoncé</td>\n",
       "      <td>hard rock</td>\n",
       "    </tr>\n",
       "    <tr>\n",
       "      <th>3</th>\n",
       "      <td>Kanye West</td>\n",
       "      <td>gothic rock</td>\n",
       "    </tr>\n",
       "    <tr>\n",
       "      <th>4</th>\n",
       "      <td>Justin Bieber</td>\n",
       "      <td>female vocalists</td>\n",
       "    </tr>\n",
       "    <tr>\n",
       "      <th>5</th>\n",
       "      <td>Usher</td>\n",
       "      <td>female vocalists</td>\n",
       "    </tr>\n",
       "    <tr>\n",
       "      <th>14</th>\n",
       "      <td>Nicki Minaj</td>\n",
       "      <td>electronic</td>\n",
       "    </tr>\n",
       "    <tr>\n",
       "      <th>18</th>\n",
       "      <td>Chris Brown</td>\n",
       "      <td>female vocalists</td>\n",
       "    </tr>\n",
       "  </tbody>\n",
       "</table>\n",
       "</div>"
      ],
      "text/plain": [
       "             name         top1_tags\n",
       "0       Lady Gaga       alternative\n",
       "1         Rihanna        electronic\n",
       "2         Beyoncé         hard rock\n",
       "3      Kanye West       gothic rock\n",
       "4   Justin Bieber  female vocalists\n",
       "5           Usher  female vocalists\n",
       "14    Nicki Minaj        electronic\n",
       "18    Chris Brown  female vocalists"
      ]
     },
     "execution_count": 63,
     "metadata": {},
     "output_type": "execute_result"
    }
   ],
   "source": [
    "# Validating the user similarity calculation.\n",
    "similar_users_common = user_artists.loc[(user_artists.u_id.isin(similar_users.u_id)) & (user_artists.a_id.isin(user_like.a_id)), \\\n",
    "    ['a_id']] \\\n",
    "    .merge(artists[['a_id', 'artistID', 'top1_tags', 'name']], on='a_id', how='left')[['name', 'top1_tags']]\n",
    "\n",
    "print(\"Users with similar preferences to you listened to the following artists in common with you:\")\n",
    "tags_to_check = similar_users_common.top1_tags.unique()\n",
    "similar_users_common.drop_duplicates()"
   ]
  },
  {
   "attachments": {},
   "cell_type": "markdown",
   "metadata": {},
   "source": [
    "Note the top tags for the artists above. We will check that the recommendations contain some similar tags."
   ]
  },
  {
   "cell_type": "code",
   "execution_count": 64,
   "metadata": {},
   "outputs": [],
   "source": [
    "# mean of the similar users embeddings is used to approximate the new user's embedding vector\n",
    "candidates = []\n",
    "for u in similar_users.u_id:\n",
    "    candidates.append(model.embeddings['u_id'][u])\n",
    "\n",
    "user_rec_embedding = np.array(candidates).mean(axis=0)"
   ]
  },
  {
   "attachments": {},
   "cell_type": "markdown",
   "metadata": {},
   "source": [
    "**Action:** Check if the tags of recommended artists are similar to those of the artists you like."
   ]
  },
  {
   "cell_type": "code",
   "execution_count": 66,
   "metadata": {},
   "outputs": [
    {
     "name": "stdout",
     "output_type": "stream",
     "text": [
      "Top Tags of your liked Artists:\n",
      "\n",
      "alternative\n",
      "electronic\n",
      "hard rock\n",
      "gothic rock\n",
      "female vocalists\n"
     ]
    }
   ],
   "source": [
    "print(\"Top Tags of your liked Artists:\\n\\n{}\".format(\"\\n\".join(tags_to_check)))"
   ]
  },
  {
   "cell_type": "code",
   "execution_count": 67,
   "metadata": {},
   "outputs": [
    {
     "name": "stdout",
     "output_type": "stream",
     "text": [
      "Top 6 artist recommendations for you:\n"
     ]
    },
    {
     "data": {
      "text/html": [
       "<div>\n",
       "<style scoped>\n",
       "    .dataframe tbody tr th:only-of-type {\n",
       "        vertical-align: middle;\n",
       "    }\n",
       "\n",
       "    .dataframe tbody tr th {\n",
       "        vertical-align: top;\n",
       "    }\n",
       "\n",
       "    .dataframe thead th {\n",
       "        text-align: right;\n",
       "    }\n",
       "</style>\n",
       "<table border=\"1\" class=\"dataframe\">\n",
       "  <thead>\n",
       "    <tr style=\"text-align: right;\">\n",
       "      <th></th>\n",
       "      <th>cosine score</th>\n",
       "      <th>artist name</th>\n",
       "      <th>top3 tags</th>\n",
       "      <th>popularity_score</th>\n",
       "      <th>listeners</th>\n",
       "    </tr>\n",
       "  </thead>\n",
       "  <tbody>\n",
       "    <tr>\n",
       "      <th>17431</th>\n",
       "      <td>0.916</td>\n",
       "      <td>Advent</td>\n",
       "      <td>80s / powerfull voices / tinosoft</td>\n",
       "      <td>0.062</td>\n",
       "      <td>1</td>\n",
       "    </tr>\n",
       "    <tr>\n",
       "      <th>17287</th>\n",
       "      <td>0.874</td>\n",
       "      <td>Puente Celeste</td>\n",
       "      <td>none</td>\n",
       "      <td>0.187</td>\n",
       "      <td>1</td>\n",
       "    </tr>\n",
       "    <tr>\n",
       "      <th>12058</th>\n",
       "      <td>0.865</td>\n",
       "      <td>Cyberaktif</td>\n",
       "      <td>new romantic / psychedelic</td>\n",
       "      <td>0.215</td>\n",
       "      <td>2</td>\n",
       "    </tr>\n",
       "    <tr>\n",
       "      <th>1227</th>\n",
       "      <td>0.863</td>\n",
       "      <td>Zomby</td>\n",
       "      <td>indie rock / rock / electronic</td>\n",
       "      <td>0.472</td>\n",
       "      <td>4</td>\n",
       "    </tr>\n",
       "    <tr>\n",
       "      <th>16596</th>\n",
       "      <td>0.855</td>\n",
       "      <td>John Hiatt</td>\n",
       "      <td>catchy / club classics / sexy</td>\n",
       "      <td>0.419</td>\n",
       "      <td>1</td>\n",
       "    </tr>\n",
       "    <tr>\n",
       "      <th>10614</th>\n",
       "      <td>0.850</td>\n",
       "      <td>Andrew W.K.</td>\n",
       "      <td>indie / acoustic / song</td>\n",
       "      <td>1.413</td>\n",
       "      <td>5</td>\n",
       "    </tr>\n",
       "  </tbody>\n",
       "</table>\n",
       "</div>"
      ],
      "text/plain": [
       "       cosine score     artist name                          top3 tags  \\\n",
       "17431         0.916          Advent  80s / powerfull voices / tinosoft   \n",
       "17287         0.874  Puente Celeste                               none   \n",
       "12058         0.865      Cyberaktif         new romantic / psychedelic   \n",
       "1227          0.863           Zomby     indie rock / rock / electronic   \n",
       "16596         0.855      John Hiatt      catchy / club classics / sexy   \n",
       "10614         0.850     Andrew W.K.            indie / acoustic / song   \n",
       "\n",
       "       popularity_score  listeners  \n",
       "17431             0.062          1  \n",
       "17287             0.187          1  \n",
       "12058             0.215          2  \n",
       "1227              0.472          4  \n",
       "16596             0.419          1  \n",
       "10614             1.413          5  "
      ]
     },
     "metadata": {},
     "output_type": "display_data"
    }
   ],
   "source": [
    "print(\"Top 6 artist recommendations for you:\")\n",
    "_ = user_recommendations(model, user_rec_embedding, measure='cosine')"
   ]
  },
  {
   "cell_type": "code",
   "execution_count": 68,
   "metadata": {},
   "outputs": [
    {
     "data": {
      "text/html": [
       "<div>\n",
       "<style scoped>\n",
       "    .dataframe tbody tr th:only-of-type {\n",
       "        vertical-align: middle;\n",
       "    }\n",
       "\n",
       "    .dataframe tbody tr th {\n",
       "        vertical-align: top;\n",
       "    }\n",
       "\n",
       "    .dataframe thead th {\n",
       "        text-align: right;\n",
       "    }\n",
       "</style>\n",
       "<table border=\"1\" class=\"dataframe\">\n",
       "  <thead>\n",
       "    <tr style=\"text-align: right;\">\n",
       "      <th></th>\n",
       "      <th>dot score</th>\n",
       "      <th>artist name</th>\n",
       "      <th>top3 tags</th>\n",
       "      <th>popularity_score</th>\n",
       "      <th>listeners</th>\n",
       "    </tr>\n",
       "  </thead>\n",
       "  <tbody>\n",
       "    <tr>\n",
       "      <th>6318</th>\n",
       "      <td>0.743</td>\n",
       "      <td>1990s</td>\n",
       "      <td>none</td>\n",
       "      <td>0.090</td>\n",
       "      <td>2</td>\n",
       "    </tr>\n",
       "    <tr>\n",
       "      <th>7144</th>\n",
       "      <td>0.680</td>\n",
       "      <td>Ian Carey</td>\n",
       "      <td>60s / punk rock / sexy</td>\n",
       "      <td>0.483</td>\n",
       "      <td>4</td>\n",
       "    </tr>\n",
       "    <tr>\n",
       "      <th>12244</th>\n",
       "      <td>0.676</td>\n",
       "      <td>Akira Kosemura</td>\n",
       "      <td>acoustic rock / electronica / leftovergrooves</td>\n",
       "      <td>0.086</td>\n",
       "      <td>1</td>\n",
       "    </tr>\n",
       "    <tr>\n",
       "      <th>14502</th>\n",
       "      <td>0.675</td>\n",
       "      <td>Electrobelle</td>\n",
       "      <td>none</td>\n",
       "      <td>0.032</td>\n",
       "      <td>1</td>\n",
       "    </tr>\n",
       "    <tr>\n",
       "      <th>11654</th>\n",
       "      <td>0.675</td>\n",
       "      <td>Bora Uzer</td>\n",
       "      <td>none</td>\n",
       "      <td>0.005</td>\n",
       "      <td>1</td>\n",
       "    </tr>\n",
       "    <tr>\n",
       "      <th>10959</th>\n",
       "      <td>0.654</td>\n",
       "      <td>Arnaldo Antunes, Carlinhos Brown &amp; Marisa Monte</td>\n",
       "      <td>none</td>\n",
       "      <td>0.090</td>\n",
       "      <td>2</td>\n",
       "    </tr>\n",
       "  </tbody>\n",
       "</table>\n",
       "</div>"
      ],
      "text/plain": [
       "       dot score                                      artist name  \\\n",
       "6318       0.743                                            1990s   \n",
       "7144       0.680                                        Ian Carey   \n",
       "12244      0.676                                   Akira Kosemura   \n",
       "14502      0.675                                     Electrobelle   \n",
       "11654      0.675                                        Bora Uzer   \n",
       "10959      0.654  Arnaldo Antunes, Carlinhos Brown & Marisa Monte   \n",
       "\n",
       "                                           top3 tags  popularity_score  \\\n",
       "6318                                            none             0.090   \n",
       "7144                          60s / punk rock / sexy             0.483   \n",
       "12244  acoustic rock / electronica / leftovergrooves             0.086   \n",
       "14502                                           none             0.032   \n",
       "11654                                           none             0.005   \n",
       "10959                                           none             0.090   \n",
       "\n",
       "       listeners  \n",
       "6318           2  \n",
       "7144           4  \n",
       "12244          1  \n",
       "14502          1  \n",
       "11654          1  \n",
       "10959          2  "
      ]
     },
     "metadata": {},
     "output_type": "display_data"
    },
    {
     "name": "stdout",
     "output_type": "stream",
     "text": [
      "Spearman Rank correlation between dot product similarity and:\n",
      "Popularity score: -0.005634\n",
      "Listener count: -0.00535\n"
     ]
    }
   ],
   "source": [
    "dot_df = user_recommendations(model, user_rec_embedding, measure='dot')\n",
    "\n",
    "# check for correlation between dot product score and popularity score\n",
    "dot_pop_corr = dot_df['dot score'].corr(dot_df['popularity_score'], method='spearman')\n",
    "dot_listen_corr = dot_df['dot score'].corr(dot_df['listeners'], method='spearman')\n",
    "print('Spearman Rank correlation between dot product similarity and:\\nPopularity score:', np.round(dot_pop_corr, 6))\n",
    "print('Listener count:', np.round(dot_listen_corr, 6))"
   ]
  },
  {
   "attachments": {},
   "cell_type": "markdown",
   "metadata": {},
   "source": [
    "### 3.2 Embedding Nearest Neighbors\n",
    "\n",
    "In this section, the nearest neighbors of artist embeddings are inspected. Also, the correlation between nearest neighbors and popularity is checked."
   ]
  },
  {
   "cell_type": "code",
   "execution_count": 69,
   "metadata": {},
   "outputs": [
    {
     "name": "stdout",
     "output_type": "stream",
     "text": [
      "Nearest neighbors of: Justin Bieber\n",
      "Found several artists matching the search. Other candidates: Justin Bieber  ft Rascal Flatts\n"
     ]
    },
    {
     "data": {
      "text/html": [
       "<div>\n",
       "<style scoped>\n",
       "    .dataframe tbody tr th:only-of-type {\n",
       "        vertical-align: middle;\n",
       "    }\n",
       "\n",
       "    .dataframe tbody tr th {\n",
       "        vertical-align: top;\n",
       "    }\n",
       "\n",
       "    .dataframe thead th {\n",
       "        text-align: right;\n",
       "    }\n",
       "</style>\n",
       "<table border=\"1\" class=\"dataframe\">\n",
       "  <thead>\n",
       "    <tr style=\"text-align: right;\">\n",
       "      <th></th>\n",
       "      <th>cosine score</th>\n",
       "      <th>artist</th>\n",
       "      <th>top3_tags</th>\n",
       "      <th>popularity_score</th>\n",
       "      <th>listeners</th>\n",
       "    </tr>\n",
       "  </thead>\n",
       "  <tbody>\n",
       "    <tr>\n",
       "      <th>452</th>\n",
       "      <td>1.000</td>\n",
       "      <td>Justin Bieber</td>\n",
       "      <td>female vocalists / i love my dad taste / pop</td>\n",
       "      <td>33.400</td>\n",
       "      <td>98</td>\n",
       "    </tr>\n",
       "    <tr>\n",
       "      <th>12349</th>\n",
       "      <td>0.950</td>\n",
       "      <td>Bronski Beat &amp; Marc Almond</td>\n",
       "      <td>none</td>\n",
       "      <td>0.002</td>\n",
       "      <td>1</td>\n",
       "    </tr>\n",
       "    <tr>\n",
       "      <th>14538</th>\n",
       "      <td>0.895</td>\n",
       "      <td>Evelyn Evelyn</td>\n",
       "      <td>rock / mellow</td>\n",
       "      <td>0.145</td>\n",
       "      <td>1</td>\n",
       "    </tr>\n",
       "    <tr>\n",
       "      <th>13425</th>\n",
       "      <td>0.885</td>\n",
       "      <td>Matt Hendricks</td>\n",
       "      <td>classical</td>\n",
       "      <td>0.006</td>\n",
       "      <td>1</td>\n",
       "    </tr>\n",
       "    <tr>\n",
       "      <th>7135</th>\n",
       "      <td>0.873</td>\n",
       "      <td>Lene</td>\n",
       "      <td>pop / tanger</td>\n",
       "      <td>0.425</td>\n",
       "      <td>2</td>\n",
       "    </tr>\n",
       "  </tbody>\n",
       "</table>\n",
       "</div>"
      ],
      "text/plain": [
       "       cosine score                      artist  \\\n",
       "452           1.000               Justin Bieber   \n",
       "12349         0.950  Bronski Beat & Marc Almond   \n",
       "14538         0.895               Evelyn Evelyn   \n",
       "13425         0.885              Matt Hendricks   \n",
       "7135          0.873                        Lene   \n",
       "\n",
       "                                          top3_tags  popularity_score  \\\n",
       "452    female vocalists / i love my dad taste / pop            33.400   \n",
       "12349                                          none             0.002   \n",
       "14538                                 rock / mellow             0.145   \n",
       "13425                                     classical             0.006   \n",
       "7135                                   pop / tanger             0.425   \n",
       "\n",
       "       listeners  \n",
       "452           98  \n",
       "12349          1  \n",
       "14538          1  \n",
       "13425          1  \n",
       "7135           2  "
      ]
     },
     "metadata": {},
     "output_type": "display_data"
    }
   ],
   "source": [
    "# alot of the artists tht are recommended have very few listeners and therefore no tags.\n",
    "dot_df = artist_neighbors(model, 'Justin Bieber', measure='cosine', k=5)\n"
   ]
  },
  {
   "cell_type": "code",
   "execution_count": 70,
   "metadata": {},
   "outputs": [
    {
     "name": "stdout",
     "output_type": "stream",
     "text": [
      "Nearest neighbors of: Justin Bieber\n",
      "Found several artists matching the search. Other candidates: Justin Bieber  ft Rascal Flatts\n"
     ]
    },
    {
     "data": {
      "text/html": [
       "<div>\n",
       "<style scoped>\n",
       "    .dataframe tbody tr th:only-of-type {\n",
       "        vertical-align: middle;\n",
       "    }\n",
       "\n",
       "    .dataframe tbody tr th {\n",
       "        vertical-align: top;\n",
       "    }\n",
       "\n",
       "    .dataframe thead th {\n",
       "        text-align: right;\n",
       "    }\n",
       "</style>\n",
       "<table border=\"1\" class=\"dataframe\">\n",
       "  <thead>\n",
       "    <tr style=\"text-align: right;\">\n",
       "      <th></th>\n",
       "      <th>dot score</th>\n",
       "      <th>artist</th>\n",
       "      <th>top3_tags</th>\n",
       "      <th>popularity_score</th>\n",
       "      <th>listeners</th>\n",
       "    </tr>\n",
       "  </thead>\n",
       "  <tbody>\n",
       "    <tr>\n",
       "      <th>15912</th>\n",
       "      <td>3.990</td>\n",
       "      <td>3 Segundos Antes da Queda</td>\n",
       "      <td>none</td>\n",
       "      <td>0.002</td>\n",
       "      <td>1</td>\n",
       "    </tr>\n",
       "    <tr>\n",
       "      <th>10558</th>\n",
       "      <td>3.772</td>\n",
       "      <td>Amenra</td>\n",
       "      <td>dance / polish</td>\n",
       "      <td>0.056</td>\n",
       "      <td>2</td>\n",
       "    </tr>\n",
       "    <tr>\n",
       "      <th>9141</th>\n",
       "      <td>3.718</td>\n",
       "      <td>Native Deen</td>\n",
       "      <td>soundtrack of my childhood</td>\n",
       "      <td>0.281</td>\n",
       "      <td>1</td>\n",
       "    </tr>\n",
       "    <tr>\n",
       "      <th>2436</th>\n",
       "      <td>3.628</td>\n",
       "      <td>Josh Turner</td>\n",
       "      <td>hardcore / pop dance / atmospheric</td>\n",
       "      <td>1.322</td>\n",
       "      <td>5</td>\n",
       "    </tr>\n",
       "    <tr>\n",
       "      <th>9621</th>\n",
       "      <td>3.593</td>\n",
       "      <td>Reveille</td>\n",
       "      <td>electronica</td>\n",
       "      <td>0.106</td>\n",
       "      <td>1</td>\n",
       "    </tr>\n",
       "  </tbody>\n",
       "</table>\n",
       "</div>"
      ],
      "text/plain": [
       "       dot score                     artist  \\\n",
       "15912      3.990  3 Segundos Antes da Queda   \n",
       "10558      3.772                     Amenra   \n",
       "9141       3.718                Native Deen   \n",
       "2436       3.628                Josh Turner   \n",
       "9621       3.593                   Reveille   \n",
       "\n",
       "                                top3_tags  popularity_score  listeners  \n",
       "15912                                none             0.002          1  \n",
       "10558                      dance / polish             0.056          2  \n",
       "9141           soundtrack of my childhood             0.281          1  \n",
       "2436   hardcore / pop dance / atmospheric             1.322          5  \n",
       "9621                          electronica             0.106          1  "
      ]
     },
     "metadata": {},
     "output_type": "display_data"
    },
    {
     "name": "stdout",
     "output_type": "stream",
     "text": [
      "Spearman Rank correlation between dot product similarity and:\n",
      "Popularity score: -0.001424\n",
      "Listener count: 0.004034\n"
     ]
    }
   ],
   "source": [
    "dot_df = artist_neighbors(model, 'Justin Bieber', measure='dot', k=5)\n",
    "\n",
    "# check for correlation between dot score and popularity score\n",
    "dot_pop_corr = dot_df['dot score'].corr(dot_df['popularity_score'], method='spearman')\n",
    "dot_listen_corr = dot_df['dot score'].corr(dot_df['listeners'], method='spearman')\n",
    "print('Spearman Rank correlation between dot product similarity and:\\nPopularity score:', np.round(dot_pop_corr, 6))\n",
    "print('Listener count:', np.round(dot_listen_corr, 6))"
   ]
  },
  {
   "attachments": {},
   "cell_type": "markdown",
   "metadata": {},
   "source": [
    "## 3. Conclusion\n",
    "\n",
    "In this notebook, I built a recommender system for artists from the Last.FM dataset using a Collaborative filtering model. Ratings in the dataset were implicit, based on how much each user listens to the artist. The ratings matrix was approximated using user and item embeddings of lower dimensionality, allowing for better performance and the construction of latent features from the ratings information. Several columns were created to better understand the data and the predictions coming from recommender. These included a popularity score, listener count, and top-k tags. The ratings weights were scaled and outliers removed before fitting the embeddings.\n",
    "\n",
    "Hyperparameter choosing for the recommender model was done by hand-tuning the parameters, and checking the nearest neighbors and personal recommendations at each step. Minimising the total error did not pertain to better predictions, so subjective judgement was required. For example, increasing the gravity coefficient pushed all the predictions further towards 0 which reduced the total_error as most ratings are near-zero after the minmax scaling. And increasing the L2 regularization coefficient increases the total error, so a cross validation search would favor models with lower L2 regularization coefficients. Although, further work on this recommender should involve finding a better hyperparameter choosing methodology, which still takes into account the subjective element of the problem.\n",
    "\n",
    "The Recommendaer was evaluated by testing based on personal artist preferences, inspecting the nearest neighbors of artists in the embedding space, and rank correlation analysis between the recommendation scores and popularity scores. The correlation analysis revealed that there is no significant correlation between popularity of artists and their likelihood of recommendations. \n",
    "\n",
    "<br>\n",
    "\n",
    "**Possible improvements:**\n",
    "The recommender performed well on my personal recommendations, as can be seen in the tags that overlap between the recommended artists and the artists I liked. But below are further steps that could be taken to improve this system.\n",
    "\n",
    "1. The tags information helped to understand the predictions, but was noisy. More pruning of the tags before building the top-k columns owuld help to capture only the genre information; which is what we wanted from the data.\n",
    "\n",
    "2. There were also unwanted artefacts in the artist dataset. Specifically, there are cases of multiple artists for a single entry, most likely due to them featuring on a song or project together. E.g., \"Snoop Dogg, Charlie Wilson & Justin Timberlake\" is an entry. Most likely due to the song \"Signs\" featuring the 3 artists. These cases could be further split into separate artists. \n",
    "\n",
    "3. The loss function used here is the mean square error of observed entries, with L2 and gravity regularisation on embedding matrices. An alternative would be to try a weighted matrix factorization objective, which is similar but swaps the regularization terms for a weighted sum of the dot product of unobserved ratings. (See below)\n",
    "<br><br>$\\sum_{(i, j) \\in \\text{obs}} w_{i, j} (A_{i, j} - \\langle U_i, V_j \\rangle)^2 + w_0 \\sum_{i, j \\not \\in \\text{obs}} \\langle U_i, V_j \\rangle^2$ \n",
    "<br>where $w_{i, j}$ is a function of the frequency of user i and artist j and $w_0$ is a tuneable parameter. \n",
    "<br><br>This loss function is well suited to the Weighted Alternating Least Squares (WALS) optimisaiton algorithm, which runs faster and more quickly converges than stochastic gradient descent, which is what I used here. Although, TensorFlow v2 does not have a native implementation of WALS, so further work would be needed to implement this.\n",
    "\n",
    "4. From the correlation analysis we found that there is no obvious popularity bias in the recommendations, which is is a good thing, but I think divinding the dataset into popularity score clusters, and using these clusters to form a more dense ratings matrix could further improve the predictions, and add more control over the recommender engine.\n"
   ]
  },
  {
   "attachments": {},
   "cell_type": "markdown",
   "metadata": {},
   "source": [
    "## Links to data\n",
    "\n",
    "Last.fm website, http://www.lastfm.com\n",
    "\n",
    "Data source: https://grouplens.org/datasets/hetrec-2011/\n"
   ]
  }
 ],
 "metadata": {
  "kernelspec": {
   "display_name": "Python 3.8.5 ('base')",
   "language": "python",
   "name": "python3"
  },
  "language_info": {
   "codemirror_mode": {
    "name": "ipython",
    "version": 3
   },
   "file_extension": ".py",
   "mimetype": "text/x-python",
   "name": "python",
   "nbconvert_exporter": "python",
   "pygments_lexer": "ipython3",
   "version": "3.8.5"
  },
  "orig_nbformat": 4,
  "vscode": {
   "interpreter": {
    "hash": "f6b4c603a3ccd8f5217cff38cf048b1471ac0fb29b22026c0c5f297915b3fb37"
   }
  }
 },
 "nbformat": 4,
 "nbformat_minor": 2
}
